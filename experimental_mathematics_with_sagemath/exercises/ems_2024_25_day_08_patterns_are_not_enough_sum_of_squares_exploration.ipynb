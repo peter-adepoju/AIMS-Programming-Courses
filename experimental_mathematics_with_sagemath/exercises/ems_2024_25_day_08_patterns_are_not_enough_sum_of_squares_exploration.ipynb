{
 "cells": [
  {
   "cell_type": "markdown",
   "metadata": {},
   "source": [
    "<img src=\"./images/aims-za-logo.jpeg\" alt=\"drawing\" style=\"width:400px;\"/>\n",
    "<h1 style=\"text-align: center;\"><a title=\"EMS-AIMS-ZA-2024-25\" href=\"https://evansdoe.github.io/aims-za/ems/2024-25\">Experimental Mathematics Using SageMath — AIMS-ZA-2024-25</a></h1>\n",
    "\n",
    "\n",
    "# Instructors: \n",
    "\n",
    "\n",
    "* <a href=\"http://evansdoe.github.io\">**Evans Ocansey**</a>"
   ]
  },
  {
   "cell_type": "markdown",
   "metadata": {},
   "source": [
    "## Day 08 — Patterns are not Enough and Sum of Squares<a class=\"anchor\" id=\"new-experiment-sum-of-squares-and-plotting\"></a>\n",
    "\n",
    "The outline of the this notebook is as follows:\n",
    "\n",
    "## Table of Contents: <a class=\"anchor\" id=\"day-08-toc\"></a> \n",
    "* [ ] [<font color=blue>Patterns are not Enough</font>](#patterns-are-not-enough)\n",
    "  * [<font color=blue>Fermat's Mistake</font>](#fermats-mistake)\n",
    "* [ ] [<font color=blue>Back to Quadratic Forms</font>](#back-to-quadratic-forms)\n",
    "  * [<font color=blue>More Exploratory Questions</font>](#more-exploratory-questions)\n",
    "  * [<font color=blue>More about Binary Quadratic Forms</font>](#more-about-binary-quadratic-forms)\n",
    "* [<font color=blue>Start Your Homework Engines </font>](#start-your-homework-engines)"
   ]
  },
  {
   "cell_type": "markdown",
   "metadata": {},
   "source": [
    "## Patterns are not Enough <a class=\"anchor\" id=\"patterns-are-not-enough\"></a>\n",
    "\n",
    "I hope you are making progress in our new exploration by taking note of some good patterns. But I'm here today to tell you that patterns are not enough, which you might have heard me say. We need to think about proving things too, and need some theory to make sense of our patterns.\n",
    "\n",
    "Naturally, that is hard to do without some good examples! So I am going to give you some useful examples. You won't be ready for hard proving after just a few weeks. But it's time to take you through a few, talking about questions we (mostly) haven't discussed yet.\n",
    "\n",
    "Next time we'll start exploring some new questions, so take heart; today just gives you more ideas of how to go about asking questions.\n",
    "\n",
    "But first, let's see a pretty nice example that shows why pattern is not enough."
   ]
  },
  {
   "cell_type": "markdown",
   "metadata": {},
   "source": [
    "### Fermat's Mistake <a class=\"anchor\" id=\"fermats-mistake\"></a>\n",
    "\n",
    "The neatest example I know of drawing a conclusion too quickly is Fermat's mistake about primes. Consider the following table."
   ]
  },
  {
   "cell_type": "code",
   "execution_count": 1,
   "metadata": {},
   "outputs": [
    {
     "data": {
      "text/html": [
       "<div class=\"notruncate\">\n",
       "<table  class=\"table_form\">\n",
       "<tbody>\n",
       "<tr>\n",
       "<th style=\"text-align:left\">\\(i\\)</th>\n",
       "<th style=\"text-align:left\">\\(2^{2^i}+1\\)</th>\n",
       "<th style=\"text-align:left\">Prime?</th>\n",
       "</tr>\n",
       "<tr class =\"row-a\">\n",
       "<td style=\"text-align:left\">\\( 0 \\)</td>\n",
       "<td style=\"text-align:left\">\\( 3 \\)</td>\n",
       "<td style=\"text-align:left\">\\(\\mathrm{True}\\)</td>\n",
       "</tr>\n",
       "<tr class =\"row-b\">\n",
       "<td style=\"text-align:left\">\\( 1 \\)</td>\n",
       "<td style=\"text-align:left\">\\( 5 \\)</td>\n",
       "<td style=\"text-align:left\">\\(\\mathrm{True}\\)</td>\n",
       "</tr>\n",
       "<tr class =\"row-a\">\n",
       "<td style=\"text-align:left\">\\( 2 \\)</td>\n",
       "<td style=\"text-align:left\">\\( 17 \\)</td>\n",
       "<td style=\"text-align:left\">\\(\\mathrm{True}\\)</td>\n",
       "</tr>\n",
       "<tr class =\"row-b\">\n",
       "<td style=\"text-align:left\">\\( 3 \\)</td>\n",
       "<td style=\"text-align:left\">\\( 257 \\)</td>\n",
       "<td style=\"text-align:left\">\\(\\mathrm{True}\\)</td>\n",
       "</tr>\n",
       "<tr class =\"row-a\">\n",
       "<td style=\"text-align:left\">\\( 4 \\)</td>\n",
       "<td style=\"text-align:left\">\\( 65537 \\)</td>\n",
       "<td style=\"text-align:left\">\\(\\mathrm{True}\\)</td>\n",
       "</tr>\n",
       "</tbody>\n",
       "</table>\n",
       "</div>"
      ],
      "text/plain": [
       "  $i$     $2^{2^i}+1$   Prime?\n",
       "├───────┼─────────────┼────────┤\n",
       "  $ 0 $   $ 3 $         True\n",
       "  $ 1 $   $ 5 $         True\n",
       "  $ 2 $   $ 17 $        True\n",
       "  $ 3 $   $ 257 $       True\n",
       "  $ 4 $   $ 65537 $     True"
      ]
     },
     "execution_count": 1,
     "metadata": {},
     "output_type": "execute_result"
    }
   ],
   "source": [
    "L = [ ('$'+latex(i)+'$','$'+latex(2^2^i+1)+'$', is_prime(2^2^i+1)) for i in range(5)]\n",
    "table(L,header_row=['$i$','$2^{2^i}+1$','Prime?'])"
   ]
  },
  {
   "cell_type": "markdown",
   "metadata": {},
   "source": [
    "<p>To Pierre de Fermat, this looked like a pretty good pattern to continue.  And why not?  The next number was a little big for him to factor.</p>"
   ]
  },
  {
   "cell_type": "code",
   "execution_count": 2,
   "metadata": {},
   "outputs": [
    {
     "data": {
      "text/plain": [
       "4294967297"
      ]
     },
     "execution_count": 2,
     "metadata": {},
     "output_type": "execute_result"
    }
   ],
   "source": [
    "2^2^5+1"
   ]
  },
  {
   "cell_type": "markdown",
   "metadata": {},
   "source": [
    "<p><a href=\"http://www.amazon.com/Journey-through-Genius-Theorems-Mathematics/dp/0471500305\" target=\"_blank\">William Dunham tells the wonderful story</a> of how Leonhard Euler, the greatest mathematician of the 18th century, solved this problem using some slightly more advanced number theory than we will see here.  (Dunham himself is a great lecturer, and watching <a href=\"https://www.youtube.com/watch?v=fEWj93XjON0\" target=\"_blank\">any of his videos</a> on math history, especially Euler, is a treat.)</p>\n",
    "<p>We will spoil that and just concentrate on the answer.</p>"
   ]
  },
  {
   "cell_type": "code",
   "execution_count": 3,
   "metadata": {},
   "outputs": [
    {
     "data": {
      "text/plain": [
       "641 * 6700417"
      ]
     },
     "execution_count": 3,
     "metadata": {},
     "output_type": "execute_result"
    }
   ],
   "source": [
    "factor(2^2^5+1)"
   ]
  },
  {
   "cell_type": "markdown",
   "metadata": {},
   "source": [
    "In any case, it [seems likely](http://primes.utm.edu/glossary/page.php?sort=FermatNumber) that the first few examples are the *only* prime numbers of this form! This seems to be the case despite the fact that the $\\gcd$ of any two such numbers is $1$, with some impressively large factors."
   ]
  },
  {
   "cell_type": "code",
   "execution_count": 5,
   "metadata": {},
   "outputs": [
    {
     "data": {
      "text/html": [
       "<div class=\"notruncate\">\n",
       "<table  class=\"table_form\">\n",
       "<tbody>\n",
       "<tr>\n",
       "<th style=\"text-align:left\">\\(i\\)</th>\n",
       "<th style=\"text-align:left\">\\(2^{2^i}+1\\)</th>\n",
       "<th style=\"text-align:left\">Factors</th>\n",
       "</tr>\n",
       "<tr class =\"row-a\">\n",
       "<td style=\"text-align:left\">\\(0\\)</td>\n",
       "<td style=\"text-align:left\">\\(3\\)</td>\n",
       "<td style=\"text-align:left\">3</td>\n",
       "</tr>\n",
       "<tr class =\"row-b\">\n",
       "<td style=\"text-align:left\">\\(1\\)</td>\n",
       "<td style=\"text-align:left\">\\(5\\)</td>\n",
       "<td style=\"text-align:left\">5</td>\n",
       "</tr>\n",
       "<tr class =\"row-a\">\n",
       "<td style=\"text-align:left\">\\(2\\)</td>\n",
       "<td style=\"text-align:left\">\\(17\\)</td>\n",
       "<td style=\"text-align:left\">17</td>\n",
       "</tr>\n",
       "<tr class =\"row-b\">\n",
       "<td style=\"text-align:left\">\\(3\\)</td>\n",
       "<td style=\"text-align:left\">\\(257\\)</td>\n",
       "<td style=\"text-align:left\">257</td>\n",
       "</tr>\n",
       "<tr class =\"row-a\">\n",
       "<td style=\"text-align:left\">\\(4\\)</td>\n",
       "<td style=\"text-align:left\">\\(65537\\)</td>\n",
       "<td style=\"text-align:left\">65537</td>\n",
       "</tr>\n",
       "<tr class =\"row-b\">\n",
       "<td style=\"text-align:left\">\\(5\\)</td>\n",
       "<td style=\"text-align:left\">\\(4294967297\\)</td>\n",
       "<td style=\"text-align:left\">641 * 6700417</td>\n",
       "</tr>\n",
       "<tr class =\"row-a\">\n",
       "<td style=\"text-align:left\">\\(6\\)</td>\n",
       "<td style=\"text-align:left\">\\(18446744073709551617\\)</td>\n",
       "<td style=\"text-align:left\">274177 * 67280421310721</td>\n",
       "</tr>\n",
       "<tr class =\"row-b\">\n",
       "<td style=\"text-align:left\">\\(7\\)</td>\n",
       "<td style=\"text-align:left\">\\(340282366920938463463374607431768211457\\)</td>\n",
       "<td style=\"text-align:left\">59649589127497217 * 5704689200685129054721</td>\n",
       "</tr>\n",
       "<tr class =\"row-a\">\n",
       "<td style=\"text-align:left\">\\(8\\)</td>\n",
       "<td style=\"text-align:left\">\\(115792089237316195423570985008687907853269984665640564039457584007913129639937\\)</td>\n",
       "<td style=\"text-align:left\">1238926361552897 * 93461639715357977769163558199606896584051237541638188580280321</td>\n",
       "</tr>\n",
       "</tbody>\n",
       "</table>\n",
       "</div>"
      ],
      "text/plain": [
       "<div class=\"notruncate\">\n",
       "<table  class=\"table_form\">\n",
       "<tbody>\n",
       "<tr>\n",
       "<th style=\"text-align:left\">\\(i\\)</th>\n",
       "<th style=\"text-align:left\">\\(2^{2^i}+1\\)</th>\n",
       "<th style=\"text-align:left\">Factors</th>\n",
       "</tr>\n",
       "<tr class =\"row-a\">\n",
       "<td style=\"text-align:left\">\\(0\\)</td>\n",
       "<td style=\"text-align:left\">\\(3\\)</td>\n",
       "<td style=\"text-align:left\">3</td>\n",
       "</tr>\n",
       "<tr class =\"row-b\">\n",
       "<td style=\"text-align:left\">\\(1\\)</td>\n",
       "<td style=\"text-align:left\">\\(5\\)</td>\n",
       "<td style=\"text-align:left\">5</td>\n",
       "</tr>\n",
       "<tr class =\"row-a\">\n",
       "<td style=\"text-align:left\">\\(2\\)</td>\n",
       "<td style=\"text-align:left\">\\(17\\)</td>\n",
       "<td style=\"text-align:left\">17</td>\n",
       "</tr>\n",
       "<tr class =\"row-b\">\n",
       "<td style=\"text-align:left\">\\(3\\)</td>\n",
       "<td style=\"text-align:left\">\\(257\\)</td>\n",
       "<td style=\"text-align:left\">257</td>\n",
       "</tr>\n",
       "<tr class =\"row-a\">\n",
       "<td style=\"text-align:left\">\\(4\\)</td>\n",
       "<td style=\"text-align:left\">\\(65537\\)</td>\n",
       "<td style=\"text-align:left\">65537</td>\n",
       "</tr>\n",
       "<tr class =\"row-b\">\n",
       "<td style=\"text-align:left\">\\(5\\)</td>\n",
       "<td style=\"text-align:left\">\\(4294967297\\)</td>\n",
       "<td style=\"text-align:left\">641 * 6700417</td>\n",
       "</tr>\n",
       "<tr class =\"row-a\">\n",
       "<td style=\"text-align:left\">\\(6\\)</td>\n",
       "<td style=\"text-align:left\">\\(18446744073709551617\\)</td>\n",
       "<td style=\"text-align:left\">274177 * 67280421310721</td>\n",
       "</tr>\n",
       "<tr class =\"row-b\">\n",
       "<td style=\"text-align:left\">\\(7\\)</td>\n",
       "<td style=\"text-align:left\">\\(340282366920938463463374607431768211457\\)</td>\n",
       "<td style=\"text-align:left\">59649589127497217 * 5704689200685129054721</td>\n",
       "</tr>\n",
       "<tr class =\"row-a\">\n",
       "<td style=\"text-align:left\">\\(8\\)</td>\n",
       "<td style=\"text-align:left\">\\(115792089237316195423570985008687907853269984665640564039457584007913129639937\\)</td>\n",
       "<td style=\"text-align:left\">1238926361552897 * 93461639715357977769163558199606896584051237541638188580280321</td>\n",
       "</tr>\n",
       "</tbody>\n",
       "</table>\n",
       "</div>"
      ]
     },
     "execution_count": 5,
     "metadata": {},
     "output_type": "execute_result"
    }
   ],
   "source": [
    "L = [ (f'${latex(i)}$', f'${latex(2^2^i+1)}$', str(factor(2^2^i+1))) for i in range(9)]\n",
    "html(table(L,header_row=['$i$','$2^{2^i}+1$','Factors']))"
   ]
  },
  {
   "cell_type": "markdown",
   "metadata": {},
   "source": [
    "The moral of this story is to *be careful* when looking at patterns."
   ]
  },
  {
   "cell_type": "markdown",
   "metadata": {},
   "source": [
    "## Back to Quadratic Forms <a class=\"anchor\" id=\"back-to-quadratic-forms\"></a>\n",
    "\n",
    "There is a general name for the number theory we have been looking at the past few days.\n",
    "\n",
    "Any polynomial of the form $ax^2 + bxy + cy^2$ is called a *binary quadratic form*. (Sometimes authors require that $a, b, c$ are relatively prime, i.e., $\\gcd(a, b, c)=1$, or write $2bxy$ instead of $bxy$.) These have been studied in depth for hundreds of years, but they still contain many mysteries.\n",
    "\n",
    "One interesting property many such forms have is that they are multiplicative in some sense—if you take any two numbers $p$ and $q$ that can be written in this form, then so can $pq$. (Checking for which ones this is true is also an [active area in experimental mathematics](http://www.emis.de/journals/EM/expmath/volumes/13/13.4/Aicardi/appendices.pdf)!)\n",
    "\n",
    "For example, this is true for any form like $a^2 + n b^2$, the ones we have been looking at, because\n",
    "\n",
    "$$\n",
    "(a^2 + n b^2)(c^2 + n d^2) = (ac + nbd)^2 + n(ad - bc)^2\n",
    "$$\n",
    "\n",
    "You should check this works right now and perhaps use it in your investigations."
   ]
  },
  {
   "cell_type": "code",
   "execution_count": null,
   "metadata": {},
   "outputs": [],
   "source": []
  },
  {
   "cell_type": "code",
   "execution_count": null,
   "metadata": {},
   "outputs": [],
   "source": []
  },
  {
   "cell_type": "code",
   "execution_count": null,
   "metadata": {},
   "outputs": [],
   "source": []
  },
  {
   "cell_type": "markdown",
   "metadata": {},
   "source": [
    "Interestingly, this is related to a question that you did not ask:\n",
    "\n",
    "- Which positive integers can be written as a sum of *three* squares?\n",
    "- Or *four* squares?\n",
    "\n",
    "If we let the set of numbers which can be written as a sum of $p$ squares be $S_p$, then clearly $S_2 \\subset S_3 \\subset S_4$ since we can always let $0^2$ be one of the terms.\n",
    "\n",
    "It turns out that this multiplicativity is true even for the more complicated quadratic form $x^2 + y^2 + z^2 + w^2$, which defines $S_4$. We can verify it with Sage:"
   ]
  },
  {
   "cell_type": "code",
   "execution_count": 6,
   "metadata": {},
   "outputs": [
    {
     "data": {
      "text/html": [
       "<html>\\(\\displaystyle {\\left(a^{2} + b^{2} + c^{2} + d^{2}\\right)} {\\left(w^{2} + x^{2} + y^{2} + z^{2}\\right)}\\)</html>"
      ],
      "text/latex": [
       "$\\displaystyle {\\left(a^{2} + b^{2} + c^{2} + d^{2}\\right)} {\\left(w^{2} + x^{2} + y^{2} + z^{2}\\right)}$"
      ],
      "text/plain": [
       "(a^2 + b^2 + c^2 + d^2)*(w^2 + x^2 + y^2 + z^2)"
      ]
     },
     "metadata": {},
     "output_type": "display_data"
    },
    {
     "data": {
      "text/html": [
       "<html>\\(\\displaystyle {\\left(a w + d x - c y + b z\\right)}^{2} + {\\left(b w - c x - d y - a z\\right)}^{2} + {\\left(c w + b x + a y - d z\\right)}^{2} + {\\left(d w - a x + b y + c z\\right)}^{2}\\)</html>"
      ],
      "text/latex": [
       "$\\displaystyle {\\left(a w + d x - c y + b z\\right)}^{2} + {\\left(b w - c x - d y - a z\\right)}^{2} + {\\left(c w + b x + a y - d z\\right)}^{2} + {\\left(d w - a x + b y + c z\\right)}^{2}$"
      ],
      "text/plain": [
       "(a*w + d*x - c*y + b*z)^2 + (b*w - c*x - d*y - a*z)^2 + (c*w + b*x + a*y - d*z)^2 + (d*w - a*x + b*y + c*z)^2"
      ]
     },
     "metadata": {},
     "output_type": "display_data"
    },
    {
     "data": {
      "text/plain": [
       "0"
      ]
     },
     "execution_count": 6,
     "metadata": {},
     "output_type": "execute_result"
    }
   ],
   "source": [
    "var('a,b,c,d,x,y,z,w')\n",
    "X = (a^2+b^2+c^2+d^2)*(x^2+y^2+z^2+w^2)\n",
    "Y = (a*x-b*y-c*z-d*w)^2+(a*y+b*x+c*w-d*z)^2+(a*z-b*w+c*x+d*y)^2+(a*w+b*z-c*y+d*x)^2\n",
    "show(X)\n",
    "show(Y)\n",
    "expand(X) - expand(Y)"
   ]
  },
  {
   "cell_type": "markdown",
   "metadata": {},
   "source": [
    "This can provide a way to show that numbers are writable.\n",
    "\n",
    "$$\n",
    "1^2 + 1^2 + 1^2 + 0^2 = 3\n",
    "$$\n",
    "\n",
    "$$\n",
    "2^2 + 1^2 + 1^2 + 1^2 = 7\n",
    "$$\n",
    "\n",
    "So now we write 21 as a sum of four squares.\n"
   ]
  },
  {
   "cell_type": "code",
   "execution_count": 11,
   "metadata": {},
   "outputs": [
    {
     "data": {
      "text/plain": [
       "21"
      ]
     },
     "execution_count": 11,
     "metadata": {},
     "output_type": "execute_result"
    }
   ],
   "source": [
    "a,b,c,d = 1,1,1,0\n",
    "w,x,y,z = 2,1,1,1\n",
    "(a*w+d*x-c*y+b*z)^2 + (b*w-c*x-d*y-a*z)^2 + (c*w + b*x + a*y - d*z)^2 + (d*w - a*x+ b*y + c*z)^2"
   ]
  },
  {
   "cell_type": "markdown",
   "metadata": {},
   "source": [
    "<p>Unsurprisingly, this identity: $${\\left(a^{2} + b^{2} + c^{2} + d^{2}\\right)} {\\left(w^{2} + x^{2} + y^{2} + z^{2}\\right)} = {\\left(a\\,w + d\\,x - c\\,y + b\\,z\\right)}^{2} + {\\left(b\\,w - c\\,x - d\\,y - a\\,z\\right)}^{2} + {\\left(c\\,w + b\\,x + a\\,y - d\\,z\\right)}^{2} + {\\left(d\\,w - a\\,x + b\\,y + c\\,z\\right)}^{2} $$</p>\n",
    "<p>is due to Euler. Let's use this as a way to show how you might explore.  Let's ask the question about how many ways one can write a number for $S_4$.  Let $Q(n)$ be the number of ways $n$ can be written as a sum of four squares (naturally, this could in principle be zero).</p>"
   ]
  },
  {
   "cell_type": "code",
   "execution_count": 18,
   "metadata": {},
   "outputs": [],
   "source": [
    "Q = {}  # initialize the empty dict\n",
    "bound = 20\n",
    "for a in range(-bound,bound):\n",
    "    for b in range(-bound,bound):\n",
    "        for c in range(-bound,bound):\n",
    "            for d in range(-bound,bound):\n",
    "                n = a^2+b^2+c^2+d^2 # sum of four squares\n",
    "                if n in Q:  # checks whether this sum of squares is already there\n",
    "                    Q[n].append((a,b,c,d))  # then add to the list of that way\n",
    "                else:\n",
    "                    Q[n] = [(a,b,c,d)]   # otherwise start the list!"
   ]
  },
  {
   "cell_type": "markdown",
   "metadata": {},
   "source": [
    "Let's look at $Q[1]$ and $Q[2]$"
   ]
  },
  {
   "cell_type": "code",
   "execution_count": 23,
   "metadata": {},
   "outputs": [
    {
     "data": {
      "text/plain": [
       "([(-1, 0, 0, 0),\n",
       "  (0, -1, 0, 0),\n",
       "  (0, 0, -1, 0),\n",
       "  (0, 0, 0, -1),\n",
       "  (0, 0, 0, 1),\n",
       "  (0, 0, 1, 0),\n",
       "  (0, 1, 0, 0),\n",
       "  (1, 0, 0, 0)],\n",
       " 8)"
      ]
     },
     "execution_count": 23,
     "metadata": {},
     "output_type": "execute_result"
    }
   ],
   "source": [
    "Q[1], len(Q[1])"
   ]
  },
  {
   "cell_type": "code",
   "execution_count": 24,
   "metadata": {},
   "outputs": [
    {
     "data": {
      "text/plain": [
       "([(-1, -1, 0, 0),\n",
       "  (-1, 0, -1, 0),\n",
       "  (-1, 0, 0, -1),\n",
       "  (-1, 0, 0, 1),\n",
       "  (-1, 0, 1, 0),\n",
       "  (-1, 1, 0, 0),\n",
       "  (0, -1, -1, 0),\n",
       "  (0, -1, 0, -1),\n",
       "  (0, -1, 0, 1),\n",
       "  (0, -1, 1, 0),\n",
       "  (0, 0, -1, -1),\n",
       "  (0, 0, -1, 1),\n",
       "  (0, 0, 1, -1),\n",
       "  (0, 0, 1, 1),\n",
       "  (0, 1, -1, 0),\n",
       "  (0, 1, 0, -1),\n",
       "  (0, 1, 0, 1),\n",
       "  (0, 1, 1, 0),\n",
       "  (1, -1, 0, 0),\n",
       "  (1, 0, -1, 0),\n",
       "  (1, 0, 0, -1),\n",
       "  (1, 0, 0, 1),\n",
       "  (1, 0, 1, 0),\n",
       "  (1, 1, 0, 0)],\n",
       " 24)"
      ]
     },
     "execution_count": 24,
     "metadata": {},
     "output_type": "execute_result"
    }
   ],
   "source": [
    "Q[2], len(Q[2])"
   ]
  },
  {
   "cell_type": "markdown",
   "metadata": {},
   "source": [
    "I'm going to try seeing if there is a pattern in evens and odds by making this table. Can you already see the pattern when you observe the tabular data?"
   ]
  },
  {
   "cell_type": "code",
   "execution_count": 25,
   "metadata": {},
   "outputs": [
    {
     "data": {
      "text/html": [
       "<div class=\"notruncate\">\n",
       "<table  class=\"table_form\">\n",
       "<tbody>\n",
       "<tr>\n",
       "<th style=\"text-align:left\">\\(n\\)</th>\n",
       "<th style=\"text-align:left\">\\(Q(n)\\)</th>\n",
       "<th style=\"text-align:left\">\\(Q(2n)\\)</th>\n",
       "</tr>\n",
       "<tr class =\"row-a\">\n",
       "<td style=\"text-align:left\">\\(1\\)</td>\n",
       "<td style=\"text-align:left\">\\(8\\)</td>\n",
       "<td style=\"text-align:left\">\\(24\\)</td>\n",
       "</tr>\n",
       "<tr class =\"row-b\">\n",
       "<td style=\"text-align:left\">\\(3\\)</td>\n",
       "<td style=\"text-align:left\">\\(32\\)</td>\n",
       "<td style=\"text-align:left\">\\(96\\)</td>\n",
       "</tr>\n",
       "<tr class =\"row-a\">\n",
       "<td style=\"text-align:left\">\\(5\\)</td>\n",
       "<td style=\"text-align:left\">\\(48\\)</td>\n",
       "<td style=\"text-align:left\">\\(144\\)</td>\n",
       "</tr>\n",
       "<tr class =\"row-b\">\n",
       "<td style=\"text-align:left\">\\(7\\)</td>\n",
       "<td style=\"text-align:left\">\\(64\\)</td>\n",
       "<td style=\"text-align:left\">\\(192\\)</td>\n",
       "</tr>\n",
       "<tr class =\"row-a\">\n",
       "<td style=\"text-align:left\">\\(9\\)</td>\n",
       "<td style=\"text-align:left\">\\(104\\)</td>\n",
       "<td style=\"text-align:left\">\\(312\\)</td>\n",
       "</tr>\n",
       "<tr class =\"row-b\">\n",
       "<td style=\"text-align:left\">\\(11\\)</td>\n",
       "<td style=\"text-align:left\">\\(96\\)</td>\n",
       "<td style=\"text-align:left\">\\(288\\)</td>\n",
       "</tr>\n",
       "<tr class =\"row-a\">\n",
       "<td style=\"text-align:left\">\\(13\\)</td>\n",
       "<td style=\"text-align:left\">\\(112\\)</td>\n",
       "<td style=\"text-align:left\">\\(336\\)</td>\n",
       "</tr>\n",
       "<tr class =\"row-b\">\n",
       "<td style=\"text-align:left\">\\(15\\)</td>\n",
       "<td style=\"text-align:left\">\\(192\\)</td>\n",
       "<td style=\"text-align:left\">\\(576\\)</td>\n",
       "</tr>\n",
       "<tr class =\"row-a\">\n",
       "<td style=\"text-align:left\">\\(17\\)</td>\n",
       "<td style=\"text-align:left\">\\(144\\)</td>\n",
       "<td style=\"text-align:left\">\\(432\\)</td>\n",
       "</tr>\n",
       "<tr class =\"row-b\">\n",
       "<td style=\"text-align:left\">\\(19\\)</td>\n",
       "<td style=\"text-align:left\">\\(160\\)</td>\n",
       "<td style=\"text-align:left\">\\(480\\)</td>\n",
       "</tr>\n",
       "<tr class =\"row-a\">\n",
       "<td style=\"text-align:left\">\\(21\\)</td>\n",
       "<td style=\"text-align:left\">\\(256\\)</td>\n",
       "<td style=\"text-align:left\">\\(768\\)</td>\n",
       "</tr>\n",
       "<tr class =\"row-b\">\n",
       "<td style=\"text-align:left\">\\(23\\)</td>\n",
       "<td style=\"text-align:left\">\\(192\\)</td>\n",
       "<td style=\"text-align:left\">\\(576\\)</td>\n",
       "</tr>\n",
       "<tr class =\"row-a\">\n",
       "<td style=\"text-align:left\">\\(25\\)</td>\n",
       "<td style=\"text-align:left\">\\(248\\)</td>\n",
       "<td style=\"text-align:left\">\\(744\\)</td>\n",
       "</tr>\n",
       "<tr class =\"row-b\">\n",
       "<td style=\"text-align:left\">\\(27\\)</td>\n",
       "<td style=\"text-align:left\">\\(320\\)</td>\n",
       "<td style=\"text-align:left\">\\(960\\)</td>\n",
       "</tr>\n",
       "<tr class =\"row-a\">\n",
       "<td style=\"text-align:left\">\\(29\\)</td>\n",
       "<td style=\"text-align:left\">\\(240\\)</td>\n",
       "<td style=\"text-align:left\">\\(720\\)</td>\n",
       "</tr>\n",
       "<tr class =\"row-b\">\n",
       "<td style=\"text-align:left\">\\(31\\)</td>\n",
       "<td style=\"text-align:left\">\\(256\\)</td>\n",
       "<td style=\"text-align:left\">\\(768\\)</td>\n",
       "</tr>\n",
       "<tr class =\"row-a\">\n",
       "<td style=\"text-align:left\">\\(33\\)</td>\n",
       "<td style=\"text-align:left\">\\(384\\)</td>\n",
       "<td style=\"text-align:left\">\\(1152\\)</td>\n",
       "</tr>\n",
       "<tr class =\"row-b\">\n",
       "<td style=\"text-align:left\">\\(35\\)</td>\n",
       "<td style=\"text-align:left\">\\(384\\)</td>\n",
       "<td style=\"text-align:left\">\\(1152\\)</td>\n",
       "</tr>\n",
       "<tr class =\"row-a\">\n",
       "<td style=\"text-align:left\">\\(37\\)</td>\n",
       "<td style=\"text-align:left\">\\(304\\)</td>\n",
       "<td style=\"text-align:left\">\\(912\\)</td>\n",
       "</tr>\n",
       "<tr class =\"row-b\">\n",
       "<td style=\"text-align:left\">\\(39\\)</td>\n",
       "<td style=\"text-align:left\">\\(448\\)</td>\n",
       "<td style=\"text-align:left\">\\(1344\\)</td>\n",
       "</tr>\n",
       "<tr class =\"row-a\">\n",
       "<td style=\"text-align:left\">\\(41\\)</td>\n",
       "<td style=\"text-align:left\">\\(336\\)</td>\n",
       "<td style=\"text-align:left\">\\(1008\\)</td>\n",
       "</tr>\n",
       "<tr class =\"row-b\">\n",
       "<td style=\"text-align:left\">\\(43\\)</td>\n",
       "<td style=\"text-align:left\">\\(352\\)</td>\n",
       "<td style=\"text-align:left\">\\(1056\\)</td>\n",
       "</tr>\n",
       "<tr class =\"row-a\">\n",
       "<td style=\"text-align:left\">\\(45\\)</td>\n",
       "<td style=\"text-align:left\">\\(624\\)</td>\n",
       "<td style=\"text-align:left\">\\(1872\\)</td>\n",
       "</tr>\n",
       "<tr class =\"row-b\">\n",
       "<td style=\"text-align:left\">\\(47\\)</td>\n",
       "<td style=\"text-align:left\">\\(384\\)</td>\n",
       "<td style=\"text-align:left\">\\(1152\\)</td>\n",
       "</tr>\n",
       "<tr class =\"row-a\">\n",
       "<td style=\"text-align:left\">\\(49\\)</td>\n",
       "<td style=\"text-align:left\">\\(456\\)</td>\n",
       "<td style=\"text-align:left\">\\(1368\\)</td>\n",
       "</tr>\n",
       "<tr class =\"row-b\">\n",
       "<td style=\"text-align:left\">\\(51\\)</td>\n",
       "<td style=\"text-align:left\">\\(576\\)</td>\n",
       "<td style=\"text-align:left\">\\(1728\\)</td>\n",
       "</tr>\n",
       "</tbody>\n",
       "</table>\n",
       "</div>"
      ],
      "text/plain": [
       "  $n$   $Q(n)$   $Q(2n)$\n",
       "├─────┼────────┼─────────┤\n",
       "  1     8        24\n",
       "  3     32       96\n",
       "  5     48       144\n",
       "  7     64       192\n",
       "  9     104      312\n",
       "  11    96       288\n",
       "  13    112      336\n",
       "  15    192      576\n",
       "  17    144      432\n",
       "  19    160      480\n",
       "  21    256      768\n",
       "  23    192      576\n",
       "  25    248      744\n",
       "  27    320      960\n",
       "  29    240      720\n",
       "  31    256      768\n",
       "  33    384      1152\n",
       "  35    384      1152\n",
       "  37    304      912\n",
       "  39    448      1344\n",
       "  41    336      1008\n",
       "  43    352      1056\n",
       "  45    624      1872\n",
       "  47    384      1152\n",
       "  49    456      1368\n",
       "  51    576      1728"
      ]
     },
     "execution_count": 25,
     "metadata": {},
     "output_type": "execute_result"
    }
   ],
   "source": [
    "table([ [n,len(Q[n]),len(Q[2*n])] for n in [1,3,..51]],header_row=['$n$','$Q(n)$', '$Q(2n)$'])"
   ]
  },
  {
   "cell_type": "code",
   "execution_count": 3,
   "metadata": {},
   "outputs": [
    {
     "data": {
      "text/plain": [
       "True"
      ]
     },
     "execution_count": 3,
     "metadata": {},
     "output_type": "execute_result"
    }
   ],
   "source": [
    "all([3*len(Q[n]) == len(Q[2*n]) for n in [1,3,..51]])"
   ]
  },
  {
   "cell_type": "code",
   "execution_count": 4,
   "metadata": {},
   "outputs": [
    {
     "data": {
      "text/plain": [
       "True"
      ]
     },
     "execution_count": 4,
     "metadata": {},
     "output_type": "execute_result"
    }
   ],
   "source": [
    "all([mod(len(Q[2*n]), 4) == 0 for n in [1,3,..51]])"
   ]
  },
  {
   "cell_type": "markdown",
   "metadata": {},
   "source": [
    "This compares $Q(n)$ with $Q(2n)$, with $n$ an odd number. Surprised?\n",
    "\n",
    "We can actually prove this evident relationship.\n",
    "\n",
    "- If you square an even number, it is divisible by four. If you square an odd number, it will have remainder one when divided by four.\n",
    "- So if $2n = a^2 + b^2 + c^2 + d^2$, then two of $a, b, c, d$ must be even and two odd; otherwise, you wouldn't get an even number $2n$ (which is not divisible by four, since $n$ is odd) from their squares.\n",
    "- The number of ways to write $2n$ as a sum of $4$ squares where $a, b$ are the even ones must be $\\frac{1}{6}$ of the total, since $ \\binom{4}{2} = 6$.\n",
    "- However, each way to write $2n$ where $a, b$ are even corresponds to a solution of $n = x^2 + y^2 + z^2 + w^2$, using these equations (clearly these are all integers):\n",
    "  - $x = \\frac{a + b}{2}$\n",
    "  - $y = \\frac{a - b}{2}$\n",
    "  - $z = \\frac{c + d}{2}$\n",
    "  - $w = \\frac{c - d}{2}$\n",
    "- In addition, in this correspondence $x + y = a$, which is even, but $z + w = c$, which is odd.\n",
    "- Using again the fact about squaring even or odd numbers and remainders modulo $4$, we see that $n = x^2 + y^2 + z^2 + w^2$ only has two possibilities:\n",
    "  - One odd number and three even\n",
    "  - One even number and three odd\n",
    "- Half of each of those types allow $z + w = c$ to be odd. So $\\frac{1}{2}Q(n)$ is the same as the number of ways to write $2n$ when $a, b$ are even numbers.\n",
    "- Hence\n",
    "\n",
    "$$\n",
    "\\frac{1}{2}Q(n) = \\frac{1}{6}Q(2n)\n",
    "$$\n",
    "\n",
    "which is the same as $Q(2n) = 3Q(n)$.\n",
    "\n",
    "Take some time now trying to understand each of these steps. There is room for more detail. The key thing to keep in mind is that without this, *we only have a pattern*. And that pattern could end.\n"
   ]
  },
  {
   "cell_type": "code",
   "execution_count": 19,
   "metadata": {},
   "outputs": [
    {
     "data": {
      "text/plain": []
     },
     "execution_count": 19,
     "metadata": {},
     "output_type": "execute_result"
    }
   ],
   "source": []
  },
  {
   "cell_type": "markdown",
   "metadata": {},
   "source": [
    "Just to finish off this line of thinking, it is worth noting that $S_4 = \\mathbb{N}$; this is known as [Lagrange's Four-Square Theorem](https://en.wikipedia.org/wiki/Lagrange%27s_four-square_theorem)."
   ]
  },
  {
   "cell_type": "markdown",
   "metadata": {},
   "source": [
    "### More Exploratory Questions <a class=\"anchor\" id=\"more-exploratory-questions\"></a>\n",
    "\n",
    "This makes me think of yet *another* question.\n",
    "\n",
    "- Which (positive) numbers can you write as the sum of perfect *cubes*?\n",
    "- How many ways...\n",
    "- How many cubes are needed for a given number?\n",
    "\n",
    "It should be clear that *any* number $n$ can be written $n = \\sum_{i=1}^n 1^3$, or indeed \n",
    "\n",
    "$$\n",
    "n = \\sum_{i=1}^n 1^k\n",
    "$$ \n",
    "\n",
    "for any $k$, so that any number can be written as a finite sum of perfect $k$-th powers.\n",
    "\n",
    "The relatively obscure English mathematician Edward Waring asked this question—how many $k$-th powers would be needed to write *any* positive integer? We see from the previous paragraph that one only needs four perfect squares to represent any number. Waring went further and claimed the following:\n",
    "\n",
    "**Fact**: Any positive integer can be written as a sum of nine or fewer perfect (positive) cubes.\n",
    "\n",
    "I find this astonishing. ANY positive number?"
   ]
  },
  {
   "cell_type": "code",
   "execution_count": 57,
   "metadata": {},
   "outputs": [
    {
     "data": {
      "text/plain": []
     },
     "execution_count": 57,
     "metadata": {},
     "output_type": "execute_result"
    }
   ],
   "source": []
  },
  {
   "cell_type": "markdown",
   "metadata": {},
   "source": [
    "It even turns out that there are only two numbers which require nine cubes, one of which is $23$. This was proved by the eminent number theorist (and historian of number theory) L.E. Dickson, largely by use of tables and relatively elementary means."
   ]
  },
  {
   "cell_type": "markdown",
   "metadata": {},
   "source": [
    "### More about Binary Quadratic Forms <a class=\"anchor\" id=\"more-about-binary-quadratic-forms\"></a>\n",
    "\n",
    "Let's go back to the geometric perspective on this, back in $S_2$. Here I have four different quadratic forms."
   ]
  },
  {
   "cell_type": "code",
   "execution_count": 26,
   "metadata": {},
   "outputs": [],
   "source": [
    "f(x,y) = x^2+y^2\n",
    "g(x,y) = x^2+2*x*y+2*y^2\n",
    "h(x,y) = x^2+4*x*y+5*y^2\n",
    "j(x,y) = 5*x^2+6*x*y+2*y^2"
   ]
  },
  {
   "cell_type": "code",
   "execution_count": 27,
   "metadata": {},
   "outputs": [
    {
     "data": {
      "text/html": [
       "<html>\\(\\displaystyle \\left( x, y \\right) \\ {\\mapsto} \\ x^{2} + y^{2}\\)</html>"
      ],
      "text/latex": [
       "$\\displaystyle \\left( x, y \\right) \\ {\\mapsto} \\ x^{2} + y^{2}$"
      ],
      "text/plain": [
       "(x, y) |--> x^2 + y^2"
      ]
     },
     "metadata": {},
     "output_type": "display_data"
    },
    {
     "data": {
      "text/html": [
       "<html>\\(\\displaystyle \\left( x, y \\right) \\ {\\mapsto} \\ x^{2} + 2 \\, x y + 2 \\, y^{2}\\)</html>"
      ],
      "text/latex": [
       "$\\displaystyle \\left( x, y \\right) \\ {\\mapsto} \\ x^{2} + 2 \\, x y + 2 \\, y^{2}$"
      ],
      "text/plain": [
       "(x, y) |--> x^2 + 2*x*y + 2*y^2"
      ]
     },
     "metadata": {},
     "output_type": "display_data"
    },
    {
     "data": {
      "text/html": [
       "<html>\\(\\displaystyle \\left( x, y \\right) \\ {\\mapsto} \\ x^{2} + 4 \\, x y + 5 \\, y^{2}\\)</html>"
      ],
      "text/latex": [
       "$\\displaystyle \\left( x, y \\right) \\ {\\mapsto} \\ x^{2} + 4 \\, x y + 5 \\, y^{2}$"
      ],
      "text/plain": [
       "(x, y) |--> x^2 + 4*x*y + 5*y^2"
      ]
     },
     "metadata": {},
     "output_type": "display_data"
    },
    {
     "data": {
      "text/html": [
       "<html>\\(\\displaystyle \\left( x, y \\right) \\ {\\mapsto} \\ 5 \\, x^{2} + 6 \\, x y + 2 \\, y^{2}\\)</html>"
      ],
      "text/latex": [
       "$\\displaystyle \\left( x, y \\right) \\ {\\mapsto} \\ 5 \\, x^{2} + 6 \\, x y + 2 \\, y^{2}$"
      ],
      "text/plain": [
       "(x, y) |--> 5*x^2 + 6*x*y + 2*y^2"
      ]
     },
     "metadata": {},
     "output_type": "display_data"
    }
   ],
   "source": [
    "show(f)\n",
    "show(g)\n",
    "show(h)\n",
    "show(j)"
   ]
  },
  {
   "cell_type": "markdown",
   "metadata": {},
   "source": [
    "<p>Let's plot when each of them equals 25.</p>"
   ]
  },
  {
   "cell_type": "code",
   "execution_count": 34,
   "metadata": {},
   "outputs": [
    {
     "data": {
      "image/png": "[encoded data removed]",
      "text/plain": [
       "Graphics object consisting of 5 graphics primitives"
      ]
     },
     "metadata": {},
     "output_type": "display_data"
    }
   ],
   "source": [
    "F = implicit_plot(f==25,(x,-12,12),(y,-12,12),color='blue')\n",
    "G = implicit_plot(g==25,(x,-12,12),(y,-12,12),color='red')\n",
    "H = implicit_plot(h==25,(x,-12,12),(y,-12,12),color='green')\n",
    "J = implicit_plot(j==25,(x,-12,12),(y,-12,12),color='orange')\n",
    "pts = [(a,b) for a in range(-12,13) for b in range(-12,13)]\n",
    "int_pts = []\n",
    "for pt in pts:\n",
    "    for func in [f,g,h,j]:\n",
    "        if func(*pt)==25:\n",
    "            int_pts.append(pt)\n",
    "            break\n",
    "\n",
    "(F+G+H+J+point(int_pts,color='black',size=15)).show(gridlines=[range(-12,13),range(-12,13)])"
   ]
  },
  {
   "cell_type": "markdown",
   "metadata": {},
   "source": [
    "<p>Could there be other values they agree on?</p>"
   ]
  },
  {
   "cell_type": "code",
   "execution_count": 33,
   "metadata": {},
   "outputs": [
    {
     "data": {
      "application/vnd.jupyter.widget-view+json": {
       "model_id": "0d7a6f5ad31e42a58b5e45a8c770623d",
       "version_major": 2,
       "version_minor": 0
      },
      "text/plain": [
       "Interactive function <function _ at 0x7fa560e19ee0> with 1 widget\n",
       "  n: IntSlider(value=25, description='n', max=75, min=-25)"
      ]
     },
     "metadata": {},
     "output_type": "display_data"
    }
   ],
   "source": [
    "@interact\n",
    "def _(n=25):\n",
    "    max = floor(3*sqrt(n))\n",
    "    F = implicit_plot(f==n,(x,-max,max),(y,-max,max),color='blue')\n",
    "    G = implicit_plot(g==n,(x,-max,max),(y,-max,max),color='red')\n",
    "    H = implicit_plot(h==n,(x,-max,max),(y,-max,max),color='green')\n",
    "    J = implicit_plot(j==n,(x,-max,max),(y,-max,max),color='orange')\n",
    "    pts = [(a,b) for a in range(-max,max+1) for b in range(-max,max+1)]\n",
    "    int_pts = []\n",
    "    for pt in pts:\n",
    "        for func in [f,g,h,j]:\n",
    "            if func(*pt)==n:\n",
    "                int_pts.append(pt)\n",
    "                break\n",
    "    \n",
    "    (F+G+H+J+point(int_pts,color='black',size=20)).show(gridlines=[range(-max,max+1),range(-max,max+1)])"
   ]
  },
  {
   "cell_type": "markdown",
   "metadata": {},
   "source": [
    "This may seem surprising, but look at the forms themselves!\n",
    "\n",
    "- $f(x,y) = x^2+y^2$\n",
    "- $g(x,y) = x^2 + 2xy + 2y^2$\n",
    "- $h(x,y) = x^2 +4xy + 5y^2$\n",
    "- $j(x,y) = 5x^2 +6xy +2y^2$\n",
    "\n",
    "Each of these corresponds to a different matrix, with\n",
    "\n",
    "$$\n",
    "(x,y) \\left(\\begin{array}{cc}a&b/2\\\\b/2&c\\end{array}\\right)\\left(\\begin{array}{c}x\\\\y\\end{array}\\right)= a \\, x^{2} + b\\,x\\,y + c\\, y^{2} \\text{ the form }\n",
    "$$\n",
    "\n",
    "- $\\left(\\begin{array}{cc}1&0\\\\0&1\\end{array}\\right)$ gives $x^2+y^2$\n",
    "- $\\left(\\begin{array}{cc}1&1\\\\1&2\\end{array}\\right)$ gives $x^2 + 2xy + 2y^2$\n",
    "- $\\left(\\begin{array}{cc}1&2\\\\2&5\\end{array}\\right)$ gives $x^2 +4xy + 5y^2$\n",
    "- $\\left(\\begin{array}{cc}5&3\\\\3&2\\end{array}\\right)$ gives $5x^2 +6xy +2y^2$\n",
    "\n",
    "Now what is interesting is that one can also factor these forms a bit.\n",
    "\n",
    "- $f(x,y) = x^2+y^2$\n",
    "- $g(x,y) = (x+y)^2+y^2$\n",
    "- $h(x,y) = (x+2y)^2+y^2$\n",
    "- $j(x,y) = (2x+y)^2+(x+y)^2$\n",
    "\n",
    "Each of these corresponds to a change of basis, if you will, from $(x,y)$ to \n",
    "\n",
    "$$\n",
    "(x,y) \\left(\\begin{array}{cc}p&q\\\\r&s\\end{array}\\right)=(x',y')\n",
    "$$\n",
    "\n",
    "- $(x,y)\\left(\\begin{array}{cc}1&0\\\\0&1\\end{array}\\right)=(x,y)$\n",
    "- $(x,y)\\left(\\begin{array}{cc}1&0\\\\1&1\\end{array}\\right)=(x+y,y)$\n",
    "- $(x,y)\\left(\\begin{array}{cc}1&0\\\\2&1\\end{array}\\right)=(x+2y,y)$\n",
    "- $(x,y)\\left(\\begin{array}{cc}2&1\\\\1&1\\end{array}\\right)=(2x+y,x+y)$\n",
    "\n",
    "And if I then plug this new $(x',y')$ in the binary quadratic form setup, I get (for instance):\n",
    "\n",
    "$$\n",
    "(x,y) \\left(\\begin{array}{cc}1&0\\\\1&1\\end{array}\\right)\\left(\\begin{array}{cc}1&0\\\\0&1\\end{array}\\right) \\left(\\begin{array}{cc}1&1\\\\0&1\\end{array}\\right)\\left(\\begin{array}{c}x\\\\y\\end{array}\\right)=x^2 + 2xy + 2y^2\n",
    "$$\n",
    "\n",
    "Each of these matrices has determinant equal to $\\pm 1$, hence they are called *unimodular*. All such transformations send integers to integers, so any such transformation of the *form* keeps it representing the same numbers!"
   ]
  },
  {
   "cell_type": "markdown",
   "metadata": {},
   "source": [
    "#### A key question and invariant\n",
    "\n",
    "Here is another example.\n",
    "\n",
    "$$\n",
    "(x,y) \\left(\\begin{array}{cc}1&0\\\\2&1\\end{array}\\right)\\left(\\begin{array}{cc}1&0\\\\0&1\\end{array}\\right) \\left(\\begin{array}{cc}1&2\\\\0&1\\end{array}\\right)\\left(\\begin{array}{c}x\\\\y\\end{array}\\right)=x^2 + 4xy + 5y^2\n",
    "$$\n",
    "\n",
    "And we can invert this:\n",
    "\n",
    "$$\n",
    "(x,y) \\left(\\begin{array}{cc}1&0\\\\-2&1\\end{array}\\right)\\left(\\begin{array}{cc}1&2\\\\2&5\\end{array}\\right) \\left(\\begin{array}{cc}1&-2\\\\0&1\\end{array}\\right)\\left(\\begin{array}{c}x\\\\y\\end{array}\\right)=x^2 + y^2\n",
    "$$\n",
    "\n",
    "To get from one form to another, we multiply by a matrix of determinant one and by its transpose. This means that the *determinant of the matrix defining the form* is always the same under these transformations. To wit,\n",
    "\n",
    "$$\n",
    "\\det\\left(\\begin{array}{cc}a&b/2\\\\b/2&c\\end{array}\\right) = ac-\\frac{b^2}{4}\n",
    "$$ \n",
    "\n",
    "is unchanged. Usually we look at something equivalent:\n",
    "\n",
    "$$\n",
    "\\text{The discriminant of }ax^2+bxy+cy^2\\text{ is defined to be }b^2-4ac\n",
    "$$\n",
    "\n",
    "Each of the forms we started with, which are equivalent to $x^2+y^2$, have discriminant equal to $-4$. Could you find *more* forms that represent the same numbers as these in a similar way?\n",
    "\n",
    "But the form $x^2+2y^2$ represents \n",
    "\n",
    "$$\n",
    "3=1^2+2\\cdot 1^2\n",
    "$$ \n",
    "\n",
    "and hence $x^2+2y^2$ couldn't possibly be equivalent to $x^2+y^2$ in this sense. And hence $x^2+2y^2$ is also not equivalent to any of the other forms $f,g,h,j$. We can confirm that we should suspect this, because the discriminant of $x^2+2y^2$ is $-8 \\neq -4$. Well, what forms *are* equivalent to $x^2+2y^2$? Try to use matrices to find more of them!"
   ]
  },
  {
   "cell_type": "markdown",
   "metadata": {},
   "source": [
    "### Start Your Homework Engines <a class=\"anchor\" id=\"start-your-homework-engines\"></a>\n",
    "\n",
    "Let us revisit some of the problems we discussed yesterday. I am sure with these tools you can be useful in your exploration. You can even come up with your own binary form and also ask the questions we posed in class for the binary form $x^{2}+y^{2}$. As always, there is more to experiment with and explore. Some of the questions in your next assignment will ask for *your results* on what you explored. That means you should try a lot. Here are things you might want to try:\n",
    "\n",
    "- Look at numbers in your (quadratic) form from the perspective of modulo some integer. For example, you may want to look at numbers that can be written of this form $x^2 + y^2$ modulo some integer, say $4$.\n",
    "- Which *primes* can you get? Are there any patterns there?\n",
    "- Are there any equivalent quadratic forms you can find?\n",
    "- How many ways are there to write a given number? For instance, is there a pattern in how many ways there are to write a prime number with your form?\n",
    "\n",
    "Alright, let's go upstairs and get cracking!\n"
   ]
  },
  {
   "cell_type": "code",
   "execution_count": 39,
   "metadata": {},
   "outputs": [
    {
     "data": {
      "text/plain": []
     },
     "execution_count": 39,
     "metadata": {},
     "output_type": "execute_result"
    }
   ],
   "source": []
  }
 ],
 "metadata": {
  "kernelspec": {
   "display_name": "SageMath 10.4",
   "language": "sage",
   "name": "sagemath"
  },
  "language": "python",
  "language_info": {
   "codemirror_mode": {
    "name": "ipython",
    "version": 3
   },
   "file_extension": ".py",
   "mimetype": "text/x-python",
   "name": "python",
   "nbconvert_exporter": "python",
   "pygments_lexer": "ipython3",
   "version": "3.11.2"
  }
 },
 "nbformat": 4,
 "nbformat_minor": 4
}
