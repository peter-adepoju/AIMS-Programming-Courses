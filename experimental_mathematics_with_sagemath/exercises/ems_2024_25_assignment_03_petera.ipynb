{
 "cells": [
  {
   "cell_type": "markdown",
   "id": "ce5a303e-5367-4e2e-a9b9-ed0db07d73b9",
   "metadata": {},
   "source": [
    "# PETER ADEPOJU"
   ]
  },
  {
   "cell_type": "markdown",
   "id": "d9ce6e2c-530b-4b8f-b281-cb36b58b97af",
   "metadata": {},
   "source": [
    "### QUESTIONS\n",
    "\n",
    "1. Explore Statements 10 and 11 in notebook for day 10 and write a summary of your findings. If possible, give a bijective proof of their equality.\n",
    "2. Pick at least 3 of the statements in the updated notebook for day 11 and write a summary of your findings. If possible make some conjectures and prove them. "
   ]
  },
  {
   "cell_type": "markdown",
   "id": "0ad795c6-b0dc-46be-87a3-6e323104bd9b",
   "metadata": {},
   "source": [
    "**Reference**: Most of the codes used here are from the day 10 notebook."
   ]
  },
  {
   "cell_type": "markdown",
   "id": "59a9fb6c-6e59-40b2-8101-8aed02157455",
   "metadata": {},
   "source": [
    "### Statement 10 — Biggest part is $k$<a class=\"anchor\" id=\"statement-10-biggest-part-is-k\"></a>\n",
    "\n",
    "The number of partitions of $n$ where the largest part is exactly $k$, for a fixed $k \\geq 1$, denoted $p(n\\,|\\,\\text{the biggest part is } k)$."
   ]
  },
  {
   "cell_type": "code",
   "execution_count": 25,
   "id": "649c8699-89f5-4504-93af-f9630d9db8cb",
   "metadata": {},
   "outputs": [
    {
     "data": {
      "text/plain": [
       "[[4, 4], [4, 3, 1], [4, 2, 2], [4, 2, 1, 1], [4, 1, 1, 1, 1]]"
      ]
     },
     "execution_count": 25,
     "metadata": {},
     "output_type": "execute_result"
    }
   ],
   "source": [
    "Partitions(8, max_part=4, inner=[4]).list()  # list the partitions of 8 where the largest part is 4"
   ]
  },
  {
   "cell_type": "code",
   "execution_count": 26,
   "id": "63ee83af-98e3-4479-944e-4607842bb345",
   "metadata": {},
   "outputs": [
    {
     "data": {
      "text/plain": [
       "5"
      ]
     },
     "execution_count": 26,
     "metadata": {},
     "output_type": "execute_result"
    }
   ],
   "source": [
    "Partitions(8, max_part=4, inner=[4]).cardinality()  # The number of partitions of 8 where the largest part is exactly 4"
   ]
  },
  {
   "cell_type": "markdown",
   "id": "fbd37d17-963d-4510-ae0b-2b0d9cccd3e7",
   "metadata": {},
   "source": [
    "Now let's create for partition n and k part(s)."
   ]
  },
  {
   "cell_type": "code",
   "execution_count": 27,
   "id": "dbe19505-1477-4fed-8658-d86bf6100930",
   "metadata": {},
   "outputs": [],
   "source": [
    "largest_part_of_n_exactly_𝑘 = lambda n, k : Partitions(n, max_part=k, inner=[k]).list()"
   ]
  },
  {
   "cell_type": "code",
   "execution_count": 28,
   "id": "7a056f99-7aba-4050-94f0-19e5ac92d181",
   "metadata": {},
   "outputs": [],
   "source": [
    "num_largest_part_of_n_exactly_𝑘 = lambda n, k : Partitions(n, max_part=k, inner=[k]).cardinality()"
   ]
  },
  {
   "cell_type": "code",
   "execution_count": 29,
   "id": "a54c841a-1073-4840-b1b7-911228392d98",
   "metadata": {
    "scrolled": true
   },
   "outputs": [
    {
     "data": {
      "text/plain": [
       "[[5, 5],\n",
       " [5, 4, 1],\n",
       " [5, 3, 2],\n",
       " [5, 3, 1, 1],\n",
       " [5, 2, 2, 1],\n",
       " [5, 2, 1, 1, 1],\n",
       " [5, 1, 1, 1, 1, 1]]"
      ]
     },
     "execution_count": 29,
     "metadata": {},
     "output_type": "execute_result"
    }
   ],
   "source": [
    "largest_part_of_n_exactly_𝑘(10,5)"
   ]
  },
  {
   "cell_type": "code",
   "execution_count": 30,
   "id": "9177f514-9e09-4cba-840c-6524328b659c",
   "metadata": {},
   "outputs": [
    {
     "data": {
      "text/plain": [
       "7"
      ]
     },
     "execution_count": 30,
     "metadata": {},
     "output_type": "execute_result"
    }
   ],
   "source": [
    "num_largest_part_of_n_exactly_𝑘(10,5)"
   ]
  },
  {
   "cell_type": "code",
   "execution_count": 31,
   "id": "7bedcee9-a17f-4694-84aa-18c375485d90",
   "metadata": {},
   "outputs": [],
   "source": [
    "biggest_k_table = lambda n,k:table([(m, num_largest_part_of_n_exactly_𝑘(m,k) ) for m in [1,..n]], header_row=[r'$n$', r'$p(n\\,|\\,\\text{the biggest part is } k)$'], frame=True)"
   ]
  },
  {
   "cell_type": "code",
   "execution_count": 32,
   "id": "25d91d11-c8df-445b-a014-c11ae8bea63e",
   "metadata": {},
   "outputs": [
    {
     "data": {
      "text/html": [
       "<div class=\"notruncate\">\n",
       "<table border=\"1\" class=\"table_form\">\n",
       "<tbody>\n",
       "<tr>\n",
       "<th style=\"text-align:left\">\\(n\\)</th>\n",
       "<th style=\"text-align:left\">\\(p(n\\,|\\,\\text{the biggest part is } k)\\)</th>\n",
       "</tr>\n",
       "<tr class =\"row-a\">\n",
       "<td style=\"text-align:left\">\\(1\\)</td>\n",
       "<td style=\"text-align:left\">\\(0\\)</td>\n",
       "</tr>\n",
       "<tr class =\"row-b\">\n",
       "<td style=\"text-align:left\">\\(2\\)</td>\n",
       "<td style=\"text-align:left\">\\(0\\)</td>\n",
       "</tr>\n",
       "<tr class =\"row-a\">\n",
       "<td style=\"text-align:left\">\\(3\\)</td>\n",
       "<td style=\"text-align:left\">\\(0\\)</td>\n",
       "</tr>\n",
       "<tr class =\"row-b\">\n",
       "<td style=\"text-align:left\">\\(4\\)</td>\n",
       "<td style=\"text-align:left\">\\(0\\)</td>\n",
       "</tr>\n",
       "<tr class =\"row-a\">\n",
       "<td style=\"text-align:left\">\\(5\\)</td>\n",
       "<td style=\"text-align:left\">\\(1\\)</td>\n",
       "</tr>\n",
       "<tr class =\"row-b\">\n",
       "<td style=\"text-align:left\">\\(6\\)</td>\n",
       "<td style=\"text-align:left\">\\(1\\)</td>\n",
       "</tr>\n",
       "<tr class =\"row-a\">\n",
       "<td style=\"text-align:left\">\\(7\\)</td>\n",
       "<td style=\"text-align:left\">\\(2\\)</td>\n",
       "</tr>\n",
       "<tr class =\"row-b\">\n",
       "<td style=\"text-align:left\">\\(8\\)</td>\n",
       "<td style=\"text-align:left\">\\(3\\)</td>\n",
       "</tr>\n",
       "<tr class =\"row-a\">\n",
       "<td style=\"text-align:left\">\\(9\\)</td>\n",
       "<td style=\"text-align:left\">\\(5\\)</td>\n",
       "</tr>\n",
       "<tr class =\"row-b\">\n",
       "<td style=\"text-align:left\">\\(10\\)</td>\n",
       "<td style=\"text-align:left\">\\(7\\)</td>\n",
       "</tr>\n",
       "</tbody>\n",
       "</table>\n",
       "</div>"
      ],
      "text/plain": [
       "┌─────┬──────────────────────────────────────────┐\n",
       "│ $n$ | $p(n\\,|\\,\\text{the biggest part is } k)$ |\n",
       "╞═════╪══════════════════════════════════════════╡\n",
       "│ 1   | 0                                        |\n",
       "├─────┼──────────────────────────────────────────┤\n",
       "│ 2   | 0                                        |\n",
       "├─────┼──────────────────────────────────────────┤\n",
       "│ 3   | 0                                        |\n",
       "├─────┼──────────────────────────────────────────┤\n",
       "│ 4   | 0                                        |\n",
       "├─────┼──────────────────────────────────────────┤\n",
       "│ 5   | 1                                        |\n",
       "├─────┼──────────────────────────────────────────┤\n",
       "│ 6   | 1                                        |\n",
       "├─────┼──────────────────────────────────────────┤\n",
       "│ 7   | 2                                        |\n",
       "├─────┼──────────────────────────────────────────┤\n",
       "│ 8   | 3                                        |\n",
       "├─────┼──────────────────────────────────────────┤\n",
       "│ 9   | 5                                        |\n",
       "├─────┼──────────────────────────────────────────┤\n",
       "│ 10  | 7                                        |\n",
       "└─────┴──────────────────────────────────────────┘"
      ]
     },
     "execution_count": 32,
     "metadata": {},
     "output_type": "execute_result"
    }
   ],
   "source": [
    "biggest_k_table(10,5)"
   ]
  },
  {
   "cell_type": "markdown",
   "id": "aabef8c4-b602-4cc6-aa1f-6640c2d0793b",
   "metadata": {},
   "source": [
    "### Statement 11 — Exactly $k$ parts<a class=\"anchor\" id=\"statement-11-exactly-k-parts\"></a>\n",
    "\n",
    "The number of partitions of $n$ with exactly $k$ parts, for a fixed $k \\geq 1$, denoted $p(n\\,|\\,\\text{there are exactly } k \\text{ parts})$."
   ]
  },
  {
   "cell_type": "code",
   "execution_count": 33,
   "id": "770da3d3-8bfe-4632-9e57-1c2cccbcc9ea",
   "metadata": {},
   "outputs": [
    {
     "data": {
      "text/plain": [
       "[[5, 1, 1, 1], [4, 2, 1, 1], [3, 3, 1, 1], [3, 2, 2, 1], [2, 2, 2, 2]]"
      ]
     },
     "execution_count": 33,
     "metadata": {},
     "output_type": "execute_result"
    }
   ],
   "source": [
    "Partitions(8, length=4).list()    # partitions of 8 with exactly 4 parts"
   ]
  },
  {
   "cell_type": "code",
   "execution_count": 34,
   "id": "738ad71e-787b-4fdd-bfd2-41b3c5d576c2",
   "metadata": {},
   "outputs": [
    {
     "data": {
      "text/plain": [
       "5"
      ]
     },
     "execution_count": 34,
     "metadata": {},
     "output_type": "execute_result"
    }
   ],
   "source": [
    "Partitions(8, length=4).cardinality() # The number of partitions of 8 with exactly 4 parts"
   ]
  },
  {
   "cell_type": "code",
   "execution_count": 35,
   "id": "a8ada0cb-4af5-4b33-a3bb-ac8552b90dcd",
   "metadata": {},
   "outputs": [],
   "source": [
    "n_exactly_𝑘_parts = lambda n, k : Partitions(n, length=k).list()"
   ]
  },
  {
   "cell_type": "code",
   "execution_count": 36,
   "id": "66bc281d-0496-4a24-940c-3994cf1c5a90",
   "metadata": {},
   "outputs": [],
   "source": [
    "num_exactly_𝑘_parts = lambda n, k : Partitions(n, length=k).cardinality() "
   ]
  },
  {
   "cell_type": "code",
   "execution_count": 37,
   "id": "b5357d14-79bd-42e5-8318-cf9a49769268",
   "metadata": {
    "scrolled": true
   },
   "outputs": [
    {
     "data": {
      "text/plain": [
       "[[6, 1, 1, 1, 1],\n",
       " [5, 2, 1, 1, 1],\n",
       " [4, 3, 1, 1, 1],\n",
       " [4, 2, 2, 1, 1],\n",
       " [3, 3, 2, 1, 1],\n",
       " [3, 2, 2, 2, 1],\n",
       " [2, 2, 2, 2, 2]]"
      ]
     },
     "execution_count": 37,
     "metadata": {},
     "output_type": "execute_result"
    }
   ],
   "source": [
    "n_exactly_𝑘_parts(10,5)"
   ]
  },
  {
   "cell_type": "code",
   "execution_count": 38,
   "id": "f8449382-c029-4b20-aa20-5ad8205ba07f",
   "metadata": {
    "scrolled": true
   },
   "outputs": [
    {
     "data": {
      "text/plain": [
       "7"
      ]
     },
     "execution_count": 38,
     "metadata": {},
     "output_type": "execute_result"
    }
   ],
   "source": [
    "num_exactly_𝑘_parts(10,5)"
   ]
  },
  {
   "cell_type": "code",
   "execution_count": 39,
   "id": "3b5d64f8-34eb-4b3b-8c74-9243da84948a",
   "metadata": {},
   "outputs": [],
   "source": [
    "exactly_k_table = lambda n,k:table([(m, num_exactly_𝑘_parts(m,k) ) for m in [1,..n]], header_row=[r'$n$', r'$p(n\\,|\\,\\text{exactly k parts})$'], frame=True)"
   ]
  },
  {
   "cell_type": "code",
   "execution_count": 40,
   "id": "dcc70f9f-44c3-4858-bbdc-31c50f71c0c8",
   "metadata": {},
   "outputs": [
    {
     "data": {
      "text/html": [
       "<div class=\"notruncate\">\n",
       "<table border=\"1\" class=\"table_form\">\n",
       "<tbody>\n",
       "<tr>\n",
       "<th style=\"text-align:left\">\\(n\\)</th>\n",
       "<th style=\"text-align:left\">\\(p(n\\,|\\,\\text{exactly k parts})\\)</th>\n",
       "</tr>\n",
       "<tr class =\"row-a\">\n",
       "<td style=\"text-align:left\">\\(1\\)</td>\n",
       "<td style=\"text-align:left\">\\(0\\)</td>\n",
       "</tr>\n",
       "<tr class =\"row-b\">\n",
       "<td style=\"text-align:left\">\\(2\\)</td>\n",
       "<td style=\"text-align:left\">\\(0\\)</td>\n",
       "</tr>\n",
       "<tr class =\"row-a\">\n",
       "<td style=\"text-align:left\">\\(3\\)</td>\n",
       "<td style=\"text-align:left\">\\(0\\)</td>\n",
       "</tr>\n",
       "<tr class =\"row-b\">\n",
       "<td style=\"text-align:left\">\\(4\\)</td>\n",
       "<td style=\"text-align:left\">\\(0\\)</td>\n",
       "</tr>\n",
       "<tr class =\"row-a\">\n",
       "<td style=\"text-align:left\">\\(5\\)</td>\n",
       "<td style=\"text-align:left\">\\(1\\)</td>\n",
       "</tr>\n",
       "<tr class =\"row-b\">\n",
       "<td style=\"text-align:left\">\\(6\\)</td>\n",
       "<td style=\"text-align:left\">\\(1\\)</td>\n",
       "</tr>\n",
       "<tr class =\"row-a\">\n",
       "<td style=\"text-align:left\">\\(7\\)</td>\n",
       "<td style=\"text-align:left\">\\(2\\)</td>\n",
       "</tr>\n",
       "<tr class =\"row-b\">\n",
       "<td style=\"text-align:left\">\\(8\\)</td>\n",
       "<td style=\"text-align:left\">\\(3\\)</td>\n",
       "</tr>\n",
       "<tr class =\"row-a\">\n",
       "<td style=\"text-align:left\">\\(9\\)</td>\n",
       "<td style=\"text-align:left\">\\(5\\)</td>\n",
       "</tr>\n",
       "<tr class =\"row-b\">\n",
       "<td style=\"text-align:left\">\\(10\\)</td>\n",
       "<td style=\"text-align:left\">\\(7\\)</td>\n",
       "</tr>\n",
       "</tbody>\n",
       "</table>\n",
       "</div>"
      ],
      "text/plain": [
       "┌─────┬───────────────────────────────────┐\n",
       "│ $n$ | $p(n\\,|\\,\\text{exactly k parts})$ |\n",
       "╞═════╪═══════════════════════════════════╡\n",
       "│ 1   | 0                                 |\n",
       "├─────┼───────────────────────────────────┤\n",
       "│ 2   | 0                                 |\n",
       "├─────┼───────────────────────────────────┤\n",
       "│ 3   | 0                                 |\n",
       "├─────┼───────────────────────────────────┤\n",
       "│ 4   | 0                                 |\n",
       "├─────┼───────────────────────────────────┤\n",
       "│ 5   | 1                                 |\n",
       "├─────┼───────────────────────────────────┤\n",
       "│ 6   | 1                                 |\n",
       "├─────┼───────────────────────────────────┤\n",
       "│ 7   | 2                                 |\n",
       "├─────┼───────────────────────────────────┤\n",
       "│ 8   | 3                                 |\n",
       "├─────┼───────────────────────────────────┤\n",
       "│ 9   | 5                                 |\n",
       "├─────┼───────────────────────────────────┤\n",
       "│ 10  | 7                                 |\n",
       "└─────┴───────────────────────────────────┘"
      ]
     },
     "execution_count": 40,
     "metadata": {},
     "output_type": "execute_result"
    }
   ],
   "source": [
    "exactly_k_table(10,5)"
   ]
  },
  {
   "cell_type": "markdown",
   "id": "0ff43407-db75-442d-b34a-b73baf787710",
   "metadata": {},
   "source": [
    "Now let's combine them in a table"
   ]
  },
  {
   "cell_type": "code",
   "execution_count": 41,
   "id": "6132f3ea-cf0e-4315-94c5-75fe3f5d90e2",
   "metadata": {},
   "outputs": [],
   "source": [
    "k_table = lambda n,k:table([(m, num_largest_part_of_n_exactly_𝑘(m,k), num_exactly_𝑘_parts(m,k) ) for m in [1,..n]], header_row=[r'$n$', r'$p(n\\,|\\,\\text{the biggest part is } k)$', r'$p(n\\,|\\,\\text{exactly k parts})$'], frame=True)"
   ]
  },
  {
   "cell_type": "code",
   "execution_count": 42,
   "id": "720db3d9-0002-4fbc-a99d-20e109d4fb36",
   "metadata": {},
   "outputs": [
    {
     "data": {
      "text/html": [
       "<div class=\"notruncate\">\n",
       "<table border=\"1\" class=\"table_form\">\n",
       "<tbody>\n",
       "<tr>\n",
       "<th style=\"text-align:left\">\\(n\\)</th>\n",
       "<th style=\"text-align:left\">\\(p(n\\,|\\,\\text{the biggest part is } k)\\)</th>\n",
       "<th style=\"text-align:left\">\\(p(n\\,|\\,\\text{exactly k parts})\\)</th>\n",
       "</tr>\n",
       "<tr class =\"row-a\">\n",
       "<td style=\"text-align:left\">\\(1\\)</td>\n",
       "<td style=\"text-align:left\">\\(0\\)</td>\n",
       "<td style=\"text-align:left\">\\(0\\)</td>\n",
       "</tr>\n",
       "<tr class =\"row-b\">\n",
       "<td style=\"text-align:left\">\\(2\\)</td>\n",
       "<td style=\"text-align:left\">\\(0\\)</td>\n",
       "<td style=\"text-align:left\">\\(0\\)</td>\n",
       "</tr>\n",
       "<tr class =\"row-a\">\n",
       "<td style=\"text-align:left\">\\(3\\)</td>\n",
       "<td style=\"text-align:left\">\\(0\\)</td>\n",
       "<td style=\"text-align:left\">\\(0\\)</td>\n",
       "</tr>\n",
       "<tr class =\"row-b\">\n",
       "<td style=\"text-align:left\">\\(4\\)</td>\n",
       "<td style=\"text-align:left\">\\(0\\)</td>\n",
       "<td style=\"text-align:left\">\\(0\\)</td>\n",
       "</tr>\n",
       "<tr class =\"row-a\">\n",
       "<td style=\"text-align:left\">\\(5\\)</td>\n",
       "<td style=\"text-align:left\">\\(1\\)</td>\n",
       "<td style=\"text-align:left\">\\(1\\)</td>\n",
       "</tr>\n",
       "<tr class =\"row-b\">\n",
       "<td style=\"text-align:left\">\\(6\\)</td>\n",
       "<td style=\"text-align:left\">\\(1\\)</td>\n",
       "<td style=\"text-align:left\">\\(1\\)</td>\n",
       "</tr>\n",
       "<tr class =\"row-a\">\n",
       "<td style=\"text-align:left\">\\(7\\)</td>\n",
       "<td style=\"text-align:left\">\\(2\\)</td>\n",
       "<td style=\"text-align:left\">\\(2\\)</td>\n",
       "</tr>\n",
       "<tr class =\"row-b\">\n",
       "<td style=\"text-align:left\">\\(8\\)</td>\n",
       "<td style=\"text-align:left\">\\(3\\)</td>\n",
       "<td style=\"text-align:left\">\\(3\\)</td>\n",
       "</tr>\n",
       "<tr class =\"row-a\">\n",
       "<td style=\"text-align:left\">\\(9\\)</td>\n",
       "<td style=\"text-align:left\">\\(5\\)</td>\n",
       "<td style=\"text-align:left\">\\(5\\)</td>\n",
       "</tr>\n",
       "<tr class =\"row-b\">\n",
       "<td style=\"text-align:left\">\\(10\\)</td>\n",
       "<td style=\"text-align:left\">\\(7\\)</td>\n",
       "<td style=\"text-align:left\">\\(7\\)</td>\n",
       "</tr>\n",
       "</tbody>\n",
       "</table>\n",
       "</div>"
      ],
      "text/plain": [
       "┌─────┬──────────────────────────────────────────┬───────────────────────────────────┐\n",
       "│ $n$ | $p(n\\,|\\,\\text{the biggest part is } k)$ | $p(n\\,|\\,\\text{exactly k parts})$ |\n",
       "╞═════╪══════════════════════════════════════════╪═══════════════════════════════════╡\n",
       "│ 1   | 0                                        | 0                                 |\n",
       "├─────┼──────────────────────────────────────────┼───────────────────────────────────┤\n",
       "│ 2   | 0                                        | 0                                 |\n",
       "├─────┼──────────────────────────────────────────┼───────────────────────────────────┤\n",
       "│ 3   | 0                                        | 0                                 |\n",
       "├─────┼──────────────────────────────────────────┼───────────────────────────────────┤\n",
       "│ 4   | 0                                        | 0                                 |\n",
       "├─────┼──────────────────────────────────────────┼───────────────────────────────────┤\n",
       "│ 5   | 1                                        | 1                                 |\n",
       "├─────┼──────────────────────────────────────────┼───────────────────────────────────┤\n",
       "│ 6   | 1                                        | 1                                 |\n",
       "├─────┼──────────────────────────────────────────┼───────────────────────────────────┤\n",
       "│ 7   | 2                                        | 2                                 |\n",
       "├─────┼──────────────────────────────────────────┼───────────────────────────────────┤\n",
       "│ 8   | 3                                        | 3                                 |\n",
       "├─────┼──────────────────────────────────────────┼───────────────────────────────────┤\n",
       "│ 9   | 5                                        | 5                                 |\n",
       "├─────┼──────────────────────────────────────────┼───────────────────────────────────┤\n",
       "│ 10  | 7                                        | 7                                 |\n",
       "└─────┴──────────────────────────────────────────┴───────────────────────────────────┘"
      ]
     },
     "execution_count": 42,
     "metadata": {},
     "output_type": "execute_result"
    }
   ],
   "source": [
    "k_table (10,5)"
   ]
  },
  {
   "cell_type": "markdown",
   "id": "c0a383f8-f898-4245-8961-c606b7ec196b",
   "metadata": {},
   "source": [
    "Let's see their geometric representation, using the 'ferrers_diagram' function."
   ]
  },
  {
   "cell_type": "code",
   "execution_count": 43,
   "id": "79724959-ab2b-4951-9bb7-d8de10a8b671",
   "metadata": {},
   "outputs": [
    {
     "data": {
      "text/html": [
       "<html>\\(\\displaystyle \\left[\\begin{array}{l}\n",
       "\\verb|*****|\\\\\n",
       "\\verb|*****|\n",
       "\\end{array}, \\begin{array}{l}\n",
       "\\verb|*****|\\\\\n",
       "\\verb|****|\\\\\n",
       "\\verb|*|\n",
       "\\end{array}, \\begin{array}{l}\n",
       "\\verb|*****|\\\\\n",
       "\\verb|***|\\\\\n",
       "\\verb|**|\n",
       "\\end{array}, \\begin{array}{l}\n",
       "\\verb|*****|\\\\\n",
       "\\verb|***|\\\\\n",
       "\\verb|*|\\\\\n",
       "\\verb|*|\n",
       "\\end{array}, \\begin{array}{l}\n",
       "\\verb|*****|\\\\\n",
       "\\verb|**|\\\\\n",
       "\\verb|**|\\\\\n",
       "\\verb|*|\n",
       "\\end{array}, \\begin{array}{l}\n",
       "\\verb|*****|\\\\\n",
       "\\verb|**|\\\\\n",
       "\\verb|*|\\\\\n",
       "\\verb|*|\\\\\n",
       "\\verb|*|\n",
       "\\end{array}, \\begin{array}{l}\n",
       "\\verb|*****|\\\\\n",
       "\\verb|*|\\\\\n",
       "\\verb|*|\\\\\n",
       "\\verb|*|\\\\\n",
       "\\verb|*|\\\\\n",
       "\\verb|*|\n",
       "\\end{array}\\right]\\)</html>"
      ],
      "text/latex": [
       "$\\displaystyle \\left[\\begin{array}{l}\n",
       "\\verb|*****|\\\\\n",
       "\\verb|*****|\n",
       "\\end{array}, \\begin{array}{l}\n",
       "\\verb|*****|\\\\\n",
       "\\verb|****|\\\\\n",
       "\\verb|*|\n",
       "\\end{array}, \\begin{array}{l}\n",
       "\\verb|*****|\\\\\n",
       "\\verb|***|\\\\\n",
       "\\verb|**|\n",
       "\\end{array}, \\begin{array}{l}\n",
       "\\verb|*****|\\\\\n",
       "\\verb|***|\\\\\n",
       "\\verb|*|\\\\\n",
       "\\verb|*|\n",
       "\\end{array}, \\begin{array}{l}\n",
       "\\verb|*****|\\\\\n",
       "\\verb|**|\\\\\n",
       "\\verb|**|\\\\\n",
       "\\verb|*|\n",
       "\\end{array}, \\begin{array}{l}\n",
       "\\verb|*****|\\\\\n",
       "\\verb|**|\\\\\n",
       "\\verb|*|\\\\\n",
       "\\verb|*|\\\\\n",
       "\\verb|*|\n",
       "\\end{array}, \\begin{array}{l}\n",
       "\\verb|*****|\\\\\n",
       "\\verb|*|\\\\\n",
       "\\verb|*|\\\\\n",
       "\\verb|*|\\\\\n",
       "\\verb|*|\\\\\n",
       "\\verb|*|\n",
       "\\end{array}\\right]$"
      ],
      "text/plain": [
       "['*****\\n*****',\n",
       " '*****\\n****\\n*',\n",
       " '*****\\n***\\n**',\n",
       " '*****\\n***\\n*\\n*',\n",
       " '*****\\n**\\n**\\n*',\n",
       " '*****\\n**\\n*\\n*\\n*',\n",
       " '*****\\n*\\n*\\n*\\n*\\n*']"
      ]
     },
     "metadata": {},
     "output_type": "display_data"
    }
   ],
   "source": [
    "show([part.ferrers_diagram() for part in largest_part_of_n_exactly_𝑘(10,5)])"
   ]
  },
  {
   "cell_type": "code",
   "execution_count": 44,
   "id": "80c2d489-1978-4752-98bf-4e71abe72f58",
   "metadata": {},
   "outputs": [
    {
     "data": {
      "text/html": [
       "<html>\\(\\displaystyle \\left[\\begin{array}{l}\n",
       "\\verb|******|\\\\\n",
       "\\verb|*|\\\\\n",
       "\\verb|*|\\\\\n",
       "\\verb|*|\\\\\n",
       "\\verb|*|\n",
       "\\end{array}, \\begin{array}{l}\n",
       "\\verb|*****|\\\\\n",
       "\\verb|**|\\\\\n",
       "\\verb|*|\\\\\n",
       "\\verb|*|\\\\\n",
       "\\verb|*|\n",
       "\\end{array}, \\begin{array}{l}\n",
       "\\verb|****|\\\\\n",
       "\\verb|***|\\\\\n",
       "\\verb|*|\\\\\n",
       "\\verb|*|\\\\\n",
       "\\verb|*|\n",
       "\\end{array}, \\begin{array}{l}\n",
       "\\verb|****|\\\\\n",
       "\\verb|**|\\\\\n",
       "\\verb|**|\\\\\n",
       "\\verb|*|\\\\\n",
       "\\verb|*|\n",
       "\\end{array}, \\begin{array}{l}\n",
       "\\verb|***|\\\\\n",
       "\\verb|***|\\\\\n",
       "\\verb|**|\\\\\n",
       "\\verb|*|\\\\\n",
       "\\verb|*|\n",
       "\\end{array}, \\begin{array}{l}\n",
       "\\verb|***|\\\\\n",
       "\\verb|**|\\\\\n",
       "\\verb|**|\\\\\n",
       "\\verb|**|\\\\\n",
       "\\verb|*|\n",
       "\\end{array}, \\begin{array}{l}\n",
       "\\verb|**|\\\\\n",
       "\\verb|**|\\\\\n",
       "\\verb|**|\\\\\n",
       "\\verb|**|\\\\\n",
       "\\verb|**|\n",
       "\\end{array}\\right]\\)</html>"
      ],
      "text/latex": [
       "$\\displaystyle \\left[\\begin{array}{l}\n",
       "\\verb|******|\\\\\n",
       "\\verb|*|\\\\\n",
       "\\verb|*|\\\\\n",
       "\\verb|*|\\\\\n",
       "\\verb|*|\n",
       "\\end{array}, \\begin{array}{l}\n",
       "\\verb|*****|\\\\\n",
       "\\verb|**|\\\\\n",
       "\\verb|*|\\\\\n",
       "\\verb|*|\\\\\n",
       "\\verb|*|\n",
       "\\end{array}, \\begin{array}{l}\n",
       "\\verb|****|\\\\\n",
       "\\verb|***|\\\\\n",
       "\\verb|*|\\\\\n",
       "\\verb|*|\\\\\n",
       "\\verb|*|\n",
       "\\end{array}, \\begin{array}{l}\n",
       "\\verb|****|\\\\\n",
       "\\verb|**|\\\\\n",
       "\\verb|**|\\\\\n",
       "\\verb|*|\\\\\n",
       "\\verb|*|\n",
       "\\end{array}, \\begin{array}{l}\n",
       "\\verb|***|\\\\\n",
       "\\verb|***|\\\\\n",
       "\\verb|**|\\\\\n",
       "\\verb|*|\\\\\n",
       "\\verb|*|\n",
       "\\end{array}, \\begin{array}{l}\n",
       "\\verb|***|\\\\\n",
       "\\verb|**|\\\\\n",
       "\\verb|**|\\\\\n",
       "\\verb|**|\\\\\n",
       "\\verb|*|\n",
       "\\end{array}, \\begin{array}{l}\n",
       "\\verb|**|\\\\\n",
       "\\verb|**|\\\\\n",
       "\\verb|**|\\\\\n",
       "\\verb|**|\\\\\n",
       "\\verb|**|\n",
       "\\end{array}\\right]$"
      ],
      "text/plain": [
       "['******\\n*\\n*\\n*\\n*',\n",
       " '*****\\n**\\n*\\n*\\n*',\n",
       " '****\\n***\\n*\\n*\\n*',\n",
       " '****\\n**\\n**\\n*\\n*',\n",
       " '***\\n***\\n**\\n*\\n*',\n",
       " '***\\n**\\n**\\n**\\n*',\n",
       " '**\\n**\\n**\\n**\\n**']"
      ]
     },
     "metadata": {},
     "output_type": "display_data"
    }
   ],
   "source": [
    "show([part.ferrers_diagram() for part in n_exactly_𝑘_parts(10,5)])"
   ]
  },
  {
   "cell_type": "markdown",
   "id": "5dbaa047-a311-48f0-a893-fb269e1a8f14",
   "metadata": {},
   "source": [
    "Let's try another case"
   ]
  },
  {
   "cell_type": "code",
   "execution_count": 45,
   "id": "8c0b467b-b7ac-4c00-9e42-c50b0707e65b",
   "metadata": {},
   "outputs": [
    {
     "data": {
      "text/html": [
       "<html>\\(\\displaystyle \\left[\\begin{array}{l}\n",
       "\\verb|**|\\\\\n",
       "\\verb|**|\n",
       "\\end{array}, \\begin{array}{l}\n",
       "\\verb|**|\\\\\n",
       "\\verb|*|\\\\\n",
       "\\verb|*|\n",
       "\\end{array}\\right]\\)</html>"
      ],
      "text/latex": [
       "$\\displaystyle \\left[\\begin{array}{l}\n",
       "\\verb|**|\\\\\n",
       "\\verb|**|\n",
       "\\end{array}, \\begin{array}{l}\n",
       "\\verb|**|\\\\\n",
       "\\verb|*|\\\\\n",
       "\\verb|*|\n",
       "\\end{array}\\right]$"
      ],
      "text/plain": [
       "['**\\n**', '**\\n*\\n*']"
      ]
     },
     "metadata": {},
     "output_type": "display_data"
    }
   ],
   "source": [
    "show([part.ferrers_diagram() for part in largest_part_of_n_exactly_𝑘(4,2)])"
   ]
  },
  {
   "cell_type": "code",
   "execution_count": 46,
   "id": "3a22917f-7ff3-4c46-9dcd-73a128420430",
   "metadata": {},
   "outputs": [
    {
     "data": {
      "text/html": [
       "<html>\\(\\displaystyle \\left[\\begin{array}{l}\n",
       "\\verb|***|\\\\\n",
       "\\verb|*|\n",
       "\\end{array}, \\begin{array}{l}\n",
       "\\verb|**|\\\\\n",
       "\\verb|**|\n",
       "\\end{array}\\right]\\)</html>"
      ],
      "text/latex": [
       "$\\displaystyle \\left[\\begin{array}{l}\n",
       "\\verb|***|\\\\\n",
       "\\verb|*|\n",
       "\\end{array}, \\begin{array}{l}\n",
       "\\verb|**|\\\\\n",
       "\\verb|**|\n",
       "\\end{array}\\right]$"
      ],
      "text/plain": [
       "['***\\n*', '**\\n**']"
      ]
     },
     "metadata": {},
     "output_type": "display_data"
    }
   ],
   "source": [
    "show([part.ferrers_diagram() for part in n_exactly_𝑘_parts(4,2)])"
   ]
  },
  {
   "cell_type": "markdown",
   "id": "f182020e-8f02-4367-8176-0da684df4bc6",
   "metadata": {},
   "source": [
    "The shapes are quite similar if we rotate one in a way to suit the other. For example if we reciprocate the elements in the partition 4 with exactly 2 parts, and then find the transpose, it will give us the matrix in cell [93] which is partition 4 with it biggest part exactly 2."
   ]
  },
  {
   "cell_type": "markdown",
   "id": "5ed73953-8c12-4b3c-9a83-d038b9475287",
   "metadata": {},
   "source": [
    "## Bijective proof of the equality of statement 10 and 11."
   ]
  },
  {
   "cell_type": "markdown",
   "id": "96ad77cf-fe2b-4835-9730-7abd942ff6c5",
   "metadata": {},
   "source": [
    "#### Theorem\n",
    "\n",
    "For all $n\\in\\mathbb{Z}_{\\ge0}$, $p(n\\,|\\,\\text{the biggest part is } k) = p(n\\,|\\,\\text{Exactly $k$ parts})$.  \n",
    "\n",
    "**Proof (Bijective Proof)**:\n",
    "\n",
    "Geometrically, if we find the reciprocal shape of each element in the matrix of a **partition with it biggest part exactly k**, and then find the transpose of the result, we will get the same shape of the partition with **exactly k parts**. The same priciple applies from  partition with **exactly k parts** to **partition with it biggest part exactly k**."
   ]
  },
  {
   "cell_type": "code",
   "execution_count": null,
   "id": "235492d5-c8ff-4915-bfaf-3892654d25b4",
   "metadata": {},
   "outputs": [],
   "source": []
  },
  {
   "cell_type": "markdown",
   "id": "3d468492-8678-4c9a-ab50-1e9fd0e59b02",
   "metadata": {},
   "source": [
    "#### Extra exploration with some keywords"
   ]
  },
  {
   "cell_type": "code",
   "execution_count": 47,
   "id": "bf1706b0-7fc3-4db1-bfbf-88203e552910",
   "metadata": {},
   "outputs": [
    {
     "data": {
      "text/plain": [
       "[[8],\n",
       " [7, 1],\n",
       " [6, 2],\n",
       " [6, 1, 1],\n",
       " [5, 3],\n",
       " [5, 2, 1],\n",
       " [5, 1, 1, 1],\n",
       " [4, 4],\n",
       " [4, 3, 1],\n",
       " [4, 2, 2],\n",
       " [4, 2, 1, 1],\n",
       " [4, 1, 1, 1, 1]]"
      ]
     },
     "execution_count": 47,
     "metadata": {},
     "output_type": "execute_result"
    }
   ],
   "source": [
    "Partitions(8, ending=[4]).list() "
   ]
  },
  {
   "cell_type": "markdown",
   "id": "4b7b48e9-f667-467b-8a84-f606a62c8f22",
   "metadata": {},
   "source": [
    "The 'ending' function at k give partitions that start each of it part with atleast k."
   ]
  },
  {
   "cell_type": "code",
   "execution_count": 48,
   "id": "d9edfcb1-a54c-462b-9fef-b23358621f25",
   "metadata": {
    "scrolled": true
   },
   "outputs": [
    {
     "data": {
      "text/plain": [
       "[[3, 3, 2],\n",
       " [3, 3, 1, 1],\n",
       " [3, 2, 2, 1],\n",
       " [3, 2, 1, 1, 1],\n",
       " [3, 1, 1, 1, 1, 1],\n",
       " [2, 2, 2, 2],\n",
       " [2, 2, 2, 1, 1],\n",
       " [2, 2, 1, 1, 1, 1],\n",
       " [2, 1, 1, 1, 1, 1, 1],\n",
       " [1, 1, 1, 1, 1, 1, 1, 1]]"
      ]
     },
     "execution_count": 48,
     "metadata": {},
     "output_type": "execute_result"
    }
   ],
   "source": [
    "Partitions(8, starting=[4]).list() "
   ]
  },
  {
   "cell_type": "markdown",
   "id": "ac54f050-7b1b-46c3-b656-925e26b4133e",
   "metadata": {},
   "source": [
    "The 'starting' function at k give partitions start each of it part with less than k."
   ]
  },
  {
   "cell_type": "code",
   "execution_count": 49,
   "id": "eaf33324-9d24-4ddb-b795-9086c8c47f92",
   "metadata": {
    "scrolled": true
   },
   "outputs": [
    {
     "data": {
      "text/plain": [
       "[[8],\n",
       " [7, 1],\n",
       " [6, 2],\n",
       " [6, 1, 1],\n",
       " [5, 3],\n",
       " [5, 2, 1],\n",
       " [5, 1, 1, 1],\n",
       " [4, 4],\n",
       " [4, 3, 1],\n",
       " [4, 2, 2],\n",
       " [4, 2, 1, 1],\n",
       " [3, 3, 2],\n",
       " [3, 3, 1, 1],\n",
       " [3, 2, 2, 1],\n",
       " [3, 2, 1, 1, 1],\n",
       " [2, 2, 2, 1, 1]]"
      ]
     },
     "execution_count": 49,
     "metadata": {},
     "output_type": "execute_result"
    }
   ],
   "source": [
    "Partitions(8, regular=4).list() "
   ]
  },
  {
   "cell_type": "code",
   "execution_count": null,
   "id": "ddf887ee-83ca-4aa1-8db3-4125169c824c",
   "metadata": {},
   "outputs": [],
   "source": []
  },
  {
   "cell_type": "markdown",
   "id": "3a35bd74-f251-463c-8b0d-609977057b32",
   "metadata": {},
   "source": [
    "## Exploration of Statements from updated notebook for day 11"
   ]
  },
  {
   "cell_type": "code",
   "execution_count": 50,
   "id": "9c0f5f09-3b3a-45c2-9060-a6e4d1ddfee3",
   "metadata": {},
   "outputs": [],
   "source": [
    "def tau(n):\n",
    "    return len(divisors(n))"
   ]
  },
  {
   "cell_type": "code",
   "execution_count": 51,
   "id": "f1032b16-0611-4164-bc0c-b537522f0953",
   "metadata": {},
   "outputs": [],
   "source": [
    "def sigma(n):\n",
    "    return sum(divisors(n))"
   ]
  },
  {
   "cell_type": "code",
   "execution_count": null,
   "id": "ecc9868c-93df-40ce-817e-5098dccea2fb",
   "metadata": {},
   "outputs": [],
   "source": []
  },
  {
   "cell_type": "markdown",
   "id": "683b09b2-5399-4e48-a0ee-cab34d349032",
   "metadata": {},
   "source": [
    "### Exploring Question 2 <a class=\"anchor\" id=\"exploring-question-2\"></a>\n",
    "Is the function $\\tau$ also additive, $\\tau(a+b) = \\tau(a) + \\tau(b)$"
   ]
  },
  {
   "cell_type": "code",
   "execution_count": 52,
   "id": "56ad76f1-331a-4f11-b29c-57b3d01fe01f",
   "metadata": {},
   "outputs": [],
   "source": [
    "def additive_function(n):\n",
    "    additive_fun = []\n",
    "    for i in range(1,n+1):\n",
    "        for j in range(1, n+1):\n",
    "            if tau(i + j) == tau(i) + tau(j):\n",
    "                additive_fun.append((i,j))\n",
    "    return additive_fun"
   ]
  },
  {
   "cell_type": "code",
   "execution_count": 53,
   "id": "78259daf-39a4-47a7-8f39-52580841f173",
   "metadata": {
    "scrolled": true
   },
   "outputs": [
    {
     "data": {
      "text/plain": [
       "[(1, 1),\n",
       " (1, 3),\n",
       " (1, 9),\n",
       " (2, 10),\n",
       " (3, 1),\n",
       " (3, 3),\n",
       " (3, 5),\n",
       " (3, 7),\n",
       " (5, 3),\n",
       " (5, 5),\n",
       " (7, 3),\n",
       " (7, 7),\n",
       " (7, 9),\n",
       " (9, 1),\n",
       " (9, 7),\n",
       " (9, 9),\n",
       " (10, 2)]"
      ]
     },
     "execution_count": 53,
     "metadata": {},
     "output_type": "execute_result"
    }
   ],
   "source": [
    "additive_function(10)"
   ]
  },
  {
   "cell_type": "markdown",
   "id": "91cde577-ca60-4c29-b9ac-1ff6590ff9c2",
   "metadata": {},
   "source": [
    "It is clear from this result that not $\\tau(a+b) = \\tau(a) + \\tau(b)$."
   ]
  },
  {
   "cell_type": "markdown",
   "id": "87f0a9f5-b35b-4b1d-8545-1af5695f9b42",
   "metadata": {},
   "source": [
    "### Proof"
   ]
  },
  {
   "cell_type": "markdown",
   "id": "657af889-e125-425e-a6c7-d448f74d19be",
   "metadata": {},
   "source": [
    "For example $\\tau(3) \\neq \\tau(1) + \\tau(2)$. Thus, this is a counter example that disproves the statement that the function $\\tau$ is additive."
   ]
  },
  {
   "cell_type": "markdown",
   "id": "52214b22-5999-4ee7-8044-4d92881419c0",
   "metadata": {},
   "source": [
    "### Exploring Question 4 <a class=\"anchor\" id=\"exploring-question-4\"></a>\n",
    "Is $\\tau(n)$ always a factor of $n$."
   ]
  },
  {
   "cell_type": "markdown",
   "id": "7127d8d0-25f7-49d3-9131-5720657005ec",
   "metadata": {},
   "source": [
    "### Proof"
   ]
  },
  {
   "cell_type": "markdown",
   "id": "1219e265-935d-4e3e-a7aa-dc767194b48d",
   "metadata": {},
   "source": [
    "Let's try with a simple case."
   ]
  },
  {
   "cell_type": "code",
   "execution_count": 54,
   "id": "337e10e6-81a8-462f-8753-22f82217d1c3",
   "metadata": {},
   "outputs": [
    {
     "data": {
      "text/plain": [
       "4"
      ]
     },
     "execution_count": 54,
     "metadata": {},
     "output_type": "execute_result"
    }
   ],
   "source": [
    "tau(14)"
   ]
  },
  {
   "cell_type": "markdown",
   "id": "b22df687-e64f-4ba0-9987-263d0db0a812",
   "metadata": {},
   "source": [
    "From this statement, we can see that it is not always true that $\\tau(n)$ is a factor of $n$. This is a counter example that disproves the statement."
   ]
  },
  {
   "cell_type": "markdown",
   "id": "401b17fa-2d14-4cbc-a2b8-6225c454120e",
   "metadata": {},
   "source": [
    "### Exploring Question 6 <a class=\"anchor\" id=\"exploring-question-6\"></a>\n",
    "For what values of $n$ is $\\tau(n) = \\sigma(n)$"
   ]
  },
  {
   "cell_type": "markdown",
   "id": "e2cd9e45-60c8-4d4c-9ea3-1dd49d5639fd",
   "metadata": {},
   "source": [
    "## Proof"
   ]
  },
  {
   "cell_type": "code",
   "execution_count": 55,
   "id": "6fbfda3c-a2c9-4396-a39b-2610d1ab59f9",
   "metadata": {},
   "outputs": [],
   "source": [
    "def tau_sigma_function(n):\n",
    "    tau_sigma = []\n",
    "    for i in range(1,n+1):\n",
    "            if tau(i) == sigma(i):\n",
    "                tau_sigma.append(i)\n",
    "    return tau_sigma"
   ]
  },
  {
   "cell_type": "code",
   "execution_count": 56,
   "id": "28d66661-471f-46de-a4d2-ff19c5948d4a",
   "metadata": {},
   "outputs": [
    {
     "data": {
      "text/plain": [
       "[1]"
      ]
     },
     "execution_count": 56,
     "metadata": {},
     "output_type": "execute_result"
    }
   ],
   "source": [
    "tau_sigma_function(1000000)"
   ]
  },
  {
   "cell_type": "markdown",
   "id": "04c0ef71-c928-40f4-b142-a63bce0f5034",
   "metadata": {},
   "source": [
    "It is clear that we only have a case where $\\tau(n) = \\sigma(n)$ after many trials (up to a millionth term)."
   ]
  },
  {
   "cell_type": "markdown",
   "id": "dada8f41-8b49-4681-84f5-f5529f9552e6",
   "metadata": {},
   "source": [
    "The tau and sigma functions grow at different rates. While $\\tau(n)$ typically increases slowly with $n$, $\\sigma(n)$ tends to grow faster due to the summing of divisors. For most integers $n$, we will not find $\\tau(n) = \\sigma(n)$ because $\\sigma(n)$ generally exceeds $\\tau(n)$."
   ]
  }
 ],
 "metadata": {
  "kernelspec": {
   "display_name": "SageMath 10.4",
   "language": "sage",
   "name": "sagemath"
  },
  "language_info": {
   "codemirror_mode": {
    "name": "ipython",
    "version": 3
   },
   "file_extension": ".py",
   "mimetype": "text/x-python",
   "name": "python",
   "nbconvert_exporter": "python",
   "pygments_lexer": "ipython3",
   "version": "3.11.2"
  }
 },
 "nbformat": 4,
 "nbformat_minor": 5
}
