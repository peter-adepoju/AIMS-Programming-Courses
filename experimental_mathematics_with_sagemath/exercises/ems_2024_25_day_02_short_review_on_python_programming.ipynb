{
 "cells": [
  {
   "cell_type": "markdown",
   "metadata": {},
   "source": [
    "<img src=\"./images/aims-za-logo.jpeg\" alt=\"drawing\" style=\"width:400px;\"/>\n",
    "<h1 style=\"text-align: center;\"><a title=\"EMS-AIMS-ZA-2024-25\" href=\"https://evansdoe.github.io/aims-za/ems/2024-25\">Experimental Mathematics Using SageMath — AIMS-ZA-2024-25</a></h1>\n",
    "\n",
    "\n",
    "## Instructors: \n",
    "\n",
    "* <a href=\"http://evansdoe.github.io\">**Evans Ocansey**</a>"
   ]
  },
  {
   "cell_type": "markdown",
   "metadata": {},
   "source": [
    "****\n",
    "\n",
    "<!--NAVIGATION-->\n",
    "<  [1. Introduction to _Sagemath_](ems_2020_day_01_introduction_to_sagemath.ipynb)| [Table of contents](ems_2020_table_of_contents.ipynb) | [3. Sum of squares and plotting](ems_2020_day_03_sum_of_squares_and_plotting.ipynb) >\n",
    "\n",
    "\n",
    "****"
   ]
  },
  {
   "cell_type": "markdown",
   "metadata": {},
   "source": [
    "## Day 02 — Short Review on [Python](http://www.python.org) Programming<a class=\"anchor\" id=\"short-review-on-python-programming\"></a>\n",
    "\n",
    "[comment]: <> (<h2 style=\"text-align: left;\">Day 02 — Introduction to <a title=\"SageMath\"href=\"http://www.sagemath.org/\"><em>SageMath</em></a>: A Mathematics Software for All</h2>)\n",
    "\n",
    "\n",
    "\n",
    "The outline of the this notebook is as follows:"
   ]
  },
  {
   "cell_type": "markdown",
   "metadata": {},
   "source": [
    "## Table of Contents: <a class=\"anchor\" id=\"day-02-toc\"></a>\n",
    "* [ ] [<font color=blue>Python Programming Constructs — Revision</font>](#python-programming-constructs)\n",
    "* [ ] [<font color=blue>Algorithmics </font>](#algorithmics)\n",
    "   *  [<font color=blue>Loops</font>](#loops)\n",
    "     * [<font color=blue>For Loops</font>](#for-loops)\n",
    "       * [<font color=green>Exercise 4</font>](#exercise-4)\n",
    "       * [<font color=green>Exercise 5</font>](#exercise-5)\n",
    "   * [ ] [<font color=blue>While Loops</font>](#while-loops)\n",
    "      *  [<font color=green>Exercise 6</font>](#exercise-6)\n",
    "   * [ ] [<font color=blue>Conditionals</font>](#conditionals)\n",
    "      *  [<font color=green>Exercise 7</font>](#exercise-7)\n",
    "   * [ ] [<font color=blue>Functions and Procedures</font>](#functions-and-procedures)\n",
    "      * [<font color=green>Exercise 8</font>](#exercise-8)\n",
    "      * [<font color=green>Exercise 9</font>](#exercise-9)\n",
    "      * [<font color=green>Exercise 10</font>](#exercise-10)\n",
    "   * [ ] [<font color=blue>Lambda Functions</font>](#lambda-functions)\n",
    "      * [<font color=green>Exercise 11</font>](#exercise-11)\n",
    "   * [ ] [<font color=blue>Recursive Functions</font>](#recursive-functions)\n",
    "      * [<font color=green>Exercise 12</font>](#exercise-12)\n",
    "      * [<font color=green>Exercise 13</font>](#exercise-13)\n",
    "      * [<font color=green>Exercise 14</font>](#exercise-14)\n",
    "      * [<font color=green>Exercise 15</font>](#exercise-15)\n",
    "      * [<font color=green>Exercise 16</font>](#exercise-16)\n",
    "      * [<font color=green>Exercise 17</font>](#exercise-17)\n",
    "      * [<font color=green>Exercise 18</font>](#exercise-18)\n",
    "* [ ] [<font color=blue>Graphics in Two Dimensions</font>](#2d-graphics)\n",
    "   *  [<font color=blue>Data Plot </font>](#data-plot) \n",
    "   *  [<font color=blue>More on plotting</font>](#more-on-plotting)"
   ]
  },
  {
   "cell_type": "markdown",
   "metadata": {},
   "source": [
    "## Python Programming Constructs — Revision <a class = \"anchor\" id=\"python-programming-constructs\"></a>\n",
    "\n",
    "\n",
    "The [notebook for the first lecture](./ems_2024_25_day_01_introduction_to_sagemath.ipynb) introduced some basic mathematical computations using _SageMath_. Among the many things that one can do with _SageMath_ include the execution of a sequence of instructions. You many have observed this in the yesterday's notebook. The _SageMath_ computer algebra system is in fact an extension of the Python programming language, and allows, with a few exceptions, the use of Python programming constructs. In this notebook, we will briefly revise some programming constructs and use the Python programming language within _SageMath_ in inplementing these constructs. You should be aware of most of these from your Python class.\n",
    "\n",
    "\n",
    "Recall from yesterday's lecture that although we can use Python's keywords as variable or function names, it is however a very bad practise and should be avioded. See [Subsection 4.3 of yesterday's notebook](./ems_2024_25_day_01_introduction_to_sagemath.ipynb#python-variables). This statement also applies to Python/_SageMath_ functions as well. \n",
    "\n",
    "The list of keywords is available by:"
   ]
  },
  {
   "cell_type": "code",
   "execution_count": 1,
   "metadata": {},
   "outputs": [
    {
     "data": {
      "text/plain": [
       "['False',\n",
       " 'None',\n",
       " 'True',\n",
       " 'and',\n",
       " 'as',\n",
       " 'assert',\n",
       " 'async',\n",
       " 'await',\n",
       " 'break',\n",
       " 'class',\n",
       " 'continue',\n",
       " 'def',\n",
       " 'del',\n",
       " 'elif',\n",
       " 'else',\n",
       " 'except',\n",
       " 'finally',\n",
       " 'for',\n",
       " 'from',\n",
       " 'global',\n",
       " 'if',\n",
       " 'import',\n",
       " 'in',\n",
       " 'is',\n",
       " 'lambda',\n",
       " 'nonlocal',\n",
       " 'not',\n",
       " 'or',\n",
       " 'pass',\n",
       " 'raise',\n",
       " 'return',\n",
       " 'try',\n",
       " 'while',\n",
       " 'with',\n",
       " 'yield']"
      ]
     },
     "execution_count": 1,
     "metadata": {},
     "output_type": "execute_result"
    }
   ],
   "source": [
    "import keyword; keyword.kwlist"
   ]
  },
  {
   "cell_type": "markdown",
   "metadata": {},
   "source": [
    "### Algorithmics <a class = \"anchor\" id=\"algorithmics\"></a>\n",
    "\n",
    "The paradigm of _structured programming_ consists in designing a computer program as a finite sequence of instructions, which are executed in order. Those instructions can be _atomic_ or _composed_: \n",
    "   * an example of atomic instruction is the assignment of a value to a variable; \n",
    "   * a composed instruction, like a loop or a conditional, is made up from several instructions, themselves atomic or composed."
   ]
  },
  {
   "cell_type": "markdown",
   "metadata": {},
   "source": [
    "### Loops  <a class = \"anchor\" id=\"loops\"></a>\n",
    "\n",
    "Suppose we want to perform an operation for a finite number of times. Then this can be done with the keyword `for` or `while`. Let's see each of them separately. Note that indentation is crucial when using these _SageMath_ or Python keywords."
   ]
  },
  {
   "cell_type": "markdown",
   "metadata": {},
   "source": [
    "#### For Loops <a class=\"anchor\" id=\"for-loops\"></a>\n",
    "\n",
    "We use `for` loops when the number of iterations is already known. The construction in _SageMath_ or Python is as follows:\n",
    "\n",
    "    for <loop variable> in <iteratable object>:\n",
    "        <indented block of code>\n",
    "\n",
    "In the example below, we compute $7\\,k$ for $k\\in\\{1,2,3,4,5\\}$ use `for` loop."
   ]
  },
  {
   "cell_type": "code",
   "execution_count": 2,
   "metadata": {},
   "outputs": [
    {
     "data": {
      "text/plain": [
       "[1, 2, 3, 4, 5]"
      ]
     },
     "execution_count": 2,
     "metadata": {},
     "output_type": "execute_result"
    }
   ],
   "source": [
    "a = [1..5]; type(a); a"
   ]
  },
  {
   "cell_type": "code",
   "execution_count": 3,
   "metadata": {},
   "outputs": [
    {
     "data": {
      "text/plain": [
       "[1, 2, 3, 4, 5]"
      ]
     },
     "execution_count": 3,
     "metadata": {},
     "output_type": "execute_result"
    }
   ],
   "source": [
    "list(range(1,6))"
   ]
  },
  {
   "cell_type": "code",
   "execution_count": 4,
   "metadata": {},
   "outputs": [
    {
     "name": "stdout",
     "output_type": "stream",
     "text": [
      "7\n",
      "14\n",
      "21\n",
      "28\n",
      "35\n"
     ]
    }
   ],
   "source": [
    "for k in [1..5]:\n",
    "    print(7*k) # block containing a single instruction"
   ]
  },
  {
   "cell_type": "markdown",
   "metadata": {},
   "source": [
    "In this example, the repeated instruction block contains a single instruction (namely `print`), which is indented to the right with respect to the `for` keyword. A block with several instructions has its instructions written one below the other, with the same indentation.\n",
    "\n",
    "The block positioning is important: the two programs below, which differ in the indentation of a single line, yield different results."
   ]
  },
  {
   "cell_type": "code",
   "execution_count": 5,
   "metadata": {},
   "outputs": [
    {
     "data": {
      "text/plain": [
       "12"
      ]
     },
     "execution_count": 5,
     "metadata": {},
     "output_type": "execute_result"
    }
   ],
   "source": [
    "S = 0\n",
    "for k in [1..3]:\n",
    "    S = S+k\n",
    "S = 2*S\n",
    "S"
   ]
  },
  {
   "cell_type": "markdown",
   "metadata": {},
   "source": [
    "Note that in the cell above, the instruction **S = 2*S** is executed only once at the end of the loop. More precisely, the computations are as follows: $$S = (0 + 1 + 2 + 3) · 2 = 12.$$\n",
    "\n",
    "The code in the cell above is different of from the code in the cell below:"
   ]
  },
  {
   "cell_type": "code",
   "execution_count": 6,
   "metadata": {},
   "outputs": [
    {
     "data": {
      "text/plain": [
       "22"
      ]
     },
     "execution_count": 6,
     "metadata": {},
     "output_type": "execute_result"
    }
   ],
   "source": [
    "S = 0\n",
    "for k in [1..3]:\n",
    "    S = S+k\n",
    "    S = 2*S\n",
    "S"
   ]
  },
  {
   "cell_type": "markdown",
   "metadata": {},
   "source": [
    "In the cell above, the instruction **S = 2*S** is executed NOT only once as the the first case, but it is executed at every iteration. The computations performed there is as follows: $$S = ((((0 + 1) · 2) + 2) · 2 + 3) · 2 = 22.$$ \n",
    "\n",
    "This exaplains why the results are different."
   ]
  },
  {
   "cell_type": "code",
   "execution_count": 7,
   "metadata": {},
   "outputs": [],
   "source": [
    "#%display latex # this is just for nice print out like in LaTeX"
   ]
  },
  {
   "cell_type": "markdown",
   "metadata": {},
   "source": [
    "> #####  <font color= green>Exercise 4:</font> <a class=\"anchor\" id=\"exercise-4\"></a>\n",
    "Compute determinant of the power of the matrix $A = \\left(\\begin{array}{rr}1 & \\frac{2}{3} \\\\ \\frac{2}{5} & \\frac{7}{9}\\end{array}\\right)^{i}$ defined over $\\mathbb{Q}$ for $0\\le i\\le 3$ using Python's `for` loop construct and for each $i$ print the determinant of $A^{i}$."
   ]
  },
  {
   "cell_type": "code",
   "execution_count": null,
   "metadata": {},
   "outputs": [],
   "source": []
  },
  {
   "cell_type": "code",
   "execution_count": null,
   "metadata": {},
   "outputs": [],
   "source": []
  },
  {
   "cell_type": "markdown",
   "metadata": {},
   "source": [
    "<!--\n",
    "matrix_A = matrix(QQ, 2, [1, 2/3, 2/5, 7/9]); \n",
    "\n",
    "for int_exp in [0..3]:\n",
    "    \n",
    "    print((matrix_A^int_exp).det())\n",
    "-->"
   ]
  },
  {
   "cell_type": "markdown",
   "metadata": {},
   "source": [
    ">####  <font color=green>Exercise 5:</font> <a class=\"anchor\" id=\"exercise-5\"></a>\n",
    "Consider the sequence $(u_{n})$ defined by $$u_{0}=1.0, \\quad \\forall\\, n \\in \\mathbb{N}, \\, u_{n+1}=\\frac{1}{2+u_{n}^{2}}.$$ What is the value of $u_{20}$? Try to use Python's `for` loop construct."
   ]
  },
  {
   "cell_type": "code",
   "execution_count": 8,
   "metadata": {},
   "outputs": [
    {
     "data": {
      "text/plain": [
       "y^2 + 3*z^2"
      ]
     },
     "execution_count": 8,
     "metadata": {},
     "output_type": "execute_result"
    }
   ],
   "source": [
    "SR.var('y')^2 + 3 * SR.var('z')^2"
   ]
  },
  {
   "cell_type": "code",
   "execution_count": 9,
   "metadata": {},
   "outputs": [
    {
     "data": {
      "text/plain": [
       "y"
      ]
     },
     "execution_count": 9,
     "metadata": {},
     "output_type": "execute_result"
    }
   ],
   "source": [
    "z = SR.var('y'); z"
   ]
  },
  {
   "cell_type": "markdown",
   "metadata": {},
   "source": [
    "<!--\n",
    "u = 1.0\n",
    "\n",
    "for n in [0..20]:\n",
    "    u = 1/(2 + u^2)\n",
    "u\n",
    "-->"
   ]
  },
  {
   "cell_type": "markdown",
   "metadata": {},
   "source": [
    "#### While Loops <a class=\"anchor\" id=\"while-loops\"></a>\n",
    "\n",
    "The `while` loop, as its name says, executes instructions while a given condition is fulfilled. In the case of `while` loops, the number of iterations is unknown apriori. It has the following construct:\n",
    "\n",
    "    while <condition>:\n",
    "        <indented block of code>\n",
    "        \n",
    "The next cell demonstrates an example of a `while` loop that computes the sum of squares of non-negative integers whose exponential is less than or equal to $10^{6}$. That is,  $$\\sum_{k\\in\\mathbb{N} \\text{ and } e^{k}\\leq10^{6}} k^{2} = 1^2 + 2^2 + \\cdots + 13^2 =  819.$$"
   ]
  },
  {
   "cell_type": "code",
   "execution_count": 10,
   "metadata": {},
   "outputs": [
    {
     "name": "stdout",
     "output_type": "stream",
     "text": [
      "0\n",
      "1\n",
      "5\n",
      "14\n",
      "30\n",
      "55\n",
      "91\n",
      "140\n",
      "204\n",
      "285\n",
      "385\n",
      "506\n",
      "650\n",
      "819\n"
     ]
    },
    {
     "data": {
      "text/plain": [
       "819"
      ]
     },
     "execution_count": 10,
     "metadata": {},
     "output_type": "execute_result"
    }
   ],
   "source": [
    "my_sum = 0; k = 0              # The sum my_sum starts to 0\n",
    "while e^k<=10^6:               # e^13 <= 10^6 < e^14\n",
    "    my_sum = my_sum + k^2\n",
    "    print(my_sum)\n",
    "    k = k+1\n",
    "my_sum"
   ]
  },
  {
   "cell_type": "markdown",
   "metadata": {},
   "source": [
    "The above instruction block contains two assignment statements: the first one, `my_sum = my_sum + k^2`, accumulates the new term, and the second one, `k = k + 1`, is the counter which  moves to the next index. Those two instructions are indented in the same way inside the `while` loop structure."
   ]
  },
  {
   "cell_type": "markdown",
   "metadata": {},
   "source": [
    ">#####  <font color=green>Exercise 6:</font> <a class=\"anchor\" id=\"exercise-6\"></a>\n",
    "Use Python's `while` loop construct to answer <a href=\"#exercise-4\"><b><font color=green>Exercise 4</font></b></a>."
   ]
  },
  {
   "cell_type": "code",
   "execution_count": null,
   "metadata": {},
   "outputs": [],
   "source": []
  },
  {
   "cell_type": "code",
   "execution_count": null,
   "metadata": {},
   "outputs": [],
   "source": []
  },
  {
   "cell_type": "markdown",
   "metadata": {},
   "source": [
    "<!-- \n",
    "matrix_A = matrix(QQ, 2, [1, 2/3, 2/5, 7/9]);\n",
    "\n",
    "int_exp = 0\n",
    "\n",
    "while int_exp <= 3:\n",
    "    print(det(matrix_A^(int_exp)))\n",
    "    int_exp += 1\n",
    "-->"
   ]
  },
  {
   "cell_type": "markdown",
   "metadata": {},
   "source": [
    "### Conditionals <a class=\"anchor\" id=\"conditionals\"></a>\n",
    "\n",
    "The decision structure is to run something in the event that a condition is true. Decision structures evaluate multiple expressions which produce *TRUE* or *FALSE* as result. You need to determine which action to take and which statements to execute if outcome is *TRUE* or *FALSE* otherwise.\n",
    "\n",
    "That said, these comparisons can be placed inside of an `if` statement. Such statements have the following form:\n",
    "\n",
    "    if <condition>:\n",
    "        <indented block of code>\n",
    "\n",
    "\n",
    "The indented code will only be execute if the condition evaulates to *True*, which is a special boolean value."
   ]
  },
  {
   "cell_type": "code",
   "execution_count": 11,
   "metadata": {},
   "outputs": [
    {
     "name": "stdout",
     "output_type": "stream",
     "text": [
      "2\n"
     ]
    }
   ],
   "source": [
    "num = 4\n",
    "if num % 2 == 0 and num != 0:\n",
    "    print(num/2)"
   ]
  },
  {
   "cell_type": "markdown",
   "metadata": {},
   "source": [
    "The `if` statement can be combined to great effect with a corresponding `else` clause. The _SageMath_/Python construct is as follows:\n",
    "\n",
    "    if <condition>:\n",
    "        <if block of code>\n",
    "    else:\n",
    "        <else block of code>\n",
    "\n",
    "When the condition is *True* the `if`-block of code is executed. When the condition is *False* the `else`-block of code is executed instead. Here is an example of an `if`-`else` block of Python code."
   ]
  },
  {
   "cell_type": "code",
   "execution_count": 13,
   "metadata": {},
   "outputs": [
    {
     "name": "stdout",
     "output_type": "stream",
     "text": [
      "16\n"
     ]
    }
   ],
   "source": [
    "num = 5\n",
    "if num % 2 == 0 and num != 0:\n",
    "    print(num/2)\n",
    "else:\n",
    "    print(3*num + 1)"
   ]
  },
  {
   "cell_type": "markdown",
   "metadata": {},
   "source": [
    "Using the keyword `elif` we can even add more conditions between the `if` block of code and the `else` block of code. There can be more than one `elif`. This is how the syntax looks like:\n",
    "\n",
    "    if <condition-1>:\n",
    "        <if block of code>\n",
    "    elif <condition-2>:\n",
    "        <first elif block of code>\n",
    "    elif <condition-3>:\n",
    "        <second elif block of code>\n",
    "    else:\n",
    "        <else-block of code>\n",
    "        \n",
    "Here is an example of an __if__-__elif__-__else__ block of Python code."
   ]
  },
  {
   "cell_type": "code",
   "execution_count": 14,
   "metadata": {},
   "outputs": [
    {
     "name": "stdout",
     "output_type": "stream",
     "text": [
      "I am zero.\n"
     ]
    }
   ],
   "source": [
    "num = 0\n",
    "if num % 2 == 0 and num != 0:\n",
    "    print(num/2)\n",
    "elif num % 2 == 1 and num != 0:\n",
    "    print(3*num + 1)\n",
    "else:\n",
    "    print('I am zero.')"
   ]
  },
  {
   "cell_type": "markdown",
   "metadata": {},
   "source": [
    ">#####  <font color=green>Exercise 7:</font> <a class=\"anchor\" id=\"exercise-7\"></a>\n",
    "Given the quadratic equation $a\\,x^{2}+b\\,x+c=0$, with $a=1, b=5, c=-6$ compute its discriminant, ${\\rm d}=b^{2}-4\\,a\\,c$ and write a Python `if-elif-elif-else` construct that does the following:  \n",
    "> - If the discriminant, ${\\rm d}=0$, then print the statement \"The roots of your equation are real and equal\"\n",
    "> - If the discriminant, ${\\rm d}>0$, then print the statement \"The roots of your equation are real and distinct\"\n",
    "> - If the discriminant, ${\\rm d}<0$, then print the statement \"The roots of your equation are complex conjugates\". \n",
    ">\n",
    ">Then finally print the roots of the equation."
   ]
  },
  {
   "cell_type": "code",
   "execution_count": null,
   "metadata": {},
   "outputs": [],
   "source": []
  },
  {
   "cell_type": "code",
   "execution_count": null,
   "metadata": {},
   "outputs": [],
   "source": []
  },
  {
   "cell_type": "markdown",
   "metadata": {},
   "source": [
    "<!--\n",
    "a = 1; b = 5; c = -6\n",
    "\n",
    "my_disc = b^2 - 4 * a * c\n",
    "\n",
    "if my_disc == 0:\n",
    "    print(\"The roots of your equation are real and equal\")\n",
    "elif my_disc > 0:\n",
    "    print(\"The roots of your equation are real and distinct\")\n",
    "else:\n",
    "    print(\"The roots of your equation are complex conjugates\")\n",
    "-->"
   ]
  },
  {
   "cell_type": "markdown",
   "metadata": {},
   "source": [
    "### Functions and Procedures <a class=\"anchor\" id=\"functions-and-procedures\"></a>\n",
    "\n",
    "One can use _SageMath_ to define procedures or functions using the Python keyword `def` whose syntax will be detailed below for both procedures and functions. We call a function (resp. procedure) a sub-program with zero or at least one argument, or an optional parameter which returns  a result (resp. does not return). The construct for a SageMath/Python procedure is as follows:\n",
    "\n",
    "    def <name of procedure>:\n",
    "        <block of code>"
   ]
  },
  {
   "cell_type": "markdown",
   "metadata": {},
   "source": [
    "####  <font color=green>Exercise 8:</font> <a class=\"anchor\" id=\"exercise-8\"></a>\n",
    "\n",
    "Write a _SageMath_/_Python_ procedure with the name `i_am_a_procedure` that prints $5$."
   ]
  },
  {
   "cell_type": "code",
   "execution_count": 15,
   "metadata": {},
   "outputs": [],
   "source": [
    "def i_am_a_procedure():\n",
    "    \"\"\"\n",
    "    This prints 5.\n",
    "    \"\"\"\n",
    "    print(5)"
   ]
  },
  {
   "cell_type": "code",
   "execution_count": 16,
   "metadata": {},
   "outputs": [
    {
     "data": {
      "text/plain": [
       "\u001b[0;31mSignature:\u001b[0m \u001b[0mi_am_a_procedure\u001b[0m\u001b[0;34m(\u001b[0m\u001b[0;34m)\u001b[0m\u001b[0;34m\u001b[0m\u001b[0;34m\u001b[0m\u001b[0m\n",
       "\u001b[0;31mDocstring:\u001b[0m    This prints 5.\n",
       "\u001b[0;31mSource:\u001b[0m   \n",
       "\u001b[0;32mdef\u001b[0m \u001b[0mi_am_a_procedure\u001b[0m\u001b[0;34m(\u001b[0m\u001b[0;34m)\u001b[0m\u001b[0;34m:\u001b[0m\u001b[0;34m\u001b[0m\n",
       "\u001b[0;34m\u001b[0m    \u001b[0;34m\"\"\"\u001b[0m\n",
       "\u001b[0;34m    This prints 5.\u001b[0m\n",
       "\u001b[0;34m    \"\"\"\u001b[0m\u001b[0;34m\u001b[0m\n",
       "\u001b[0;34m\u001b[0m    \u001b[0mprint\u001b[0m\u001b[0;34m(\u001b[0m\u001b[0mInteger\u001b[0m\u001b[0;34m(\u001b[0m\u001b[0;36m5\u001b[0m\u001b[0;34m)\u001b[0m\u001b[0;34m)\u001b[0m\u001b[0;34m\u001b[0m\u001b[0;34m\u001b[0m\u001b[0m\n",
       "\u001b[0;31mFile:\u001b[0m      /tmp/ipykernel_168414/2080918604.py\n",
       "\u001b[0;31mType:\u001b[0m      function"
      ]
     },
     "metadata": {},
     "output_type": "display_data"
    }
   ],
   "source": [
    "i_am_a_procedure??"
   ]
  },
  {
   "cell_type": "code",
   "execution_count": 17,
   "metadata": {},
   "outputs": [
    {
     "name": "stdout",
     "output_type": "stream",
     "text": [
      "5\n"
     ]
    }
   ],
   "source": [
    "proc_val = i_am_a_procedure(); proc_val"
   ]
  },
  {
   "cell_type": "code",
   "execution_count": 18,
   "metadata": {},
   "outputs": [
    {
     "name": "stdout",
     "output_type": "stream",
     "text": [
      "None\n"
     ]
    }
   ],
   "source": [
    "print(proc_val)"
   ]
  },
  {
   "cell_type": "markdown",
   "metadata": {},
   "source": [
    "<!--\n",
    "def i_am_a_procedure():\n",
    "    \"\"\"\n",
    "    This function only prints the number 5.\n",
    "    \"\"\"\n",
    "    print(5)\n",
    "-->"
   ]
  },
  {
   "cell_type": "markdown",
   "metadata": {},
   "source": [
    "On the other hand, a SageMath/Python function is as follows.\n",
    "\n",
    "    def <function name>(<argument>):\n",
    "        <block of code>\n",
    "        return <local variable>"
   ]
  },
  {
   "cell_type": "markdown",
   "metadata": {},
   "source": [
    ">####  <font color=green>Exercise 9:</font> <a class=\"anchor\" id=\"exercise-9\"></a>\n",
    ">\n",
    ">Let's create a Sage/Python function with the name `i_am_a_function` that returns $3$."
   ]
  },
  {
   "cell_type": "code",
   "execution_count": null,
   "metadata": {},
   "outputs": [],
   "source": []
  },
  {
   "cell_type": "code",
   "execution_count": 19,
   "metadata": {},
   "outputs": [
    {
     "ename": "NameError",
     "evalue": "name 'i_am_a_function' is not defined",
     "output_type": "error",
     "traceback": [
      "\u001b[0;31m---------------------------------------------------------------------------\u001b[0m",
      "\u001b[0;31mNameError\u001b[0m                                 Traceback (most recent call last)",
      "Cell \u001b[0;32mIn[19], line 1\u001b[0m\n\u001b[0;32m----> 1\u001b[0m func_val \u001b[38;5;241m=\u001b[39m i_am_a_function(); func_val\n",
      "\u001b[0;31mNameError\u001b[0m: name 'i_am_a_function' is not defined"
     ]
    }
   ],
   "source": [
    "func_val = i_am_a_function(); func_val"
   ]
  },
  {
   "cell_type": "markdown",
   "metadata": {},
   "source": [
    "<!--\n",
    "def i_am_a_function():\n",
    "    r\"\"\"\n",
    "    This function returns 5.\n",
    "    \"\"\"\n",
    "    return 5\n",
    "-->"
   ]
  },
  {
   "cell_type": "markdown",
   "metadata": {},
   "source": [
    ">#####  <font color=green>Exercise 10:</font> <a class=\"anchor\" id=\"exercise-10\"></a>\n",
    ">\n",
    ">- Write a function with the name `sum_of_squares` that takes two arguments $a$ and $b$ and returns their sum of squares.\n",
    ">- Write a function that takes that computes the roots of a quadratic equation. Your function should print the statements mentioned in <a href=\"#exercise-7\"><font color=green><b>Exercise 7</b></font></a> and return the roots of the quadratic equation."
   ]
  },
  {
   "cell_type": "markdown",
   "metadata": {},
   "source": [
    "### Lambda Functions <a class=\"anchor\" id=\"lambda-functions\"></a>\n",
    "\n",
    "Sometimes you don't want to go to all the trouble of making a function (for instance, because it makes things more complex), but you nonetheless need a function. *SageMath* or Python's `lambda` functions are short one-line functions similar to `def` functions which are very helpful in such situations.\n",
    "\n",
    "-   Technical note: `lambda` functions do not create a new local scope, while def functions do.\n",
    "\n",
    "The syntax is very short. The input variables are before the colon, the output is after it."
   ]
  },
  {
   "cell_type": "code",
   "execution_count": 20,
   "metadata": {},
   "outputs": [],
   "source": [
    "f = lambda x, y : x + y"
   ]
  },
  {
   "cell_type": "code",
   "execution_count": 21,
   "metadata": {},
   "outputs": [
    {
     "data": {
      "text/plain": [
       "[1, 3, 2, 4]"
      ]
     },
     "execution_count": 21,
     "metadata": {},
     "output_type": "execute_result"
    }
   ],
   "source": [
    "f(list((1,3)),[2,4])"
   ]
  },
  {
   "cell_type": "markdown",
   "metadata": {},
   "source": [
    "Here is a nice example of using this. With just one line of code, we construct and show a [Paley graph](http://mathworld.wolfram.com/PaleyGraph.html). You don't need to know what this is to agree it is powerful."
   ]
  },
  {
   "cell_type": "code",
   "execution_count": 22,
   "metadata": {},
   "outputs": [
    {
     "data": {
      "image/png": "[encoded data removed]",
      "text/plain": [
       "Graph on 13 vertices"
      ]
     },
     "execution_count": 22,
     "metadata": {},
     "output_type": "execute_result"
    }
   ],
   "source": [
    "cyclic_graph = Graph([GF(13), lambda i, j: i!=j and (i-j).is_square()], pos = dict([i, [cos(2*pi*i/13).n(), sin(2*pi*i/13).n()]] for i in range(13)))\n",
    "\n",
    "cyclic_graph"
   ]
  },
  {
   "cell_type": "markdown",
   "metadata": {},
   "source": [
    ">#####  <font color=green>Exercise 11:</font> <a class=\"anchor\" id=\"exercise-11\"></a>\n",
    ">\n",
    ">Write 2 lambda functions namely `sum_of_2_squares_lambda` and `sum_of_2_squares_lambda_with_default_args` that perfom the following tasks:\n",
    ">\n",
    ">1.  takes two arguments a and b and returns the sum of their squares, just like <a href=\"#exercise-10\"><b><font color=green>Exercise 10</font></b></a>.\n",
    ">2.  takes two defualt arguments `a = 3` and `b = 4` and returns the sum of their squares."
   ]
  },
  {
   "cell_type": "code",
   "execution_count": null,
   "metadata": {},
   "outputs": [],
   "source": []
  },
  {
   "cell_type": "code",
   "execution_count": null,
   "metadata": {},
   "outputs": [],
   "source": []
  },
  {
   "cell_type": "code",
   "execution_count": null,
   "metadata": {},
   "outputs": [],
   "source": []
  },
  {
   "cell_type": "code",
   "execution_count": null,
   "metadata": {},
   "outputs": [],
   "source": []
  },
  {
   "cell_type": "code",
   "execution_count": null,
   "metadata": {},
   "outputs": [],
   "source": []
  },
  {
   "cell_type": "markdown",
   "metadata": {},
   "source": [
    "<!--\n",
    "sum_of_2_squares_lambda = lambda a, b = a^2 + b^2; \n",
    "\n",
    "sum_of_2_squares_lambda_with_default_args = lambda a = 3, b = 4 : a^2 + b^2\n",
    "-->"
   ]
  },
  {
   "cell_type": "markdown",
   "metadata": {},
   "source": [
    "### Recursive Functions <a class=\"anchor\" id=\"recursive-functions\"></a>\n",
    "\n",
    "One of the greatest features of functions is that they may call themselves from within their own bodies! This is known as recursion. Let us give an example. "
   ]
  },
  {
   "cell_type": "code",
   "execution_count": 23,
   "metadata": {},
   "outputs": [],
   "source": [
    "def my_len(obj):\n",
    "    r\"\"\"\n",
    "    The number of elements in a list.\n",
    "    \"\"\"\n",
    "    \n",
    "    if isinstance(obj, list):\n",
    "        if obj == []:\n",
    "            return 0\n",
    "        else:\n",
    "            obj.pop()\n",
    "            return 1 + my_len(obj)\n",
    "    else: \n",
    "        print(\"{0} is not a list\".format(obj))"
   ]
  },
  {
   "cell_type": "code",
   "execution_count": 24,
   "metadata": {},
   "outputs": [
    {
     "data": {
      "text/plain": [
       "2"
      ]
     },
     "execution_count": 24,
     "metadata": {},
     "output_type": "execute_result"
    }
   ],
   "source": [
    "my_len([\"a\", \"b\"])"
   ]
  },
  {
   "cell_type": "markdown",
   "metadata": {},
   "source": [
    ">##### <font color=green>Exercise 12:</font> <a class=\"anchor\" id=\"exercise-12\"></a>\n",
    ">\n",
    ">Write a recursive function with the name `add_first_positive_n` to compute $1+2+3+\\cdots+n$ for $n\\ge1$."
   ]
  },
  {
   "cell_type": "code",
   "execution_count": null,
   "metadata": {},
   "outputs": [],
   "source": []
  },
  {
   "cell_type": "code",
   "execution_count": null,
   "metadata": {},
   "outputs": [],
   "source": []
  },
  {
   "cell_type": "markdown",
   "metadata": {},
   "source": [
    "<!--\n",
    "def add_first_positive_n(n):\n",
    "    \"\"\"\n",
    "    \n",
    "    \"\"\"\n",
    "    if n == 1:\n",
    "        return n\n",
    "    else:\n",
    "        return n + add_first_positive_n(n-1)\n",
    "-->"
   ]
  },
  {
   "cell_type": "markdown",
   "metadata": {},
   "source": [
    ">##### <font color=green>Exercise 13:</font> <a class=\"anchor\" id=\"exercise-13\"></a>\n",
    "\n",
    "Write a recursive function -- name it `my_factorial` -- that computes the factorial $n!$ of any positive integer $n$. That is, \n",
    "\n",
    "$$n! = 1 \\times 2 \\times 3 \\times \\cdots \\times n.$$ "
   ]
  },
  {
   "cell_type": "code",
   "execution_count": 25,
   "metadata": {},
   "outputs": [],
   "source": [
    "def my_factorial(n):\n",
    "    \"\"\"\n",
    "    \n",
    "    \"\"\"\n",
    "    pass"
   ]
  },
  {
   "cell_type": "markdown",
   "metadata": {},
   "source": [
    "Test your fuction with the following inputs: $n=10, 50, 100$. Use the Python function `time` or `timeit` to check the real time or best computing time respectively. You may want to read the help documentation for `time` and `timeit` so you will know how they are used or you can also refer to yesterday's notebook."
   ]
  },
  {
   "cell_type": "code",
   "execution_count": 26,
   "metadata": {},
   "outputs": [],
   "source": [
    "# for n = 10\n"
   ]
  },
  {
   "cell_type": "code",
   "execution_count": 27,
   "metadata": {},
   "outputs": [],
   "source": [
    "# for n = 50\n",
    "\n"
   ]
  },
  {
   "cell_type": "code",
   "execution_count": 28,
   "metadata": {},
   "outputs": [],
   "source": [
    "# for n = 100\n",
    "\n"
   ]
  },
  {
   "cell_type": "markdown",
   "metadata": {},
   "source": [
    ">#### <font color=green>Exercise 14:</font> <a class=\"anchor\" id=\"exercise-14\"></a>\n",
    ">\n",
    ">Implement the [Collatz Problem](https://en.wikipedia.org/wiki/Collatz_conjecture)\n",
    ">\n",
    ">$$c(n) := \\begin{cases} \\frac{n}{2} & \\text{if } n \\text{ is even,} \\\\ 3\\,n+1 & \\text{if } n \\text{ is odd and } n > 1, \\\\ 1 & \\text{if } n = 1 \\end{cases}$$\n",
    ">\n",
    ">as a _SageMath_/_Python_ recursive function. Name your function as `collatz_recursion`."
   ]
  },
  {
   "cell_type": "code",
   "execution_count": null,
   "metadata": {},
   "outputs": [],
   "source": []
  },
  {
   "cell_type": "code",
   "execution_count": null,
   "metadata": {},
   "outputs": [],
   "source": []
  },
  {
   "cell_type": "markdown",
   "metadata": {},
   "source": [
    "<!--\n",
    "def collatz_recursion(n):\n",
    "    if n == 1:\n",
    "        return 1\n",
    "    elif n % 2 == 0:\n",
    "        return collatz_recursion(n/2)\n",
    "    else:\n",
    "        return collatz_recursion(3*n + 1)\n",
    "-->"
   ]
  },
  {
   "cell_type": "markdown",
   "metadata": {},
   "source": [
    ">##### <font color=green>Exercise 15:</font> <a class=\"anchor\" id=\"exercise-15\"></a>\n",
    ">\n",
    ">Write a *SageMath*/*Python* procedure with the name `collatz_procedure` using Python's `while` loop construct that implements the Collataz problem but this time around, it prints the sequences that you get. So for example  `collatz_procedure(5)` should print `5, 16, 8, 4, 2, 1`."
   ]
  },
  {
   "cell_type": "code",
   "execution_count": null,
   "metadata": {},
   "outputs": [],
   "source": []
  },
  {
   "cell_type": "code",
   "execution_count": null,
   "metadata": {},
   "outputs": [],
   "source": []
  },
  {
   "cell_type": "code",
   "execution_count": 29,
   "metadata": {},
   "outputs": [],
   "source": [
    "def collatz_procedure(n):\n",
    "    \"\"\"\n",
    "    \n",
    "    \"\"\""
   ]
  },
  {
   "cell_type": "code",
   "execution_count": null,
   "metadata": {},
   "outputs": [],
   "source": []
  },
  {
   "cell_type": "code",
   "execution_count": null,
   "metadata": {},
   "outputs": [],
   "source": []
  },
  {
   "cell_type": "markdown",
   "metadata": {},
   "source": [
    ">##### <font color=green>Exercise 16:</font> <a class=\"anchor\" id=\"exercise-16\"></a>\n",
    "> Fibonacci."
   ]
  },
  {
   "cell_type": "markdown",
   "metadata": {},
   "source": [
    "Something on datatypes and short introduction to graph theory. Definition of simple graph and vertex labelled graph and a Sage demonstration of these."
   ]
  },
  {
   "cell_type": "code",
   "execution_count": null,
   "metadata": {},
   "outputs": [],
   "source": []
  },
  {
   "cell_type": "code",
   "execution_count": null,
   "metadata": {},
   "outputs": [],
   "source": []
  },
  {
   "cell_type": "code",
   "execution_count": null,
   "metadata": {},
   "outputs": [],
   "source": []
  },
  {
   "cell_type": "markdown",
   "metadata": {},
   "source": []
  },
  {
   "cell_type": "code",
   "execution_count": null,
   "metadata": {},
   "outputs": [],
   "source": []
  },
  {
   "cell_type": "markdown",
   "metadata": {},
   "source": [
    "You can create the transpose of this table in several ways, for example, _by hand_, that is, changing the data defining the table:"
   ]
  },
  {
   "cell_type": "code",
   "execution_count": 30,
   "metadata": {},
   "outputs": [
    {
     "data": {
      "text/html": [
       "<div class=\"notruncate\">\n",
       "<table border=\"1\" class=\"table_form\">\n",
       "<tbody>\n",
       "<tr class =\"row-a\">\n",
       "<td class=\"ch\"{style_attr}>\\(x\\)</td>\n",
       "<td style=\"text-align:left\">\\(0\\)</td>\n",
       "<td style=\"text-align:left\">\\(1\\)</td>\n",
       "<td style=\"text-align:left\">\\(2\\)</td>\n",
       "<td style=\"text-align:left\">\\(3\\)</td>\n",
       "</tr>\n",
       "<tr class =\"row-b\">\n",
       "<td class=\"ch\"{style_attr}>\\(\\sin(x)\\)</td>\n",
       "<td style=\"text-align:left\">\\(0.00\\)</td>\n",
       "<td style=\"text-align:left\">\\(0.84\\)</td>\n",
       "<td style=\"text-align:left\">\\(0.91\\)</td>\n",
       "<td style=\"text-align:left\">\\(0.14\\)</td>\n",
       "</tr>\n",
       "</tbody>\n",
       "</table>\n",
       "</div>"
      ],
      "text/plain": [
       "┌───────────╥──────┬──────┬──────┬──────┐\n",
       "│ $x$       ║ 0    | 1    | 2    | 3    |\n",
       "├───────────╫──────┼──────┼──────┼──────┤\n",
       "│ $\\sin(x)$ ║ 0.00 | 0.84 | 0.91 | 0.14 |\n",
       "└───────────╨──────┴──────┴──────┴──────┘"
      ]
     },
     "execution_count": 30,
     "metadata": {},
     "output_type": "execute_result"
    }
   ],
   "source": [
    "table(rows=[[x for x in [0..3]], [n(sin(x), digits=2) for x in [0..3]]], header_column=['$x$', r'$\\sin(x)$'], frame=True)"
   ]
  },
  {
   "cell_type": "markdown",
   "metadata": {},
   "source": [
    "or by passing the original data as the `columns` of the table and using `header_column` instead of `header_row`."
   ]
  },
  {
   "cell_type": "code",
   "execution_count": 31,
   "metadata": {},
   "outputs": [
    {
     "data": {
      "text/html": [
       "<div class=\"notruncate\">\n",
       "<table border=\"1\" class=\"table_form\">\n",
       "<tbody>\n",
       "<tr class =\"row-a\">\n",
       "<td class=\"ch\"{style_attr}>\\(x\\)</td>\n",
       "<td style=\"text-align:left\">\\(0\\)</td>\n",
       "<td style=\"text-align:left\">\\(1\\)</td>\n",
       "<td style=\"text-align:left\">\\(2\\)</td>\n",
       "<td style=\"text-align:left\">\\(3\\)</td>\n",
       "</tr>\n",
       "<tr class =\"row-b\">\n",
       "<td class=\"ch\"{style_attr}>\\(\\sin(x)\\)</td>\n",
       "<td style=\"text-align:left\">\\(0.00\\)</td>\n",
       "<td style=\"text-align:left\">\\(0.84\\)</td>\n",
       "<td style=\"text-align:left\">\\(0.91\\)</td>\n",
       "<td style=\"text-align:left\">\\(0.14\\)</td>\n",
       "</tr>\n",
       "</tbody>\n",
       "</table>\n",
       "</div>"
      ],
      "text/plain": [
       "┌───────────╥──────┬──────┬──────┬──────┐\n",
       "│ $x$       ║ 0    | 1    | 2    | 3    |\n",
       "├───────────╫──────┼──────┼──────┼──────┤\n",
       "│ $\\sin(x)$ ║ 0.00 | 0.84 | 0.91 | 0.14 |\n",
       "└───────────╨──────┴──────┴──────┴──────┘"
      ]
     },
     "execution_count": 31,
     "metadata": {},
     "output_type": "execute_result"
    }
   ],
   "source": [
    "table(columns=[(x,n(sin(x), digits=2)) for x in [0..3]], header_column=['$x$', r'$\\sin(x)$'], frame=True)"
   ]
  },
  {
   "cell_type": "markdown",
   "metadata": {},
   "source": [
    "or by taking the `transpose()` of the original table:"
   ]
  },
  {
   "cell_type": "code",
   "execution_count": 35,
   "metadata": {},
   "outputs": [
    {
     "data": {
      "text/html": [
       "<div class=\"notruncate\">\n",
       "<table border=\"1\" class=\"table_form\">\n",
       "<tbody>\n",
       "<tr class =\"row-a\">\n",
       "<td class=\"ch\"{style_attr}>\\(x\\)</td>\n",
       "<td style=\"text-align:left\">\\(0\\)</td>\n",
       "<td style=\"text-align:left\">\\(1\\)</td>\n",
       "<td style=\"text-align:left\">\\(2\\)</td>\n",
       "<td style=\"text-align:left\">\\(3\\)</td>\n",
       "</tr>\n",
       "<tr class =\"row-b\">\n",
       "<td class=\"ch\"{style_attr}>\\(\\sin(x)\\)</td>\n",
       "<td style=\"text-align:left\">\\(0.00\\)</td>\n",
       "<td style=\"text-align:left\">\\(0.84\\)</td>\n",
       "<td style=\"text-align:left\">\\(0.91\\)</td>\n",
       "<td style=\"text-align:left\">\\(0.14\\)</td>\n",
       "</tr>\n",
       "</tbody>\n",
       "</table>\n",
       "</div>"
      ],
      "text/plain": [
       "┌───────────╥──────┬──────┬──────┬──────┐\n",
       "│ $x$       ║ 0    | 1    | 2    | 3    |\n",
       "├───────────╫──────┼──────┼──────┼──────┤\n",
       "│ $\\sin(x)$ ║ 0.00 | 0.84 | 0.91 | 0.14 |\n",
       "└───────────╨──────┴──────┴──────┴──────┘"
      ]
     },
     "execution_count": 35,
     "metadata": {},
     "output_type": "execute_result"
    }
   ],
   "source": [
    "rows=[(x,n(sin(x), digits=2)) for x in [0..3]]\n",
    "table(rows, header_row=['$x$', r'$\\sin(x)$'], frame=True).transpose()"
   ]
  },
  {
   "cell_type": "code",
   "execution_count": 36,
   "metadata": {},
   "outputs": [
    {
     "data": {
      "text/html": [
       "<div class=\"notruncate\">\n",
       "<table  class=\"table_form\">\n",
       "<tbody>\n",
       "<tr class =\"row-a\">\n",
       "<td style=\"text-align:left\">\\(0\\)</td>\n",
       "<td style=\"text-align:left\">\\(0.00\\)</td>\n",
       "</tr>\n",
       "<tr class =\"row-b\">\n",
       "<td style=\"text-align:left\">\\(1\\)</td>\n",
       "<td style=\"text-align:left\">\\(0.84\\)</td>\n",
       "</tr>\n",
       "<tr class =\"row-a\">\n",
       "<td style=\"text-align:left\">\\(2\\)</td>\n",
       "<td style=\"text-align:left\">\\(0.91\\)</td>\n",
       "</tr>\n",
       "<tr class =\"row-b\">\n",
       "<td style=\"text-align:left\">\\(3\\)</td>\n",
       "<td style=\"text-align:left\">\\(0.14\\)</td>\n",
       "</tr>\n",
       "</tbody>\n",
       "</table>\n",
       "</div>"
      ],
      "text/plain": [
       "  0   0.00\n",
       "  1   0.84\n",
       "  2   0.91\n",
       "  3   0.14"
      ]
     },
     "execution_count": 36,
     "metadata": {},
     "output_type": "execute_result"
    }
   ],
   "source": [
    "table(rows, align='left')"
   ]
  },
  {
   "cell_type": "code",
   "execution_count": 37,
   "metadata": {},
   "outputs": [
    {
     "data": {
      "text/html": [
       "<div class=\"notruncate\">\n",
       "<table  class=\"table_form\">\n",
       "<tbody>\n",
       "<tr class =\"row-a\">\n",
       "<td style=\"text-align:center\">\\(0\\)</td>\n",
       "<td style=\"text-align:center\">\\(0.00\\)</td>\n",
       "</tr>\n",
       "<tr class =\"row-b\">\n",
       "<td style=\"text-align:center\">\\(1\\)</td>\n",
       "<td style=\"text-align:center\">\\(0.84\\)</td>\n",
       "</tr>\n",
       "<tr class =\"row-a\">\n",
       "<td style=\"text-align:center\">\\(2\\)</td>\n",
       "<td style=\"text-align:center\">\\(0.91\\)</td>\n",
       "</tr>\n",
       "<tr class =\"row-b\">\n",
       "<td style=\"text-align:center\">\\(3\\)</td>\n",
       "<td style=\"text-align:center\">\\(0.14\\)</td>\n",
       "</tr>\n",
       "</tbody>\n",
       "</table>\n",
       "</div>"
      ],
      "text/plain": [
       "  0   0.00\n",
       "  1   0.84\n",
       "  2   0.91\n",
       "  3   0.14"
      ]
     },
     "execution_count": 37,
     "metadata": {},
     "output_type": "execute_result"
    }
   ],
   "source": [
    "table(rows, align='center')"
   ]
  },
  {
   "cell_type": "code",
   "execution_count": 38,
   "metadata": {},
   "outputs": [
    {
     "data": {
      "text/html": [
       "<div class=\"notruncate\">\n",
       "<table border=\"1\" class=\"table_form\">\n",
       "<tbody>\n",
       "<tr class =\"row-a\">\n",
       "<td style=\"text-align:right\">\\(0\\)</td>\n",
       "<td style=\"text-align:right\">\\(0.00\\)</td>\n",
       "</tr>\n",
       "<tr class =\"row-b\">\n",
       "<td style=\"text-align:right\">\\(1\\)</td>\n",
       "<td style=\"text-align:right\">\\(0.84\\)</td>\n",
       "</tr>\n",
       "<tr class =\"row-a\">\n",
       "<td style=\"text-align:right\">\\(2\\)</td>\n",
       "<td style=\"text-align:right\">\\(0.91\\)</td>\n",
       "</tr>\n",
       "<tr class =\"row-b\">\n",
       "<td style=\"text-align:right\">\\(3\\)</td>\n",
       "<td style=\"text-align:right\">\\(0.14\\)</td>\n",
       "</tr>\n",
       "</tbody>\n",
       "</table>\n",
       "</div>"
      ],
      "text/plain": [
       "┌───┬──────┐\n",
       "│ 0 | 0.00 |\n",
       "├───┼──────┤\n",
       "│ 1 | 0.84 |\n",
       "├───┼──────┤\n",
       "│ 2 | 0.91 |\n",
       "├───┼──────┤\n",
       "│ 3 | 0.14 |\n",
       "└───┴──────┘"
      ]
     },
     "execution_count": 38,
     "metadata": {},
     "output_type": "execute_result"
    }
   ],
   "source": [
    "table(rows, align='right', frame=True)"
   ]
  },
  {
   "cell_type": "markdown",
   "metadata": {},
   "source": [
    "To generate HTML you should use `html(table(...))`:"
   ]
  },
  {
   "cell_type": "code",
   "execution_count": 40,
   "metadata": {},
   "outputs": [
    {
     "data": {
      "text/html": [
       "<div class=\"notruncate\">\n",
       "<table border=\"1\" class=\"table_form\">\n",
       "<tbody>\n",
       "<tr>\n",
       "<th style=\"text-align:left\">\\(x\\)</th>\n",
       "<th style=\"text-align:left\">\\(\\sin(x)\\)</th>\n",
       "</tr>\n",
       "<tr class =\"row-a\">\n",
       "<td style=\"text-align:left\">\\(0\\)</td>\n",
       "<td style=\"text-align:left\">\\(0.00\\)</td>\n",
       "</tr>\n",
       "<tr class =\"row-b\">\n",
       "<td style=\"text-align:left\">\\(1\\)</td>\n",
       "<td style=\"text-align:left\">\\(0.84\\)</td>\n",
       "</tr>\n",
       "<tr class =\"row-a\">\n",
       "<td style=\"text-align:left\">\\(2\\)</td>\n",
       "<td style=\"text-align:left\">\\(0.91\\)</td>\n",
       "</tr>\n",
       "<tr class =\"row-b\">\n",
       "<td style=\"text-align:left\">\\(3\\)</td>\n",
       "<td style=\"text-align:left\">\\(0.14\\)</td>\n",
       "</tr>\n",
       "</tbody>\n",
       "</table>\n",
       "</div>"
      ],
      "text/plain": [
       "<div class=\"notruncate\">\n",
       "<table border=\"1\" class=\"table_form\">\n",
       "<tbody>\n",
       "<tr>\n",
       "<th style=\"text-align:left\">\\(x\\)</th>\n",
       "<th style=\"text-align:left\">\\(\\sin(x)\\)</th>\n",
       "</tr>\n",
       "<tr class =\"row-a\">\n",
       "<td style=\"text-align:left\">\\(0\\)</td>\n",
       "<td style=\"text-align:left\">\\(0.00\\)</td>\n",
       "</tr>\n",
       "<tr class =\"row-b\">\n",
       "<td style=\"text-align:left\">\\(1\\)</td>\n",
       "<td style=\"text-align:left\">\\(0.84\\)</td>\n",
       "</tr>\n",
       "<tr class =\"row-a\">\n",
       "<td style=\"text-align:left\">\\(2\\)</td>\n",
       "<td style=\"text-align:left\">\\(0.91\\)</td>\n",
       "</tr>\n",
       "<tr class =\"row-b\">\n",
       "<td style=\"text-align:left\">\\(3\\)</td>\n",
       "<td style=\"text-align:left\">\\(0.14\\)</td>\n",
       "</tr>\n",
       "</tbody>\n",
       "</table>\n",
       "</div>"
      ]
     },
     "execution_count": 40,
     "metadata": {},
     "output_type": "execute_result"
    }
   ],
   "source": [
    "data = [[\"$x$\", r\"$\\sin(x)$\"]] + [(x,n(sin(x), digits=2)) for x in [0..3]]\n",
    "output = html(table(data, header_row=True, frame=True))\n",
    "output"
   ]
  },
  {
   "cell_type": "code",
   "execution_count": 41,
   "metadata": {},
   "outputs": [
    {
     "data": {
      "text/plain": [
       "<class 'sage.misc.html.HtmlFragment'>"
      ]
     },
     "execution_count": 41,
     "metadata": {},
     "output_type": "execute_result"
    }
   ],
   "source": [
    "type(output)"
   ]
  },
  {
   "cell_type": "markdown",
   "metadata": {},
   "source": [
    "Note that if `rows` is just a list or tuple, not nested, then it is treated as a single row:"
   ]
  },
  {
   "cell_type": "code",
   "execution_count": 42,
   "metadata": {},
   "outputs": [
    {
     "data": {
      "text/html": [
       "<div class=\"notruncate\">\n",
       "<table  class=\"table_form\">\n",
       "<tbody>\n",
       "<tr class =\"row-a\">\n",
       "<td style=\"text-align:left\">\\(1\\)</td>\n",
       "<td style=\"text-align:left\">\\(2\\)</td>\n",
       "<td style=\"text-align:left\">\\(3\\)</td>\n",
       "</tr>\n",
       "</tbody>\n",
       "</table>\n",
       "</div>"
      ],
      "text/plain": [
       "  1   2   3"
      ]
     },
     "execution_count": 42,
     "metadata": {},
     "output_type": "execute_result"
    }
   ],
   "source": [
    "table([1,2,3])"
   ]
  },
  {
   "cell_type": "markdown",
   "metadata": {},
   "source": [
    "Also, if you pass a non-rectangular array, the longer rows or columns get truncated:"
   ]
  },
  {
   "cell_type": "code",
   "execution_count": 43,
   "metadata": {},
   "outputs": [
    {
     "data": {
      "text/html": [
       "<div class=\"notruncate\">\n",
       "<table  class=\"table_form\">\n",
       "<tbody>\n",
       "<tr class =\"row-a\">\n",
       "<td style=\"text-align:left\">\\(1\\)</td>\n",
       "<td style=\"text-align:left\">\\(4\\)</td>\n",
       "</tr>\n",
       "<tr class =\"row-b\">\n",
       "<td style=\"text-align:left\">\\(2\\)</td>\n",
       "<td style=\"text-align:left\">\\(5\\)</td>\n",
       "</tr>\n",
       "<tr class =\"row-a\">\n",
       "<td style=\"text-align:left\">\\(3\\)</td>\n",
       "<td style=\"text-align:left\">\\(6\\)</td>\n",
       "</tr>\n",
       "</tbody>\n",
       "</table>\n",
       "</div>"
      ],
      "text/plain": [
       "  1   4\n",
       "  2   5\n",
       "  3   6"
      ]
     },
     "execution_count": 43,
     "metadata": {},
     "output_type": "execute_result"
    }
   ],
   "source": [
    "table(columns=[[1,2,3], [4,5,6,7]])"
   ]
  },
  {
   "cell_type": "markdown",
   "metadata": {},
   "source": [
    ">##### <font color=green>Exercise 17:</font> <a class=\"anchor\" id=\"exercise-17\"></a>\n",
    ">\n",
    ">1. Draw a [vertex labelled graph](http://mathworld.wolfram.com/LabeledGraph.html) (You may want to draw something simple).\n",
    ">2. Which _Python_ datatype would be best to encode any [vertex labelled graph](http://mathworld.wolfram.com/LabeledGraph.html). \n",
    ">3. Use the _SageMath_ documentation on `Graph` to construct the vertex labelled graph that you drew in part 1.\n",
    ">4. Apply as many methods that you can to the `Graph` object that you created in part 3."
   ]
  },
  {
   "cell_type": "code",
   "execution_count": null,
   "metadata": {},
   "outputs": [],
   "source": []
  },
  {
   "cell_type": "code",
   "execution_count": null,
   "metadata": {},
   "outputs": [],
   "source": []
  },
  {
   "cell_type": "markdown",
   "metadata": {},
   "source": [
    ">##### <font color=green>Exercise 18: Random walk on the graph you defined in <a href=\"#exercise-17\"><b><font color=green>Exercise 17</font></b></a></font> <a class=\"anchor\" id=\"exercise-18\"></a> \n",
    ">\n",
    ">Suppose there is a robot standing on one of the vertices of the graph that you defined in <a href=\"#exercise-17\"><b><font color=green>Exercise 17</font></b></a>. This position can be chosen randomly. Write a python function or a procedure with the name `random_walk_on_graph` that takes a positive integer as input — which is the number of walks made by the robot on the vertices of your graph — and returns a table that records the number of times the robot visited each vertex in your graph. What is the position of the robot at the $50$-th step?  \n",
    ">\n",
    ">__Hint__: Read the help documentation on the _SageMath_ functions `choice` and `table`. You may need them in your code. What did you observe from the tabulated data?"
   ]
  },
  {
   "cell_type": "code",
   "execution_count": 44,
   "metadata": {},
   "outputs": [],
   "source": [
    "def random_walk_on_graph(number_of_walks):\n",
    "    \"\"\"\n",
    "    \n",
    "    \"\"\"\n",
    "    pass"
   ]
  },
  {
   "cell_type": "markdown",
   "metadata": {},
   "source": []
  },
  {
   "cell_type": "code",
   "execution_count": null,
   "metadata": {},
   "outputs": [],
   "source": []
  }
 ],
 "metadata": {
  "kernelspec": {
   "display_name": "SageMath 10.4",
   "language": "sage",
   "name": "sagemath"
  },
  "language": "python",
  "language_info": {
   "codemirror_mode": {
    "name": "ipython",
    "version": 3
   },
   "file_extension": ".py",
   "mimetype": "text/x-python",
   "name": "python",
   "nbconvert_exporter": "python",
   "pygments_lexer": "ipython3",
   "version": "3.11.2"
  },
  "varInspector": {
   "cols": {
    "lenName": 16,
    "lenType": 16,
    "lenVar": 40
   },
   "kernels_config": {
    "python": {
     "delete_cmd_postfix": "",
     "delete_cmd_prefix": "del ",
     "library": "var_list.py",
     "varRefreshCmd": "print(var_dic_list())"
    },
    "r": {
     "delete_cmd_postfix": ") ",
     "delete_cmd_prefix": "rm(",
     "library": "var_list.r",
     "varRefreshCmd": "cat(var_dic_list()) "
    }
   },
   "types_to_exclude": [
    "module",
    "function",
    "builtin_function_or_method",
    "instance",
    "_Feature"
   ],
   "window_display": false
  }
 },
 "nbformat": 4,
 "nbformat_minor": 4
}
