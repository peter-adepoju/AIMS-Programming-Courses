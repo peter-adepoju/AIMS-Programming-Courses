{
 "cells": [
  {
   "cell_type": "code",
   "execution_count": 1,
   "id": "cf1e0603-d2fc-428c-ab78-c22f8a832f68",
   "metadata": {},
   "outputs": [
    {
     "data": {
      "text/plain": [
       "[[8],\n",
       " [7, 1],\n",
       " [6, 2],\n",
       " [6, 1, 1],\n",
       " [5, 3],\n",
       " [5, 2, 1],\n",
       " [5, 1, 1, 1],\n",
       " [4, 4],\n",
       " [4, 3, 1],\n",
       " [4, 2, 2],\n",
       " [4, 2, 1, 1],\n",
       " [4, 1, 1, 1, 1],\n",
       " [3, 3, 2],\n",
       " [3, 3, 1, 1],\n",
       " [3, 2, 2, 1],\n",
       " [3, 2, 1, 1, 1],\n",
       " [3, 1, 1, 1, 1, 1],\n",
       " [2, 2, 2, 2],\n",
       " [2, 2, 2, 1, 1],\n",
       " [2, 2, 1, 1, 1, 1],\n",
       " [2, 1, 1, 1, 1, 1, 1],\n",
       " [1, 1, 1, 1, 1, 1, 1, 1]]"
      ]
     },
     "execution_count": 1,
     "metadata": {},
     "output_type": "execute_result"
    }
   ],
   "source": [
    "list(Partitions(8))"
   ]
  },
  {
   "cell_type": "markdown",
   "id": "19e5343c-f7a5-4a28-8e0b-8644671d82ae",
   "metadata": {},
   "source": [
    "### Keyword — max_slope\n",
    "\n",
    "Using `max_slope=-1`: produce all partitions of an $n$ into distinct parts; that is, each part differs from the next by at least 1. "
   ]
  },
  {
   "cell_type": "code",
   "execution_count": 3,
   "id": "a3edd868-1ade-454b-bfda-1f993058901f",
   "metadata": {},
   "outputs": [
    {
     "data": {
      "text/plain": [
       "[[8], [7, 1], [6, 2], [5, 3], [5, 2, 1], [4, 3, 1]]"
      ]
     },
     "execution_count": 3,
     "metadata": {},
     "output_type": "execute_result"
    }
   ],
   "source": [
    "list(Partitions(8, max_slope = -1))"
   ]
  },
  {
   "cell_type": "markdown",
   "id": "088581dc-b95d-46eb-8a98-fb61aaad0a10",
   "metadata": {},
   "source": [
    "### Keyword — parts_in\n",
    "\n",
    "How about if I want to list all partitions of $n$ with either odd or even parts? I can do that with the `parts_in` option."
   ]
  },
  {
   "cell_type": "code",
   "execution_count": 4,
   "id": "037909ed-57c2-4a44-8294-34cb0dfbd056",
   "metadata": {},
   "outputs": [
    {
     "data": {
      "text/plain": [
       "[[8], [6, 2], [4, 4], [4, 2, 2], [2, 2, 2, 2]]"
      ]
     },
     "execution_count": 4,
     "metadata": {},
     "output_type": "execute_result"
    }
   ],
   "source": [
    "list(Partitions(8, parts_in = [2,4..8])) # all partitions of eight with even parts"
   ]
  },
  {
   "cell_type": "code",
   "execution_count": 5,
   "id": "c34422d0-8b0f-4795-9263-0ed80cf914af",
   "metadata": {},
   "outputs": [
    {
     "data": {
      "text/plain": [
       "[[5], [3, 1, 1], [1, 1, 1, 1, 1]]"
      ]
     },
     "execution_count": 5,
     "metadata": {},
     "output_type": "execute_result"
    }
   ],
   "source": [
    "list(Partitions(5, parts_in = [1,3..7])) # all partitions of five with odd parts"
   ]
  },
  {
   "cell_type": "markdown",
   "id": "b63ee838-bad9-4243-9c1f-5903ddf3cafc",
   "metadata": {},
   "source": [
    "### Keyword — cardinality\n",
    "\n",
    "With the `cardinality` method I can compute the number of such partitions."
   ]
  },
  {
   "cell_type": "code",
   "execution_count": 11,
   "id": "91584a96-ed2e-43cc-9768-62ea89caed17",
   "metadata": {},
   "outputs": [
    {
     "data": {
      "text/plain": [
       "22"
      ]
     },
     "execution_count": 11,
     "metadata": {},
     "output_type": "execute_result"
    }
   ],
   "source": [
    "Partitions(8).cardinality()"
   ]
  },
  {
   "cell_type": "markdown",
   "id": "26678de8-1fab-436e-bf33-eb3b2dff5ecf",
   "metadata": {},
   "source": [
    "### Keyword — min_length\n",
    "\n",
    "With `min_length=k`, I can get those partitions that have at least $k$ parts."
   ]
  },
  {
   "cell_type": "code",
   "execution_count": 9,
   "id": "a1f3b90b-b257-4c23-95df-240ec60422ad",
   "metadata": {},
   "outputs": [
    {
     "data": {
      "text/plain": [
       "[[5, 1, 1, 1],\n",
       " [4, 2, 1, 1],\n",
       " [4, 1, 1, 1, 1],\n",
       " [3, 3, 1, 1],\n",
       " [3, 2, 2, 1],\n",
       " [3, 2, 1, 1, 1],\n",
       " [3, 1, 1, 1, 1, 1],\n",
       " [2, 2, 2, 2],\n",
       " [2, 2, 2, 1, 1],\n",
       " [2, 2, 1, 1, 1, 1],\n",
       " [2, 1, 1, 1, 1, 1, 1],\n",
       " [1, 1, 1, 1, 1, 1, 1, 1]]"
      ]
     },
     "execution_count": 9,
     "metadata": {},
     "output_type": "execute_result"
    }
   ],
   "source": [
    "Partitions(8, min_length=4).list()"
   ]
  },
  {
   "cell_type": "markdown",
   "id": "3fc99594-a6c6-4b6e-8103-7cf09f4aa9ba",
   "metadata": {},
   "source": [
    "### Keyword — min_part\n",
    "\n",
    "`min_part=k`: Those partitions of $n$ whose parts are all greater than or equal to $k$.  "
   ]
  },
  {
   "cell_type": "code",
   "execution_count": 10,
   "id": "02355864-a983-4b9f-a71b-dc20b64a5eba",
   "metadata": {},
   "outputs": [
    {
     "data": {
      "text/plain": [
       "[[8], [5, 3], [4, 4]]"
      ]
     },
     "execution_count": 10,
     "metadata": {},
     "output_type": "execute_result"
    }
   ],
   "source": [
    "Partitions(8, min_part=3).list()"
   ]
  },
  {
   "cell_type": "markdown",
   "id": "eaec15c0-08ac-4e66-b986-7846646f3b5f",
   "metadata": {},
   "source": [
    "### Keyword — length\n",
    "\n",
    "What if I want the number of partitions of $n$ with exactly $k$ parts? We can do this with the `length` option. "
   ]
  },
  {
   "cell_type": "code",
   "execution_count": 12,
   "id": "79f03232-51e0-493a-b1ea-756a28a36eb7",
   "metadata": {},
   "outputs": [
    {
     "data": {
      "text/plain": [
       "[[6, 1, 1], [5, 2, 1], [4, 3, 1], [4, 2, 2], [3, 3, 2]]"
      ]
     },
     "execution_count": 12,
     "metadata": {},
     "output_type": "execute_result"
    }
   ],
   "source": [
    "Partitions(8, length=3).list()"
   ]
  },
  {
   "cell_type": "code",
   "execution_count": 13,
   "id": "1e1c21a2-a3b5-4d13-aa8c-e832bbbd47b3",
   "metadata": {},
   "outputs": [
    {
     "data": {
      "text/plain": [
       "5"
      ]
     },
     "execution_count": 13,
     "metadata": {},
     "output_type": "execute_result"
    }
   ],
   "source": [
    "Partitions(8, length=3).cardinality()"
   ]
  },
  {
   "cell_type": "code",
   "execution_count": null,
   "id": "921d84e9-c6e3-41c2-956e-00dbfc1bc35e",
   "metadata": {},
   "outputs": [],
   "source": []
  },
  {
   "cell_type": "code",
   "execution_count": 7,
   "id": "db6e0bca-59f2-4240-b615-1573c23756bc",
   "metadata": {},
   "outputs": [],
   "source": [
    "number_of_partitions_of_n_with_even_parts = lambda n : Partitions(n, parts_in=[1,3..n]).cardinality()"
   ]
  },
  {
   "cell_type": "code",
   "execution_count": 8,
   "id": "1e264743-f4e5-417e-a5a6-95bae4d02e02",
   "metadata": {},
   "outputs": [],
   "source": [
    "partitions_of_n_with_even_parts = lambda n : Partitions(n, parts_in=[1,3..n]).list()"
   ]
  },
  {
   "cell_type": "code",
   "execution_count": 9,
   "id": "9cf4916c-98d8-4503-99fd-77b6cf714f26",
   "metadata": {},
   "outputs": [
    {
     "data": {
      "text/plain": [
       "10"
      ]
     },
     "execution_count": 9,
     "metadata": {},
     "output_type": "execute_result"
    }
   ],
   "source": [
    "number_of_partitions_of_2n_with_even_parts(10)"
   ]
  },
  {
   "cell_type": "code",
   "execution_count": 10,
   "id": "c65694a5-3e7c-4388-86c4-2d43f3b5488c",
   "metadata": {},
   "outputs": [
    {
     "data": {
      "text/plain": [
       "[[9, 1],\n",
       " [7, 3],\n",
       " [7, 1, 1, 1],\n",
       " [5, 5],\n",
       " [5, 3, 1, 1],\n",
       " [5, 1, 1, 1, 1, 1],\n",
       " [3, 3, 3, 1],\n",
       " [3, 3, 1, 1, 1, 1],\n",
       " [3, 1, 1, 1, 1, 1, 1, 1],\n",
       " [1, 1, 1, 1, 1, 1, 1, 1, 1, 1]]"
      ]
     },
     "execution_count": 10,
     "metadata": {},
     "output_type": "execute_result"
    }
   ],
   "source": [
    "partitions_of_n_with_even_parts(10)"
   ]
  },
  {
   "cell_type": "markdown",
   "id": "ce83d143-fe81-4b04-bc08-3863e477fd4d",
   "metadata": {},
   "source": [
    "### Exploring Conjecture 2\n",
    "\n",
    "- $p(n\\,|\\,\\text{all parts even}) = p(n\\,|\\,\\text{even number of each part})$."
   ]
  },
  {
   "cell_type": "markdown",
   "id": "2c2ac793-a4fa-401b-bf65-be4365a6fd42",
   "metadata": {},
   "source": [
    "a = partitions_of_6_with_even_parts\n",
    "\n",
    "b = even_number_of_each_part  \n",
    "\n",
    "a_n = partitions_of_n_with_even_parts   \n",
    "\n",
    "partition_n_even = partitions_of_n_with_even_number_of_each_part"
   ]
  },
  {
   "cell_type": "code",
   "execution_count": 37,
   "id": "acd4d263-ef50-45c6-96c4-c1920b73f0a3",
   "metadata": {},
   "outputs": [
    {
     "data": {
      "text/plain": [
       "[[6],\n",
       " [5, 1],\n",
       " [4, 2],\n",
       " [4, 1, 1],\n",
       " [3, 3],\n",
       " [3, 2, 1],\n",
       " [3, 1, 1, 1],\n",
       " [2, 2, 2],\n",
       " [2, 2, 1, 1],\n",
       " [2, 1, 1, 1, 1],\n",
       " [1, 1, 1, 1, 1, 1]]"
      ]
     },
     "execution_count": 37,
     "metadata": {},
     "output_type": "execute_result"
    }
   ],
   "source": [
    "list(Partitions(6))"
   ]
  },
  {
   "cell_type": "code",
   "execution_count": 29,
   "id": "d40f5e2f-efed-442f-92c7-cef37f7f6e76",
   "metadata": {},
   "outputs": [
    {
     "data": {
      "text/plain": [
       "[[6], [4, 2], [2, 2, 2]]"
      ]
     },
     "execution_count": 29,
     "metadata": {},
     "output_type": "execute_result"
    }
   ],
   "source": [
    "a = Partitions(6, parts_in=[2,4,6]).list(); a"
   ]
  },
  {
   "cell_type": "code",
   "execution_count": 30,
   "id": "0170ef80-0f8d-4778-8b57-54beaf39fead",
   "metadata": {},
   "outputs": [],
   "source": [
    "b = lambda partition : all([is_even(partition.count(part)) for part in partition])"
   ]
  },
  {
   "cell_type": "code",
   "execution_count": 31,
   "id": "986410d5-ba67-45ae-907f-c0caf4602163",
   "metadata": {},
   "outputs": [
    {
     "data": {
      "text/plain": [
       "[[3, 3], [2, 2, 1, 1], [1, 1, 1, 1, 1, 1]]"
      ]
     },
     "execution_count": 31,
     "metadata": {},
     "output_type": "execute_result"
    }
   ],
   "source": [
    "[partition for partition in Partitions(6).list() if b (list(partition))]"
   ]
  },
  {
   "cell_type": "code",
   "execution_count": 2,
   "id": "86047659-1f04-49d8-82d3-bb3c18038c52",
   "metadata": {},
   "outputs": [],
   "source": [
    "a_n = lambda n : Partitions(n, parts_in=[2,4..n]).list()"
   ]
  },
  {
   "cell_type": "code",
   "execution_count": 34,
   "id": "ca7f2381-db1a-42f9-b596-236030467a36",
   "metadata": {},
   "outputs": [
    {
     "data": {
      "text/plain": [
       "[[6], [4, 2], [2, 2, 2]]"
      ]
     },
     "execution_count": 34,
     "metadata": {},
     "output_type": "execute_result"
    }
   ],
   "source": [
    "a_n(6)"
   ]
  },
  {
   "cell_type": "code",
   "execution_count": 19,
   "id": "250e9b9a-2154-4bbb-9ac5-dcb25cb762d9",
   "metadata": {},
   "outputs": [],
   "source": [
    "number_of_a_n = lambda n : Partitions(n, parts_in=[2,4..n]).cardinality()"
   ]
  },
  {
   "cell_type": "code",
   "execution_count": 20,
   "id": "89f5a640-d70a-4f7f-88c5-ad79a7d37fae",
   "metadata": {},
   "outputs": [
    {
     "data": {
      "text/plain": [
       "3"
      ]
     },
     "execution_count": 20,
     "metadata": {},
     "output_type": "execute_result"
    }
   ],
   "source": [
    "number_of_a_n(6)"
   ]
  },
  {
   "cell_type": "code",
   "execution_count": 35,
   "id": "111287d7-2904-4f21-b822-23ef55cedc52",
   "metadata": {},
   "outputs": [],
   "source": [
    "partition_n_even = lambda n : [partition for partition in Partitions(n).list() if b (list(partition))]"
   ]
  },
  {
   "cell_type": "code",
   "execution_count": 22,
   "id": "4b6bd32a-4d30-4274-8a36-0c1894116c57",
   "metadata": {},
   "outputs": [
    {
     "data": {
      "text/plain": [
       "[[3, 3], [2, 2, 1, 1], [1, 1, 1, 1, 1, 1]]"
      ]
     },
     "execution_count": 22,
     "metadata": {},
     "output_type": "execute_result"
    }
   ],
   "source": [
    "partitions_of_n_with_b(6)"
   ]
  },
  {
   "cell_type": "code",
   "execution_count": 23,
   "id": "e7ad2f3e-eea2-4ee0-a393-8033f13910b4",
   "metadata": {},
   "outputs": [],
   "source": [
    "number_of_partitions_of_n_with_b = lambda n : len([partition for partition in Partitions(n).list() if b(list(partition))])"
   ]
  },
  {
   "cell_type": "code",
   "execution_count": 24,
   "id": "a493ed51-f851-46c6-bced-a4389294e645",
   "metadata": {},
   "outputs": [
    {
     "data": {
      "text/plain": [
       "3"
      ]
     },
     "execution_count": 24,
     "metadata": {},
     "output_type": "execute_result"
    }
   ],
   "source": [
    "number_of_partitions_of_n_with_b(6)"
   ]
  },
  {
   "cell_type": "code",
   "execution_count": 25,
   "id": "890b134b-5a3e-4a38-beb6-f7f08cb879f5",
   "metadata": {},
   "outputs": [
    {
     "data": {
      "text/plain": [
       "[(1, 1),\n",
       " (0, 0),\n",
       " (1, 1),\n",
       " (0, 0),\n",
       " (2, 2),\n",
       " (0, 0),\n",
       " (3, 3),\n",
       " (0, 0),\n",
       " (5, 5),\n",
       " (0, 0),\n",
       " (7, 7)]"
      ]
     },
     "execution_count": 25,
     "metadata": {},
     "output_type": "execute_result"
    }
   ],
   "source": [
    "[(number_of_a_n(n), number_of_partitions_of_n_with_b(n)) for n in [0..10]]"
   ]
  },
  {
   "cell_type": "code",
   "execution_count": 26,
   "id": "f4430699-e8cb-436b-ade7-cee60517b02d",
   "metadata": {},
   "outputs": [
    {
     "data": {
      "text/plain": [
       "True"
      ]
     },
     "execution_count": 26,
     "metadata": {},
     "output_type": "execute_result"
    }
   ],
   "source": [
    "all([number_of_a_n(int_num) == number_of_partitions_of_n_with_b(int_num) for int_num in [0..30]])"
   ]
  },
  {
   "cell_type": "code",
   "execution_count": null,
   "id": "6253fa93-f15c-4872-9f6e-7db33214b10a",
   "metadata": {},
   "outputs": [],
   "source": []
  },
  {
   "cell_type": "code",
   "execution_count": null,
   "id": "930bb452-37fd-4097-bafe-5fd965de7d94",
   "metadata": {},
   "outputs": [],
   "source": []
  },
  {
   "cell_type": "code",
   "execution_count": null,
   "id": "35fb1248-2a29-4a51-b9f7-c34ceca78171",
   "metadata": {},
   "outputs": [],
   "source": []
  },
  {
   "cell_type": "code",
   "execution_count": null,
   "id": "f23bde15-29f7-4970-8824-7f74e94b0d12",
   "metadata": {},
   "outputs": [],
   "source": []
  },
  {
   "cell_type": "code",
   "execution_count": null,
   "id": "346674fe-cc4e-4495-a419-6b9913566251",
   "metadata": {},
   "outputs": [],
   "source": []
  },
  {
   "cell_type": "code",
   "execution_count": null,
   "id": "badab90f-2862-4696-b73a-e7002a9fcf91",
   "metadata": {},
   "outputs": [],
   "source": []
  },
  {
   "cell_type": "markdown",
   "id": "0207d8c6-bfa6-4d95-835c-acfc80ec70c9",
   "metadata": {},
   "source": [
    "Now let us use these tools to explore potential relationships between the partitions of numbers and, if possible, make conjectures and attempt to prove them. In your explorations, utilize all the programming tools you have learned. Below are some statements to investigate:\n",
    "\n",
    "\n",
    "1. **Odd Parts**: The number of partitions of $n$ where all parts are odd, denoted $p(n\\,|\\,\\text{odd parts})$.\n",
    "   \n",
    "3. **Even Parts**: The number of partitions of $n$ where all parts are even, denoted $p(n\\,|\\,\\text{even parts})$.\n",
    "4. **Distinct Parts**: The number of partitions of $n$ where all parts are distinct, denoted $p(n\\,|\\,\\text{distinct parts})$.\n",
    "5. **Distinct Odd Parts**: The number of partitions of $n$ where all parts are both odd and distinct, denoted $p(n\\,|\\,\\text{distinct odd parts})$.\n",
    "6. **Parts Modulo 3**: The number of partitions of $n$ where all parts satisfy $ \\text{part} \\equiv \\pm 1 \\bmod 3$, denoted $p(n\\,|\\,\\text{all parts} \\equiv \\pm 1 \\bmod 3)$.\n",
    "7. **Parts Modulo 5**: The number of partitions of $n$ where all parts satisfy $ \\text{part} \\equiv \\pm 1 \\bmod 5$, denoted $p(n\\,|\\,\\text{all parts} \\equiv \\pm 1 \\bmod 5)$.\n",
    "8. **Powers of 2**: The number of partitions of $n$ where all parts are powers of $2$, denoted $p(n\\,|\\,\\text{all parts are powers of } 2)$.\n",
    "9. **Parts at Most 2**: The number of partitions of $n$ where all parts are at most $2$, denoted $p(n\\,|\\,\\text{all parts are at most } 2)$.\n",
    "10. **Self-Conjugate**: The number of self-conjugate partitions of $n$, denoted $p(n\\,|\\,\\text{self-conjugate})$.\n",
    "11. **Parts at Most $k$**: The number of partitions of $n$ where all parts are at most $k$, for a fixed $k \\geq 1$, denoted $p(n\\,|\\,\\text{all parts are at most } k)$.\n",
    "12. **Biggest Part is $k$**: The number of partitions of $n$ where the largest part is exactly $k$, for a fixed $k \\geq 1$, denoted $p(n\\,|\\,\\text{the biggest part is } k)$.\n",
    "13. **Exactly $k$ Parts**: The number of partitions of $n$ with exactly $k$ parts, for a fixed $k \\geq 1$, denoted $p(n\\,|\\,\\text{there are exactly } k \\text{ parts})$.\n",
    "14. **Each Part Occurs at Most Twice**: The number of partitions of $n$ where each part occurs at most twice, denoted $p(n\\,|\\,\\text{each part occurs at most twice})$.\n",
    "15. **At Most $k$ Parts**: The number of partitions of $n$ with at most $k$ parts, for a fixed $k \\geq 1$, denoted $p(n\\,|\\,\\text{there are at most } k \\text{ parts})$.\n",
    "16. **Difference Between Parts is At Least 2**: The number of partitions of $n$ where the difference between any two parts is at least $2$, denoted $p(n\\,|\\,\\text{the difference between any two parts is at least } 2)$.\n",
    "17. **Prime Parts**: The number of partitions of $n$ where all parts are prime numbers, denoted $p(n\\,|\\,\\text{prime parts})$.\n",
    "18. **At Least One Odd Part**: The number of partitions of $n$ that include at least one odd part, denoted $p(n\\,|\\,\\text{at least one odd part})$.\n",
    "19. **At Least One Even Part**: The number of partitions of $n$ that include at least one even part, denoted $p(n\\,|\\,\\text{at least one even part})$.\n",
    "20. **Even Multiplicity of Each Part**: The number of partitions of $n$ where each part appears an even number of times, denoted $p(n\\,|\\,\\text{even number of each part})$.\n",
    "21. **Number of $k$ parts**: For each partition of $n$, how many times does the part $k$ appear in each partition?\n",
    "22. **Perfect Square Relation**: Given that $p$ is a perfect square, $p = n^2$ for some integer $n$, investigate whether there is a relationship between the number of partitions of $p$ and the number of partitions of $n$.\n",
    "23. **Armstrong Numbers**: Determine the number of partitions of $n$ when $n$ is an Armstrong number. ([See the definition of Armstrong numbers](http://mathworld.wolfram.com/NarcissisticNumber.html)).\n",
    "24. **Product of Parts Equals $n$**: The number of partitions of $n$ where the product of all parts equals $n$, denoted $p(n\\,|\\,\\text{product of parts is } n)$.\n",
    "25. **Distribution**: Is there a distribution governing the number of partitions of $n$? If so, determine and describe it.\n",
    "26. **Partition Formula**: Is there a general formula for computing the number of partitions of $n$? If so, find and verify it.\n",
    "\n",
    "\n",
    "### Goal:\n",
    "Explore these statements to uncover possible relationships, distributions, or hidden structures in integer partitions. Analyze and document your findings for further study or conjecture validation.\n"
   ]
  },
  {
   "cell_type": "code",
   "execution_count": 3,
   "id": "188be458-3737-4c79-b4a4-37ecfa211470",
   "metadata": {},
   "outputs": [
    {
     "data": {
      "text/plain": [
       "[[4], [3, 1], [2, 2], [2, 1, 1], [1, 1, 1, 1]]"
      ]
     },
     "execution_count": 3,
     "metadata": {},
     "output_type": "execute_result"
    }
   ],
   "source": [
    "list(Partitions(4))"
   ]
  },
  {
   "cell_type": "code",
   "execution_count": 4,
   "id": "c63373e4-d307-4508-ba70-9b0cf4558fa4",
   "metadata": {},
   "outputs": [
    {
     "data": {
      "text/plain": [
       "[[3, 1], [1, 1, 1, 1]]"
      ]
     },
     "execution_count": 4,
     "metadata": {},
     "output_type": "execute_result"
    }
   ],
   "source": [
    "list(Partitions(4, parts_in = [1,3..10])) # partition of 10 with odd parts"
   ]
  },
  {
   "cell_type": "code",
   "execution_count": 5,
   "id": "f3579f65-1ead-420d-bf09-98709ffa7c6e",
   "metadata": {},
   "outputs": [
    {
     "data": {
      "text/plain": [
       "[[4], [3, 1]]"
      ]
     },
     "execution_count": 5,
     "metadata": {},
     "output_type": "execute_result"
    }
   ],
   "source": [
    "list(Partitions(4, max_slope = -1))  # partition of 10 with distinct parts"
   ]
  },
  {
   "cell_type": "code",
   "execution_count": null,
   "id": "190dbe75-eeab-4a42-8a59-fc1b8eb780b5",
   "metadata": {},
   "outputs": [],
   "source": []
  },
  {
   "cell_type": "code",
   "execution_count": 6,
   "id": "8f86ce00-831f-4a94-9ac6-b97fa91dfb22",
   "metadata": {},
   "outputs": [
    {
     "data": {
      "text/plain": [
       "[[7],\n",
       " [6, 1],\n",
       " [5, 2],\n",
       " [5, 1, 1],\n",
       " [4, 3],\n",
       " [4, 2, 1],\n",
       " [4, 1, 1, 1],\n",
       " [3, 3, 1],\n",
       " [3, 2, 2],\n",
       " [3, 2, 1, 1],\n",
       " [3, 1, 1, 1, 1],\n",
       " [2, 2, 2, 1],\n",
       " [2, 2, 1, 1, 1],\n",
       " [2, 1, 1, 1, 1, 1],\n",
       " [1, 1, 1, 1, 1, 1, 1]]"
      ]
     },
     "execution_count": 6,
     "metadata": {},
     "output_type": "execute_result"
    }
   ],
   "source": [
    "list(Partitions(7))"
   ]
  },
  {
   "cell_type": "code",
   "execution_count": 7,
   "id": "9d702bd7-7dd7-4940-95bd-aca64b9417e7",
   "metadata": {},
   "outputs": [
    {
     "data": {
      "text/plain": [
       "[[7], [5, 1, 1], [3, 3, 1], [3, 1, 1, 1, 1], [1, 1, 1, 1, 1, 1, 1]]"
      ]
     },
     "execution_count": 7,
     "metadata": {},
     "output_type": "execute_result"
    }
   ],
   "source": [
    "list(Partitions(7, parts_in = [1,3..10])) # partition of 10 with odd parts"
   ]
  },
  {
   "cell_type": "code",
   "execution_count": 8,
   "id": "08eb7823-1b4a-4307-820d-6beb6a39d145",
   "metadata": {},
   "outputs": [
    {
     "data": {
      "text/plain": [
       "[[7], [6, 1], [5, 2], [4, 3], [4, 2, 1]]"
      ]
     },
     "execution_count": 8,
     "metadata": {},
     "output_type": "execute_result"
    }
   ],
   "source": [
    "list(Partitions(7, max_slope = -1))  # partition of 10 with distinct parts"
   ]
  },
  {
   "cell_type": "code",
   "execution_count": null,
   "id": "f4680bfb-c792-4727-96fb-82e0ef887067",
   "metadata": {},
   "outputs": [],
   "source": []
  },
  {
   "cell_type": "code",
   "execution_count": null,
   "id": "07175efb-cdfd-4311-94c8-7e3ed3104733",
   "metadata": {},
   "outputs": [],
   "source": []
  },
  {
   "cell_type": "markdown",
   "id": "0e59d383-46d2-4d0f-b2e0-24afcb3496b8",
   "metadata": {},
   "source": [
    "### Statement 10 — Biggest part is $k$"
   ]
  },
  {
   "cell_type": "code",
   "execution_count": 6,
   "id": "92975951-b2d2-480f-9b6f-2657e727878e",
   "metadata": {
    "scrolled": true
   },
   "outputs": [
    {
     "data": {
      "text/plain": [
       "[[8],\n",
       " [7, 1],\n",
       " [6, 2],\n",
       " [6, 1, 1],\n",
       " [5, 3],\n",
       " [5, 2, 1],\n",
       " [5, 1, 1, 1],\n",
       " [4, 4],\n",
       " [4, 3, 1],\n",
       " [4, 2, 2],\n",
       " [4, 2, 1, 1],\n",
       " [4, 1, 1, 1, 1],\n",
       " [3, 3, 2],\n",
       " [3, 3, 1, 1],\n",
       " [3, 2, 2, 1],\n",
       " [3, 2, 1, 1, 1],\n",
       " [3, 1, 1, 1, 1, 1],\n",
       " [2, 2, 2, 2],\n",
       " [2, 2, 2, 1, 1],\n",
       " [2, 2, 1, 1, 1, 1],\n",
       " [2, 1, 1, 1, 1, 1, 1],\n",
       " [1, 1, 1, 1, 1, 1, 1, 1]]"
      ]
     },
     "execution_count": 6,
     "metadata": {},
     "output_type": "execute_result"
    }
   ],
   "source": [
    "list(Partitions(8))"
   ]
  },
  {
   "cell_type": "code",
   "execution_count": 16,
   "id": "d598c616-9db8-4f1a-9dcf-72eb1d51bf60",
   "metadata": {},
   "outputs": [
    {
     "data": {
      "text/plain": [
       "22"
      ]
     },
     "execution_count": 16,
     "metadata": {},
     "output_type": "execute_result"
    }
   ],
   "source": [
    "Partitions(8).cardinality()"
   ]
  },
  {
   "cell_type": "code",
   "execution_count": 7,
   "id": "b5a19b5f-7ccf-4234-8a48-b37770bf9b70",
   "metadata": {},
   "outputs": [
    {
     "data": {
      "text/plain": [
       "[[1, 1, 1, 1, 1, 1, 1, 1]]"
      ]
     },
     "execution_count": 7,
     "metadata": {},
     "output_type": "execute_result"
    }
   ],
   "source": [
    "Partitions(8, starting=[2]).list() "
   ]
  },
  {
   "cell_type": "code",
   "execution_count": 8,
   "id": "acd795e2-b15f-47fe-82a0-52738cb7b0b2",
   "metadata": {},
   "outputs": [
    {
     "data": {
      "text/plain": [
       "[[8],\n",
       " [7, 1],\n",
       " [6, 2],\n",
       " [6, 1, 1],\n",
       " [5, 3],\n",
       " [5, 2, 1],\n",
       " [5, 1, 1, 1],\n",
       " [4, 4],\n",
       " [4, 3, 1],\n",
       " [4, 2, 2],\n",
       " [4, 2, 1, 1],\n",
       " [4, 1, 1, 1, 1],\n",
       " [3, 3, 2],\n",
       " [3, 3, 1, 1],\n",
       " [3, 2, 2, 1],\n",
       " [3, 2, 1, 1, 1],\n",
       " [3, 1, 1, 1, 1, 1],\n",
       " [2, 2, 2, 2],\n",
       " [2, 2, 2, 1, 1],\n",
       " [2, 2, 1, 1, 1, 1],\n",
       " [2, 1, 1, 1, 1, 1, 1]]"
      ]
     },
     "execution_count": 8,
     "metadata": {},
     "output_type": "execute_result"
    }
   ],
   "source": [
    "Partitions(8, ending=[2]).list() "
   ]
  },
  {
   "cell_type": "code",
   "execution_count": null,
   "id": "a4d08be5-be74-4bd5-be82-6c0cfb88d2a1",
   "metadata": {},
   "outputs": [],
   "source": [
    "Partitions(8, length=4).cardinality()"
   ]
  },
  {
   "cell_type": "code",
   "execution_count": 10,
   "id": "c295a9e9-ce85-4697-9fe7-3305a4c6bb80",
   "metadata": {},
   "outputs": [
    {
     "data": {
      "text/plain": [
       "[[8], [7, 1], [6, 2], [5, 3], [5, 2, 1], [4, 3, 1]]"
      ]
     },
     "execution_count": 10,
     "metadata": {},
     "output_type": "execute_result"
    }
   ],
   "source": [
    "Partitions(8, regular=2).list() "
   ]
  },
  {
   "cell_type": "code",
   "execution_count": 11,
   "id": "1607838b-ea1e-46d1-84b7-23ff42bc66e2",
   "metadata": {
    "scrolled": true
   },
   "outputs": [
    {
     "data": {
      "text/plain": [
       "[[8],\n",
       " [7, 1],\n",
       " [6, 2],\n",
       " [6, 1, 1],\n",
       " [5, 3],\n",
       " [5, 2, 1],\n",
       " [5, 1, 1, 1],\n",
       " [4, 4],\n",
       " [4, 3, 1],\n",
       " [4, 2, 2],\n",
       " [4, 2, 1, 1],\n",
       " [4, 1, 1, 1, 1],\n",
       " [3, 3, 2],\n",
       " [3, 3, 1, 1],\n",
       " [3, 2, 2, 1],\n",
       " [3, 2, 1, 1, 1],\n",
       " [2, 2, 2, 2],\n",
       " [2, 2, 2, 1, 1],\n",
       " [2, 2, 1, 1, 1, 1]]"
      ]
     },
     "execution_count": 11,
     "metadata": {},
     "output_type": "execute_result"
    }
   ],
   "source": [
    "Partitions(8, regular=5).list() "
   ]
  },
  {
   "cell_type": "code",
   "execution_count": 13,
   "id": "9185e82f-6a5d-41c4-ad52-bc5eb0097877",
   "metadata": {},
   "outputs": [
    {
     "data": {
      "text/plain": [
       "19"
      ]
     },
     "execution_count": 13,
     "metadata": {},
     "output_type": "execute_result"
    }
   ],
   "source": [
    "Partitions(8, regular=5).cardinality() "
   ]
  },
  {
   "cell_type": "code",
   "execution_count": 12,
   "id": "7542b4d5-b844-4d83-add7-e7bcb3eecb6f",
   "metadata": {},
   "outputs": [
    {
     "data": {
      "text/plain": [
       "[[6, 2],\n",
       " [5, 3],\n",
       " [5, 2, 1],\n",
       " [5, 1, 1, 1],\n",
       " [4, 4],\n",
       " [4, 3, 1],\n",
       " [4, 2, 2],\n",
       " [4, 2, 1, 1],\n",
       " [4, 1, 1, 1, 1],\n",
       " [3, 3, 2],\n",
       " [3, 3, 1, 1],\n",
       " [3, 2, 2, 1],\n",
       " [3, 2, 1, 1, 1],\n",
       " [3, 1, 1, 1, 1, 1],\n",
       " [2, 2, 2, 2],\n",
       " [2, 2, 2, 1, 1],\n",
       " [2, 2, 1, 1, 1, 1],\n",
       " [2, 1, 1, 1, 1, 1, 1],\n",
       " [1, 1, 1, 1, 1, 1, 1, 1]]"
      ]
     },
     "execution_count": 12,
     "metadata": {},
     "output_type": "execute_result"
    }
   ],
   "source": [
    "Partitions(8, restricted=5).list() "
   ]
  },
  {
   "cell_type": "code",
   "execution_count": 19,
   "id": "8794c10e-7a69-47fe-9ac0-a40031c61e74",
   "metadata": {},
   "outputs": [],
   "source": [
    "biggest_k_table = lambda n,k : table([(m, list(Partitions(m)), Partitions(m, regular=i).list() ) for m in [1,..n]], header_row=[r'$n$', r'$p(n\\,|\\,\\text{odd parts})$', r'$p(n\\,|\\,\\text{distinct parts})$'], frame=True)"
   ]
  },
  {
   "cell_type": "markdown",
   "id": "c5fc084e-09a6-4f56-a6b7-62971d969fe5",
   "metadata": {},
   "source": [
    "### Statement 11 — Exactly $k$ parts"
   ]
  },
  {
   "cell_type": "code",
   "execution_count": null,
   "id": "4744e4d8-84bb-492d-ac08-006b89e1abde",
   "metadata": {},
   "outputs": [],
   "source": [
    "Partitions(8, length=4).list()  "
   ]
  },
  {
   "cell_type": "code",
   "execution_count": null,
   "id": "f887a541-be78-464c-a8fd-9bec61686894",
   "metadata": {},
   "outputs": [],
   "source": [
    "Partitions(8, length=4).cardinality() "
   ]
  },
  {
   "cell_type": "code",
   "execution_count": null,
   "id": "35090970-7a98-45a9-8ac6-ba0e5b96db28",
   "metadata": {},
   "outputs": [],
   "source": []
  },
  {
   "cell_type": "code",
   "execution_count": 20,
   "id": "6721fdfd-1d1d-4084-bbda-8e4eb13d8302",
   "metadata": {},
   "outputs": [],
   "source": [
    "largest_part_of_n_exactly_𝑘 = lambda n, k : Partitions(n, max_part=k, inner=[k]).list()"
   ]
  },
  {
   "cell_type": "code",
   "execution_count": 21,
   "id": "9773f6e6-3377-45ca-b7c0-3057266a5ec5",
   "metadata": {},
   "outputs": [
    {
     "data": {
      "text/plain": [
       "[[3, 2], [3, 1, 1]]"
      ]
     },
     "execution_count": 21,
     "metadata": {},
     "output_type": "execute_result"
    }
   ],
   "source": [
    "largest_part_of_n_exactly_𝑘(5,3)"
   ]
  },
  {
   "cell_type": "code",
   "execution_count": 22,
   "id": "ec6f2878-cd1a-49f6-82b6-b469d9ae3d2e",
   "metadata": {},
   "outputs": [],
   "source": [
    "n_exactly_𝑘_parts = lambda n, k : Partitions(n, length=k).list()"
   ]
  },
  {
   "cell_type": "code",
   "execution_count": 24,
   "id": "ad4e9d53-04c1-4902-9ba1-d956b055cfdc",
   "metadata": {},
   "outputs": [
    {
     "data": {
      "text/plain": [
       "[[3, 1, 1], [2, 2, 1]]"
      ]
     },
     "execution_count": 24,
     "metadata": {},
     "output_type": "execute_result"
    }
   ],
   "source": [
    "n_exactly_𝑘_parts(5,3)"
   ]
  },
  {
   "cell_type": "code",
   "execution_count": null,
   "id": "79b78292-20fa-46dd-88b4-5ccf496af0e1",
   "metadata": {},
   "outputs": [],
   "source": []
  },
  {
   "cell_type": "code",
   "execution_count": null,
   "id": "e6f8b2d2-82fa-4607-a28a-acf39f1fd7f0",
   "metadata": {},
   "outputs": [],
   "source": []
  },
  {
   "cell_type": "code",
   "execution_count": 28,
   "id": "6a690cd9-c441-41be-b495-ec3851671892",
   "metadata": {},
   "outputs": [
    {
     "data": {
      "text/plain": [
       "[[5, 5],\n",
       " [5, 4, 1],\n",
       " [5, 3, 2],\n",
       " [5, 3, 1, 1],\n",
       " [5, 2, 2, 1],\n",
       " [5, 2, 1, 1, 1],\n",
       " [5, 1, 1, 1, 1, 1]]"
      ]
     },
     "execution_count": 28,
     "metadata": {},
     "output_type": "execute_result"
    }
   ],
   "source": [
    "largest_part_of_n_exactly_𝑘(10,5)"
   ]
  },
  {
   "cell_type": "code",
   "execution_count": 29,
   "id": "1257b142-c068-4eec-b36a-9ec48fd10328",
   "metadata": {},
   "outputs": [
    {
     "data": {
      "text/plain": [
       "[[6, 1, 1, 1, 1],\n",
       " [5, 2, 1, 1, 1],\n",
       " [4, 3, 1, 1, 1],\n",
       " [4, 2, 2, 1, 1],\n",
       " [3, 3, 2, 1, 1],\n",
       " [3, 2, 2, 2, 1],\n",
       " [2, 2, 2, 2, 2]]"
      ]
     },
     "execution_count": 29,
     "metadata": {},
     "output_type": "execute_result"
    }
   ],
   "source": [
    "n_exactly_𝑘_parts(10,5)"
   ]
  },
  {
   "cell_type": "markdown",
   "id": "411bf3fc-961f-4448-a70c-470cd60f5203",
   "metadata": {},
   "source": [
    "Geometrically, if we find the reciprocal shape of each element in the matrix of a **partition with it biggest part exactly k**, and then find the transpose of the result, we will get the same shape of the partition with **exactly k parts**."
   ]
  },
  {
   "cell_type": "code",
   "execution_count": null,
   "id": "2e49478a-1c7d-4468-ad06-526c252a09c4",
   "metadata": {},
   "outputs": [],
   "source": []
  }
 ],
 "metadata": {
  "kernelspec": {
   "display_name": "SageMath 10.4",
   "language": "sage",
   "name": "sagemath"
  },
  "language_info": {
   "codemirror_mode": {
    "name": "ipython",
    "version": 3
   },
   "file_extension": ".py",
   "mimetype": "text/x-python",
   "name": "python",
   "nbconvert_exporter": "python",
   "pygments_lexer": "ipython3",
   "version": "3.11.2"
  }
 },
 "nbformat": 4,
 "nbformat_minor": 5
}
