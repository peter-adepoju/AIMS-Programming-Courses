{
 "cells": [
  {
   "cell_type": "markdown",
   "id": "db812024-f19c-47da-851b-d9bd512f2e5f",
   "metadata": {},
   "source": [
    "# PETER ADEPOJU"
   ]
  },
  {
   "cell_type": "markdown",
   "id": "11863315-08da-4857-b549-16994099a328",
   "metadata": {},
   "source": [
    "### EXERCISES\n",
    "\n",
    "1. Write a bijective proof of Conjecture 3 in the notebook for day 10.\n",
    "2. Explore Statements 1 and 3 in notebook for day 10 and write a summary of your findings. Give bijective proof of the equality of the Statements 1 and 3. "
   ]
  },
  {
   "cell_type": "code",
   "execution_count": null,
   "id": "30fc5324-b1ea-4763-9f2f-1bc6bd3ffb15",
   "metadata": {},
   "outputs": [],
   "source": []
  },
  {
   "cell_type": "markdown",
   "id": "0b812a1e-23ba-4b30-b8c3-9ef290e4af63",
   "metadata": {},
   "source": [
    "### Conjecture 3\n",
    "\n",
    "- $p(2n\\,|\\, \\text{all parts even})=p(n)$."
   ]
  },
  {
   "cell_type": "markdown",
   "id": "d23b2d7c-7aee-4ebc-8526-74ec7c80daf4",
   "metadata": {},
   "source": [
    "Let's start with simple cases."
   ]
  },
  {
   "cell_type": "code",
   "execution_count": 1,
   "id": "29bf6a8a-1a7d-4e0b-9fe6-abed9432b608",
   "metadata": {},
   "outputs": [],
   "source": [
    " # First let me take a number to represent 2n and find the number of it even parts \n",
    "\n",
    "number_of_partitions_of_8_with_even_parts = Partitions(8, parts_in = [2,4..8]).cardinality()"
   ]
  },
  {
   "cell_type": "code",
   "execution_count": 2,
   "id": "1cd8133c-3173-4ee7-a1da-019b9bd5d381",
   "metadata": {},
   "outputs": [
    {
     "data": {
      "text/plain": [
       "5"
      ]
     },
     "execution_count": 2,
     "metadata": {},
     "output_type": "execute_result"
    }
   ],
   "source": [
    "number_of_partitions_of_8_with_even_parts"
   ]
  },
  {
   "cell_type": "code",
   "execution_count": 3,
   "id": "ce805df2-19b6-476e-ba80-c7994d2f9049",
   "metadata": {},
   "outputs": [],
   "source": [
    "# Then I can take another number n and find the cardinality of it partitions\n",
    "\n",
    "number_of_partitions_of_4 = Partitions(4).cardinality()"
   ]
  },
  {
   "cell_type": "code",
   "execution_count": 4,
   "id": "d279ec19-4e8a-45c7-9e6d-4a8feb02e46e",
   "metadata": {},
   "outputs": [
    {
     "data": {
      "text/plain": [
       "5"
      ]
     },
     "execution_count": 4,
     "metadata": {},
     "output_type": "execute_result"
    }
   ],
   "source": [
    "number_of_partitions_of_4"
   ]
  },
  {
   "cell_type": "code",
   "execution_count": 5,
   "id": "83b114f0-eb9c-4e5d-ae1a-8b8902d8603f",
   "metadata": {},
   "outputs": [
    {
     "data": {
      "text/plain": [
       "True"
      ]
     },
     "execution_count": 5,
     "metadata": {},
     "output_type": "execute_result"
    }
   ],
   "source": [
    "number_of_partitions_of_8_with_even_parts == number_of_partitions_of_4"
   ]
  },
  {
   "cell_type": "markdown",
   "id": "78a71114-2570-4bc9-93e4-8f1721ec5348",
   "metadata": {},
   "source": [
    "Now that we have confirmed for a smaller case, lets try it on many cases to see if we can confirm our conjecture with them as well. \n",
    "\n",
    "**Note**: The code used for this proof are gotten from the previous conjectures solved in the day 10 notebook."
   ]
  },
  {
   "cell_type": "code",
   "execution_count": 6,
   "id": "5b43f020-c628-41b8-b94e-f454e0852efe",
   "metadata": {},
   "outputs": [],
   "source": [
    "number_of_partitions_of_2n_with_even_parts = lambda n : Partitions(2*n, parts_in=[2,4..2*n]).cardinality()"
   ]
  },
  {
   "cell_type": "code",
   "execution_count": 7,
   "id": "0028bc66-ba35-4ba2-b270-71752b31bcf3",
   "metadata": {},
   "outputs": [],
   "source": [
    "number_of_partitions_of_n = lambda n : Partitions(n).cardinality()"
   ]
  },
  {
   "cell_type": "code",
   "execution_count": 8,
   "id": "d5e88d9d-bbe0-4da2-9c9c-11fcf10e9245",
   "metadata": {},
   "outputs": [
    {
     "data": {
      "text/plain": [
       "42"
      ]
     },
     "execution_count": 8,
     "metadata": {},
     "output_type": "execute_result"
    }
   ],
   "source": [
    "number_of_partitions_of_2n_with_even_parts(10)"
   ]
  },
  {
   "cell_type": "code",
   "execution_count": 9,
   "id": "d952bb67-0ef2-494f-9049-bf1282799df1",
   "metadata": {},
   "outputs": [
    {
     "data": {
      "text/plain": [
       "42"
      ]
     },
     "execution_count": 9,
     "metadata": {},
     "output_type": "execute_result"
    }
   ],
   "source": [
    "number_of_partitions_of_n(10)"
   ]
  },
  {
   "cell_type": "code",
   "execution_count": 10,
   "id": "a617cd93-e474-4bf3-8df3-ca78c110fae2",
   "metadata": {},
   "outputs": [],
   "source": [
    "partitions_of_n_and_2n_number_with_even_parts_table = lambda n : table([(m, number_of_partitions_of_n(m), number_of_partitions_of_2n_with_even_parts(m)) for m in [1,..n]], header_row=[r'$n$', r'$p(n)$', r'$p(2n|\\,\\text{all parts even})$'], frame=True)"
   ]
  },
  {
   "cell_type": "code",
   "execution_count": 11,
   "id": "2da03597-1edb-4b16-8036-bff40cc4315a",
   "metadata": {
    "scrolled": true
   },
   "outputs": [
    {
     "data": {
      "text/html": [
       "<div class=\"notruncate\">\n",
       "<table border=\"1\" class=\"table_form\">\n",
       "<tbody>\n",
       "<tr>\n",
       "<th style=\"text-align:left\">\\(n\\)</th>\n",
       "<th style=\"text-align:left\">\\(p(n)\\)</th>\n",
       "<th style=\"text-align:left\">\\(p(2n|\\,\\text{all parts even})\\)</th>\n",
       "</tr>\n",
       "<tr class =\"row-a\">\n",
       "<td style=\"text-align:left\">\\(1\\)</td>\n",
       "<td style=\"text-align:left\">\\(1\\)</td>\n",
       "<td style=\"text-align:left\">\\(1\\)</td>\n",
       "</tr>\n",
       "<tr class =\"row-b\">\n",
       "<td style=\"text-align:left\">\\(2\\)</td>\n",
       "<td style=\"text-align:left\">\\(2\\)</td>\n",
       "<td style=\"text-align:left\">\\(2\\)</td>\n",
       "</tr>\n",
       "<tr class =\"row-a\">\n",
       "<td style=\"text-align:left\">\\(3\\)</td>\n",
       "<td style=\"text-align:left\">\\(3\\)</td>\n",
       "<td style=\"text-align:left\">\\(3\\)</td>\n",
       "</tr>\n",
       "<tr class =\"row-b\">\n",
       "<td style=\"text-align:left\">\\(4\\)</td>\n",
       "<td style=\"text-align:left\">\\(5\\)</td>\n",
       "<td style=\"text-align:left\">\\(5\\)</td>\n",
       "</tr>\n",
       "<tr class =\"row-a\">\n",
       "<td style=\"text-align:left\">\\(5\\)</td>\n",
       "<td style=\"text-align:left\">\\(7\\)</td>\n",
       "<td style=\"text-align:left\">\\(7\\)</td>\n",
       "</tr>\n",
       "<tr class =\"row-b\">\n",
       "<td style=\"text-align:left\">\\(6\\)</td>\n",
       "<td style=\"text-align:left\">\\(11\\)</td>\n",
       "<td style=\"text-align:left\">\\(11\\)</td>\n",
       "</tr>\n",
       "<tr class =\"row-a\">\n",
       "<td style=\"text-align:left\">\\(7\\)</td>\n",
       "<td style=\"text-align:left\">\\(15\\)</td>\n",
       "<td style=\"text-align:left\">\\(15\\)</td>\n",
       "</tr>\n",
       "<tr class =\"row-b\">\n",
       "<td style=\"text-align:left\">\\(8\\)</td>\n",
       "<td style=\"text-align:left\">\\(22\\)</td>\n",
       "<td style=\"text-align:left\">\\(22\\)</td>\n",
       "</tr>\n",
       "<tr class =\"row-a\">\n",
       "<td style=\"text-align:left\">\\(9\\)</td>\n",
       "<td style=\"text-align:left\">\\(30\\)</td>\n",
       "<td style=\"text-align:left\">\\(30\\)</td>\n",
       "</tr>\n",
       "<tr class =\"row-b\">\n",
       "<td style=\"text-align:left\">\\(10\\)</td>\n",
       "<td style=\"text-align:left\">\\(42\\)</td>\n",
       "<td style=\"text-align:left\">\\(42\\)</td>\n",
       "</tr>\n",
       "<tr class =\"row-a\">\n",
       "<td style=\"text-align:left\">\\(11\\)</td>\n",
       "<td style=\"text-align:left\">\\(56\\)</td>\n",
       "<td style=\"text-align:left\">\\(56\\)</td>\n",
       "</tr>\n",
       "<tr class =\"row-b\">\n",
       "<td style=\"text-align:left\">\\(12\\)</td>\n",
       "<td style=\"text-align:left\">\\(77\\)</td>\n",
       "<td style=\"text-align:left\">\\(77\\)</td>\n",
       "</tr>\n",
       "<tr class =\"row-a\">\n",
       "<td style=\"text-align:left\">\\(13\\)</td>\n",
       "<td style=\"text-align:left\">\\(101\\)</td>\n",
       "<td style=\"text-align:left\">\\(101\\)</td>\n",
       "</tr>\n",
       "<tr class =\"row-b\">\n",
       "<td style=\"text-align:left\">\\(14\\)</td>\n",
       "<td style=\"text-align:left\">\\(135\\)</td>\n",
       "<td style=\"text-align:left\">\\(135\\)</td>\n",
       "</tr>\n",
       "<tr class =\"row-a\">\n",
       "<td style=\"text-align:left\">\\(15\\)</td>\n",
       "<td style=\"text-align:left\">\\(176\\)</td>\n",
       "<td style=\"text-align:left\">\\(176\\)</td>\n",
       "</tr>\n",
       "<tr class =\"row-b\">\n",
       "<td style=\"text-align:left\">\\(16\\)</td>\n",
       "<td style=\"text-align:left\">\\(231\\)</td>\n",
       "<td style=\"text-align:left\">\\(231\\)</td>\n",
       "</tr>\n",
       "<tr class =\"row-a\">\n",
       "<td style=\"text-align:left\">\\(17\\)</td>\n",
       "<td style=\"text-align:left\">\\(297\\)</td>\n",
       "<td style=\"text-align:left\">\\(297\\)</td>\n",
       "</tr>\n",
       "<tr class =\"row-b\">\n",
       "<td style=\"text-align:left\">\\(18\\)</td>\n",
       "<td style=\"text-align:left\">\\(385\\)</td>\n",
       "<td style=\"text-align:left\">\\(385\\)</td>\n",
       "</tr>\n",
       "<tr class =\"row-a\">\n",
       "<td style=\"text-align:left\">\\(19\\)</td>\n",
       "<td style=\"text-align:left\">\\(490\\)</td>\n",
       "<td style=\"text-align:left\">\\(490\\)</td>\n",
       "</tr>\n",
       "<tr class =\"row-b\">\n",
       "<td style=\"text-align:left\">\\(20\\)</td>\n",
       "<td style=\"text-align:left\">\\(627\\)</td>\n",
       "<td style=\"text-align:left\">\\(627\\)</td>\n",
       "</tr>\n",
       "</tbody>\n",
       "</table>\n",
       "</div>"
      ],
      "text/plain": [
       "┌─────┬────────┬─────────────────────────────────┐\n",
       "│ $n$ | $p(n)$ | $p(2n|\\,\\text{all parts even})$ |\n",
       "╞═════╪════════╪═════════════════════════════════╡\n",
       "│ 1   | 1      | 1                               |\n",
       "├─────┼────────┼─────────────────────────────────┤\n",
       "│ 2   | 2      | 2                               |\n",
       "├─────┼────────┼─────────────────────────────────┤\n",
       "│ 3   | 3      | 3                               |\n",
       "├─────┼────────┼─────────────────────────────────┤\n",
       "│ 4   | 5      | 5                               |\n",
       "├─────┼────────┼─────────────────────────────────┤\n",
       "│ 5   | 7      | 7                               |\n",
       "├─────┼────────┼─────────────────────────────────┤\n",
       "│ 6   | 11     | 11                              |\n",
       "├─────┼────────┼─────────────────────────────────┤\n",
       "│ 7   | 15     | 15                              |\n",
       "├─────┼────────┼─────────────────────────────────┤\n",
       "│ 8   | 22     | 22                              |\n",
       "├─────┼────────┼─────────────────────────────────┤\n",
       "│ 9   | 30     | 30                              |\n",
       "├─────┼────────┼─────────────────────────────────┤\n",
       "│ 10  | 42     | 42                              |\n",
       "├─────┼────────┼─────────────────────────────────┤\n",
       "│ 11  | 56     | 56                              |\n",
       "├─────┼────────┼─────────────────────────────────┤\n",
       "│ 12  | 77     | 77                              |\n",
       "├─────┼────────┼─────────────────────────────────┤\n",
       "│ 13  | 101    | 101                             |\n",
       "├─────┼────────┼─────────────────────────────────┤\n",
       "│ 14  | 135    | 135                             |\n",
       "├─────┼────────┼─────────────────────────────────┤\n",
       "│ 15  | 176    | 176                             |\n",
       "├─────┼────────┼─────────────────────────────────┤\n",
       "│ 16  | 231    | 231                             |\n",
       "├─────┼────────┼─────────────────────────────────┤\n",
       "│ 17  | 297    | 297                             |\n",
       "├─────┼────────┼─────────────────────────────────┤\n",
       "│ 18  | 385    | 385                             |\n",
       "├─────┼────────┼─────────────────────────────────┤\n",
       "│ 19  | 490    | 490                             |\n",
       "├─────┼────────┼─────────────────────────────────┤\n",
       "│ 20  | 627    | 627                             |\n",
       "└─────┴────────┴─────────────────────────────────┘"
      ]
     },
     "execution_count": 11,
     "metadata": {},
     "output_type": "execute_result"
    }
   ],
   "source": [
    "partitions_of_n_and_2n_number_with_even_parts_table(20)"
   ]
  },
  {
   "cell_type": "code",
   "execution_count": 12,
   "id": "ca7e4b82-ccf4-4356-9736-aa9eb8902e83",
   "metadata": {},
   "outputs": [
    {
     "data": {
      "text/plain": [
       "[[8], [6, 2], [4, 4], [4, 2, 2], [2, 2, 2, 2]]"
      ]
     },
     "execution_count": 12,
     "metadata": {},
     "output_type": "execute_result"
    }
   ],
   "source": [
    "# To clearly show you what is going on behind the scene, that works for every case, I will demonstrate with a smaller case.\n",
    "\n",
    "list(Partitions(8, parts_in = [2,4..8]))  # This represent 2n"
   ]
  },
  {
   "cell_type": "code",
   "execution_count": 13,
   "id": "bf878afc-1b1f-4293-a83b-ca104a600c66",
   "metadata": {},
   "outputs": [
    {
     "data": {
      "text/plain": [
       "[[4], [3, 1], [2, 2], [2, 1, 1], [1, 1, 1, 1]]"
      ]
     },
     "execution_count": 13,
     "metadata": {},
     "output_type": "execute_result"
    }
   ],
   "source": [
    "list(Partitions(4))     # This represent n"
   ]
  },
  {
   "cell_type": "markdown",
   "id": "2772bffb-36fb-47fa-a0cc-1fc836e3418f",
   "metadata": {},
   "source": [
    "**OBSERVATION**: If we observe these two results above, we can see that whenever we divide each element in the partitions of 2n, it gives us same elements as in the partitions of n. That is the magic behind these partitions having same cardinality, and this is the reason why they have same values on the table (for many numbers). This process goes on like that."
   ]
  },
  {
   "cell_type": "code",
   "execution_count": null,
   "id": "faa2f270-8ddc-4beb-a3bd-66ed505e9b2e",
   "metadata": {},
   "outputs": [],
   "source": []
  },
  {
   "cell_type": "markdown",
   "id": "1acccd6b-8951-4875-a58d-83b497824006",
   "metadata": {},
   "source": [
    "#### Theorem\n",
    "\n",
    "For all $n\\in\\mathbb{Z}_{\\ge0}$, $p(n\\,|\\,\\text{all parts even}) = p(n)$.\n",
    "\n",
    "**Proof (Bijective Proof)**:\n",
    "\n",
    "Observe that, everytime each element in the partitions of 2n is splitted in two halves, it result in same elements and number of partitions of n. Likewise if we multiply every elements of the partitions of n, it will produce the even parts of n (2n)."
   ]
  },
  {
   "cell_type": "code",
   "execution_count": null,
   "id": "7515072e-1a68-4222-a13c-d546fb5ff0db",
   "metadata": {},
   "outputs": [],
   "source": []
  },
  {
   "cell_type": "markdown",
   "id": "508047b6-65d8-4391-a0b7-03c8f07bb9a7",
   "metadata": {},
   "source": [
    "## Exploration of Statement 1 and 3"
   ]
  },
  {
   "cell_type": "markdown",
   "id": "ddb5f460-58cd-4f4c-82f0-50f8d4ab2ad8",
   "metadata": {},
   "source": [
    "### Statement 1\n",
    "\n",
    "**Odd Parts**: The number of partitions of $n$ where all parts are odd, denoted $p(n\\,|\\,\\text{odd parts})$."
   ]
  },
  {
   "cell_type": "code",
   "execution_count": 14,
   "id": "d7198954-5106-4ef0-8185-42b9879365aa",
   "metadata": {
    "scrolled": true
   },
   "outputs": [
    {
     "data": {
      "text/plain": [
       "[[10],\n",
       " [9, 1],\n",
       " [8, 2],\n",
       " [8, 1, 1],\n",
       " [7, 3],\n",
       " [7, 2, 1],\n",
       " [7, 1, 1, 1],\n",
       " [6, 4],\n",
       " [6, 3, 1],\n",
       " [6, 2, 2],\n",
       " [6, 2, 1, 1],\n",
       " [6, 1, 1, 1, 1],\n",
       " [5, 5],\n",
       " [5, 4, 1],\n",
       " [5, 3, 2],\n",
       " [5, 3, 1, 1],\n",
       " [5, 2, 2, 1],\n",
       " [5, 2, 1, 1, 1],\n",
       " [5, 1, 1, 1, 1, 1],\n",
       " [4, 4, 2],\n",
       " [4, 4, 1, 1],\n",
       " [4, 3, 3],\n",
       " [4, 3, 2, 1],\n",
       " [4, 3, 1, 1, 1],\n",
       " [4, 2, 2, 2],\n",
       " [4, 2, 2, 1, 1],\n",
       " [4, 2, 1, 1, 1, 1],\n",
       " [4, 1, 1, 1, 1, 1, 1],\n",
       " [3, 3, 3, 1],\n",
       " [3, 3, 2, 2],\n",
       " [3, 3, 2, 1, 1],\n",
       " [3, 3, 1, 1, 1, 1],\n",
       " [3, 2, 2, 2, 1],\n",
       " [3, 2, 2, 1, 1, 1],\n",
       " [3, 2, 1, 1, 1, 1, 1],\n",
       " [3, 1, 1, 1, 1, 1, 1, 1],\n",
       " [2, 2, 2, 2, 2],\n",
       " [2, 2, 2, 2, 1, 1],\n",
       " [2, 2, 2, 1, 1, 1, 1],\n",
       " [2, 2, 1, 1, 1, 1, 1, 1],\n",
       " [2, 1, 1, 1, 1, 1, 1, 1, 1],\n",
       " [1, 1, 1, 1, 1, 1, 1, 1, 1, 1]]"
      ]
     },
     "execution_count": 14,
     "metadata": {},
     "output_type": "execute_result"
    },
    {
     "name": "stdout",
     "output_type": "stream",
     "text": [
      "The history saving thread hit an unexpected error (OperationalError('attempt to write a readonly database')).History will not be written to the database.\n"
     ]
    }
   ],
   "source": [
    "list(Partitions(10)) # list out all the partitions of 10"
   ]
  },
  {
   "cell_type": "code",
   "execution_count": 15,
   "id": "731d752d-774a-40f8-bfae-f2afb29232c9",
   "metadata": {},
   "outputs": [
    {
     "name": "stdout",
     "output_type": "stream",
     "text": [
      "Cardinality of the partitions of ten is 42\n"
     ]
    }
   ],
   "source": [
    "print(\"Cardinality of the partitions of ten is \" + str(Partitions(10).cardinality()))"
   ]
  },
  {
   "cell_type": "code",
   "execution_count": 16,
   "id": "36f6c1b4-ab56-4541-984f-6d638ed5d34a",
   "metadata": {},
   "outputs": [
    {
     "data": {
      "text/plain": [
       "[[9, 1],\n",
       " [7, 3],\n",
       " [7, 1, 1, 1],\n",
       " [5, 5],\n",
       " [5, 3, 1, 1],\n",
       " [5, 1, 1, 1, 1, 1],\n",
       " [3, 3, 3, 1],\n",
       " [3, 3, 1, 1, 1, 1],\n",
       " [3, 1, 1, 1, 1, 1, 1, 1],\n",
       " [1, 1, 1, 1, 1, 1, 1, 1, 1, 1]]"
      ]
     },
     "execution_count": 16,
     "metadata": {},
     "output_type": "execute_result"
    }
   ],
   "source": [
    "list(Partitions(10, parts_in = [1,3..10])) # all partitions of 10 with odd parts"
   ]
  },
  {
   "cell_type": "code",
   "execution_count": 17,
   "id": "97e1b99c-4a53-4fa2-99b3-e3af01ee2a90",
   "metadata": {},
   "outputs": [
    {
     "name": "stdout",
     "output_type": "stream",
     "text": [
      "Cardinality of all partitions of ten with odd parts is 10\n"
     ]
    }
   ],
   "source": [
    "print(\"Cardinality of all partitions of ten with odd parts is \" + str(Partitions(10, parts_in = [1,3..10]).cardinality()))"
   ]
  },
  {
   "cell_type": "code",
   "execution_count": 18,
   "id": "e32041be-df7d-4a31-9e89-0e347734a482",
   "metadata": {},
   "outputs": [
    {
     "data": {
      "text/plain": [
       "4097"
      ]
     },
     "execution_count": 18,
     "metadata": {},
     "output_type": "execute_result"
    }
   ],
   "source": [
    "# Now let's try another number to see if we can observe something.\n",
    "\n",
    "Partitions(51, parts_in = [1,3..100]).cardinality()"
   ]
  },
  {
   "cell_type": "markdown",
   "id": "7eccf46c-8dcc-45a4-9d5d-0131e2eafbce",
   "metadata": {},
   "source": [
    "##### **NOTE**: In the code above, I tried several numbers and I discovered something, let me run it on n numbers and show the table, so that we can obeserve it together."
   ]
  },
  {
   "cell_type": "code",
   "execution_count": 19,
   "id": "4aa53bbc-963a-4db9-872a-a4faeb65458a",
   "metadata": {},
   "outputs": [],
   "source": [
    "number_of_partitions_of_n_with_odd_parts = lambda n : Partitions(n, parts_in=[1,3,..n]).cardinality()"
   ]
  },
  {
   "cell_type": "code",
   "execution_count": 20,
   "id": "cf25be3e-c3b8-46cb-824c-2ddd3844f1bd",
   "metadata": {},
   "outputs": [],
   "source": [
    "number_of_partitions_of_n_with_odd_parts_table = lambda n : table([(m, number_of_partitions_of_n_with_odd_parts(m)) for m in [1,..n]], header_row=[r'$n$', r'$p(n\\,|\\,\\text{odd parts})$'], frame=True)"
   ]
  },
  {
   "cell_type": "code",
   "execution_count": 21,
   "id": "b12df86a-0dbf-40ca-a38f-05910006fd79",
   "metadata": {
    "scrolled": true
   },
   "outputs": [
    {
     "data": {
      "text/html": [
       "<div class=\"notruncate\">\n",
       "<table border=\"1\" class=\"table_form\">\n",
       "<tbody>\n",
       "<tr>\n",
       "<th style=\"text-align:left\">\\(n\\)</th>\n",
       "<th style=\"text-align:left\">\\(p(n\\,|\\,\\text{odd parts})\\)</th>\n",
       "</tr>\n",
       "<tr class =\"row-a\">\n",
       "<td style=\"text-align:left\">\\(1\\)</td>\n",
       "<td style=\"text-align:left\">\\(1\\)</td>\n",
       "</tr>\n",
       "<tr class =\"row-b\">\n",
       "<td style=\"text-align:left\">\\(2\\)</td>\n",
       "<td style=\"text-align:left\">\\(1\\)</td>\n",
       "</tr>\n",
       "<tr class =\"row-a\">\n",
       "<td style=\"text-align:left\">\\(3\\)</td>\n",
       "<td style=\"text-align:left\">\\(2\\)</td>\n",
       "</tr>\n",
       "<tr class =\"row-b\">\n",
       "<td style=\"text-align:left\">\\(4\\)</td>\n",
       "<td style=\"text-align:left\">\\(2\\)</td>\n",
       "</tr>\n",
       "<tr class =\"row-a\">\n",
       "<td style=\"text-align:left\">\\(5\\)</td>\n",
       "<td style=\"text-align:left\">\\(3\\)</td>\n",
       "</tr>\n",
       "<tr class =\"row-b\">\n",
       "<td style=\"text-align:left\">\\(6\\)</td>\n",
       "<td style=\"text-align:left\">\\(4\\)</td>\n",
       "</tr>\n",
       "<tr class =\"row-a\">\n",
       "<td style=\"text-align:left\">\\(7\\)</td>\n",
       "<td style=\"text-align:left\">\\(5\\)</td>\n",
       "</tr>\n",
       "<tr class =\"row-b\">\n",
       "<td style=\"text-align:left\">\\(8\\)</td>\n",
       "<td style=\"text-align:left\">\\(6\\)</td>\n",
       "</tr>\n",
       "<tr class =\"row-a\">\n",
       "<td style=\"text-align:left\">\\(9\\)</td>\n",
       "<td style=\"text-align:left\">\\(8\\)</td>\n",
       "</tr>\n",
       "<tr class =\"row-b\">\n",
       "<td style=\"text-align:left\">\\(10\\)</td>\n",
       "<td style=\"text-align:left\">\\(10\\)</td>\n",
       "</tr>\n",
       "<tr class =\"row-a\">\n",
       "<td style=\"text-align:left\">\\(11\\)</td>\n",
       "<td style=\"text-align:left\">\\(12\\)</td>\n",
       "</tr>\n",
       "<tr class =\"row-b\">\n",
       "<td style=\"text-align:left\">\\(12\\)</td>\n",
       "<td style=\"text-align:left\">\\(15\\)</td>\n",
       "</tr>\n",
       "<tr class =\"row-a\">\n",
       "<td style=\"text-align:left\">\\(13\\)</td>\n",
       "<td style=\"text-align:left\">\\(18\\)</td>\n",
       "</tr>\n",
       "<tr class =\"row-b\">\n",
       "<td style=\"text-align:left\">\\(14\\)</td>\n",
       "<td style=\"text-align:left\">\\(22\\)</td>\n",
       "</tr>\n",
       "<tr class =\"row-a\">\n",
       "<td style=\"text-align:left\">\\(15\\)</td>\n",
       "<td style=\"text-align:left\">\\(27\\)</td>\n",
       "</tr>\n",
       "<tr class =\"row-b\">\n",
       "<td style=\"text-align:left\">\\(16\\)</td>\n",
       "<td style=\"text-align:left\">\\(32\\)</td>\n",
       "</tr>\n",
       "<tr class =\"row-a\">\n",
       "<td style=\"text-align:left\">\\(17\\)</td>\n",
       "<td style=\"text-align:left\">\\(38\\)</td>\n",
       "</tr>\n",
       "<tr class =\"row-b\">\n",
       "<td style=\"text-align:left\">\\(18\\)</td>\n",
       "<td style=\"text-align:left\">\\(46\\)</td>\n",
       "</tr>\n",
       "<tr class =\"row-a\">\n",
       "<td style=\"text-align:left\">\\(19\\)</td>\n",
       "<td style=\"text-align:left\">\\(54\\)</td>\n",
       "</tr>\n",
       "<tr class =\"row-b\">\n",
       "<td style=\"text-align:left\">\\(20\\)</td>\n",
       "<td style=\"text-align:left\">\\(64\\)</td>\n",
       "</tr>\n",
       "</tbody>\n",
       "</table>\n",
       "</div>"
      ],
      "text/plain": [
       "┌─────┬─────────────────────────────┐\n",
       "│ $n$ | $p(n\\,|\\,\\text{odd parts})$ |\n",
       "╞═════╪═════════════════════════════╡\n",
       "│ 1   | 1                           |\n",
       "├─────┼─────────────────────────────┤\n",
       "│ 2   | 1                           |\n",
       "├─────┼─────────────────────────────┤\n",
       "│ 3   | 2                           |\n",
       "├─────┼─────────────────────────────┤\n",
       "│ 4   | 2                           |\n",
       "├─────┼─────────────────────────────┤\n",
       "│ 5   | 3                           |\n",
       "├─────┼─────────────────────────────┤\n",
       "│ 6   | 4                           |\n",
       "├─────┼─────────────────────────────┤\n",
       "│ 7   | 5                           |\n",
       "├─────┼─────────────────────────────┤\n",
       "│ 8   | 6                           |\n",
       "├─────┼─────────────────────────────┤\n",
       "│ 9   | 8                           |\n",
       "├─────┼─────────────────────────────┤\n",
       "│ 10  | 10                          |\n",
       "├─────┼─────────────────────────────┤\n",
       "│ 11  | 12                          |\n",
       "├─────┼─────────────────────────────┤\n",
       "│ 12  | 15                          |\n",
       "├─────┼─────────────────────────────┤\n",
       "│ 13  | 18                          |\n",
       "├─────┼─────────────────────────────┤\n",
       "│ 14  | 22                          |\n",
       "├─────┼─────────────────────────────┤\n",
       "│ 15  | 27                          |\n",
       "├─────┼─────────────────────────────┤\n",
       "│ 16  | 32                          |\n",
       "├─────┼─────────────────────────────┤\n",
       "│ 17  | 38                          |\n",
       "├─────┼─────────────────────────────┤\n",
       "│ 18  | 46                          |\n",
       "├─────┼─────────────────────────────┤\n",
       "│ 19  | 54                          |\n",
       "├─────┼─────────────────────────────┤\n",
       "│ 20  | 64                          |\n",
       "└─────┴─────────────────────────────┘"
      ]
     },
     "execution_count": 21,
     "metadata": {},
     "output_type": "execute_result"
    }
   ],
   "source": [
    "number_of_partitions_of_n_with_odd_parts_table(20)"
   ]
  },
  {
   "cell_type": "code",
   "execution_count": 22,
   "id": "96862335-d3f2-4821-b2b3-ca51a0d97b82",
   "metadata": {},
   "outputs": [
    {
     "data": {
      "text/plain": [
       "[[6],\n",
       " [5, 1],\n",
       " [4, 2],\n",
       " [4, 1, 1],\n",
       " [3, 3],\n",
       " [3, 2, 1],\n",
       " [3, 1, 1, 1],\n",
       " [2, 2, 2],\n",
       " [2, 2, 1, 1],\n",
       " [2, 1, 1, 1, 1],\n",
       " [1, 1, 1, 1, 1, 1]]"
      ]
     },
     "execution_count": 22,
     "metadata": {},
     "output_type": "execute_result"
    }
   ],
   "source": [
    "list(Partitions(6))"
   ]
  },
  {
   "cell_type": "code",
   "execution_count": null,
   "id": "e36baefd-973e-407e-bd98-a52d93210a73",
   "metadata": {},
   "outputs": [],
   "source": []
  },
  {
   "cell_type": "markdown",
   "id": "cf761ece-02b2-49a5-910a-8e49f9e6a2be",
   "metadata": {},
   "source": [
    "## Statement 3\n",
    "\n",
    "**Distinct Parts**: The number of partitions of $n$ where all parts are distinct, denoted $p(n\\,|\\,\\text{distinct parts})$."
   ]
  },
  {
   "cell_type": "code",
   "execution_count": 23,
   "id": "eff0b0d1-8fd2-42c9-a8b9-05f40e5f586a",
   "metadata": {
    "scrolled": true
   },
   "outputs": [
    {
     "data": {
      "text/plain": [
       "[[10],\n",
       " [9, 1],\n",
       " [8, 2],\n",
       " [8, 1, 1],\n",
       " [7, 3],\n",
       " [7, 2, 1],\n",
       " [7, 1, 1, 1],\n",
       " [6, 4],\n",
       " [6, 3, 1],\n",
       " [6, 2, 2],\n",
       " [6, 2, 1, 1],\n",
       " [6, 1, 1, 1, 1],\n",
       " [5, 5],\n",
       " [5, 4, 1],\n",
       " [5, 3, 2],\n",
       " [5, 3, 1, 1],\n",
       " [5, 2, 2, 1],\n",
       " [5, 2, 1, 1, 1],\n",
       " [5, 1, 1, 1, 1, 1],\n",
       " [4, 4, 2],\n",
       " [4, 4, 1, 1],\n",
       " [4, 3, 3],\n",
       " [4, 3, 2, 1],\n",
       " [4, 3, 1, 1, 1],\n",
       " [4, 2, 2, 2],\n",
       " [4, 2, 2, 1, 1],\n",
       " [4, 2, 1, 1, 1, 1],\n",
       " [4, 1, 1, 1, 1, 1, 1],\n",
       " [3, 3, 3, 1],\n",
       " [3, 3, 2, 2],\n",
       " [3, 3, 2, 1, 1],\n",
       " [3, 3, 1, 1, 1, 1],\n",
       " [3, 2, 2, 2, 1],\n",
       " [3, 2, 2, 1, 1, 1],\n",
       " [3, 2, 1, 1, 1, 1, 1],\n",
       " [3, 1, 1, 1, 1, 1, 1, 1],\n",
       " [2, 2, 2, 2, 2],\n",
       " [2, 2, 2, 2, 1, 1],\n",
       " [2, 2, 2, 1, 1, 1, 1],\n",
       " [2, 2, 1, 1, 1, 1, 1, 1],\n",
       " [2, 1, 1, 1, 1, 1, 1, 1, 1],\n",
       " [1, 1, 1, 1, 1, 1, 1, 1, 1, 1]]"
      ]
     },
     "execution_count": 23,
     "metadata": {},
     "output_type": "execute_result"
    }
   ],
   "source": [
    "list(Partitions(10))"
   ]
  },
  {
   "cell_type": "code",
   "execution_count": 24,
   "id": "4bdbc6d3-dc82-4d32-bf3a-e3cf514f7ebd",
   "metadata": {},
   "outputs": [
    {
     "data": {
      "text/plain": [
       "[[10],\n",
       " [9, 1],\n",
       " [8, 2],\n",
       " [7, 3],\n",
       " [7, 2, 1],\n",
       " [6, 4],\n",
       " [6, 3, 1],\n",
       " [5, 4, 1],\n",
       " [5, 3, 2],\n",
       " [4, 3, 2, 1]]"
      ]
     },
     "execution_count": 24,
     "metadata": {},
     "output_type": "execute_result"
    }
   ],
   "source": [
    "list(Partitions(10, max_slope = -1)) # produce all partitions of an 10 into distinct parts "
   ]
  },
  {
   "cell_type": "code",
   "execution_count": 25,
   "id": "8f1219f4-b86e-4fca-948e-7493c2b3e23e",
   "metadata": {},
   "outputs": [
    {
     "data": {
      "text/plain": [
       "10"
      ]
     },
     "execution_count": 25,
     "metadata": {},
     "output_type": "execute_result"
    }
   ],
   "source": [
    "Partitions(10, max_slope = -1).cardinality()"
   ]
  },
  {
   "cell_type": "code",
   "execution_count": 26,
   "id": "62b17c0b-6e08-4656-9b24-e8e11fc6cd33",
   "metadata": {},
   "outputs": [
    {
     "data": {
      "text/plain": [
       "4097"
      ]
     },
     "execution_count": 26,
     "metadata": {},
     "output_type": "execute_result"
    }
   ],
   "source": [
    "Partitions(51, max_slope = -1).cardinality()  "
   ]
  },
  {
   "cell_type": "markdown",
   "id": "0717e2c4-0e88-4101-96d0-9e5b421b6a52",
   "metadata": {},
   "source": [
    "I have observed that the cardinality of the number of partitions of $n$ where all parts are odd is same as the cardinality of the number of partitions of $n$ where all parts are distinct. Now let's try for many cases to see if the trend continues."
   ]
  },
  {
   "cell_type": "code",
   "execution_count": 27,
   "id": "fb3e86c7-ed63-47c0-a083-953361c92a70",
   "metadata": {},
   "outputs": [],
   "source": [
    "number_of_partitions_of_n_with_distinct_parts = lambda n : Partitions(n, max_slope = -1).cardinality()"
   ]
  },
  {
   "cell_type": "code",
   "execution_count": 28,
   "id": "823cc360-6a43-4a58-9dc9-dd4eb0656535",
   "metadata": {},
   "outputs": [],
   "source": [
    "number_of_partitions_of_n_with_distinct_parts_table = lambda n : table([(m, number_of_partitions_of_n_with_distinct_parts(m)) for m in [1,..n]], header_row=[r'$n$', r'$p(n\\,|\\,\\text{distinct parts})$'], frame=True)"
   ]
  },
  {
   "cell_type": "code",
   "execution_count": 29,
   "id": "13092749-bb51-44fe-8c3a-5525c1a5fc81",
   "metadata": {
    "scrolled": true
   },
   "outputs": [
    {
     "data": {
      "text/html": [
       "<div class=\"notruncate\">\n",
       "<table border=\"1\" class=\"table_form\">\n",
       "<tbody>\n",
       "<tr>\n",
       "<th style=\"text-align:left\">\\(n\\)</th>\n",
       "<th style=\"text-align:left\">\\(p(n\\,|\\,\\text{distinct parts})\\)</th>\n",
       "</tr>\n",
       "<tr class =\"row-a\">\n",
       "<td style=\"text-align:left\">\\(1\\)</td>\n",
       "<td style=\"text-align:left\">\\(1\\)</td>\n",
       "</tr>\n",
       "<tr class =\"row-b\">\n",
       "<td style=\"text-align:left\">\\(2\\)</td>\n",
       "<td style=\"text-align:left\">\\(1\\)</td>\n",
       "</tr>\n",
       "<tr class =\"row-a\">\n",
       "<td style=\"text-align:left\">\\(3\\)</td>\n",
       "<td style=\"text-align:left\">\\(2\\)</td>\n",
       "</tr>\n",
       "<tr class =\"row-b\">\n",
       "<td style=\"text-align:left\">\\(4\\)</td>\n",
       "<td style=\"text-align:left\">\\(2\\)</td>\n",
       "</tr>\n",
       "<tr class =\"row-a\">\n",
       "<td style=\"text-align:left\">\\(5\\)</td>\n",
       "<td style=\"text-align:left\">\\(3\\)</td>\n",
       "</tr>\n",
       "<tr class =\"row-b\">\n",
       "<td style=\"text-align:left\">\\(6\\)</td>\n",
       "<td style=\"text-align:left\">\\(4\\)</td>\n",
       "</tr>\n",
       "<tr class =\"row-a\">\n",
       "<td style=\"text-align:left\">\\(7\\)</td>\n",
       "<td style=\"text-align:left\">\\(5\\)</td>\n",
       "</tr>\n",
       "<tr class =\"row-b\">\n",
       "<td style=\"text-align:left\">\\(8\\)</td>\n",
       "<td style=\"text-align:left\">\\(6\\)</td>\n",
       "</tr>\n",
       "<tr class =\"row-a\">\n",
       "<td style=\"text-align:left\">\\(9\\)</td>\n",
       "<td style=\"text-align:left\">\\(8\\)</td>\n",
       "</tr>\n",
       "<tr class =\"row-b\">\n",
       "<td style=\"text-align:left\">\\(10\\)</td>\n",
       "<td style=\"text-align:left\">\\(10\\)</td>\n",
       "</tr>\n",
       "<tr class =\"row-a\">\n",
       "<td style=\"text-align:left\">\\(11\\)</td>\n",
       "<td style=\"text-align:left\">\\(12\\)</td>\n",
       "</tr>\n",
       "<tr class =\"row-b\">\n",
       "<td style=\"text-align:left\">\\(12\\)</td>\n",
       "<td style=\"text-align:left\">\\(15\\)</td>\n",
       "</tr>\n",
       "<tr class =\"row-a\">\n",
       "<td style=\"text-align:left\">\\(13\\)</td>\n",
       "<td style=\"text-align:left\">\\(18\\)</td>\n",
       "</tr>\n",
       "<tr class =\"row-b\">\n",
       "<td style=\"text-align:left\">\\(14\\)</td>\n",
       "<td style=\"text-align:left\">\\(22\\)</td>\n",
       "</tr>\n",
       "<tr class =\"row-a\">\n",
       "<td style=\"text-align:left\">\\(15\\)</td>\n",
       "<td style=\"text-align:left\">\\(27\\)</td>\n",
       "</tr>\n",
       "<tr class =\"row-b\">\n",
       "<td style=\"text-align:left\">\\(16\\)</td>\n",
       "<td style=\"text-align:left\">\\(32\\)</td>\n",
       "</tr>\n",
       "<tr class =\"row-a\">\n",
       "<td style=\"text-align:left\">\\(17\\)</td>\n",
       "<td style=\"text-align:left\">\\(38\\)</td>\n",
       "</tr>\n",
       "<tr class =\"row-b\">\n",
       "<td style=\"text-align:left\">\\(18\\)</td>\n",
       "<td style=\"text-align:left\">\\(46\\)</td>\n",
       "</tr>\n",
       "<tr class =\"row-a\">\n",
       "<td style=\"text-align:left\">\\(19\\)</td>\n",
       "<td style=\"text-align:left\">\\(54\\)</td>\n",
       "</tr>\n",
       "<tr class =\"row-b\">\n",
       "<td style=\"text-align:left\">\\(20\\)</td>\n",
       "<td style=\"text-align:left\">\\(64\\)</td>\n",
       "</tr>\n",
       "</tbody>\n",
       "</table>\n",
       "</div>"
      ],
      "text/plain": [
       "┌─────┬──────────────────────────────────┐\n",
       "│ $n$ | $p(n\\,|\\,\\text{distinct parts})$ |\n",
       "╞═════╪══════════════════════════════════╡\n",
       "│ 1   | 1                                |\n",
       "├─────┼──────────────────────────────────┤\n",
       "│ 2   | 1                                |\n",
       "├─────┼──────────────────────────────────┤\n",
       "│ 3   | 2                                |\n",
       "├─────┼──────────────────────────────────┤\n",
       "│ 4   | 2                                |\n",
       "├─────┼──────────────────────────────────┤\n",
       "│ 5   | 3                                |\n",
       "├─────┼──────────────────────────────────┤\n",
       "│ 6   | 4                                |\n",
       "├─────┼──────────────────────────────────┤\n",
       "│ 7   | 5                                |\n",
       "├─────┼──────────────────────────────────┤\n",
       "│ 8   | 6                                |\n",
       "├─────┼──────────────────────────────────┤\n",
       "│ 9   | 8                                |\n",
       "├─────┼──────────────────────────────────┤\n",
       "│ 10  | 10                               |\n",
       "├─────┼──────────────────────────────────┤\n",
       "│ 11  | 12                               |\n",
       "├─────┼──────────────────────────────────┤\n",
       "│ 12  | 15                               |\n",
       "├─────┼──────────────────────────────────┤\n",
       "│ 13  | 18                               |\n",
       "├─────┼──────────────────────────────────┤\n",
       "│ 14  | 22                               |\n",
       "├─────┼──────────────────────────────────┤\n",
       "│ 15  | 27                               |\n",
       "├─────┼──────────────────────────────────┤\n",
       "│ 16  | 32                               |\n",
       "├─────┼──────────────────────────────────┤\n",
       "│ 17  | 38                               |\n",
       "├─────┼──────────────────────────────────┤\n",
       "│ 18  | 46                               |\n",
       "├─────┼──────────────────────────────────┤\n",
       "│ 19  | 54                               |\n",
       "├─────┼──────────────────────────────────┤\n",
       "│ 20  | 64                               |\n",
       "└─────┴──────────────────────────────────┘"
      ]
     },
     "execution_count": 29,
     "metadata": {},
     "output_type": "execute_result"
    }
   ],
   "source": [
    "number_of_partitions_of_n_with_distinct_parts_table(20)"
   ]
  },
  {
   "cell_type": "markdown",
   "id": "ed0546c7-35a6-4d73-b71e-2f8107d6c530",
   "metadata": {},
   "source": [
    "Now let's put the result in statement 1 and 3 together in a table to confirm our observation."
   ]
  },
  {
   "cell_type": "code",
   "execution_count": 30,
   "id": "90842986-2146-4094-8b95-17b2aa311b6e",
   "metadata": {},
   "outputs": [],
   "source": [
    "number_of_partitions_of_n_with_odd_and_distinct_parts_table = lambda n : table([(m, number_of_partitions_of_n_with_odd_parts(m), number_of_partitions_of_n_with_distinct_parts(m)) for m in [1,..n]], header_row=[r'$n$', r'$p(n\\,|\\,\\text{odd parts})$', r'$p(n\\,|\\,\\text{distinct parts})$'], frame=True)"
   ]
  },
  {
   "cell_type": "code",
   "execution_count": 31,
   "id": "0f6ad5cf-4df3-4f57-90ae-7a6ded631dd6",
   "metadata": {
    "scrolled": true
   },
   "outputs": [
    {
     "data": {
      "text/html": [
       "<div class=\"notruncate\">\n",
       "<table border=\"1\" class=\"table_form\">\n",
       "<tbody>\n",
       "<tr>\n",
       "<th style=\"text-align:left\">\\(n\\)</th>\n",
       "<th style=\"text-align:left\">\\(p(n\\,|\\,\\text{odd parts})\\)</th>\n",
       "<th style=\"text-align:left\">\\(p(n\\,|\\,\\text{distinct parts})\\)</th>\n",
       "</tr>\n",
       "<tr class =\"row-a\">\n",
       "<td style=\"text-align:left\">\\(1\\)</td>\n",
       "<td style=\"text-align:left\">\\(1\\)</td>\n",
       "<td style=\"text-align:left\">\\(1\\)</td>\n",
       "</tr>\n",
       "<tr class =\"row-b\">\n",
       "<td style=\"text-align:left\">\\(2\\)</td>\n",
       "<td style=\"text-align:left\">\\(1\\)</td>\n",
       "<td style=\"text-align:left\">\\(1\\)</td>\n",
       "</tr>\n",
       "<tr class =\"row-a\">\n",
       "<td style=\"text-align:left\">\\(3\\)</td>\n",
       "<td style=\"text-align:left\">\\(2\\)</td>\n",
       "<td style=\"text-align:left\">\\(2\\)</td>\n",
       "</tr>\n",
       "<tr class =\"row-b\">\n",
       "<td style=\"text-align:left\">\\(4\\)</td>\n",
       "<td style=\"text-align:left\">\\(2\\)</td>\n",
       "<td style=\"text-align:left\">\\(2\\)</td>\n",
       "</tr>\n",
       "<tr class =\"row-a\">\n",
       "<td style=\"text-align:left\">\\(5\\)</td>\n",
       "<td style=\"text-align:left\">\\(3\\)</td>\n",
       "<td style=\"text-align:left\">\\(3\\)</td>\n",
       "</tr>\n",
       "<tr class =\"row-b\">\n",
       "<td style=\"text-align:left\">\\(6\\)</td>\n",
       "<td style=\"text-align:left\">\\(4\\)</td>\n",
       "<td style=\"text-align:left\">\\(4\\)</td>\n",
       "</tr>\n",
       "<tr class =\"row-a\">\n",
       "<td style=\"text-align:left\">\\(7\\)</td>\n",
       "<td style=\"text-align:left\">\\(5\\)</td>\n",
       "<td style=\"text-align:left\">\\(5\\)</td>\n",
       "</tr>\n",
       "<tr class =\"row-b\">\n",
       "<td style=\"text-align:left\">\\(8\\)</td>\n",
       "<td style=\"text-align:left\">\\(6\\)</td>\n",
       "<td style=\"text-align:left\">\\(6\\)</td>\n",
       "</tr>\n",
       "<tr class =\"row-a\">\n",
       "<td style=\"text-align:left\">\\(9\\)</td>\n",
       "<td style=\"text-align:left\">\\(8\\)</td>\n",
       "<td style=\"text-align:left\">\\(8\\)</td>\n",
       "</tr>\n",
       "<tr class =\"row-b\">\n",
       "<td style=\"text-align:left\">\\(10\\)</td>\n",
       "<td style=\"text-align:left\">\\(10\\)</td>\n",
       "<td style=\"text-align:left\">\\(10\\)</td>\n",
       "</tr>\n",
       "<tr class =\"row-a\">\n",
       "<td style=\"text-align:left\">\\(11\\)</td>\n",
       "<td style=\"text-align:left\">\\(12\\)</td>\n",
       "<td style=\"text-align:left\">\\(12\\)</td>\n",
       "</tr>\n",
       "<tr class =\"row-b\">\n",
       "<td style=\"text-align:left\">\\(12\\)</td>\n",
       "<td style=\"text-align:left\">\\(15\\)</td>\n",
       "<td style=\"text-align:left\">\\(15\\)</td>\n",
       "</tr>\n",
       "<tr class =\"row-a\">\n",
       "<td style=\"text-align:left\">\\(13\\)</td>\n",
       "<td style=\"text-align:left\">\\(18\\)</td>\n",
       "<td style=\"text-align:left\">\\(18\\)</td>\n",
       "</tr>\n",
       "<tr class =\"row-b\">\n",
       "<td style=\"text-align:left\">\\(14\\)</td>\n",
       "<td style=\"text-align:left\">\\(22\\)</td>\n",
       "<td style=\"text-align:left\">\\(22\\)</td>\n",
       "</tr>\n",
       "<tr class =\"row-a\">\n",
       "<td style=\"text-align:left\">\\(15\\)</td>\n",
       "<td style=\"text-align:left\">\\(27\\)</td>\n",
       "<td style=\"text-align:left\">\\(27\\)</td>\n",
       "</tr>\n",
       "<tr class =\"row-b\">\n",
       "<td style=\"text-align:left\">\\(16\\)</td>\n",
       "<td style=\"text-align:left\">\\(32\\)</td>\n",
       "<td style=\"text-align:left\">\\(32\\)</td>\n",
       "</tr>\n",
       "<tr class =\"row-a\">\n",
       "<td style=\"text-align:left\">\\(17\\)</td>\n",
       "<td style=\"text-align:left\">\\(38\\)</td>\n",
       "<td style=\"text-align:left\">\\(38\\)</td>\n",
       "</tr>\n",
       "<tr class =\"row-b\">\n",
       "<td style=\"text-align:left\">\\(18\\)</td>\n",
       "<td style=\"text-align:left\">\\(46\\)</td>\n",
       "<td style=\"text-align:left\">\\(46\\)</td>\n",
       "</tr>\n",
       "<tr class =\"row-a\">\n",
       "<td style=\"text-align:left\">\\(19\\)</td>\n",
       "<td style=\"text-align:left\">\\(54\\)</td>\n",
       "<td style=\"text-align:left\">\\(54\\)</td>\n",
       "</tr>\n",
       "<tr class =\"row-b\">\n",
       "<td style=\"text-align:left\">\\(20\\)</td>\n",
       "<td style=\"text-align:left\">\\(64\\)</td>\n",
       "<td style=\"text-align:left\">\\(64\\)</td>\n",
       "</tr>\n",
       "</tbody>\n",
       "</table>\n",
       "</div>"
      ],
      "text/plain": [
       "┌─────┬─────────────────────────────┬──────────────────────────────────┐\n",
       "│ $n$ | $p(n\\,|\\,\\text{odd parts})$ | $p(n\\,|\\,\\text{distinct parts})$ |\n",
       "╞═════╪═════════════════════════════╪══════════════════════════════════╡\n",
       "│ 1   | 1                           | 1                                |\n",
       "├─────┼─────────────────────────────┼──────────────────────────────────┤\n",
       "│ 2   | 1                           | 1                                |\n",
       "├─────┼─────────────────────────────┼──────────────────────────────────┤\n",
       "│ 3   | 2                           | 2                                |\n",
       "├─────┼─────────────────────────────┼──────────────────────────────────┤\n",
       "│ 4   | 2                           | 2                                |\n",
       "├─────┼─────────────────────────────┼──────────────────────────────────┤\n",
       "│ 5   | 3                           | 3                                |\n",
       "├─────┼─────────────────────────────┼──────────────────────────────────┤\n",
       "│ 6   | 4                           | 4                                |\n",
       "├─────┼─────────────────────────────┼──────────────────────────────────┤\n",
       "│ 7   | 5                           | 5                                |\n",
       "├─────┼─────────────────────────────┼──────────────────────────────────┤\n",
       "│ 8   | 6                           | 6                                |\n",
       "├─────┼─────────────────────────────┼──────────────────────────────────┤\n",
       "│ 9   | 8                           | 8                                |\n",
       "├─────┼─────────────────────────────┼──────────────────────────────────┤\n",
       "│ 10  | 10                          | 10                               |\n",
       "├─────┼─────────────────────────────┼──────────────────────────────────┤\n",
       "│ 11  | 12                          | 12                               |\n",
       "├─────┼─────────────────────────────┼──────────────────────────────────┤\n",
       "│ 12  | 15                          | 15                               |\n",
       "├─────┼─────────────────────────────┼──────────────────────────────────┤\n",
       "│ 13  | 18                          | 18                               |\n",
       "├─────┼─────────────────────────────┼──────────────────────────────────┤\n",
       "│ 14  | 22                          | 22                               |\n",
       "├─────┼─────────────────────────────┼──────────────────────────────────┤\n",
       "│ 15  | 27                          | 27                               |\n",
       "├─────┼─────────────────────────────┼──────────────────────────────────┤\n",
       "│ 16  | 32                          | 32                               |\n",
       "├─────┼─────────────────────────────┼──────────────────────────────────┤\n",
       "│ 17  | 38                          | 38                               |\n",
       "├─────┼─────────────────────────────┼──────────────────────────────────┤\n",
       "│ 18  | 46                          | 46                               |\n",
       "├─────┼─────────────────────────────┼──────────────────────────────────┤\n",
       "│ 19  | 54                          | 54                               |\n",
       "├─────┼─────────────────────────────┼──────────────────────────────────┤\n",
       "│ 20  | 64                          | 64                               |\n",
       "└─────┴─────────────────────────────┴──────────────────────────────────┘"
      ]
     },
     "execution_count": 31,
     "metadata": {},
     "output_type": "execute_result"
    }
   ],
   "source": [
    "number_of_partitions_of_n_with_odd_and_distinct_parts_table(20)"
   ]
  },
  {
   "cell_type": "markdown",
   "id": "f224064e-914b-44a1-b113-c1ea62cecfc0",
   "metadata": {},
   "source": [
    "Also, we can observe something from the distinct part of n and the odd part. Let's try with our typical case, $n = 10$."
   ]
  },
  {
   "cell_type": "code",
   "execution_count": 33,
   "id": "0d5a6559-87f6-4c20-a4db-03756eb62bf0",
   "metadata": {},
   "outputs": [
    {
     "data": {
      "text/plain": [
       "[[9, 1],\n",
       " [7, 3],\n",
       " [7, 1, 1, 1],\n",
       " [5, 5],\n",
       " [5, 3, 1, 1],\n",
       " [5, 1, 1, 1, 1, 1],\n",
       " [3, 3, 3, 1],\n",
       " [3, 3, 1, 1, 1, 1],\n",
       " [3, 1, 1, 1, 1, 1, 1, 1],\n",
       " [1, 1, 1, 1, 1, 1, 1, 1, 1, 1]]"
      ]
     },
     "execution_count": 33,
     "metadata": {},
     "output_type": "execute_result"
    }
   ],
   "source": [
    "list(Partitions(10, parts_in = [1,3..10])) # partition of 10 with odd parts"
   ]
  },
  {
   "cell_type": "code",
   "execution_count": 34,
   "id": "82c07efd-14b9-4c29-b05d-e58543d43806",
   "metadata": {},
   "outputs": [
    {
     "data": {
      "text/plain": [
       "[[10],\n",
       " [9, 1],\n",
       " [8, 2],\n",
       " [7, 3],\n",
       " [7, 2, 1],\n",
       " [6, 4],\n",
       " [6, 3, 1],\n",
       " [5, 4, 1],\n",
       " [5, 3, 2],\n",
       " [4, 3, 2, 1]]"
      ]
     },
     "execution_count": 34,
     "metadata": {},
     "output_type": "execute_result"
    }
   ],
   "source": [
    "list(Partitions(10, max_slope = -1))  # partition of 10 with distinct parts"
   ]
  },
  {
   "cell_type": "code",
   "execution_count": null,
   "id": "b858d9b0-620c-47ab-9064-086be0181522",
   "metadata": {},
   "outputs": [],
   "source": []
  },
  {
   "cell_type": "markdown",
   "id": "894aa846-51d7-4e10-a37f-0f3742dc5e57",
   "metadata": {},
   "source": [
    "### Summary of my findings from exploring statement 1 and 3\n",
    "\n",
    "1. I discovered that $p(n\\,|\\,\\text{odd parts}) = p(n\\,|\\,\\text{distinct parts})$.\n",
    "\n",
    "2. Also, if we split every even element in the partitions with distinct parts, we will get the same elements of the partitions with distinct parts."
   ]
  },
  {
   "cell_type": "code",
   "execution_count": null,
   "id": "606fbb50-8e7a-40cd-ac01-c01dc63a5ca7",
   "metadata": {},
   "outputs": [],
   "source": []
  },
  {
   "cell_type": "markdown",
   "id": "0982ec30-8996-4db6-bd6d-f75bd7a05309",
   "metadata": {},
   "source": [
    "## Bijective proof of the equality of the Statements 1 and 3"
   ]
  },
  {
   "cell_type": "markdown",
   "id": "f28af835-8cba-42c6-bbfc-2939ed6b243f",
   "metadata": {},
   "source": [
    "#### Theorem\n",
    "\n",
    "For all $n\\in\\mathbb{Z}_{\\ge0}$, $p(n\\,|\\,\\text{odd parts}) = p(n\\,|\\,\\text{distinct parts})$.\n",
    "\n",
    "**Proof (Bijective Proof)**:\n",
    "\n",
    "Observe that, when all the even part of a partition with distinct parts are splitted into two halves continously until it can no longer be divided by 2, it will produce only odd elements of the partition."
   ]
  },
  {
   "cell_type": "code",
   "execution_count": null,
   "id": "bd066a7e-82d3-4d1e-b5f5-b1de3aa11edd",
   "metadata": {},
   "outputs": [],
   "source": []
  },
  {
   "cell_type": "code",
   "execution_count": null,
   "id": "39f05a97-477f-4baa-ad84-f0b5b8784fb5",
   "metadata": {},
   "outputs": [],
   "source": []
  },
  {
   "cell_type": "code",
   "execution_count": null,
   "id": "4093275a-8bf1-4c80-bf9f-336f8be44ef4",
   "metadata": {},
   "outputs": [],
   "source": []
  },
  {
   "cell_type": "code",
   "execution_count": 35,
   "id": "2236c851-f4e5-42c8-b9e4-6666272c1eac",
   "metadata": {},
   "outputs": [
    {
     "data": {
      "text/plain": [
       "[[4, 4],\n",
       " [4, 3, 1],\n",
       " [4, 2, 2],\n",
       " [4, 2, 1, 1],\n",
       " [4, 1, 1, 1, 1],\n",
       " [3, 3, 2],\n",
       " [3, 3, 1, 1],\n",
       " [3, 2, 2, 1],\n",
       " [3, 2, 1, 1, 1],\n",
       " [3, 1, 1, 1, 1, 1],\n",
       " [2, 2, 2, 2],\n",
       " [2, 2, 2, 1, 1],\n",
       " [2, 2, 1, 1, 1, 1],\n",
       " [2, 1, 1, 1, 1, 1, 1],\n",
       " [1, 1, 1, 1, 1, 1, 1, 1]]"
      ]
     },
     "execution_count": 35,
     "metadata": {},
     "output_type": "execute_result"
    }
   ],
   "source": [
    "Partitions(8, max_part=4).list()   # list all parts of partition 8 with at most 4"
   ]
  },
  {
   "cell_type": "code",
   "execution_count": null,
   "id": "441df856-859a-4071-b6c4-8f0b1a799d37",
   "metadata": {},
   "outputs": [],
   "source": []
  }
 ],
 "metadata": {
  "kernelspec": {
   "display_name": "SageMath 10.4",
   "language": "sage",
   "name": "sagemath"
  },
  "language_info": {
   "codemirror_mode": {
    "name": "ipython",
    "version": 3
   },
   "file_extension": ".py",
   "mimetype": "text/x-python",
   "name": "python",
   "nbconvert_exporter": "python",
   "pygments_lexer": "ipython3",
   "version": "3.11.2"
  }
 },
 "nbformat": 4,
 "nbformat_minor": 5
}
