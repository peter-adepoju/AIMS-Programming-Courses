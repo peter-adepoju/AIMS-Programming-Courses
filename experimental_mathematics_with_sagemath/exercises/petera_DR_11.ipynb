{
 "cells": [
  {
   "cell_type": "markdown",
   "metadata": {},
   "source": [
    "<img src=\"./images/aims-za-logo.jpeg\" alt=\"drawing\" style=\"width:400px;\"/>\n",
    "<h1 style=\"text-align: center;\"><a title=\"EMS-AIMS-ZA-2024-25\" href=\"https://evansdoe.github.io/aims-za/ems/2024-25/\">Experimental Mathematics Using SageMath — AIMS-ZA-2024-25</a></h1>\n",
    "\n",
    "\n",
    "## Instructors: \n",
    "\n",
    "* <a href=\"http://evansdoe.github.io\">**Evans Ocansey**</a>"
   ]
  },
  {
   "cell_type": "markdown",
   "metadata": {},
   "source": [
    "## Day 11 — Positive Divisors<a class=\"anchor\" id = \"day-11-positive-divisors\"></a>\n",
    "\n",
    "[comment]: <> (<h2 style=\"text-align: left;\">Day 02 — Introduction to <a title=\"SageMath\"href=\"http://www.sagemath.org/\"><em>SageMath</em></a>: A Mathematics Software for All</h2>)"
   ]
  },
  {
   "cell_type": "markdown",
   "metadata": {},
   "source": [
    "The outline of the this notebook is as follows:\n",
    "\n",
    "## Table of Contents: <a class=\"anchor\" id=\"day-11-toc\"></a> \n",
    "* [ ] [<font color=blue>Investigating Arithmetic Functions</font>](#recall-from-last-lecture)\n",
    "* [ ] [<font color=blue>Arithmetic Functions</font>](#the-partition-class-using-keywords)\n",
    "  * [<font color=blue>Multiplicative Functions</font>](#keyword-max-slope)\n",
    "  * [<font color=blue>Completely Multiplicative Functions</font>](#keyword-parts-in)\n",
    "* [ ] [<font color=blue>Multiplicative Properties of $\\tau$ and $\\sigma$</font>](#statements-to-explore)\n",
    "* [ ] [<font color=blue>Exploring $\\tau$ and $\\sigma$ in Sage</font>](#statements-to-explore)\n",
    "* [ ] [<font color=blue>Questions to Explore</font>](#the-partition-class-using-keywords)\n",
    "  * [<font color=blue>Exploring Question 1</font>](#exploring-question-1)\n",
    "  * [<font color=blue>Exploring Question 2</font>](#exploring-question-2)"
   ]
  },
  {
   "cell_type": "markdown",
   "metadata": {},
   "source": [
    "# Investigating Arithmetic Functions  <a class=\"anchor\" id=\"investigating-arithmetic-functions\"></a>\n",
    "\n",
    "Today, we will explore the functions $\\tau$ and $\\sigma$, where:\n",
    "- $\\tau(n)$ counts the number of positive divisors of $n$, and\n",
    "- $\\sigma(n)$ gives the sum of the positive divisors of $n$.\n",
    "\n",
    "Our goal is to use logical reasoning, supported by **SageMath**, to not only make conjectures but also begin proving them."
   ]
  },
  {
   "cell_type": "markdown",
   "metadata": {},
   "source": [
    "## Arithmetic Functions <a class=\"anchor\" id=\"arithmetic-functions\"></a>\n",
    " \n",
    "**Definition**: An **arithmetic function** is a real or complex-valued function $f$ defined on the set of positive integers:\n",
    "\n",
    "$$\n",
    "f : \\mathbb{Z}_{>0} \\to \\mathbb{C}.\n",
    "$$"
   ]
  },
  {
   "cell_type": "markdown",
   "metadata": {},
   "source": [
    "### Multiplicative Functions <a class=\"anchor\" id=\"multiplicative-functions\"></a>\n",
    "\n",
    "An arithmetic function $ f $ is said to be **multiplicative** if it satisfies the following conditions:\n",
    "1. $ f $ is not identically zero, and\n",
    "2. $f(a \\cdot b) = f(a) \\cdot f(b) \\quad \\text{whenever } \\gcd(a, b) = 1. $"
   ]
  },
  {
   "cell_type": "markdown",
   "metadata": {},
   "source": [
    "### Completely Multiplicative Functions <a class=\"anchor\" id=\"completely-multiplicative-functions\"></a>\n",
    "\n",
    "An arithmetic function $ f $ is **completely multiplicative** if:\n",
    "\n",
    "$$\n",
    "f(a \\cdot b) = f(a) \\cdot f(b) \\quad \\text{for all } a, b \\in \\mathbb{N}.\n",
    "$$"
   ]
  },
  {
   "cell_type": "markdown",
   "metadata": {},
   "source": [
    "## Multiplicative Properties of $\\tau$ and $\\sigma$\n",
    "\n",
    "Are $\\tau$ and $\\sigma$ multiplicative?"
   ]
  },
  {
   "cell_type": "markdown",
   "metadata": {},
   "source": [
    "### The Case of $\\tau$  <a class=\"anchor\" id=\"the-case-of-tau\"></a>\n",
    "\n",
    "Let us prove that $\\tau$ is a multiplicative function. To do so, we will consider the following questions:\n",
    "\n",
    "1. **Is $\\tau$ an arithmetic function?**\n",
    "   - Yes, $\\tau$ is an arithmetic function. For all $ n \\in \\mathbb{N} $, $ \\tau(n) $ is a natural number. Since $ \\mathbb{N} \\subset \\mathbb{C} $, it follows that $\\tau$ is an arithmetic function.\n",
    "\n",
    "2. **For $ a, b \\in \\mathbb{N} $ with $ \\gcd(a, b) = 1 $, is $ \\tau(a \\cdot b) = \\tau(a) \\cdot \\tau(b) $?**\n",
    "   - To prove this, consider:\n",
    "     - The number of divisors of $ a \\cdot b $, where $ \\gcd(a, b) = 1 $.\n",
    "     - Since $ \\gcd(a, b) = 1 $, the divisors of $ a \\cdot b $ are exactly the combinations of the divisors of $ a $ and $ b $. Specifically:\n",
    "       - For a divisor $ a_1 $ of $ a $, the divisors of $ a \\cdot b $ include $ a_1 $ multiplied by each divisor of $ b $.\n",
    "       - The total number of such divisors is $ \\tau(a) \\cdot \\tau(b) $, proving that $ \\tau(a \\cdot b) = \\tau(a) \\cdot \\tau(b) $.\n",
    "\n",
    "Thus, $\\tau$ is multiplicative."
   ]
  },
  {
   "cell_type": "markdown",
   "metadata": {},
   "source": [
    "### The Case of $\\sigma$ <a class=\"anchor\" id=\"the-case-of-sigma\"></a>\n",
    "\n",
    "Write your proof here."
   ]
  },
  {
   "cell_type": "code",
   "execution_count": null,
   "metadata": {},
   "outputs": [],
   "source": []
  },
  {
   "cell_type": "markdown",
   "metadata": {},
   "source": [
    " 1. **Is $\\sigma$ an arithmetic function?**\n",
    "    - Yes, $\\sigma$ is an arithmetic function. For all $ n \\in \\mathbb{N} $, $ \\sigma(n) $ is a natural number. Since $ \\mathbb{N} \\subset \\mathbb{C} $, it follows that $\\sigma$ is an arithmetic function. \n",
    "\n",
    "2. **For $ a, b \\in \\mathbb{N} $ with $ \\gcd(a, b) = 1 $, is $ \\sigma(a \\cdot b) = \\sigma(a) \\cdot \\sigma(b) $?** To prove this, consider:\n",
    "    - The sum of the divisors of $ a \\cdot b $, where $ \\gcd(a, b) = 1 $.\n",
    "    - Since $ \\gcd(a, b) = 1 $, the divisors of $ a \\cdot b $ are exactly the combinations of the divisors of $ a $ and $ b $. Specifically:\n",
    "        - If $ d $ is a divisor of $ a $ and $ e $ is a divisor of $ b $, then $ d \\cdot e $ is a divisor of $ a \\cdot b $.\n",
    "        - Therefore, the sum of the divisors of $ a \\cdot b $ is the sum of all possible products of divisors of $ a $ and $ b $.\n",
    "        - That is, let's say we have $\\sigma(24)$, then the divisors of $\\sigma(8)$ are $1, 2, 4, 8$ and the divisors of $\\sigma(3)$ are $1, 3$, provided $gcd(3,8)=1$. If we add up all the divisors in $\\sigma(24)$, we will get 60; if we add up the divisors in $\\sigma(8)$ and $\\sigma(3)$ respectively, we will have $15$ and $4$ respectively, and $15 \\cdot 4 = 60$.\n",
    "    - Mathematically, this can be expressed as: $$ \\sigma(a \\cdot b) = \\sum_{d \\mid a \\cdot b} d = \\left( \\sum_{d_1 \\mid a} d_1 \\right) \\cdot \\left( \\sum_{d_2 \\mid b} d_2 \\right) = \\sigma(a) \\cdot \\sigma(b) $$  where $d$ represent each divisor.\n",
    "- This shows that $ \\sigma(a \\cdot b) = \\sigma(a) \\cdot \\sigma(b) $ whenever $ \\gcd(a, b) = 1 $. Thus, $\\sigma$ is also multiplicative."
   ]
  },
  {
   "cell_type": "markdown",
   "metadata": {},
   "source": [
    "## Exploring $\\tau$ and $\\sigma$ in Sage  <a class=\"anchor\" id=\"exploring-tau-and-sigma-in-sage\"></a>\n",
    "\n",
    "How do you define $\\tau$ and $\\sigma$ in Sage?"
   ]
  },
  {
   "cell_type": "code",
   "execution_count": 1,
   "metadata": {},
   "outputs": [
    {
     "data": {
      "text/plain": [
       "[1, 2, 4, 8]"
      ]
     },
     "execution_count": 1,
     "metadata": {},
     "output_type": "execute_result"
    }
   ],
   "source": [
    "divisors(8)"
   ]
  },
  {
   "cell_type": "code",
   "execution_count": 1,
   "metadata": {},
   "outputs": [],
   "source": [
    "def tau(n):\n",
    "    return len(divisors(n))"
   ]
  },
  {
   "cell_type": "code",
   "execution_count": 2,
   "metadata": {},
   "outputs": [],
   "source": [
    "def sigma(n):\n",
    "    return sum(divisors(n))"
   ]
  },
  {
   "cell_type": "code",
   "execution_count": null,
   "metadata": {},
   "outputs": [],
   "source": []
  },
  {
   "cell_type": "markdown",
   "metadata": {},
   "source": [
    "## Questions to Explore  <a class=\"anchor\" id=\"questions-to-explore\"></a>\n",
    "\n",
    "1. What is tau and $\\sigma$ of a perfect number.\n",
    "2. Is the function $\\tau$ also additive, $\\tau(a+b) = \\tau(a) + \\tau(b)$\n",
    "3. Under what condition is $\\tau(n), \\sigma(n)$ always even or always odd\n",
    "4. Is $\\tau(n)$ always a factor of $n$.\n",
    "5. Can two or more different number have the same $\\sigma(n)$\n",
    "6. For what values of $n$ is $\\tau(n) = \\sigma(n)$\n",
    "7. What is the $\\tau(a^n)$ where n is a positive integer\n",
    "8. What is the general formula for $\\tau$ and $\\sigma$ for a positive $n$. Provide a proof.\n",
    "9. Can you write $\\sigma(n)$ as sum of squares or cubes?\n",
    "10. Can we have the values of $n$ such that $\\tau(n) = n$\n",
    "11. Is there a constant for $n$ fixed such that $\\sigma(n) = c \\times \\tau(n)$\n",
    "12. For what values of $\\tau(n)$ can we have the square root of $\\sigma(n)$ equal?\n",
    "13. For what of values of n is $\\tau(n) \\bmod 3 \\equiv 0$\n",
    "14. If $n = 2\\,a$ where a is some positive integer, what is relation between $\\tau(n)$ and $tau(a)$.\n",
    "15. If $n$ is odd/even what is $\\tau(n)$ and $\\sigma(n)$.\n",
    "16. Given $n$ what can we be $\\tau(\\tau(n))$?\n",
    "17. Can we have an $n$ such $\\tau(n)| \\sigma(n)$.\n",
    "18. Under what condition is $\\sigma(n)-\\tau(n)$ equals to $n$?"
   ]
  },
  {
   "cell_type": "markdown",
   "metadata": {},
   "source": [
    "### Exploring Question 1  <a class=\"anchor\" id=\"exploring-question-1\"></a>"
   ]
  },
  {
   "cell_type": "code",
   "execution_count": 3,
   "metadata": {},
   "outputs": [
    {
     "data": {
      "application/vnd.jupyter.widget-view+json": {
       "model_id": "30b5f214c6b64d22b5d6b5565e5e8340",
       "version_major": 2,
       "version_minor": 0
      },
      "text/plain": [
       "Interactive function <function perfect_num at 0x7f7407654360> with 1 widget\n",
       "  n: IntSlider(value=1000, description='n', max=3000, min=-1000)"
      ]
     },
     "metadata": {},
     "output_type": "display_data"
    }
   ],
   "source": [
    "@interact\n",
    "def perfect_num(n=1000):\n",
    "    perfect_number = []\n",
    "    for i in range(1, n+1):\n",
    "        if sigma(i) - i == i:\n",
    "            perfect_number.append(i)\n",
    "    return perfect_number"
   ]
  },
  {
   "cell_type": "code",
   "execution_count": 4,
   "metadata": {},
   "outputs": [
    {
     "data": {
      "application/vnd.jupyter.widget-view+json": {
       "model_id": "35fbf4b3eae041b8a01e395fb4323d6e",
       "version_major": 2,
       "version_minor": 0
      },
      "text/plain": [
       "Interactive function <function list_tau_sigma at 0x7f74076545e0> with 1 widget\n",
       "  n: IntSlider(value=500, description='n', max=1500, min=-500)"
      ]
     },
     "metadata": {},
     "output_type": "display_data"
    }
   ],
   "source": [
    "@interact\n",
    "def list_tau_sigma(n=500):\n",
    "    l = {}\n",
    "    for i in [1..n]:\n",
    "        t = tau(i) \n",
    "        s = sigma(i)\n",
    "        if i in perfect_num():\n",
    "            if i not in l:\n",
    "                l[i] = [(t,s)]\n",
    "            else:\n",
    "                l[i].append((t,s))\n",
    "    return dict(sorted(l.items()))"
   ]
  },
  {
   "cell_type": "markdown",
   "metadata": {},
   "source": [
    "**Conjecture:** If n is a perfect number, then $\\sigma(n) = 2n$."
   ]
  },
  {
   "cell_type": "markdown",
   "metadata": {},
   "source": [
    "### Exploring Question 2 <a class=\"anchor\" id=\"exploring-question-1\"></a>\n"
   ]
  },
  {
   "cell_type": "code",
   "execution_count": 5,
   "metadata": {
    "scrolled": true
   },
   "outputs": [
    {
     "data": {
      "application/vnd.jupyter.widget-view+json": {
       "model_id": "054dc8d1574449bf8c54593429fe0704",
       "version_major": 2,
       "version_minor": 0
      },
      "text/plain": [
       "Interactive function <function list_tau_sigma at 0x7f7407654a40> with 1 widget\n",
       "  n: IntSlider(value=50, description='n', max=150, min=-50)"
      ]
     },
     "metadata": {},
     "output_type": "display_data"
    }
   ],
   "source": [
    "@interact\n",
    "def list_tau_sigma(n=50):\n",
    "    l = {}\n",
    "    for i in [1..n]:\n",
    "        t = tau(i) \n",
    "\n",
    "        s = sigma(i)\n",
    "        if i not in l:\n",
    "            l[i] = [(t,s)]\n",
    "        else:\n",
    "            l[i].append((t,s))\n",
    "    return dict(sorted(l.items()))"
   ]
  },
  {
   "cell_type": "code",
   "execution_count": 6,
   "metadata": {
    "scrolled": true
   },
   "outputs": [
    {
     "data": {
      "application/vnd.jupyter.widget-view+json": {
       "model_id": "92d62cc2fa9948a6937f814428ae8a31",
       "version_major": 2,
       "version_minor": 0
      },
      "text/plain": [
       "Interactive function <function additive_function at 0x7f7407654c20> with 1 widget\n",
       "  n: IntSlider(value=50, description='n', max=150, min=-50)"
      ]
     },
     "metadata": {},
     "output_type": "display_data"
    }
   ],
   "source": [
    "@interact\n",
    "def additive_function(n = 50):\n",
    "    additive_fun = []\n",
    "    for i in range(1, n+1):\n",
    "        for j in range(1, n+1):\n",
    "            if tau(i + j) == tau(i) + tau(j):\n",
    "                additive_fun.append((i,j))\n",
    "    return additive_fun"
   ]
  },
  {
   "cell_type": "markdown",
   "metadata": {},
   "source": [
    "## Conjectures to Explore  <a class=\"anchor\" id=\"conjectures-to-explore\"></a>\n",
    "\n",
    "1. If $n$ can be expressed as product of $2$ distinct prime then $\\tau(n)$ is additive and $\\sigma(n)$ is even."
   ]
  },
  {
   "cell_type": "code",
   "execution_count": null,
   "metadata": {},
   "outputs": [],
   "source": []
  },
  {
   "cell_type": "markdown",
   "metadata": {},
   "source": [
    "### Exploring Conjecture 1 <a class=\"anchor\" id=\"exploring-conjecture-1\"></a>\n",
    "\n",
    "If $p$ is prime then $\\tau(p) = 2$, $\\sigma(p) = p+1$"
   ]
  },
  {
   "cell_type": "code",
   "execution_count": null,
   "metadata": {},
   "outputs": [],
   "source": []
  },
  {
   "cell_type": "code",
   "execution_count": null,
   "metadata": {},
   "outputs": [],
   "source": []
  },
  {
   "cell_type": "markdown",
   "metadata": {},
   "source": [
    "### Exploring Conjecture 2  <a class=\"anchor\" id=\"exploring-conjecture-2\"></a>"
   ]
  },
  {
   "cell_type": "code",
   "execution_count": null,
   "metadata": {},
   "outputs": [],
   "source": []
  },
  {
   "cell_type": "code",
   "execution_count": 8,
   "metadata": {},
   "outputs": [],
   "source": [
    "def tau(n):\n",
    "    return len(divisors(n))"
   ]
  },
  {
   "cell_type": "code",
   "execution_count": 9,
   "metadata": {},
   "outputs": [],
   "source": [
    "def sigma(n):\n",
    "    return sum(divisors(n))"
   ]
  },
  {
   "cell_type": "code",
   "execution_count": 13,
   "metadata": {},
   "outputs": [],
   "source": [
    "def additive_function(n):\n",
    "    additive_fun = []\n",
    "    for i in range(1,n+1):\n",
    "        for j in range(1, n+1):\n",
    "            if tau(i + j) == tau(i) + tau(j):\n",
    "                additive_fun.append((i,j))\n",
    "    return additive_fun"
   ]
  },
  {
   "cell_type": "code",
   "execution_count": 15,
   "metadata": {},
   "outputs": [
    {
     "data": {
      "text/plain": [
       "[(1, 1),\n",
       " (1, 3),\n",
       " (1, 9),\n",
       " (2, 10),\n",
       " (3, 1),\n",
       " (3, 3),\n",
       " (3, 5),\n",
       " (3, 7),\n",
       " (5, 3),\n",
       " (5, 5),\n",
       " (7, 3),\n",
       " (7, 7),\n",
       " (7, 9),\n",
       " (9, 1),\n",
       " (9, 7),\n",
       " (9, 9),\n",
       " (10, 2)]"
      ]
     },
     "execution_count": 15,
     "metadata": {},
     "output_type": "execute_result"
    }
   ],
   "source": [
    "additive_function(10)"
   ]
  },
  {
   "cell_type": "code",
   "execution_count": null,
   "metadata": {},
   "outputs": [],
   "source": [
    "all([tau(i + j) == tau(i) + tau(j) for ])"
   ]
  }
 ],
 "metadata": {
  "kernelspec": {
   "display_name": "SageMath 10.4",
   "language": "sage",
   "name": "sagemath"
  },
  "language_info": {
   "codemirror_mode": {
    "name": "ipython",
    "version": 3
   },
   "file_extension": ".py",
   "mimetype": "text/x-python",
   "name": "python",
   "nbconvert_exporter": "python",
   "pygments_lexer": "ipython3",
   "version": "3.11.2"
  }
 },
 "nbformat": 4,
 "nbformat_minor": 4
}
