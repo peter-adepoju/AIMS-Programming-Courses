{
 "cells": [
  {
   "cell_type": "markdown",
   "metadata": {},
   "source": [
    "<img src=\"./images/aims-za-logo.jpeg\" alt=\"drawing\" style=\"width:400px;\"/>\n",
    "<h1 style=\"text-align: center;\"><a title=\"EMS-AIMS-ZA-2024-25\" href=\"https://evansdoe.github.io/aims-za/ems/2024-25\">Experimental Mathematics Using SageMath — AIMS-ZA-2024-25</a></h1>\n",
    "\n",
    "\n",
    "## Instructors: \n",
    "\n",
    "\n",
    "* <a href=\"http://evansdoe.github.io\">**Evans Ocansey**</a>"
   ]
  },
  {
   "cell_type": "markdown",
   "metadata": {},
   "source": [
    "## Day 06 — New Experiments: Sum of Squares and Plotting <a class=\"anchor\" id=\"new-experiment-sum-of-squares-and-plotting\"></a>\n",
    "\n",
    "\n",
    "\n",
    "\n",
    "\n",
    "\n",
    "The outline of the this notebook is as follows:"
   ]
  },
  {
   "cell_type": "markdown",
   "metadata": {},
   "source": [
    "## Table of Contents: <a class=\"anchor\" id=\"day-05-toc\"></a> \n",
    "* [ ] [<font color=blue>Reviewing the Frobenius Problem</font>](#reviewing-the-frobenius-problem)\n",
    "  * [<font color=blue>Last Thoughts on the Conductor</font>](#last-thoughts-on-the-conductor)\n",
    "* [ ] [<font color=blue>New Experiment — Sum of Squares </font>](#new-experiment-sum-of-squares)\n",
    "  * [<font color=blue>Exploratory Questions — Sum of Squares </font>](#exploratory-questions-sum-of-squares)\n",
    "* [ ] [<font color=blue>More Plotting and Graphics in Two Dimensions</font>](#more-plotting-and-graphics-in-two-dimensions)"
   ]
  },
  {
   "cell_type": "markdown",
   "metadata": {},
   "source": [
    "## Reviewing the Frobenius Problem <a class = \"anchor\" id=\"reviewing-the-frobenius-problem\"></a>\n",
    "Our motivational problem is the following: \n",
    " - Given positive integers $a$ and $b$, what numbers $m$ can be written in the form $a\\,x+b\\,y$, where $x,\\,y \\in \\mathbb{Z}_{\\ge0}$? \n",
    "\n",
    "Given positive integers $a$ and $b$ if there is a positive integer $c$, with $c = a\\,x + b\\,y$ such that for all positive integers $n \\ge c$, there are non-negative integers $x$ and $y$ with $n = a\\,x + b\\,y$, then $c$ is called the *conductor* of $a$ and $b$. In other words, $c_{\\{a,b\\}}$ is the smallest positive integer that can be written as $a\\,x + b\\,y$ such that  all positive integers greater than or equal to $c_{\\{a,b\\}}$ are also writable. We will denote the conductor of $a$ and $b$ by $c_{\\{a,b\\}}$.  \n",
    "On the other hand, the largest positive integer $f$ that can not be written as $f = a\\,x + b\\,y$ is called the  *Frobenius number* of $a$ and $b$. We will denote this by $f_{\\{a,b\\}}$.\n",
    "\n",
    "It has already led to several related questions. Hopefully you were able to explore the following questions and made interesting _conjectures_.\n",
    "\n",
    " - Given two positive integers $a$  and $b$, how many numbers can not be written as $a\\,x + b\\,y$ with $x,\\,y\\in\\mathbb{Z}_{\\ge0}$?\n",
    " - If $a$ is even and $b$ is odd, what is the Frobenius number? \n",
    " - If $a$ is even and $b$ is even, what is the Frobenius number? \n",
    " - If $a$ is odd and $b$ is odd, what is the Frobenius number? \n",
    " - If $a$ and $b$ are prime numbers, what is the Frobenius number? \n",
    " - Given two positive integers $a$ and $b$, can we find a formula or some other means of computing the Frobenius number?\n",
    " - If $a,\\, b \\in \\mathbb{Z}_{>0}$ and $\\gcd(a, b) \\neq 1$, does the Frobenius number exist?\n",
    "\n",
    "Here are some questions that we possed together in class: \n",
    "- Given that either $a = 1$ or $b = 1$, but not both, is it possible to define a Frobenius number, $f_{\\{a,b\\}}$ and a conductor, $c_{\\{a,b\\}}$? If so what is it?\n",
    "- If $a$ and $b$ have a common factor greater than $1$, does there exist a Frobenius number, $f_{\\{a,b\\}}$ and a conductor, $c_{\\{a,b\\}}$?\n",
    "- If $a$ is even and $b$ is odd what is the Frobenius number and conductor?\n",
    "- If $f_{\\{a,b\\}}=\\infty$ for $a,\\,b \\in \\mathbb{Z}_{>0}$, is it always true that the conductor, $c_{\\{a,b\\}}$ is also infinity. How about the vice-versa of this statement?\n",
    "- Is there a case such that given $a,\\,b \\in \\mathbb{Z}_{>0}$ there exists a Frobenius number, $f_{\\{a,b\\}}$ but not a conductor, $c_{\\{a,b\\}}$?\n",
    "- What is the existence condition for a Frobenius number, $f_{\\{a,b\\}}$ and a conductor, $c_{\\{a,b\\}}$ given $a, b\\in\\mathbb{Z}_{>0}$?\n",
    "- If $a,b\\in\\mathbb{Z}_{>0}$ and there exist a Fronbenius number, $f_{\\{a,b\\}}$ and a conductor, $c_{\\{a,b\\}}$, is there a relationship between:\n",
    "  - $f_{\\{a,\\,b\\}}$ and $c_{\\{a,\\,b\\}}$?\n",
    "  - $f_{\\{a,\\,b\\}}$, $a$, and $b$?\n",
    "  - $c_{\\{a,\\,b\\}}$, $a$, and $b$?"
   ]
  },
  {
   "cell_type": "code",
   "execution_count": null,
   "metadata": {},
   "outputs": [],
   "source": []
  },
  {
   "cell_type": "markdown",
   "metadata": {},
   "source": [
    "### Last Thoughts on the Conductor <a class = \"anchor\" id=\"last-thoughts-on-the-conductor\"></a>\n",
    "\n",
    "Are there more questions we can explore about the Frobenius problem?\n",
    "\n",
    "- What if instead of two positive integers $a$ and $b$, we have more than $3$ positive integers $a, b, c$?  \n",
    "\n",
    "**Question**: Is there such a thing as a *conductor* or a *Frobenius number* for a set of _three_ integers?\n",
    "That is, is there a conductor for numbers of the form $n=5x+8y+7z$, for the set $\\{5,8,7\\}$?\n",
    "\n",
    "   * Well, what about for $\\{3,4,7\\}$?\n",
    "   * Okay, what about $\\{3,4,6\\}$?\n",
    "   * Ah, but what about $\\{3,4,5\\}$?\n",
    "\n",
    "**Question**: We observed from our experiments with two positive integers $a$ and $b$ that the existence criterion for the Frobenius number $f_{\\{a,b\\}}$ is that $a$ and $b$ must be coprime, i.e., $\\gcd(a, b)=1$. Would this criterion also hold for the case of three positive integers: $a$, $b$, and $c$?\n",
    "\n",
    "\n",
    "Do you think there a formula for the Frobenius number $f_{\\{a,b\\}}$, and the conductor $c_{\\{a,b\\}}$?  What about for bigger sets of integers, for example, for three positive integers $a$, $b$, and $c$?\n",
    "\n",
    "   * For sets of two, it turns out there is a _complete answer_ which some of you have either discovered it already or busy discovering.\n",
    "   * For sets of three numbers, like $n=5\\,x+8\\,y+7\\,z$, there is an efficient algorithm, but no exact formula.\n",
    "\n",
    "Notice the connection between theory and practice!  Solving this problem could easily solve a \"real-life\" business problem, so a good algorithm would be very important. But finding such an algorithm requires exploration and experimentation like we have been doing.  \n",
    "\n",
    "This [video](https://www.youtube.com/watch?v=vNTSugyS038) gives us a practical application of the Frobenius problem in real life."
   ]
  },
  {
   "cell_type": "markdown",
   "metadata": {},
   "source": [
    "Click [**here**](#day-05-toc) if you want to go back to the table of content of this notebook. Otherwise, continue to the next [**Section**](#new-experiment-sum-of-squares)."
   ]
  },
  {
   "cell_type": "markdown",
   "metadata": {},
   "source": [
    "## New Experiment — Sum of Squares <a class=\"anchor\" id=\"new-experiment-sum-of-squares\"></a>\n",
    "\n",
    "With that in mind, let's begin our next exploration. Hopefully you have had some fun experimenting with the condunctor problem. Today we will introduce a new problem to keep up the fun spirit of experimental mathematics. Namely, what numbers can be written in the form $n=a^2+b^2$?\n",
    "\n",
    "Here are a cases that do and do not work.\n",
    "\n",
    "   * $2 = 1^2+1^2$ works;\n",
    "   * $3$ does not work, since we only allow integers.  $1+1$ is too small, $1^2+2^2=5$ is too big;\n",
    "   * $4$ actually <em>does</em> work, because we allow $4 = 0^2+2^2$.  (That's just one of our rules; you could play a different game if you wanted.);\n",
    "   * That means $1=1^2+0^2$ works.\n",
    "   * $5$ works.\n",
    "And so forth. "
   ]
  },
  {
   "cell_type": "markdown",
   "metadata": {},
   "source": [
    "## Exploratory Questions — Sum of Squares <a class=\"anchor\" id=\"exploratory-questions-sum-of-squares\"></a>\n",
    "Can you think of questions that you can explore experimentally? Last Friday, we formulated the following questions. I also added extra questions.\n",
    "\n",
    "1. Which positive integers can be written as a sum of two squares?\n",
    "2. Which ones cannot be written?\n",
    "3. Are numbers that can be represented as a sum of two squares always odd or always even? Or do they vary?\n",
    "4. What are the sum of squares that are even or odd integers?\n",
    "5. Is the sum of squares of two numbers generally even or odd? What factors influence this?\n",
    "6. What are the sum of squares that are perfect squares? What is the probability that the sum of squares is a perfect square? When is this condition true?\n",
    "7. If $a$ is a factor of $b$, under what conditions is the sum of their squares a perfect square?\n",
    "8. Can either $a$ or $b$ be a factor of the sum of their squares?\n",
    "9. For which values of $a$ and $b$ is the sum of their squares a prime number?\n",
    "10. Can there be two or more distinct pairs of $a$ and $b$ that yield the same sum of squares? If so, what are these pairs?\n",
    "11. Is the sum of the squares of two consecutive integers always odd? If not, when does it differ?\n",
    "12. If $a$ and $b$ are both odd, is the sum of their squares odd or even?\n",
    "13. If $a$ is odd and $b$ is even, what is the sum of their squares?\n",
    "14. If $a$ is the only even prime (i.e., $2$) and $b$ is an odd prime, is the sum of their squares a prime number?\n",
    "15. Which numbers can be written as a sum of squares of two prime numbers?\n",
    "16. Which positive integers can be expressed as the sum of squares of their factors? Are there identifiable patterns?\n",
    "17. Given $a$ and $b$ are both prime, under what conditions is $a^2 + b^2$ also prime?\n",
    "18. Are there forms other than $x^2 + 0^2$ for representing a square root as a sum of squares?\n",
    "\n",
    "Each question could reveal patterns or conjectures. Let's proceed systematically as follows:\n",
    "\n",
    "   - **Identify** when the statement holds true or false.\n",
    "   - **Analyze patterns** in the results generated.\n",
    "   - **Make conjectures** about underlying rules or relationships based on observed patterns."
   ]
  },
  {
   "cell_type": "code",
   "execution_count": null,
   "metadata": {},
   "outputs": [],
   "source": []
  },
  {
   "cell_type": "markdown",
   "metadata": {},
   "source": [
    "- Let us start by working with pens and paper.\n",
    "- I will create a table on the board for us to fill it out.\n",
    "- We will divide ourselves into groups and try the case for $n$ running from $1$ to $100$ to fillout the table.\n",
    "- We will study the table to see if we can observe some patterns in the data and make some interesting conjectures.\n",
    "- When we are done, we will go to the computer lab and see how we can translate the table we have created using an appropriate Python datatype.\n",
    "- Once we have the tabular data correctly encoded, we will further explore our questions in groups using SageMath."
   ]
  },
  {
   "cell_type": "markdown",
   "metadata": {},
   "source": [
    "### Generate Sum of Squares Data <a class = \"anchor\" id=\"generate-sum-of-squares-data\"></a>"
   ]
  },
  {
   "cell_type": "code",
   "execution_count": 19,
   "metadata": {},
   "outputs": [],
   "source": [
    "def generate_sum_of_squares_data(\n",
    "    a_bound: int = 6,\n",
    "    b_bound: int = 6\n",
    ") -> dict[int, list[tuple[int, int]]]:\n",
    "    r\"\"\"Generates a database of integers as sums of two squares.\n",
    "\n",
    "    This function creates a dictionary where each key is an integer \n",
    "    that can be represented as the sum of squares of two non-negative \n",
    "    integers `a` and `b`, with `a` bounded by `a_bound` and `b` bounded \n",
    "    by `b_bound`. The dictionary is sorted by its keys in ascending order. \n",
    "    The value for each key is a list of tuples, each tuple representing \n",
    "    a unique pair `(a, b)` such that `n = a^2 + b^2`.\n",
    "\n",
    "    Args:\n",
    "        a_bound (int): The upper bound for the integer `a` (inclusive). Defaults to 6.\n",
    "        b_bound (int): The upper bound for the integer `b` (inclusive). Defaults to 6.\n",
    "\n",
    "    Returns:\n",
    "        dict[int, list[tuple[int, int]]]: A dictionary where each key is an integer \n",
    "        that can be written as `a^2 + b^2` for some integers `a` and `b` within \n",
    "        the specified bounds. The value for each key is a list of tuples, \n",
    "        each tuple being a pair `(a, b)` that satisfies the sum of squares condition.\n",
    "\n",
    "    \n",
    "    Example:\n",
    "        >>> generate_sum_of_squares_data(3, 3)\n",
    "        {0: [(0, 0)], 1: [(1, 0), (0, 1)], 2: [(1, 1)], 4: [(2, 0), (0, 2)], \n",
    "         5: [(2, 1), (1, 2)], 9: [(3, 0), (0, 3)], 10: [(3, 1), (1, 3)], 13: [(3, 2), (2, 3)]}\n",
    "    \"\"\"\n",
    "    \n",
    "    sum_of_squares_data = {}\n",
    "    for a in [0..a_bound]:\n",
    "        for b in [0..b_bound]:\n",
    "            n = a**2 + b**2\n",
    "            if n not in sum_of_squares_data:\n",
    "                sum_of_squares_data[n] = [(a, b)]\n",
    "            else:\n",
    "                sum_of_squares_data[n].append((a, b))\n",
    "    return dict(sorted(sum_of_squares_data.items()))\n"
   ]
  },
  {
   "cell_type": "markdown",
   "metadata": {},
   "source": [
    "### Students' conjectures <a class=\"anchor\" id=\"students-conjectures\"></a> \n",
    "\n",
    "The following conjectures were made by students in today's class after working with pens and papers to generate data and observing it.\n",
    "\n",
    "- If $n$ is odd, then the pair $(a,b)$ has one to be even and the other odd.\n",
    "- If $a$ and $b$ are both even, then $n$ is even and if $a$ and $b$ are both odd, then $n$ is even.\n",
    "- If $n=a^2+b^2$ for $a,b\\in\\mathbb{N}$ then $a,b\\leq\\sqrt{n}$.\n",
    "- If $n=a^2+b^2$ for $a,b\\in\\mathbb{N}$, then the maximum number of pairs $(a,b)$ for fixed $n$ is equal to 4.\n",
    "- If $n$ has 4 pairs of solution, then $n$ is a multiple of $5$.\n",
    "- If $n$ is prime and $n > 2$, then the number of $(a,b)$ is always $2$.\n",
    "- If $a=b$, $n=2a^2$ or $n=2b^2$. If a or b is equal to zero, then $n=a^2$ or $b^2$.\n",
    "- If $n$ is a perfect square, the number of $(a,b)$ is 2.\n",
    "- If $n$ is an odd prime and can be written as 1 mod 4, then it can be written as $a^2+b^2$."
   ]
  },
  {
   "cell_type": "code",
   "execution_count": 7,
   "metadata": {},
   "outputs": [],
   "source": [
    "data = generate_sum_of_squares_data(a_bound=50, b_bound=50)"
   ]
  },
  {
   "cell_type": "code",
   "execution_count": 14,
   "metadata": {},
   "outputs": [
    {
     "data": {
      "text/plain": [
       "False"
      ]
     },
     "execution_count": 14,
     "metadata": {},
     "output_type": "execute_result"
    }
   ],
   "source": [
    "is_len_4 = lambda x : len(x) == 4\n",
    "sub_data = {key: val for key, val in data.items() if val in list(filter(is_len_4, data.values()))}\n",
    "all([mod(key, 5) == 0 for key in sub_data.keys()])"
   ]
  },
  {
   "cell_type": "code",
   "execution_count": 17,
   "metadata": {},
   "outputs": [
    {
     "data": {
      "text/plain": [
       "{25: [(0, 5), (3, 4), (4, 3), (5, 0)],\n",
       " 65: [(1, 8), (4, 7), (7, 4), (8, 1)],\n",
       " 85: [(2, 9), (6, 7), (7, 6), (9, 2)],\n",
       " 100: [(0, 10), (6, 8), (8, 6), (10, 0)],\n",
       " 125: [(2, 11), (5, 10), (10, 5), (11, 2)],\n",
       " 130: [(3, 11), (7, 9), (9, 7), (11, 3)],\n",
       " 145: [(1, 12), (8, 9), (9, 8), (12, 1)],\n",
       " 170: [(1, 13), (7, 11), (11, 7), (13, 1)],\n",
       " 185: [(4, 13), (8, 11), (11, 8), (13, 4)],\n",
       " 205: [(3, 14), (6, 13), (13, 6), (14, 3)],\n",
       " 225: [(0, 15), (9, 12), (12, 9), (15, 0)],\n",
       " 250: [(5, 15), (9, 13), (13, 9), (15, 5)],\n",
       " 260: [(2, 16), (8, 14), (14, 8), (16, 2)],\n",
       " 265: [(3, 16), (11, 12), (12, 11), (16, 3)],\n",
       " 290: [(1, 17), (11, 13), (13, 11), (17, 1)],\n",
       " 305: [(4, 17), (7, 16), (16, 7), (17, 4)],\n",
       " 340: [(4, 18), (12, 14), (14, 12), (18, 4)],\n",
       " 365: [(2, 19), (13, 14), (14, 13), (19, 2)],\n",
       " 370: [(3, 19), (9, 17), (17, 9), (19, 3)],\n",
       " 400: [(0, 20), (12, 16), (16, 12), (20, 0)],\n",
       " 410: [(7, 19), (11, 17), (17, 11), (19, 7)],\n",
       " 445: [(2, 21), (11, 18), (18, 11), (21, 2)],\n",
       " 485: [(1, 22), (14, 17), (17, 14), (22, 1)],\n",
       " 500: [(4, 22), (10, 20), (20, 10), (22, 4)],\n",
       " 505: [(8, 21), (12, 19), (19, 12), (21, 8)],\n",
       " 520: [(6, 22), (14, 18), (18, 14), (22, 6)],\n",
       " 530: [(1, 23), (13, 19), (19, 13), (23, 1)],\n",
       " 545: [(4, 23), (16, 17), (17, 16), (23, 4)],\n",
       " 565: [(6, 23), (9, 22), (22, 9), (23, 6)],\n",
       " 580: [(2, 24), (16, 18), (18, 16), (24, 2)],\n",
       " 585: [(3, 24), (12, 21), (21, 12), (24, 3)],\n",
       " 610: [(9, 23), (13, 21), (21, 13), (23, 9)],\n",
       " 680: [(2, 26), (14, 22), (22, 14), (26, 2)],\n",
       " 685: [(3, 26), (18, 19), (19, 18), (26, 3)],\n",
       " 730: [(1, 27), (17, 21), (21, 17), (27, 1)],\n",
       " 740: [(8, 26), (16, 22), (22, 16), (26, 8)],\n",
       " 745: [(4, 27), (13, 24), (24, 13), (27, 4)],\n",
       " 765: [(6, 27), (18, 21), (21, 18), (27, 6)],\n",
       " 785: [(1, 28), (16, 23), (23, 16), (28, 1)],\n",
       " 820: [(6, 28), (12, 26), (26, 12), (28, 6)],\n",
       " 865: [(9, 28), (17, 24), (24, 17), (28, 9)],\n",
       " 890: [(7, 29), (19, 23), (23, 19), (29, 7)],\n",
       " 900: [(0, 30), (18, 24), (24, 18), (30, 0)],\n",
       " 905: [(8, 29), (11, 28), (28, 11), (29, 8)],\n",
       " 965: [(2, 31), (17, 26), (26, 17), (31, 2)],\n",
       " 970: [(3, 31), (21, 23), (23, 21), (31, 3)],\n",
       " 985: [(12, 29), (16, 27), (27, 16), (29, 12)],\n",
       " 1000: [(10, 30), (18, 26), (26, 18), (30, 10)],\n",
       " 1010: [(7, 31), (13, 29), (29, 13), (31, 7)],\n",
       " 1040: [(4, 32), (16, 28), (28, 16), (32, 4)],\n",
       " 1060: [(6, 32), (22, 24), (24, 22), (32, 6)],\n",
       " 1090: [(1, 33), (19, 27), (27, 19), (33, 1)],\n",
       " 1125: [(6, 33), (15, 30), (30, 15), (33, 6)],\n",
       " 1130: [(13, 31), (17, 29), (29, 17), (31, 13)],\n",
       " 1145: [(11, 32), (19, 28), (28, 19), (32, 11)],\n",
       " 1160: [(2, 34), (22, 26), (26, 22), (34, 2)],\n",
       " 1165: [(3, 34), (18, 29), (29, 18), (34, 3)],\n",
       " 1170: [(9, 33), (21, 27), (27, 21), (33, 9)],\n",
       " 1205: [(7, 34), (23, 26), (26, 23), (34, 7)],\n",
       " 1220: [(8, 34), (14, 32), (32, 14), (34, 8)],\n",
       " 1225: [(0, 35), (21, 28), (28, 21), (35, 0)],\n",
       " 1285: [(14, 33), (18, 31), (31, 18), (33, 14)],\n",
       " 1305: [(3, 36), (24, 27), (27, 24), (36, 3)],\n",
       " 1345: [(7, 36), (16, 33), (33, 16), (36, 7)],\n",
       " 1360: [(8, 36), (24, 28), (28, 24), (36, 8)],\n",
       " 1370: [(1, 37), (23, 29), (29, 23), (37, 1)],\n",
       " 1385: [(4, 37), (19, 32), (32, 19), (37, 4)],\n",
       " 1405: [(6, 37), (26, 27), (27, 26), (37, 6)],\n",
       " 1460: [(4, 38), (26, 28), (28, 26), (38, 4)],\n",
       " 1465: [(13, 36), (21, 32), (32, 21), (36, 13)],\n",
       " 1480: [(6, 38), (18, 34), (34, 18), (38, 6)],\n",
       " 1490: [(11, 37), (23, 31), (31, 23), (37, 11)],\n",
       " 1530: [(3, 39), (21, 33), (33, 21), (39, 3)],\n",
       " 1565: [(11, 38), (14, 37), (37, 14), (38, 11)],\n",
       " 1570: [(7, 39), (27, 29), (29, 27), (39, 7)],\n",
       " 1585: [(8, 39), (17, 36), (36, 17), (39, 8)],\n",
       " 1600: [(0, 40), (24, 32), (32, 24), (40, 0)],\n",
       " 1640: [(14, 38), (22, 34), (34, 22), (38, 14)],\n",
       " 1665: [(12, 39), (24, 33), (33, 24), (39, 12)],\n",
       " 1685: [(2, 41), (23, 34), (34, 23), (41, 2)],\n",
       " 1730: [(7, 41), (19, 37), (37, 19), (41, 7)],\n",
       " 1745: [(8, 41), (28, 31), (31, 28), (41, 8)],\n",
       " 1765: [(1, 42), (26, 33), (33, 26), (42, 1)],\n",
       " 1780: [(4, 42), (22, 36), (36, 22), (42, 4)],\n",
       " 1810: [(17, 39), (21, 37), (37, 21), (39, 17)],\n",
       " 1845: [(9, 42), (18, 39), (39, 18), (42, 9)],\n",
       " 1865: [(4, 43), (29, 32), (32, 29), (43, 4)],\n",
       " 1930: [(9, 43), (29, 33), (33, 29), (43, 9)],\n",
       " 1940: [(2, 44), (28, 34), (34, 28), (44, 2)],\n",
       " 1945: [(3, 44), (24, 37), (37, 24), (44, 3)],\n",
       " 1970: [(11, 43), (17, 41), (41, 17), (43, 11)],\n",
       " 1985: [(7, 44), (31, 32), (32, 31), (44, 7)],\n",
       " 2000: [(8, 44), (20, 40), (40, 20), (44, 8)],\n",
       " 2005: [(18, 41), (22, 39), (39, 22), (41, 18)],\n",
       " 2020: [(16, 42), (24, 38), (38, 24), (42, 16)],\n",
       " 2025: [(0, 45), (27, 36), (36, 27), (45, 0)],\n",
       " 2045: [(14, 43), (26, 37), (37, 26), (43, 14)],\n",
       " 2080: [(12, 44), (28, 36), (36, 28), (44, 12)],\n",
       " 2105: [(13, 44), (16, 43), (43, 16), (44, 13)],\n",
       " 2120: [(2, 46), (26, 38), (38, 26), (46, 2)],\n",
       " 2165: [(7, 46), (22, 41), (41, 22), (46, 7)],\n",
       " 2180: [(8, 46), (32, 34), (34, 32), (46, 8)],\n",
       " 2245: [(6, 47), (33, 34), (34, 33), (47, 6)],\n",
       " 2250: [(15, 45), (27, 39), (39, 27), (45, 15)],\n",
       " 2260: [(12, 46), (18, 44), (44, 18), (46, 12)],\n",
       " 2285: [(13, 46), (29, 38), (38, 29), (46, 13)],\n",
       " 2290: [(9, 47), (21, 43), (43, 21), (47, 9)],\n",
       " 2305: [(1, 48), (28, 39), (39, 28), (48, 1)],\n",
       " 2320: [(4, 48), (32, 36), (36, 32), (48, 4)],\n",
       " 2330: [(11, 47), (31, 37), (37, 31), (47, 11)],\n",
       " 2340: [(6, 48), (24, 42), (42, 24), (48, 6)],\n",
       " 2385: [(9, 48), (33, 36), (36, 33), (48, 9)],\n",
       " 2410: [(3, 49), (27, 41), (41, 27), (49, 3)],\n",
       " 2440: [(18, 46), (26, 42), (42, 26), (46, 18)],\n",
       " 2545: [(12, 49), (32, 39), (39, 32), (49, 12)],\n",
       " 2570: [(13, 49), (19, 47), (47, 19), (49, 13)],\n",
       " 2650: [(21, 47), (25, 45), (45, 25), (47, 21)],\n",
       " 2690: [(17, 49), (29, 43), (43, 29), (49, 17)],\n",
       " 2885: [(22, 49), (26, 47), (47, 26), (49, 22)],\n",
       " 2900: [(20, 50), (28, 46), (46, 28), (50, 20)],\n",
       " 3050: [(29, 47), (37, 41), (41, 37), (47, 29)],\n",
       " 3125: [(25, 50), (38, 41), (41, 38), (50, 25)],\n",
       " 3145: [(29, 48), (36, 43), (43, 36), (48, 29)]}"
      ]
     },
     "execution_count": 17,
     "metadata": {},
     "output_type": "execute_result"
    }
   ],
   "source": [
    "{key: val for key, val in sub_data.items() if mod(key, 5) == 0}"
   ]
  },
  {
   "cell_type": "code",
   "execution_count": null,
   "metadata": {},
   "outputs": [],
   "source": []
  },
  {
   "cell_type": "code",
   "execution_count": null,
   "metadata": {},
   "outputs": [],
   "source": []
  },
  {
   "cell_type": "markdown",
   "metadata": {},
   "source": [
    "Hopefully you have tried some examples. Now let us have ourselves in groups and explore our questions using _SageMath_. As you explore, try to write your observation. Later on I will call on the spokesperson of a group to report their findings."
   ]
  },
  {
   "cell_type": "code",
   "execution_count": 1,
   "metadata": {},
   "outputs": [
    {
     "data": {
      "text/plain": [
       "[0,\n",
       " 1,\n",
       " 1,\n",
       " 2,\n",
       " 4,\n",
       " 4,\n",
       " 5,\n",
       " 5,\n",
       " 8,\n",
       " 9,\n",
       " 9,\n",
       " 10,\n",
       " 10,\n",
       " 13,\n",
       " 13,\n",
       " 16,\n",
       " 16,\n",
       " 17,\n",
       " 17,\n",
       " 18,\n",
       " 20,\n",
       " 20,\n",
       " 25,\n",
       " 25,\n",
       " 25,\n",
       " 25,\n",
       " 26,\n",
       " 26,\n",
       " 29,\n",
       " 29,\n",
       " 32,\n",
       " 34,\n",
       " 34,\n",
       " 36,\n",
       " 36,\n",
       " 37,\n",
       " 37,\n",
       " 40,\n",
       " 40,\n",
       " 41,\n",
       " 41,\n",
       " 45,\n",
       " 45,\n",
       " 49,\n",
       " 49,\n",
       " 50,\n",
       " 50,\n",
       " 50,\n",
       " 52,\n",
       " 52,\n",
       " 53,\n",
       " 53,\n",
       " 58,\n",
       " 58,\n",
       " 61,\n",
       " 61,\n",
       " 64,\n",
       " 64,\n",
       " 65,\n",
       " 65,\n",
       " 65,\n",
       " 65,\n",
       " 68,\n",
       " 68,\n",
       " 72,\n",
       " 73,\n",
       " 73,\n",
       " 74,\n",
       " 74,\n",
       " 80,\n",
       " 80,\n",
       " 81,\n",
       " 81,\n",
       " 82,\n",
       " 82,\n",
       " 85,\n",
       " 85,\n",
       " 85,\n",
       " 85,\n",
       " 89,\n",
       " 89,\n",
       " 90,\n",
       " 90,\n",
       " 97,\n",
       " 97,\n",
       " 98,\n",
       " 100,\n",
       " 100,\n",
       " 100,\n",
       " 100,\n",
       " 101,\n",
       " 101,\n",
       " 104,\n",
       " 104,\n",
       " 106,\n",
       " 106,\n",
       " 109,\n",
       " 109,\n",
       " 113,\n",
       " 113,\n",
       " 116,\n",
       " 116,\n",
       " 117,\n",
       " 117,\n",
       " 125,\n",
       " 125,\n",
       " 128,\n",
       " 130,\n",
       " 130,\n",
       " 136,\n",
       " 136,\n",
       " 145,\n",
       " 145,\n",
       " 149,\n",
       " 149,\n",
       " 162,\n",
       " 164,\n",
       " 164,\n",
       " 181,\n",
       " 181,\n",
       " 200]"
      ]
     },
     "execution_count": 1,
     "metadata": {},
     "output_type": "execute_result"
    },
    {
     "name": "stdout",
     "output_type": "stream",
     "text": [
      "The history saving thread hit an unexpected error (OperationalError('attempt to write a readonly database')).History will not be written to the database.\n"
     ]
    }
   ],
   "source": [
    "sorted([a^2 + b^2 for a in [0..10] for b in [0..10]])"
   ]
  },
  {
   "cell_type": "code",
   "execution_count": 1,
   "metadata": {},
   "outputs": [
    {
     "name": "stdout",
     "output_type": "stream",
     "text": [
      "The history saving thread hit an unexpected error (OperationalError('attempt to write a readonly database')).History will not be written to the database.\n"
     ]
    }
   ],
   "source": []
  },
  {
   "cell_type": "code",
   "execution_count": 41,
   "metadata": {},
   "outputs": [
    {
     "data": {
      "text/plain": [
       "{0: [(0, 0)],\n",
       " 1: [(0, 1), (1, 0)],\n",
       " 2: [(1, 1)],\n",
       " 4: [(0, 2), (2, 0)],\n",
       " 5: [(1, 2), (2, 1)],\n",
       " 8: [(2, 2)]}"
      ]
     },
     "execution_count": 41,
     "metadata": {},
     "output_type": "execute_result"
    }
   ],
   "source": [
    "a_bound=2\n",
    "b_bound=2\n",
    "\n",
    "sum_of_squares_database = generate_sum_of_squares_data(a_bound=a_bound, b_bound=b_bound)\n",
    "sum_of_squares_database"
   ]
  },
  {
   "cell_type": "markdown",
   "metadata": {},
   "source": [
    "### Conjecture 1 - Experiment<a id=\"conjecture-01-experiment\"></a>\n",
    "\n",
    "**Conjecture**: \n",
    "    \n",
    "If $n$ is odd, then the pair $(a,b)$ has one to be even and the other odd."
   ]
  },
  {
   "cell_type": "code",
   "execution_count": 33,
   "metadata": {},
   "outputs": [
    {
     "data": {
      "text/plain": [
       "{1: [(0, 1), (1, 0)],\n",
       " 9: [(0, 3), (3, 0)],\n",
       " 25: [(0, 5), (3, 4), (4, 3), (5, 0)],\n",
       " 5: [(1, 2), (2, 1)],\n",
       " 17: [(1, 4), (4, 1)],\n",
       " 13: [(2, 3), (3, 2)],\n",
       " 29: [(2, 5), (5, 2)],\n",
       " 41: [(4, 5), (5, 4)]}"
      ]
     },
     "execution_count": 33,
     "metadata": {},
     "output_type": "execute_result"
    }
   ],
   "source": [
    "def even_odd_pairs(a_bound: int, b_bound: int) -> dict[int, list[tuple[int, int]]]:\n",
    "\n",
    "    sum_of_squares_data = generate_sum_of_squares_data(a_bound=a_bound, b_bound=b_bound)\n",
    "\n",
    "    sub_data = {\n",
    "        key : sum_of_squares_data[key] for key in list(filter(is_odd, sum_of_squares_data)\n",
    "    }\n",
    "    "
   ]
  },
  {
   "cell_type": "code",
   "execution_count": 37,
   "metadata": {},
   "outputs": [],
   "source": [
    "is_all_even = lambda a, b : all(map(is_even, (a, b)))"
   ]
  },
  {
   "cell_type": "code",
   "execution_count": 40,
   "metadata": {},
   "outputs": [
    {
     "data": {
      "text/plain": [
       "True"
      ]
     },
     "execution_count": 40,
     "metadata": {},
     "output_type": "execute_result"
    }
   ],
   "source": [
    "a = (0, 2)\n",
    "is_all_even(*a)"
   ]
  },
  {
   "cell_type": "code",
   "execution_count": 22,
   "metadata": {},
   "outputs": [
    {
     "data": {
      "text/plain": [
       "[1, 9, 5, 13]"
      ]
     },
     "execution_count": 22,
     "metadata": {},
     "output_type": "execute_result"
    }
   ],
   "source": [
    "list(filter(is_odd, sum_of_squares_database))"
   ]
  },
  {
   "cell_type": "code",
   "execution_count": 17,
   "metadata": {},
   "outputs": [
    {
     "data": {
      "text/plain": [
       "dict_values([[(0, 0)], [(0, 1), (1, 0)], [(0, 2), (2, 0)], [(0, 3), (3, 0)], [(0, 4), (4, 0)], [(0, 5), (3, 4), (4, 3), (5, 0)], [(0, 6), (6, 0)], [(0, 7), (7, 0)], [(0, 8), (8, 0)], [(0, 9), (9, 0)], [(0, 10), (6, 8), (8, 6), (10, 0)], [(0, 11), (11, 0)], [(0, 12), (12, 0)], [(0, 13), (5, 12), (12, 5), (13, 0)], [(0, 14), (14, 0)], [(0, 15), (9, 12), (12, 9), (15, 0)], [(0, 16), (16, 0)], [(0, 17), (8, 15), (15, 8), (17, 0)], [(0, 18), (18, 0)], [(0, 19), (19, 0)], [(0, 20), (12, 16), (16, 12), (20, 0)], [(1, 1)], [(1, 2), (2, 1)], [(1, 3), (3, 1)], [(1, 4), (4, 1)], [(1, 5), (5, 1)], [(1, 6), (6, 1)], [(1, 7), (5, 5), (7, 1)], [(1, 8), (4, 7), (7, 4), (8, 1)], [(1, 9), (9, 1)], [(1, 10), (10, 1)], [(1, 11), (11, 1)], [(1, 12), (8, 9), (9, 8), (12, 1)], [(1, 13), (7, 11), (11, 7), (13, 1)], [(1, 14), (14, 1)], [(1, 15), (15, 1)], [(1, 16), (16, 1)], [(1, 17), (11, 13), (13, 11), (17, 1)], [(1, 18), (6, 17), (10, 15), (15, 10), (17, 6), (18, 1)], [(1, 19), (19, 1)], [(1, 20), (20, 1)], [(2, 2)], [(2, 3), (3, 2)], [(2, 4), (4, 2)], [(2, 5), (5, 2)], [(2, 6), (6, 2)], [(2, 7), (7, 2)], [(2, 8), (8, 2)], [(2, 9), (6, 7), (7, 6), (9, 2)], [(2, 10), (10, 2)], [(2, 11), (5, 10), (10, 5), (11, 2)], [(2, 12), (12, 2)], [(2, 13), (13, 2)], [(2, 14), (10, 10), (14, 2)], [(2, 15), (15, 2)], [(2, 16), (8, 14), (14, 8), (16, 2)], [(2, 17), (17, 2)], [(2, 18), (18, 2)], [(2, 19), (13, 14), (14, 13), (19, 2)], [(2, 20), (20, 2)], [(3, 3)], [(3, 5), (5, 3)], [(3, 6), (6, 3)], [(3, 7), (7, 3)], [(3, 8), (8, 3)], [(3, 9), (9, 3)], [(3, 10), (10, 3)], [(3, 11), (7, 9), (9, 7), (11, 3)], [(3, 12), (12, 3)], [(3, 13), (13, 3)], [(3, 14), (6, 13), (13, 6), (14, 3)], [(3, 15), (15, 3)], [(3, 16), (11, 12), (12, 11), (16, 3)], [(3, 17), (17, 3)], [(3, 18), (18, 3)], [(3, 19), (9, 17), (17, 9), (19, 3)], [(3, 20), (20, 3)], [(4, 4)], [(4, 5), (5, 4)], [(4, 6), (6, 4)], [(4, 8), (8, 4)], [(4, 9), (9, 4)], [(4, 10), (10, 4)], [(4, 11), (11, 4)], [(4, 12), (12, 4)], [(4, 13), (8, 11), (11, 8), (13, 4)], [(4, 14), (14, 4)], [(4, 15), (15, 4)], [(4, 16), (16, 4)], [(4, 17), (7, 16), (16, 7), (17, 4)], [(4, 18), (12, 14), (14, 12), (18, 4)], [(4, 19), (11, 16), (16, 11), (19, 4)], [(4, 20), (20, 4)], [(5, 6), (6, 5)], [(5, 7), (7, 5)], [(5, 8), (8, 5)], [(5, 9), (9, 5)], [(5, 11), (11, 5)], [(5, 13), (13, 5)], [(5, 14), (10, 11), (11, 10), (14, 5)], [(5, 15), (9, 13), (13, 9), (15, 5)], [(5, 16), (16, 5)], [(5, 17), (17, 5)], [(5, 18), (18, 5)], [(5, 19), (19, 5)], [(5, 20), (8, 19), (13, 16), (16, 13), (19, 8), (20, 5)], [(6, 6)], [(6, 9), (9, 6)], [(6, 10), (10, 6)], [(6, 11), (11, 6)], [(6, 12), (12, 6)], [(6, 14), (14, 6)], [(6, 15), (15, 6)], [(6, 16), (16, 6)], [(6, 18), (18, 6)], [(6, 19), (19, 6)], [(6, 20), (20, 6)], [(7, 7)], [(7, 8), (8, 7)], [(7, 10), (10, 7)], [(7, 12), (12, 7)], [(7, 13), (13, 7)], [(7, 14), (14, 7)], [(7, 15), (15, 7)], [(7, 17), (13, 13), (17, 7)], [(7, 18), (18, 7)], [(7, 19), (11, 17), (17, 11), (19, 7)], [(7, 20), (20, 7)], [(8, 8)], [(8, 10), (10, 8)], [(8, 12), (12, 8)], [(8, 13), (13, 8)], [(8, 16), (16, 8)], [(8, 17), (17, 8)], [(8, 18), (18, 8)], [(8, 20), (20, 8)], [(9, 9)], [(9, 10), (10, 9)], [(9, 11), (11, 9)], [(9, 14), (14, 9)], [(9, 15), (15, 9)], [(9, 16), (16, 9)], [(9, 18), (18, 9)], [(9, 19), (19, 9)], [(9, 20), (15, 16), (16, 15), (20, 9)], [(10, 12), (12, 10)], [(10, 13), (13, 10)], [(10, 14), (14, 10)], [(10, 16), (16, 10)], [(10, 17), (17, 10)], [(10, 18), (18, 10)], [(10, 19), (19, 10)], [(10, 20), (20, 10)], [(11, 11)], [(11, 14), (14, 11)], [(11, 15), (15, 11)], [(11, 18), (18, 11)], [(11, 19), (19, 11)], [(11, 20), (20, 11)], [(12, 12)], [(12, 13), (13, 12)], [(12, 15), (15, 12)], [(12, 17), (17, 12)], [(12, 18), (18, 12)], [(12, 19), (19, 12)], [(12, 20), (20, 12)], [(13, 15), (15, 13)], [(13, 17), (17, 13)], [(13, 18), (18, 13)], [(13, 19), (19, 13)], [(13, 20), (20, 13)], [(14, 14)], [(14, 15), (15, 14)], [(14, 16), (16, 14)], [(14, 17), (17, 14)], [(14, 18), (18, 14)], [(14, 19), (19, 14)], [(14, 20), (20, 14)], [(15, 15)], [(15, 17), (17, 15)], [(15, 18), (18, 15)], [(15, 19), (19, 15)], [(15, 20), (20, 15)], [(16, 16)], [(16, 17), (17, 16)], [(16, 18), (18, 16)], [(16, 19), (19, 16)], [(16, 20), (20, 16)], [(17, 17)], [(17, 18), (18, 17)], [(17, 19), (19, 17)], [(17, 20), (20, 17)], [(18, 18)], [(18, 19), (19, 18)], [(18, 20), (20, 18)], [(19, 19)], [(19, 20), (20, 19)], [(20, 20)]])"
      ]
     },
     "execution_count": 17,
     "metadata": {},
     "output_type": "execute_result"
    }
   ],
   "source": [
    "sum_of_squares_database"
   ]
  },
  {
   "cell_type": "code",
   "execution_count": null,
   "metadata": {},
   "outputs": [],
   "source": []
  },
  {
   "cell_type": "code",
   "execution_count": null,
   "metadata": {},
   "outputs": [],
   "source": []
  },
  {
   "cell_type": "code",
   "execution_count": null,
   "metadata": {},
   "outputs": [],
   "source": []
  },
  {
   "cell_type": "code",
   "execution_count": null,
   "metadata": {},
   "outputs": [],
   "source": []
  },
  {
   "cell_type": "code",
   "execution_count": null,
   "metadata": {},
   "outputs": [],
   "source": []
  },
  {
   "cell_type": "code",
   "execution_count": null,
   "metadata": {},
   "outputs": [],
   "source": []
  },
  {
   "cell_type": "code",
   "execution_count": null,
   "metadata": {},
   "outputs": [],
   "source": []
  },
  {
   "cell_type": "code",
   "execution_count": null,
   "metadata": {},
   "outputs": [],
   "source": []
  },
  {
   "cell_type": "code",
   "execution_count": null,
   "metadata": {},
   "outputs": [],
   "source": []
  },
  {
   "cell_type": "code",
   "execution_count": null,
   "metadata": {},
   "outputs": [],
   "source": []
  },
  {
   "cell_type": "code",
   "execution_count": null,
   "metadata": {},
   "outputs": [],
   "source": []
  },
  {
   "cell_type": "code",
   "execution_count": null,
   "metadata": {},
   "outputs": [],
   "source": []
  },
  {
   "cell_type": "code",
   "execution_count": null,
   "metadata": {},
   "outputs": [],
   "source": []
  },
  {
   "cell_type": "code",
   "execution_count": null,
   "metadata": {},
   "outputs": [],
   "source": []
  },
  {
   "cell_type": "code",
   "execution_count": null,
   "metadata": {},
   "outputs": [],
   "source": []
  },
  {
   "cell_type": "code",
   "execution_count": null,
   "metadata": {},
   "outputs": [],
   "source": []
  },
  {
   "cell_type": "code",
   "execution_count": null,
   "metadata": {},
   "outputs": [],
   "source": []
  },
  {
   "cell_type": "code",
   "execution_count": null,
   "metadata": {},
   "outputs": [],
   "source": []
  },
  {
   "cell_type": "code",
   "execution_count": null,
   "metadata": {},
   "outputs": [],
   "source": []
  },
  {
   "cell_type": "code",
   "execution_count": null,
   "metadata": {},
   "outputs": [],
   "source": []
  },
  {
   "cell_type": "code",
   "execution_count": null,
   "metadata": {},
   "outputs": [],
   "source": []
  },
  {
   "cell_type": "code",
   "execution_count": null,
   "metadata": {},
   "outputs": [],
   "source": []
  },
  {
   "cell_type": "code",
   "execution_count": null,
   "metadata": {},
   "outputs": [],
   "source": []
  },
  {
   "cell_type": "code",
   "execution_count": null,
   "metadata": {},
   "outputs": [],
   "source": []
  },
  {
   "cell_type": "code",
   "execution_count": null,
   "metadata": {},
   "outputs": [],
   "source": []
  },
  {
   "cell_type": "code",
   "execution_count": null,
   "metadata": {},
   "outputs": [],
   "source": []
  },
  {
   "cell_type": "code",
   "execution_count": null,
   "metadata": {},
   "outputs": [],
   "source": []
  },
  {
   "cell_type": "code",
   "execution_count": null,
   "metadata": {},
   "outputs": [],
   "source": []
  },
  {
   "cell_type": "code",
   "execution_count": null,
   "metadata": {},
   "outputs": [],
   "source": []
  },
  {
   "cell_type": "code",
   "execution_count": null,
   "metadata": {},
   "outputs": [],
   "source": []
  },
  {
   "cell_type": "code",
   "execution_count": null,
   "metadata": {},
   "outputs": [],
   "source": [
    "sum_of_squares_database = dict(); sum_of_squares_database"
   ]
  },
  {
   "cell_type": "code",
   "execution_count": null,
   "metadata": {},
   "outputs": [],
   "source": [
    "sum_of_squares_database[0] = [(0,0)]; sum_of_squares_database"
   ]
  },
  {
   "cell_type": "code",
   "execution_count": null,
   "metadata": {},
   "outputs": [],
   "source": [
    "sum_of_squares_database[1] = [(0,1), (1, 0)]; sum_of_squares_database"
   ]
  },
  {
   "cell_type": "code",
   "execution_count": null,
   "metadata": {},
   "outputs": [],
   "source": [
    "sum_of_squares_database[2] = [(1,1)]; sum_of_squares_database"
   ]
  },
  {
   "cell_type": "code",
   "execution_count": null,
   "metadata": {},
   "outputs": [],
   "source": [
    "list(sum_of_squares_database.values())"
   ]
  },
  {
   "cell_type": "code",
   "execution_count": null,
   "metadata": {},
   "outputs": [],
   "source": [
    "list(map(len, list(sum_of_squares_database.values())))"
   ]
  },
  {
   "cell_type": "code",
   "execution_count": null,
   "metadata": {},
   "outputs": [],
   "source": [
    "my_list = list()\n",
    "for value in list(sum_of_squares_database.values()):\n",
    "    my_list.append(len(value))\n",
    "my_list"
   ]
  },
  {
   "cell_type": "markdown",
   "metadata": {},
   "source": [
    "After a while, we will come back and I will ask you about possible ways to rethink the problem on the sum of squares. "
   ]
  },
  {
   "cell_type": "markdown",
   "metadata": {},
   "source": [
    "Can you think of a way to solve this problem? _Hint: What do you know about equations of this form $n = a^{2} + b ^{2}$?_"
   ]
  },
  {
   "cell_type": "markdown",
   "metadata": {},
   "source": [
    "This brings up the question of how to do such plotting in the first place? We will look at this in more detail in the next [**Section**](#more-plotting-and-graphics-in-two-dimensions)."
   ]
  },
  {
   "cell_type": "markdown",
   "metadata": {},
   "source": [
    "## More Plotting and Graphics in Two Dimensions <a class = \"anchor\" id = \"more-plotting-and-graphics-in-two-dimensions\"></a>\n",
    "There is absolutely no way we could cover all the graphics in _SageMath_ (or the program that does it for _SageMath_, <a href=\"http://matplotlib.org/\" target=\"_blank\">matplotlib</a>) in one day, or even a week. We will look at a bunch of different resources you have access to, and see lots of different plot types. As we go through these resources, think of how they will be of use in solving our new experiment or where you could have used them some time back in your academic career. I definitely do not know everything about the plotting command. Nevertheless, you may interrupt me with your question so that we can explore the solution together. \n",
    "\n",
    "   * We will begin with the online documentation on [advanced 2D-plotting](https://doc.sagemath.org/html/en/prep/Advanced-2DPlotting.html) in the built-in live documentation. \n",
    "   * There are two very important pages with many, MANY examples - the documentation for [plot](http://www.sagemath.org/doc/reference/plotting/sage/plot/plot.html) and that for [showing graphics](http://www.sagemath.org/doc/reference/plotting/sage/plot/graphics.html#sage.plot.graphics.Graphics.show).\n",
    "   * The [general plotting reference](http://www.sagemath.org/doc/reference/plotting/index.html) - there are a lot of surprises, like animation, etc.\n",
    "\n",
    "Remember, you should feel free to stop listening for a while if you want to try something out!  \n",
    "Once we've seen enough examples, please either start using _SageMath_ to explore the sums of squares, _or_ try to recreate your favorite graphic using _SageMath_!"
   ]
  },
  {
   "cell_type": "code",
   "execution_count": null,
   "metadata": {},
   "outputs": [],
   "source": []
  }
 ],
 "metadata": {
  "kernelspec": {
   "display_name": "SageMath 10.4",
   "language": "sage",
   "name": "sagemath"
  },
  "language_info": {
   "codemirror_mode": {
    "name": "ipython",
    "version": 3
   },
   "file_extension": ".py",
   "mimetype": "text/x-python",
   "name": "python",
   "nbconvert_exporter": "python",
   "pygments_lexer": "ipython3",
   "version": "3.11.2"
  },
  "varInspector": {
   "cols": {
    "lenName": 16,
    "lenType": 16,
    "lenVar": 40
   },
   "kernels_config": {
    "python": {
     "delete_cmd_postfix": "",
     "delete_cmd_prefix": "del ",
     "library": "var_list.py",
     "varRefreshCmd": "print(var_dic_list())"
    },
    "r": {
     "delete_cmd_postfix": ") ",
     "delete_cmd_prefix": "rm(",
     "library": "var_list.r",
     "varRefreshCmd": "cat(var_dic_list()) "
    }
   },
   "types_to_exclude": [
    "module",
    "function",
    "builtin_function_or_method",
    "instance",
    "_Feature"
   ],
   "window_display": false
  }
 },
 "nbformat": 4,
 "nbformat_minor": 4
}
