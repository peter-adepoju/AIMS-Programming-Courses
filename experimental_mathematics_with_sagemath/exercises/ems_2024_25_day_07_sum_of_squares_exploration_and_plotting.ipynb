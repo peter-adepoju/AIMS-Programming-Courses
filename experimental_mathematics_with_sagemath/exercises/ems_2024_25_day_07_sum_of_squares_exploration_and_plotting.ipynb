{
 "cells": [
  {
   "cell_type": "markdown",
   "metadata": {},
   "source": [
    "<img src=\"./images/aims-za-logo.jpeg\" alt=\"drawing\" style=\"width:400px;\"/>\n",
    "<h1 style=\"text-align: center;\"><a title=\"EMS-AIMS-ZA-2024-25\" href=\"https://evansdoe.github.io/aims-za/ems/2024-25\">Experimental Mathematics Using SageMath — AIMS-ZA-2024-25</a></h1>\n",
    "\n",
    "\n",
    "## Instructors: \n",
    "\n",
    "\n",
    "* <a href=\"http://evansdoe.github.io\">**Evans Ocansey**</a>"
   ]
  },
  {
   "cell_type": "markdown",
   "metadata": {},
   "source": [
    "## Day 06 — New Experiments: Sum of Squares and Plotting <a class=\"anchor\" id=\"new-experiment-sum-of-squares-and-plotting\"></a>\n",
    "\n",
    "The outline of the this notebook is as follows:"
   ]
  },
  {
   "cell_type": "code",
   "execution_count": null,
   "metadata": {},
   "outputs": [],
   "source": []
  },
  {
   "cell_type": "markdown",
   "metadata": {},
   "source": [
    "## New Experiment — Sum of Squares <a class=\"anchor\" id=\"new-experiment-sum-of-squares\"></a>\n",
    "\n",
    "With that in mind, let's begin our next exploration. Hopefully you have had some fun experimenting with the condunctor problem. Today we will introduce a new problem to keep up the fun spirit of experimental mathematics. Namely, what numbers can be written in the form $n=a^2+b^2$?\n",
    "\n",
    "Here are a cases that do and do not work.\n",
    "\n",
    "   * $2 = 1^2+1^2$ works;\n",
    "   * $3$ does not work, since we only allow integers.  $1+1$ is too small, $1^2+2^2=5$ is too big;\n",
    "   * $4$ actually <em>does</em> work, because we allow $4 = 0^2+2^2$.  (That's just one of our rules; you could play a different game if you wanted.);\n",
    "   * That means $1=1^2+0^2$ works.\n",
    "   * $5$ works.\n",
    "And so forth. "
   ]
  },
  {
   "cell_type": "code",
   "execution_count": null,
   "metadata": {},
   "outputs": [],
   "source": []
  },
  {
   "cell_type": "markdown",
   "metadata": {},
   "source": [
    "### Students' conjectures <a class=\"anchor\" id=\"students-conjectures\"></a> \n",
    "\n",
    "The following conjectures were made by students in today's class after working with pens and papers to generate data and observing it.\n",
    "\n",
    "- If $n$ is odd, then the pair $(a,b)$ has one to be even and the other odd.\n",
    "- If $a$ and $b$ are both even, then $n$ is even and if $a$ and $b$ are both odd, then $n$ is even.\n",
    "- If $n=a^2+b^2$ for $a,b\\in\\mathbb{N}$ then $a,b\\leq\\sqrt{n}$.\n",
    "- If $n=a^2+b^2$ for $a,b\\in\\mathbb{N}$, then the maximum number of pairs $(a,b)$ for fixed $n$ is equal to 4.\n",
    "- If $n$ has 4 pairs of solution, then $n$ is a multiple of $5$.\n",
    "- If $n$ is prime and $n > 2$, then the number of $(a,b)$ is always $2$.\n",
    "- If $a=b$, $n=2a^2$ or $n=2b^2$. If a or b is equal to zero, then $n=a^2$ or $b^2$.\n",
    "- If $n$ is a perfect square, the number of $(a,b)$ is 2.\n",
    "- If $n$ is an odd prime and can be written as 1 mod 4, then it can be written as $a^2+b^2$."
   ]
  },
  {
   "cell_type": "code",
   "execution_count": null,
   "metadata": {},
   "outputs": [],
   "source": []
  },
  {
   "cell_type": "markdown",
   "metadata": {},
   "source": [
    "## Exploratory Questions — Sum of Squares <a class=\"anchor\" id=\"exploratory-questions-sum-of-squares\"></a>\n",
    "Can you think of questions that you can explore experimentally? Last Friday, we formulated the following questions. I also added extra questions.\n",
    "\n",
    "1. Which positive integers can be written as a sum of two squares?\n",
    "2. Which ones cannot be written?\n",
    "3. Are numbers that can be represented as a sum of two squares always odd or always even? Or do they vary?\n",
    "4. What are the sum of squares that are even or odd integers?\n",
    "5. Is the sum of squares of two numbers generally even or odd? What factors influence this?\n",
    "6. What are the sum of squares that are perfect squares? What is the probability that the sum of squares is a perfect square? When is this condition true?\n",
    "7. If $a$ is a factor of $b$, under what conditions is the sum of their squares a perfect square?\n",
    "8. Can either $a$ or $b$ be a factor of the sum of their squares?\n",
    "9. For which values of $a$ and $b$ is the sum of their squares a prime number?\n",
    "10. Can there be two or more distinct pairs of $a$ and $b$ that yield the same sum of squares? If so, what are these pairs?\n",
    "11. Is the sum of the squares of two consecutive integers always odd? If not, when does it differ?\n",
    "12. If $a$ and $b$ are both odd, is the sum of their squares odd or even?\n",
    "13. If $a$ is odd and $b$ is even, what is the sum of their squares?\n",
    "14. If $a$ is the only even prime (i.e., $2$) and $b$ is an odd prime, is the sum of their squares a prime number?\n",
    "15. Which numbers can be written as a sum of squares of two prime numbers?\n",
    "16. Which positive integers can be expressed as the sum of squares of their factors? Are there identifiable patterns?\n",
    "17. Given $a$ and $b$ are both prime, under what conditions is $a^2 + b^2$ also prime?\n",
    "18. Are there forms other than $x^2 + 0^2$ for representing a square root as a sum of squares?\n",
    "\n",
    "Each question could reveal patterns or conjectures. Let's proceed systematically as follows:\n",
    "\n",
    "   - **Identify** when the statement holds true or false.\n",
    "   - **Analyze patterns** in the results generated.\n",
    "   - **Make conjectures** about underlying rules or relationships based on observed patterns."
   ]
  },
  {
   "cell_type": "markdown",
   "metadata": {},
   "source": [
    "### Generate Sum of Squares Data <a class = \"anchor\" id=\"generate-sum-of-squares-data\"></a>"
   ]
  },
  {
   "cell_type": "code",
   "execution_count": 1,
   "metadata": {},
   "outputs": [],
   "source": [
    "def generate_sum_of_squares_data(\n",
    "    a_bound: int = 6,\n",
    "    b_bound: int = 6\n",
    ") -> dict[int, list[tuple[int, int]]]:\n",
    "    r\"\"\"Generates a database of integers as sums of two squares.\n",
    "\n",
    "    This function creates a dictionary where each key is an integer \n",
    "    that can be represented as the sum of squares of two non-negative \n",
    "    integers `a` and `b`, with `a` bounded by `a_bound` and `b` bounded \n",
    "    by `b_bound`. The dictionary is sorted by its keys in ascending order. \n",
    "    The value for each key is a list of tuples, each tuple representing \n",
    "    a unique pair `(a, b)` such that `n = a^2 + b^2`.\n",
    "\n",
    "    Args:\n",
    "        a_bound (int): The upper bound for the integer `a` (inclusive). Defaults to 6.\n",
    "        b_bound (int): The upper bound for the integer `b` (inclusive). Defaults to 6.\n",
    "\n",
    "    Returns:\n",
    "        dict[int, list[tuple[int, int]]]: A dictionary where each key is an integer \n",
    "        that can be written as `a^2 + b^2` for some integers `a` and `b` within \n",
    "        the specified bounds. The value for each key is a list of tuples, \n",
    "        each tuple being a pair `(a, b)` that satisfies the sum of squares condition.\n",
    "\n",
    "    \n",
    "    Example:\n",
    "        >>> generate_sum_of_squares_data(3, 3)\n",
    "        {0: [(0, 0)], 1: [(1, 0), (0, 1)], 2: [(1, 1)], 4: [(2, 0), (0, 2)], \n",
    "         5: [(2, 1), (1, 2)], 9: [(3, 0), (0, 3)], 10: [(3, 1), (1, 3)], 13: [(3, 2), (2, 3)]}\n",
    "    \"\"\"\n",
    "    \n",
    "    sum_of_squares_database = {}\n",
    "    for a in [0..a_bound]:\n",
    "        for b in [0..b_bound]:\n",
    "            n = a**2 + b**2\n",
    "            if n not in sum_of_squares_database:\n",
    "                sum_of_squares_database[n] = [(a, b)]\n",
    "            else:\n",
    "                sum_of_squares_database[n].append((a, b))\n",
    "    return dict(sorted(sum_of_squares_database.items()))"
   ]
  },
  {
   "cell_type": "code",
   "execution_count": null,
   "metadata": {},
   "outputs": [],
   "source": []
  },
  {
   "cell_type": "markdown",
   "metadata": {},
   "source": [
    "### Exploring Question 1 <a class=\"anchor\" id=\"exploring-question-01\"></a>\n",
    "\n",
    "**Question 1**\n",
    "Which positive integers can be written as a sum of two squares?"
   ]
  },
  {
   "cell_type": "code",
   "execution_count": null,
   "metadata": {},
   "outputs": [],
   "source": []
  },
  {
   "cell_type": "code",
   "execution_count": null,
   "metadata": {},
   "outputs": [],
   "source": [
    "number"
   ]
  },
  {
   "cell_type": "code",
   "execution_count": null,
   "metadata": {},
   "outputs": [],
   "source": []
  },
  {
   "cell_type": "markdown",
   "metadata": {},
   "source": [
    "### Exploring Question 2 <a class=\"anchor\" id=\"exploring-question-02\"></a>\n",
    "\n",
    "**Question 2**\n",
    "Which ones cannot be written?"
   ]
  },
  {
   "cell_type": "code",
   "execution_count": null,
   "metadata": {},
   "outputs": [],
   "source": []
  },
  {
   "cell_type": "code",
   "execution_count": null,
   "metadata": {},
   "outputs": [],
   "source": []
  },
  {
   "cell_type": "code",
   "execution_count": null,
   "metadata": {},
   "outputs": [],
   "source": []
  },
  {
   "cell_type": "markdown",
   "metadata": {},
   "source": [
    "### Exploring Question 3 <a class=\"anchor\" id=\"exploring-question-03\"></a>\n",
    "\n",
    "**Question 3**\n",
    "Are numbers that can be represented as a sum of two squares always odd or always even? Or do they vary?"
   ]
  },
  {
   "cell_type": "code",
   "execution_count": null,
   "metadata": {},
   "outputs": [],
   "source": [
    "number"
   ]
  },
  {
   "cell_type": "code",
   "execution_count": null,
   "metadata": {},
   "outputs": [],
   "source": []
  },
  {
   "cell_type": "code",
   "execution_count": null,
   "metadata": {},
   "outputs": [],
   "source": []
  },
  {
   "cell_type": "markdown",
   "metadata": {},
   "source": [
    "### Exploring Question 4 <a class=\"anchor\" id=\"exploring-question-04\"></a>\n",
    "\n",
    "**Question 4**\n",
    "\n",
    "What are the sum of squares that are even or odd integers?"
   ]
  },
  {
   "cell_type": "code",
   "execution_count": null,
   "metadata": {},
   "outputs": [],
   "source": []
  },
  {
   "cell_type": "code",
   "execution_count": null,
   "metadata": {},
   "outputs": [],
   "source": []
  },
  {
   "cell_type": "code",
   "execution_count": null,
   "metadata": {},
   "outputs": [],
   "source": []
  },
  {
   "cell_type": "markdown",
   "metadata": {},
   "source": [
    "### Exploring Question 5 <a class=\"anchor\" id=\"exploring-question-05\"></a>\n",
    "\n",
    "**Question 5**\n",
    "\n",
    "Is the sum of squares of two numbers generally even or odd? What factors influence this?"
   ]
  },
  {
   "cell_type": "code",
   "execution_count": null,
   "metadata": {},
   "outputs": [],
   "source": []
  },
  {
   "cell_type": "code",
   "execution_count": null,
   "metadata": {},
   "outputs": [],
   "source": []
  },
  {
   "cell_type": "code",
   "execution_count": null,
   "metadata": {},
   "outputs": [],
   "source": []
  },
  {
   "cell_type": "markdown",
   "metadata": {},
   "source": [
    "### Exploring Question 6 <a class=\"anchor\" id=\"exploring-question-06\"></a>\n",
    "\n",
    "**Question 6**\n",
    "\n",
    "What are the sum of squares that are perfect squares? What is the probability that the sum of squares is a perfect square? When is this condition true?"
   ]
  },
  {
   "cell_type": "code",
   "execution_count": null,
   "metadata": {},
   "outputs": [],
   "source": []
  },
  {
   "cell_type": "code",
   "execution_count": null,
   "metadata": {},
   "outputs": [],
   "source": []
  },
  {
   "cell_type": "code",
   "execution_count": null,
   "metadata": {},
   "outputs": [],
   "source": []
  },
  {
   "cell_type": "code",
   "execution_count": null,
   "metadata": {},
   "outputs": [],
   "source": []
  },
  {
   "cell_type": "markdown",
   "metadata": {},
   "source": [
    "### Exploring Question 7 <a class=\"anchor\" id=\"exploring-question-07\"></a>\n",
    "\n",
    "**Question 7**\n",
    "\n",
    "If $a$ is a factor of $b$, under what conditions is the sum of their squares a perfect square?"
   ]
  },
  {
   "cell_type": "code",
   "execution_count": null,
   "metadata": {},
   "outputs": [],
   "source": []
  },
  {
   "cell_type": "code",
   "execution_count": null,
   "metadata": {},
   "outputs": [],
   "source": []
  },
  {
   "cell_type": "code",
   "execution_count": null,
   "metadata": {},
   "outputs": [],
   "source": []
  },
  {
   "cell_type": "markdown",
   "metadata": {},
   "source": [
    "### Exploring Question 8 <a class=\"anchor\" id=\"exploring-question-08\"></a>\n",
    "\n",
    "**Question 8**\n",
    "\n",
    "Can either $a$ or $b$ be a factor of the sum of their squares?"
   ]
  },
  {
   "cell_type": "code",
   "execution_count": null,
   "metadata": {},
   "outputs": [],
   "source": []
  },
  {
   "cell_type": "code",
   "execution_count": null,
   "metadata": {},
   "outputs": [],
   "source": []
  },
  {
   "cell_type": "code",
   "execution_count": null,
   "metadata": {},
   "outputs": [],
   "source": []
  },
  {
   "cell_type": "markdown",
   "metadata": {},
   "source": [
    "### Exploring Question 9 <a class=\"anchor\" id=\"exploring-question-09\"></a>\n",
    "\n",
    "**Question 9**\n",
    "\n",
    "For which values of $a$ and $b$ is the sum of their squares a prime number?"
   ]
  },
  {
   "cell_type": "code",
   "execution_count": null,
   "metadata": {},
   "outputs": [],
   "source": []
  },
  {
   "cell_type": "code",
   "execution_count": null,
   "metadata": {},
   "outputs": [],
   "source": [
    "number"
   ]
  },
  {
   "cell_type": "code",
   "execution_count": null,
   "metadata": {},
   "outputs": [],
   "source": []
  },
  {
   "cell_type": "markdown",
   "metadata": {},
   "source": [
    "### Exploring Question 10 <a class=\"anchor\" id=\"exploring-question-10\"></a>\n",
    "\n",
    "**Question 10**\n",
    "\n",
    "Can there be two or more distinct pairs of $a$ and $b$ that yield the same sum of squares? If so, what are these pairs?"
   ]
  },
  {
   "cell_type": "code",
   "execution_count": null,
   "metadata": {},
   "outputs": [],
   "source": []
  },
  {
   "cell_type": "code",
   "execution_count": null,
   "metadata": {},
   "outputs": [],
   "source": []
  },
  {
   "cell_type": "code",
   "execution_count": null,
   "metadata": {},
   "outputs": [],
   "source": []
  },
  {
   "cell_type": "markdown",
   "metadata": {},
   "source": [
    "### Exploring Question 11 <a class=\"anchor\" id=\"exploring-question-11\"></a>\n",
    "\n",
    "**Question 11**\n",
    "\n",
    "Is the sum of the squares of two consecutive integers always odd? If not, when does it differ?"
   ]
  },
  {
   "cell_type": "code",
   "execution_count": null,
   "metadata": {},
   "outputs": [],
   "source": []
  },
  {
   "cell_type": "code",
   "execution_count": null,
   "metadata": {},
   "outputs": [],
   "source": []
  },
  {
   "cell_type": "code",
   "execution_count": null,
   "metadata": {},
   "outputs": [],
   "source": []
  },
  {
   "cell_type": "markdown",
   "metadata": {},
   "source": [
    "### Exploring Question 12 <a class=\"anchor\" id=\"exploring-question-12\"></a>\n",
    "\n",
    "**Question 12**\n",
    "\n",
    "If $a$ and $b$ are both odd, is the sum of their squares odd or even?"
   ]
  },
  {
   "cell_type": "code",
   "execution_count": null,
   "metadata": {},
   "outputs": [],
   "source": []
  },
  {
   "cell_type": "code",
   "execution_count": null,
   "metadata": {},
   "outputs": [],
   "source": []
  },
  {
   "cell_type": "code",
   "execution_count": null,
   "metadata": {},
   "outputs": [],
   "source": []
  },
  {
   "cell_type": "markdown",
   "metadata": {},
   "source": [
    "### Exploring Question 13 <a class=\"anchor\" id=\"exploring-question-13\"></a>\n",
    "\n",
    "**Question 13**\n",
    "\n",
    "If $a$ is odd and $b$ is even, what is the sum of their squares?"
   ]
  },
  {
   "cell_type": "code",
   "execution_count": null,
   "metadata": {},
   "outputs": [],
   "source": []
  },
  {
   "cell_type": "code",
   "execution_count": null,
   "metadata": {},
   "outputs": [],
   "source": []
  },
  {
   "cell_type": "code",
   "execution_count": null,
   "metadata": {},
   "outputs": [],
   "source": []
  },
  {
   "cell_type": "markdown",
   "metadata": {},
   "source": [
    "### Exploring Question 14 <a class=\"anchor\" id=\"exploring-question-14\"></a>\n",
    "\n",
    "**Question 14**\n",
    "\n",
    "If $a$ is the only even prime (i.e., $2$) and $b$ is an odd prime, is the sum of their squares a prime number?"
   ]
  },
  {
   "cell_type": "code",
   "execution_count": null,
   "metadata": {},
   "outputs": [],
   "source": []
  },
  {
   "cell_type": "markdown",
   "metadata": {},
   "source": [
    "### Exploring Question 15 <a class=\"anchor\" id=\"exploring-question-15\"></a>\n",
    "\n",
    "**Question 15**\n",
    "\n",
    "Which numbers can be written as a sum of squares of two prime numbers?"
   ]
  },
  {
   "cell_type": "code",
   "execution_count": null,
   "metadata": {},
   "outputs": [],
   "source": []
  },
  {
   "cell_type": "code",
   "execution_count": null,
   "metadata": {},
   "outputs": [],
   "source": []
  },
  {
   "cell_type": "code",
   "execution_count": null,
   "metadata": {},
   "outputs": [],
   "source": []
  },
  {
   "cell_type": "code",
   "execution_count": null,
   "metadata": {},
   "outputs": [],
   "source": []
  },
  {
   "cell_type": "markdown",
   "metadata": {},
   "source": [
    "### Exploring Question 16 <a class=\"anchor\" id=\"exploring-question-16\"></a>\n",
    "\n",
    "**Question 16**\n",
    "\n",
    "Which positive integers can be expressed as the sum of squares of their factors? Are there identifiable patterns?"
   ]
  },
  {
   "cell_type": "code",
   "execution_count": null,
   "metadata": {},
   "outputs": [],
   "source": []
  },
  {
   "cell_type": "code",
   "execution_count": null,
   "metadata": {},
   "outputs": [],
   "source": []
  },
  {
   "cell_type": "code",
   "execution_count": null,
   "metadata": {},
   "outputs": [],
   "source": [
    "number"
   ]
  },
  {
   "cell_type": "markdown",
   "metadata": {},
   "source": [
    "### Exploring Question 17 <a class=\"anchor\" id=\"exploring-question-17\"></a>\n",
    "\n",
    "**Question 17**\n",
    "\n",
    "Given $a$ and $b$ are both prime, under what conditions is $a^2 + b^2$ also prime?"
   ]
  },
  {
   "cell_type": "code",
   "execution_count": null,
   "metadata": {},
   "outputs": [],
   "source": []
  },
  {
   "cell_type": "code",
   "execution_count": null,
   "metadata": {},
   "outputs": [],
   "source": []
  },
  {
   "cell_type": "code",
   "execution_count": null,
   "metadata": {},
   "outputs": [],
   "source": []
  },
  {
   "cell_type": "markdown",
   "metadata": {},
   "source": [
    "### Exploring Question 18 <a class=\"anchor\" id=\"exploring-question-18\"></a>\n",
    "\n",
    "**Question 18**\n",
    "\n",
    "Are there forms other than $x^2 + 0^2$ for representing a square root as a sum of squares?"
   ]
  },
  {
   "cell_type": "code",
   "execution_count": null,
   "metadata": {},
   "outputs": [],
   "source": []
  },
  {
   "cell_type": "code",
   "execution_count": null,
   "metadata": {},
   "outputs": [],
   "source": []
  },
  {
   "cell_type": "code",
   "execution_count": null,
   "metadata": {},
   "outputs": [],
   "source": []
  },
  {
   "cell_type": "markdown",
   "metadata": {},
   "source": [
    "### Exploring Conjecture 1 <a class=\"anchor\" id=\"exploring-conjecture-01\"></a>\n",
    "**Conjecture 1**\n",
    "\n",
    "If $n$ is odd, then the pair $(a,b)$ has one to be even and the other odd."
   ]
  },
  {
   "cell_type": "code",
   "execution_count": 5,
   "metadata": {},
   "outputs": [],
   "source": [
    "def sum_of_squares_data(a_bound, b_bound):\n",
    "    sum_of_squares_database = {}\n",
    "    for a in [0..a_bound]:\n",
    "        for b in [0..b_bound]:\n",
    "            n = a^2 + b^2\n",
    "            if n not in sum_of_squares_database:\n",
    "                sum_of_squares_database[n] = [(a, b)]\n",
    "            else:\n",
    "                sum_of_squares_database[n].append((a,b))\n",
    "    return sum_of_squares_database"
   ]
  },
  {
   "cell_type": "code",
   "execution_count": 72,
   "metadata": {
    "scrolled": true
   },
   "outputs": [
    {
     "data": {
      "text/plain": [
       "{0: [(0, 0)],\n",
       " 1: [(0, 1), (1, 0)],\n",
       " 4: [(0, 2), (2, 0)],\n",
       " 9: [(0, 3), (3, 0)],\n",
       " 16: [(0, 4), (4, 0)],\n",
       " 25: [(0, 5), (3, 4), (4, 3), (5, 0)],\n",
       " 36: [(0, 6), (6, 0)],\n",
       " 49: [(0, 7), (7, 0)],\n",
       " 64: [(0, 8), (8, 0)],\n",
       " 81: [(0, 9), (9, 0)],\n",
       " 100: [(0, 10), (6, 8), (8, 6), (10, 0)],\n",
       " 121: [(0, 11), (11, 0)],\n",
       " 144: [(0, 12), (12, 0)],\n",
       " 169: [(0, 13), (5, 12), (12, 5), (13, 0)],\n",
       " 196: [(0, 14), (14, 0)],\n",
       " 225: [(0, 15), (9, 12), (12, 9), (15, 0)],\n",
       " 256: [(0, 16), (16, 0)],\n",
       " 289: [(0, 17), (8, 15), (15, 8), (17, 0)],\n",
       " 324: [(0, 18), (18, 0)],\n",
       " 361: [(0, 19), (19, 0)],\n",
       " 400: [(0, 20), (12, 16), (16, 12), (20, 0)],\n",
       " 441: [(0, 21), (21, 0)],\n",
       " 484: [(0, 22), (22, 0)],\n",
       " 529: [(0, 23), (23, 0)],\n",
       " 576: [(0, 24), (24, 0)],\n",
       " 625: [(0, 25), (7, 24), (15, 20), (20, 15), (24, 7), (25, 0)],\n",
       " 676: [(0, 26), (10, 24), (24, 10), (26, 0)],\n",
       " 729: [(0, 27), (27, 0)],\n",
       " 784: [(0, 28), (28, 0)],\n",
       " 841: [(0, 29), (20, 21), (21, 20), (29, 0)],\n",
       " 900: [(0, 30), (18, 24), (24, 18), (30, 0)],\n",
       " 2: [(1, 1)],\n",
       " 5: [(1, 2), (2, 1)],\n",
       " 10: [(1, 3), (3, 1)],\n",
       " 17: [(1, 4), (4, 1)],\n",
       " 26: [(1, 5), (5, 1)],\n",
       " 37: [(1, 6), (6, 1)],\n",
       " 50: [(1, 7), (5, 5), (7, 1)],\n",
       " 65: [(1, 8), (4, 7), (7, 4), (8, 1)],\n",
       " 82: [(1, 9), (9, 1)],\n",
       " 101: [(1, 10), (10, 1)],\n",
       " 122: [(1, 11), (11, 1)],\n",
       " 145: [(1, 12), (8, 9), (9, 8), (12, 1)],\n",
       " 170: [(1, 13), (7, 11), (11, 7), (13, 1)],\n",
       " 197: [(1, 14), (14, 1)],\n",
       " 226: [(1, 15), (15, 1)],\n",
       " 257: [(1, 16), (16, 1)],\n",
       " 290: [(1, 17), (11, 13), (13, 11), (17, 1)],\n",
       " 325: [(1, 18), (6, 17), (10, 15), (15, 10), (17, 6), (18, 1)],\n",
       " 362: [(1, 19), (19, 1)],\n",
       " 401: [(1, 20), (20, 1)],\n",
       " 442: [(1, 21), (9, 19), (19, 9), (21, 1)],\n",
       " 485: [(1, 22), (14, 17), (17, 14), (22, 1)],\n",
       " 530: [(1, 23), (13, 19), (19, 13), (23, 1)],\n",
       " 577: [(1, 24), (24, 1)],\n",
       " 626: [(1, 25), (25, 1)],\n",
       " 677: [(1, 26), (26, 1)],\n",
       " 730: [(1, 27), (17, 21), (21, 17), (27, 1)],\n",
       " 785: [(1, 28), (16, 23), (23, 16), (28, 1)],\n",
       " 842: [(1, 29), (29, 1)],\n",
       " 901: [(1, 30), (15, 26), (26, 15), (30, 1)],\n",
       " 8: [(2, 2)],\n",
       " 13: [(2, 3), (3, 2)],\n",
       " 20: [(2, 4), (4, 2)],\n",
       " 29: [(2, 5), (5, 2)],\n",
       " 40: [(2, 6), (6, 2)],\n",
       " 53: [(2, 7), (7, 2)],\n",
       " 68: [(2, 8), (8, 2)],\n",
       " 85: [(2, 9), (6, 7), (7, 6), (9, 2)],\n",
       " 104: [(2, 10), (10, 2)],\n",
       " 125: [(2, 11), (5, 10), (10, 5), (11, 2)],\n",
       " 148: [(2, 12), (12, 2)],\n",
       " 173: [(2, 13), (13, 2)],\n",
       " 200: [(2, 14), (10, 10), (14, 2)],\n",
       " 229: [(2, 15), (15, 2)],\n",
       " 260: [(2, 16), (8, 14), (14, 8), (16, 2)],\n",
       " 293: [(2, 17), (17, 2)],\n",
       " 328: [(2, 18), (18, 2)],\n",
       " 365: [(2, 19), (13, 14), (14, 13), (19, 2)],\n",
       " 404: [(2, 20), (20, 2)],\n",
       " 445: [(2, 21), (11, 18), (18, 11), (21, 2)],\n",
       " 488: [(2, 22), (22, 2)],\n",
       " 533: [(2, 23), (7, 22), (22, 7), (23, 2)],\n",
       " 580: [(2, 24), (16, 18), (18, 16), (24, 2)],\n",
       " 629: [(2, 25), (10, 23), (23, 10), (25, 2)],\n",
       " 680: [(2, 26), (14, 22), (22, 14), (26, 2)],\n",
       " 733: [(2, 27), (27, 2)],\n",
       " 788: [(2, 28), (28, 2)],\n",
       " 845: [(2, 29), (13, 26), (19, 22), (22, 19), (26, 13), (29, 2)],\n",
       " 904: [(2, 30), (30, 2)],\n",
       " 18: [(3, 3)],\n",
       " 34: [(3, 5), (5, 3)],\n",
       " 45: [(3, 6), (6, 3)],\n",
       " 58: [(3, 7), (7, 3)],\n",
       " 73: [(3, 8), (8, 3)],\n",
       " 90: [(3, 9), (9, 3)],\n",
       " 109: [(3, 10), (10, 3)],\n",
       " 130: [(3, 11), (7, 9), (9, 7), (11, 3)],\n",
       " 153: [(3, 12), (12, 3)],\n",
       " 178: [(3, 13), (13, 3)],\n",
       " 205: [(3, 14), (6, 13), (13, 6), (14, 3)],\n",
       " 234: [(3, 15), (15, 3)],\n",
       " 265: [(3, 16), (11, 12), (12, 11), (16, 3)],\n",
       " 298: [(3, 17), (17, 3)],\n",
       " 333: [(3, 18), (18, 3)],\n",
       " 370: [(3, 19), (9, 17), (17, 9), (19, 3)],\n",
       " 409: [(3, 20), (20, 3)],\n",
       " 450: [(3, 21), (15, 15), (21, 3)],\n",
       " 493: [(3, 22), (13, 18), (18, 13), (22, 3)],\n",
       " 538: [(3, 23), (23, 3)],\n",
       " 585: [(3, 24), (12, 21), (21, 12), (24, 3)],\n",
       " 634: [(3, 25), (25, 3)],\n",
       " 685: [(3, 26), (18, 19), (19, 18), (26, 3)],\n",
       " 738: [(3, 27), (27, 3)],\n",
       " 793: [(3, 28), (8, 27), (27, 8), (28, 3)],\n",
       " 850: [(3, 29), (11, 27), (15, 25), (25, 15), (27, 11), (29, 3)],\n",
       " 909: [(3, 30), (30, 3)],\n",
       " 32: [(4, 4)],\n",
       " 41: [(4, 5), (5, 4)],\n",
       " 52: [(4, 6), (6, 4)],\n",
       " 80: [(4, 8), (8, 4)],\n",
       " 97: [(4, 9), (9, 4)],\n",
       " 116: [(4, 10), (10, 4)],\n",
       " 137: [(4, 11), (11, 4)],\n",
       " 160: [(4, 12), (12, 4)],\n",
       " 185: [(4, 13), (8, 11), (11, 8), (13, 4)],\n",
       " 212: [(4, 14), (14, 4)],\n",
       " 241: [(4, 15), (15, 4)],\n",
       " 272: [(4, 16), (16, 4)],\n",
       " 305: [(4, 17), (7, 16), (16, 7), (17, 4)],\n",
       " 340: [(4, 18), (12, 14), (14, 12), (18, 4)],\n",
       " 377: [(4, 19), (11, 16), (16, 11), (19, 4)],\n",
       " 416: [(4, 20), (20, 4)],\n",
       " 457: [(4, 21), (21, 4)],\n",
       " 500: [(4, 22), (10, 20), (20, 10), (22, 4)],\n",
       " 545: [(4, 23), (16, 17), (17, 16), (23, 4)],\n",
       " 592: [(4, 24), (24, 4)],\n",
       " 641: [(4, 25), (25, 4)],\n",
       " 692: [(4, 26), (26, 4)],\n",
       " 745: [(4, 27), (13, 24), (24, 13), (27, 4)],\n",
       " 800: [(4, 28), (20, 20), (28, 4)],\n",
       " 857: [(4, 29), (29, 4)],\n",
       " 916: [(4, 30), (30, 4)],\n",
       " 61: [(5, 6), (6, 5)],\n",
       " 74: [(5, 7), (7, 5)],\n",
       " 89: [(5, 8), (8, 5)],\n",
       " 106: [(5, 9), (9, 5)],\n",
       " 146: [(5, 11), (11, 5)],\n",
       " 194: [(5, 13), (13, 5)],\n",
       " 221: [(5, 14), (10, 11), (11, 10), (14, 5)],\n",
       " 250: [(5, 15), (9, 13), (13, 9), (15, 5)],\n",
       " 281: [(5, 16), (16, 5)],\n",
       " 314: [(5, 17), (17, 5)],\n",
       " 349: [(5, 18), (18, 5)],\n",
       " 386: [(5, 19), (19, 5)],\n",
       " 425: [(5, 20), (8, 19), (13, 16), (16, 13), (19, 8), (20, 5)],\n",
       " 466: [(5, 21), (21, 5)],\n",
       " 509: [(5, 22), (22, 5)],\n",
       " 554: [(5, 23), (23, 5)],\n",
       " 601: [(5, 24), (24, 5)],\n",
       " 650: [(5, 25), (11, 23), (17, 19), (19, 17), (23, 11), (25, 5)],\n",
       " 701: [(5, 26), (26, 5)],\n",
       " 754: [(5, 27), (15, 23), (23, 15), (27, 5)],\n",
       " 809: [(5, 28), (28, 5)],\n",
       " 866: [(5, 29), (29, 5)],\n",
       " 925: [(5, 30), (14, 27), (21, 22), (22, 21), (27, 14), (30, 5)],\n",
       " 72: [(6, 6)],\n",
       " 117: [(6, 9), (9, 6)],\n",
       " 136: [(6, 10), (10, 6)],\n",
       " 157: [(6, 11), (11, 6)],\n",
       " 180: [(6, 12), (12, 6)],\n",
       " 232: [(6, 14), (14, 6)],\n",
       " 261: [(6, 15), (15, 6)],\n",
       " 292: [(6, 16), (16, 6)],\n",
       " 360: [(6, 18), (18, 6)],\n",
       " 397: [(6, 19), (19, 6)],\n",
       " 436: [(6, 20), (20, 6)],\n",
       " 477: [(6, 21), (21, 6)],\n",
       " 520: [(6, 22), (14, 18), (18, 14), (22, 6)],\n",
       " 565: [(6, 23), (9, 22), (22, 9), (23, 6)],\n",
       " 612: [(6, 24), (24, 6)],\n",
       " 661: [(6, 25), (25, 6)],\n",
       " 712: [(6, 26), (26, 6)],\n",
       " 765: [(6, 27), (18, 21), (21, 18), (27, 6)],\n",
       " 820: [(6, 28), (12, 26), (26, 12), (28, 6)],\n",
       " 877: [(6, 29), (29, 6)],\n",
       " 936: [(6, 30), (30, 6)],\n",
       " 98: [(7, 7)],\n",
       " 113: [(7, 8), (8, 7)],\n",
       " 149: [(7, 10), (10, 7)],\n",
       " 193: [(7, 12), (12, 7)],\n",
       " 218: [(7, 13), (13, 7)],\n",
       " 245: [(7, 14), (14, 7)],\n",
       " 274: [(7, 15), (15, 7)],\n",
       " 338: [(7, 17), (13, 13), (17, 7)],\n",
       " 373: [(7, 18), (18, 7)],\n",
       " 410: [(7, 19), (11, 17), (17, 11), (19, 7)],\n",
       " 449: [(7, 20), (20, 7)],\n",
       " 490: [(7, 21), (21, 7)],\n",
       " 578: [(7, 23), (17, 17), (23, 7)],\n",
       " 674: [(7, 25), (25, 7)],\n",
       " 725: [(7, 26), (10, 25), (14, 23), (23, 14), (25, 10), (26, 7)],\n",
       " 778: [(7, 27), (27, 7)],\n",
       " 833: [(7, 28), (28, 7)],\n",
       " 890: [(7, 29), (19, 23), (23, 19), (29, 7)],\n",
       " 949: [(7, 30), (18, 25), (25, 18), (30, 7)],\n",
       " 128: [(8, 8)],\n",
       " 164: [(8, 10), (10, 8)],\n",
       " 208: [(8, 12), (12, 8)],\n",
       " 233: [(8, 13), (13, 8)],\n",
       " 320: [(8, 16), (16, 8)],\n",
       " 353: [(8, 17), (17, 8)],\n",
       " 388: [(8, 18), (18, 8)],\n",
       " 464: [(8, 20), (20, 8)],\n",
       " 505: [(8, 21), (12, 19), (19, 12), (21, 8)],\n",
       " 548: [(8, 22), (22, 8)],\n",
       " 593: [(8, 23), (23, 8)],\n",
       " 640: [(8, 24), (24, 8)],\n",
       " 689: [(8, 25), (17, 20), (20, 17), (25, 8)],\n",
       " 740: [(8, 26), (16, 22), (22, 16), (26, 8)],\n",
       " 848: [(8, 28), (28, 8)],\n",
       " 905: [(8, 29), (11, 28), (28, 11), (29, 8)],\n",
       " 964: [(8, 30), (30, 8)],\n",
       " 162: [(9, 9)],\n",
       " 181: [(9, 10), (10, 9)],\n",
       " 202: [(9, 11), (11, 9)],\n",
       " 277: [(9, 14), (14, 9)],\n",
       " 306: [(9, 15), (15, 9)],\n",
       " 337: [(9, 16), (16, 9)],\n",
       " 405: [(9, 18), (18, 9)],\n",
       " 481: [(9, 20), (15, 16), (16, 15), (20, 9)],\n",
       " 522: [(9, 21), (21, 9)],\n",
       " 610: [(9, 23), (13, 21), (21, 13), (23, 9)],\n",
       " 657: [(9, 24), (24, 9)],\n",
       " 706: [(9, 25), (25, 9)],\n",
       " 757: [(9, 26), (26, 9)],\n",
       " 810: [(9, 27), (27, 9)],\n",
       " 865: [(9, 28), (17, 24), (24, 17), (28, 9)],\n",
       " 922: [(9, 29), (29, 9)],\n",
       " 981: [(9, 30), (30, 9)],\n",
       " 244: [(10, 12), (12, 10)],\n",
       " 269: [(10, 13), (13, 10)],\n",
       " 296: [(10, 14), (14, 10)],\n",
       " 356: [(10, 16), (16, 10)],\n",
       " 389: [(10, 17), (17, 10)],\n",
       " 424: [(10, 18), (18, 10)],\n",
       " 461: [(10, 19), (19, 10)],\n",
       " 541: [(10, 21), (21, 10)],\n",
       " 584: [(10, 22), (22, 10)],\n",
       " 776: [(10, 26), (26, 10)],\n",
       " 829: [(10, 27), (27, 10)],\n",
       " 884: [(10, 28), (20, 22), (22, 20), (28, 10)],\n",
       " 941: [(10, 29), (29, 10)],\n",
       " 1000: [(10, 30), (18, 26), (26, 18), (30, 10)],\n",
       " 242: [(11, 11)],\n",
       " 317: [(11, 14), (14, 11)],\n",
       " 346: [(11, 15), (15, 11)],\n",
       " 482: [(11, 19), (19, 11)],\n",
       " 521: [(11, 20), (20, 11)],\n",
       " 562: [(11, 21), (21, 11)],\n",
       " 605: [(11, 22), (22, 11)],\n",
       " 697: [(11, 24), (16, 21), (21, 16), (24, 11)],\n",
       " 746: [(11, 25), (25, 11)],\n",
       " 797: [(11, 26), (26, 11)],\n",
       " 962: [(11, 29), (29, 11)],\n",
       " 1021: [(11, 30), (30, 11)],\n",
       " 288: [(12, 12)],\n",
       " 313: [(12, 13), (13, 12)],\n",
       " 369: [(12, 15), (15, 12)],\n",
       " 433: [(12, 17), (17, 12)],\n",
       " 468: [(12, 18), (18, 12)],\n",
       " 544: [(12, 20), (20, 12)],\n",
       " 628: [(12, 22), (22, 12)],\n",
       " 673: [(12, 23), (23, 12)],\n",
       " 720: [(12, 24), (24, 12)],\n",
       " 769: [(12, 25), (25, 12)],\n",
       " 873: [(12, 27), (27, 12)],\n",
       " 928: [(12, 28), (28, 12)],\n",
       " 985: [(12, 29), (16, 27), (27, 16), (29, 12)],\n",
       " 1044: [(12, 30), (30, 12)],\n",
       " 394: [(13, 15), (15, 13)],\n",
       " 458: [(13, 17), (17, 13)],\n",
       " 569: [(13, 20), (20, 13)],\n",
       " 653: [(13, 22), (22, 13)],\n",
       " 698: [(13, 23), (23, 13)],\n",
       " 794: [(13, 25), (25, 13)],\n",
       " 898: [(13, 27), (27, 13)],\n",
       " 953: [(13, 28), (28, 13)],\n",
       " 1010: [(13, 29), (29, 13)],\n",
       " 1069: [(13, 30), (30, 13)],\n",
       " 392: [(14, 14)],\n",
       " 421: [(14, 15), (15, 14)],\n",
       " 452: [(14, 16), (16, 14)],\n",
       " 557: [(14, 19), (19, 14)],\n",
       " 596: [(14, 20), (20, 14)],\n",
       " 637: [(14, 21), (21, 14)],\n",
       " 772: [(14, 24), (24, 14)],\n",
       " 821: [(14, 25), (25, 14)],\n",
       " 872: [(14, 26), (26, 14)],\n",
       " 980: [(14, 28), (28, 14)],\n",
       " 1037: [(14, 29), (19, 26), (26, 19), (29, 14)],\n",
       " 1096: [(14, 30), (30, 14)],\n",
       " 514: [(15, 17), (17, 15)],\n",
       " 549: [(15, 18), (18, 15)],\n",
       " 586: [(15, 19), (19, 15)],\n",
       " 666: [(15, 21), (21, 15)],\n",
       " 709: [(15, 22), (22, 15)],\n",
       " 801: [(15, 24), (24, 15)],\n",
       " 954: [(15, 27), (27, 15)],\n",
       " 1009: [(15, 28), (28, 15)],\n",
       " 1066: [(15, 29), (21, 25), (25, 21), (29, 15)],\n",
       " 1125: [(15, 30), (30, 15)],\n",
       " 512: [(16, 16)],\n",
       " 617: [(16, 19), (19, 16)],\n",
       " 656: [(16, 20), (20, 16)],\n",
       " 832: [(16, 24), (24, 16)],\n",
       " 881: [(16, 25), (25, 16)],\n",
       " 932: [(16, 26), (26, 16)],\n",
       " 1040: [(16, 28), (28, 16)],\n",
       " 1097: [(16, 29), (29, 16)],\n",
       " 1156: [(16, 30), (30, 16)],\n",
       " 613: [(17, 18), (18, 17)],\n",
       " 773: [(17, 22), (22, 17)],\n",
       " 818: [(17, 23), (23, 17)],\n",
       " 914: [(17, 25), (25, 17)],\n",
       " 965: [(17, 26), (26, 17)],\n",
       " 1018: [(17, 27), (27, 17)],\n",
       " 1073: [(17, 28), (28, 17)],\n",
       " 1130: [(17, 29), (29, 17)],\n",
       " 1189: [(17, 30), (30, 17)],\n",
       " 648: [(18, 18)],\n",
       " 724: [(18, 20), (20, 18)],\n",
       " 808: [(18, 22), (22, 18)],\n",
       " 853: [(18, 23), (23, 18)],\n",
       " 1053: [(18, 27), (27, 18)],\n",
       " 1108: [(18, 28), (28, 18)],\n",
       " 1165: [(18, 29), (29, 18)],\n",
       " 1224: [(18, 30), (30, 18)],\n",
       " 722: [(19, 19)],\n",
       " 761: [(19, 20), (20, 19)],\n",
       " 802: [(19, 21), (21, 19)],\n",
       " 937: [(19, 24), (24, 19)],\n",
       " 986: [(19, 25), (25, 19)],\n",
       " 1090: [(19, 27), (27, 19)],\n",
       " 1145: [(19, 28), (28, 19)],\n",
       " 1202: [(19, 29), (29, 19)],\n",
       " 1261: [(19, 30), (30, 19)],\n",
       " 929: [(20, 23), (23, 20)],\n",
       " 976: [(20, 24), (24, 20)],\n",
       " 1025: [(20, 25), (25, 20)],\n",
       " 1076: [(20, 26), (26, 20)],\n",
       " 1129: [(20, 27), (27, 20)],\n",
       " 1184: [(20, 28), (28, 20)],\n",
       " 1241: [(20, 29), (29, 20)],\n",
       " 1300: [(20, 30), (30, 20)],\n",
       " 882: [(21, 21)],\n",
       " 970: [(21, 23), (23, 21)],\n",
       " 1017: [(21, 24), (24, 21)],\n",
       " 1117: [(21, 26), (26, 21)],\n",
       " 1170: [(21, 27), (27, 21)],\n",
       " 1225: [(21, 28), (28, 21)],\n",
       " 1282: [(21, 29), (29, 21)],\n",
       " 1341: [(21, 30), (30, 21)],\n",
       " 968: [(22, 22)],\n",
       " 1013: [(22, 23), (23, 22)],\n",
       " 1060: [(22, 24), (24, 22)],\n",
       " 1109: [(22, 25), (25, 22)],\n",
       " 1160: [(22, 26), (26, 22)],\n",
       " 1213: [(22, 27), (27, 22)],\n",
       " 1268: [(22, 28), (28, 22)],\n",
       " 1325: [(22, 29), (29, 22)],\n",
       " 1384: [(22, 30), (30, 22)],\n",
       " 1058: [(23, 23)],\n",
       " 1105: [(23, 24), (24, 23)],\n",
       " 1154: [(23, 25), (25, 23)],\n",
       " 1205: [(23, 26), (26, 23)],\n",
       " 1258: [(23, 27), (27, 23)],\n",
       " 1313: [(23, 28), (28, 23)],\n",
       " 1370: [(23, 29), (29, 23)],\n",
       " 1429: [(23, 30), (30, 23)],\n",
       " 1152: [(24, 24)],\n",
       " 1201: [(24, 25), (25, 24)],\n",
       " 1252: [(24, 26), (26, 24)],\n",
       " 1305: [(24, 27), (27, 24)],\n",
       " 1360: [(24, 28), (28, 24)],\n",
       " 1417: [(24, 29), (29, 24)],\n",
       " 1476: [(24, 30), (30, 24)],\n",
       " 1250: [(25, 25)],\n",
       " 1301: [(25, 26), (26, 25)],\n",
       " 1354: [(25, 27), (27, 25)],\n",
       " 1409: [(25, 28), (28, 25)],\n",
       " 1466: [(25, 29), (29, 25)],\n",
       " 1525: [(25, 30), (30, 25)],\n",
       " 1352: [(26, 26)],\n",
       " 1405: [(26, 27), (27, 26)],\n",
       " 1460: [(26, 28), (28, 26)],\n",
       " 1517: [(26, 29), (29, 26)],\n",
       " 1576: [(26, 30), (30, 26)],\n",
       " 1458: [(27, 27)],\n",
       " 1513: [(27, 28), (28, 27)],\n",
       " 1570: [(27, 29), (29, 27)],\n",
       " 1629: [(27, 30), (30, 27)],\n",
       " 1568: [(28, 28)],\n",
       " 1625: [(28, 29), (29, 28)],\n",
       " 1684: [(28, 30), (30, 28)],\n",
       " 1682: [(29, 29)],\n",
       " 1741: [(29, 30), (30, 29)],\n",
       " 1800: [(30, 30)]}"
      ]
     },
     "execution_count": 72,
     "metadata": {},
     "output_type": "execute_result"
    }
   ],
   "source": [
    "a_bound=30\n",
    "b_bound=30\n",
    "\n",
    "sum_of_squares_database = sum_of_squares_data(a_bound=a_bound, b_bound=b_bound)\n",
    "sum_of_squares_database"
   ]
  },
  {
   "cell_type": "code",
   "execution_count": 73,
   "metadata": {
    "scrolled": true
   },
   "outputs": [
    {
     "data": {
      "text/plain": [
       "{1: [(0, 1), (1, 0)],\n",
       " 9: [(0, 3), (3, 0)],\n",
       " 25: [(0, 5), (3, 4), (4, 3), (5, 0)],\n",
       " 49: [(0, 7), (7, 0)],\n",
       " 81: [(0, 9), (9, 0)],\n",
       " 121: [(0, 11), (11, 0)],\n",
       " 169: [(0, 13), (5, 12), (12, 5), (13, 0)],\n",
       " 225: [(0, 15), (9, 12), (12, 9), (15, 0)],\n",
       " 289: [(0, 17), (8, 15), (15, 8), (17, 0)],\n",
       " 361: [(0, 19), (19, 0)],\n",
       " 441: [(0, 21), (21, 0)],\n",
       " 529: [(0, 23), (23, 0)],\n",
       " 625: [(0, 25), (7, 24), (15, 20), (20, 15), (24, 7), (25, 0)],\n",
       " 729: [(0, 27), (27, 0)],\n",
       " 841: [(0, 29), (20, 21), (21, 20), (29, 0)],\n",
       " 5: [(1, 2), (2, 1)],\n",
       " 17: [(1, 4), (4, 1)],\n",
       " 37: [(1, 6), (6, 1)],\n",
       " 65: [(1, 8), (4, 7), (7, 4), (8, 1)],\n",
       " 101: [(1, 10), (10, 1)],\n",
       " 145: [(1, 12), (8, 9), (9, 8), (12, 1)],\n",
       " 197: [(1, 14), (14, 1)],\n",
       " 257: [(1, 16), (16, 1)],\n",
       " 325: [(1, 18), (6, 17), (10, 15), (15, 10), (17, 6), (18, 1)],\n",
       " 401: [(1, 20), (20, 1)],\n",
       " 485: [(1, 22), (14, 17), (17, 14), (22, 1)],\n",
       " 577: [(1, 24), (24, 1)],\n",
       " 677: [(1, 26), (26, 1)],\n",
       " 785: [(1, 28), (16, 23), (23, 16), (28, 1)],\n",
       " 901: [(1, 30), (15, 26), (26, 15), (30, 1)],\n",
       " 13: [(2, 3), (3, 2)],\n",
       " 29: [(2, 5), (5, 2)],\n",
       " 53: [(2, 7), (7, 2)],\n",
       " 85: [(2, 9), (6, 7), (7, 6), (9, 2)],\n",
       " 125: [(2, 11), (5, 10), (10, 5), (11, 2)],\n",
       " 173: [(2, 13), (13, 2)],\n",
       " 229: [(2, 15), (15, 2)],\n",
       " 293: [(2, 17), (17, 2)],\n",
       " 365: [(2, 19), (13, 14), (14, 13), (19, 2)],\n",
       " 445: [(2, 21), (11, 18), (18, 11), (21, 2)],\n",
       " 533: [(2, 23), (7, 22), (22, 7), (23, 2)],\n",
       " 629: [(2, 25), (10, 23), (23, 10), (25, 2)],\n",
       " 733: [(2, 27), (27, 2)],\n",
       " 845: [(2, 29), (13, 26), (19, 22), (22, 19), (26, 13), (29, 2)],\n",
       " 45: [(3, 6), (6, 3)],\n",
       " 73: [(3, 8), (8, 3)],\n",
       " 109: [(3, 10), (10, 3)],\n",
       " 153: [(3, 12), (12, 3)],\n",
       " 205: [(3, 14), (6, 13), (13, 6), (14, 3)],\n",
       " 265: [(3, 16), (11, 12), (12, 11), (16, 3)],\n",
       " 333: [(3, 18), (18, 3)],\n",
       " 409: [(3, 20), (20, 3)],\n",
       " 493: [(3, 22), (13, 18), (18, 13), (22, 3)],\n",
       " 585: [(3, 24), (12, 21), (21, 12), (24, 3)],\n",
       " 685: [(3, 26), (18, 19), (19, 18), (26, 3)],\n",
       " 793: [(3, 28), (8, 27), (27, 8), (28, 3)],\n",
       " 909: [(3, 30), (30, 3)],\n",
       " 41: [(4, 5), (5, 4)],\n",
       " 97: [(4, 9), (9, 4)],\n",
       " 137: [(4, 11), (11, 4)],\n",
       " 185: [(4, 13), (8, 11), (11, 8), (13, 4)],\n",
       " 241: [(4, 15), (15, 4)],\n",
       " 305: [(4, 17), (7, 16), (16, 7), (17, 4)],\n",
       " 377: [(4, 19), (11, 16), (16, 11), (19, 4)],\n",
       " 457: [(4, 21), (21, 4)],\n",
       " 545: [(4, 23), (16, 17), (17, 16), (23, 4)],\n",
       " 641: [(4, 25), (25, 4)],\n",
       " 745: [(4, 27), (13, 24), (24, 13), (27, 4)],\n",
       " 857: [(4, 29), (29, 4)],\n",
       " 61: [(5, 6), (6, 5)],\n",
       " 89: [(5, 8), (8, 5)],\n",
       " 221: [(5, 14), (10, 11), (11, 10), (14, 5)],\n",
       " 281: [(5, 16), (16, 5)],\n",
       " 349: [(5, 18), (18, 5)],\n",
       " 425: [(5, 20), (8, 19), (13, 16), (16, 13), (19, 8), (20, 5)],\n",
       " 509: [(5, 22), (22, 5)],\n",
       " 601: [(5, 24), (24, 5)],\n",
       " 701: [(5, 26), (26, 5)],\n",
       " 809: [(5, 28), (28, 5)],\n",
       " 925: [(5, 30), (14, 27), (21, 22), (22, 21), (27, 14), (30, 5)],\n",
       " 117: [(6, 9), (9, 6)],\n",
       " 157: [(6, 11), (11, 6)],\n",
       " 261: [(6, 15), (15, 6)],\n",
       " 397: [(6, 19), (19, 6)],\n",
       " 477: [(6, 21), (21, 6)],\n",
       " 565: [(6, 23), (9, 22), (22, 9), (23, 6)],\n",
       " 661: [(6, 25), (25, 6)],\n",
       " 765: [(6, 27), (18, 21), (21, 18), (27, 6)],\n",
       " 877: [(6, 29), (29, 6)],\n",
       " 113: [(7, 8), (8, 7)],\n",
       " 149: [(7, 10), (10, 7)],\n",
       " 193: [(7, 12), (12, 7)],\n",
       " 245: [(7, 14), (14, 7)],\n",
       " 373: [(7, 18), (18, 7)],\n",
       " 449: [(7, 20), (20, 7)],\n",
       " 725: [(7, 26), (10, 25), (14, 23), (23, 14), (25, 10), (26, 7)],\n",
       " 833: [(7, 28), (28, 7)],\n",
       " 949: [(7, 30), (18, 25), (25, 18), (30, 7)],\n",
       " 233: [(8, 13), (13, 8)],\n",
       " 353: [(8, 17), (17, 8)],\n",
       " 505: [(8, 21), (12, 19), (19, 12), (21, 8)],\n",
       " 593: [(8, 23), (23, 8)],\n",
       " 689: [(8, 25), (17, 20), (20, 17), (25, 8)],\n",
       " 905: [(8, 29), (11, 28), (28, 11), (29, 8)],\n",
       " 181: [(9, 10), (10, 9)],\n",
       " 277: [(9, 14), (14, 9)],\n",
       " 337: [(9, 16), (16, 9)],\n",
       " 405: [(9, 18), (18, 9)],\n",
       " 481: [(9, 20), (15, 16), (16, 15), (20, 9)],\n",
       " 657: [(9, 24), (24, 9)],\n",
       " 757: [(9, 26), (26, 9)],\n",
       " 865: [(9, 28), (17, 24), (24, 17), (28, 9)],\n",
       " 981: [(9, 30), (30, 9)],\n",
       " 269: [(10, 13), (13, 10)],\n",
       " 389: [(10, 17), (17, 10)],\n",
       " 461: [(10, 19), (19, 10)],\n",
       " 541: [(10, 21), (21, 10)],\n",
       " 829: [(10, 27), (27, 10)],\n",
       " 941: [(10, 29), (29, 10)],\n",
       " 317: [(11, 14), (14, 11)],\n",
       " 521: [(11, 20), (20, 11)],\n",
       " 605: [(11, 22), (22, 11)],\n",
       " 697: [(11, 24), (16, 21), (21, 16), (24, 11)],\n",
       " 797: [(11, 26), (26, 11)],\n",
       " 1021: [(11, 30), (30, 11)],\n",
       " 313: [(12, 13), (13, 12)],\n",
       " 369: [(12, 15), (15, 12)],\n",
       " 433: [(12, 17), (17, 12)],\n",
       " 673: [(12, 23), (23, 12)],\n",
       " 769: [(12, 25), (25, 12)],\n",
       " 873: [(12, 27), (27, 12)],\n",
       " 985: [(12, 29), (16, 27), (27, 16), (29, 12)],\n",
       " 569: [(13, 20), (20, 13)],\n",
       " 653: [(13, 22), (22, 13)],\n",
       " 953: [(13, 28), (28, 13)],\n",
       " 1069: [(13, 30), (30, 13)],\n",
       " 421: [(14, 15), (15, 14)],\n",
       " 557: [(14, 19), (19, 14)],\n",
       " 637: [(14, 21), (21, 14)],\n",
       " 821: [(14, 25), (25, 14)],\n",
       " 1037: [(14, 29), (19, 26), (26, 19), (29, 14)],\n",
       " 549: [(15, 18), (18, 15)],\n",
       " 709: [(15, 22), (22, 15)],\n",
       " 801: [(15, 24), (24, 15)],\n",
       " 1009: [(15, 28), (28, 15)],\n",
       " 1125: [(15, 30), (30, 15)],\n",
       " 617: [(16, 19), (19, 16)],\n",
       " 881: [(16, 25), (25, 16)],\n",
       " 1097: [(16, 29), (29, 16)],\n",
       " 613: [(17, 18), (18, 17)],\n",
       " 773: [(17, 22), (22, 17)],\n",
       " 965: [(17, 26), (26, 17)],\n",
       " 1073: [(17, 28), (28, 17)],\n",
       " 1189: [(17, 30), (30, 17)],\n",
       " 853: [(18, 23), (23, 18)],\n",
       " 1053: [(18, 27), (27, 18)],\n",
       " 1165: [(18, 29), (29, 18)],\n",
       " 761: [(19, 20), (20, 19)],\n",
       " 937: [(19, 24), (24, 19)],\n",
       " 1145: [(19, 28), (28, 19)],\n",
       " 1261: [(19, 30), (30, 19)],\n",
       " 929: [(20, 23), (23, 20)],\n",
       " 1025: [(20, 25), (25, 20)],\n",
       " 1129: [(20, 27), (27, 20)],\n",
       " 1241: [(20, 29), (29, 20)],\n",
       " 1017: [(21, 24), (24, 21)],\n",
       " 1117: [(21, 26), (26, 21)],\n",
       " 1225: [(21, 28), (28, 21)],\n",
       " 1341: [(21, 30), (30, 21)],\n",
       " 1013: [(22, 23), (23, 22)],\n",
       " 1109: [(22, 25), (25, 22)],\n",
       " 1213: [(22, 27), (27, 22)],\n",
       " 1325: [(22, 29), (29, 22)],\n",
       " 1105: [(23, 24), (24, 23)],\n",
       " 1205: [(23, 26), (26, 23)],\n",
       " 1313: [(23, 28), (28, 23)],\n",
       " 1429: [(23, 30), (30, 23)],\n",
       " 1201: [(24, 25), (25, 24)],\n",
       " 1305: [(24, 27), (27, 24)],\n",
       " 1417: [(24, 29), (29, 24)],\n",
       " 1301: [(25, 26), (26, 25)],\n",
       " 1409: [(25, 28), (28, 25)],\n",
       " 1525: [(25, 30), (30, 25)],\n",
       " 1405: [(26, 27), (27, 26)],\n",
       " 1517: [(26, 29), (29, 26)],\n",
       " 1513: [(27, 28), (28, 27)],\n",
       " 1629: [(27, 30), (30, 27)],\n",
       " 1625: [(28, 29), (29, 28)],\n",
       " 1741: [(29, 30), (30, 29)]}"
      ]
     },
     "execution_count": 73,
     "metadata": {},
     "output_type": "execute_result"
    }
   ],
   "source": [
    "{key: sum_of_squares_database[key] for key in list(filter(is_odd, sum_of_squares_database))}"
   ]
  },
  {
   "cell_type": "code",
   "execution_count": 8,
   "metadata": {
    "scrolled": true
   },
   "outputs": [
    {
     "data": {
      "text/plain": [
       "[False,\n",
       " True,\n",
       " False,\n",
       " True,\n",
       " False,\n",
       " True,\n",
       " False,\n",
       " True,\n",
       " False,\n",
       " True,\n",
       " False,\n",
       " False,\n",
       " True,\n",
       " False,\n",
       " True,\n",
       " False,\n",
       " False,\n",
       " False,\n",
       " True,\n",
       " False]"
      ]
     },
     "execution_count": 8,
     "metadata": {},
     "output_type": "execute_result"
    }
   ],
   "source": [
    "list(map(is_odd, sum_of_squares_database))"
   ]
  },
  {
   "cell_type": "code",
   "execution_count": 74,
   "metadata": {
    "scrolled": true
   },
   "outputs": [
    {
     "data": {
      "text/plain": [
       "[1,\n",
       " 9,\n",
       " 25,\n",
       " 49,\n",
       " 81,\n",
       " 121,\n",
       " 169,\n",
       " 225,\n",
       " 289,\n",
       " 361,\n",
       " 441,\n",
       " 529,\n",
       " 625,\n",
       " 729,\n",
       " 841,\n",
       " 5,\n",
       " 17,\n",
       " 37,\n",
       " 65,\n",
       " 101,\n",
       " 145,\n",
       " 197,\n",
       " 257,\n",
       " 325,\n",
       " 401,\n",
       " 485,\n",
       " 577,\n",
       " 677,\n",
       " 785,\n",
       " 901,\n",
       " 13,\n",
       " 29,\n",
       " 53,\n",
       " 85,\n",
       " 125,\n",
       " 173,\n",
       " 229,\n",
       " 293,\n",
       " 365,\n",
       " 445,\n",
       " 533,\n",
       " 629,\n",
       " 733,\n",
       " 845,\n",
       " 45,\n",
       " 73,\n",
       " 109,\n",
       " 153,\n",
       " 205,\n",
       " 265,\n",
       " 333,\n",
       " 409,\n",
       " 493,\n",
       " 585,\n",
       " 685,\n",
       " 793,\n",
       " 909,\n",
       " 41,\n",
       " 97,\n",
       " 137,\n",
       " 185,\n",
       " 241,\n",
       " 305,\n",
       " 377,\n",
       " 457,\n",
       " 545,\n",
       " 641,\n",
       " 745,\n",
       " 857,\n",
       " 61,\n",
       " 89,\n",
       " 221,\n",
       " 281,\n",
       " 349,\n",
       " 425,\n",
       " 509,\n",
       " 601,\n",
       " 701,\n",
       " 809,\n",
       " 925,\n",
       " 117,\n",
       " 157,\n",
       " 261,\n",
       " 397,\n",
       " 477,\n",
       " 565,\n",
       " 661,\n",
       " 765,\n",
       " 877,\n",
       " 113,\n",
       " 149,\n",
       " 193,\n",
       " 245,\n",
       " 373,\n",
       " 449,\n",
       " 725,\n",
       " 833,\n",
       " 949,\n",
       " 233,\n",
       " 353,\n",
       " 505,\n",
       " 593,\n",
       " 689,\n",
       " 905,\n",
       " 181,\n",
       " 277,\n",
       " 337,\n",
       " 405,\n",
       " 481,\n",
       " 657,\n",
       " 757,\n",
       " 865,\n",
       " 981,\n",
       " 269,\n",
       " 389,\n",
       " 461,\n",
       " 541,\n",
       " 829,\n",
       " 941,\n",
       " 317,\n",
       " 521,\n",
       " 605,\n",
       " 697,\n",
       " 797,\n",
       " 1021,\n",
       " 313,\n",
       " 369,\n",
       " 433,\n",
       " 673,\n",
       " 769,\n",
       " 873,\n",
       " 985,\n",
       " 569,\n",
       " 653,\n",
       " 953,\n",
       " 1069,\n",
       " 421,\n",
       " 557,\n",
       " 637,\n",
       " 821,\n",
       " 1037,\n",
       " 549,\n",
       " 709,\n",
       " 801,\n",
       " 1009,\n",
       " 1125,\n",
       " 617,\n",
       " 881,\n",
       " 1097,\n",
       " 613,\n",
       " 773,\n",
       " 965,\n",
       " 1073,\n",
       " 1189,\n",
       " 853,\n",
       " 1053,\n",
       " 1165,\n",
       " 761,\n",
       " 937,\n",
       " 1145,\n",
       " 1261,\n",
       " 929,\n",
       " 1025,\n",
       " 1129,\n",
       " 1241,\n",
       " 1017,\n",
       " 1117,\n",
       " 1225,\n",
       " 1341,\n",
       " 1013,\n",
       " 1109,\n",
       " 1213,\n",
       " 1325,\n",
       " 1105,\n",
       " 1205,\n",
       " 1313,\n",
       " 1429,\n",
       " 1201,\n",
       " 1305,\n",
       " 1417,\n",
       " 1301,\n",
       " 1409,\n",
       " 1525,\n",
       " 1405,\n",
       " 1517,\n",
       " 1513,\n",
       " 1629,\n",
       " 1625,\n",
       " 1741]"
      ]
     },
     "execution_count": 74,
     "metadata": {},
     "output_type": "execute_result"
    }
   ],
   "source": [
    "list(filter(is_odd, sum_of_squares_database))"
   ]
  },
  {
   "cell_type": "code",
   "execution_count": 10,
   "metadata": {},
   "outputs": [
    {
     "data": {
      "text/plain": [
       "True"
      ]
     },
     "execution_count": 10,
     "metadata": {},
     "output_type": "execute_result"
    }
   ],
   "source": [
    "all(list(filter(is_odd, sum_of_squares_database)))"
   ]
  },
  {
   "cell_type": "markdown",
   "metadata": {},
   "source": [
    "### Exploring Conjecture 2 <a class=\"anchor\" id=\"exploring-conjecture-02\"></a>\n",
    "\n",
    "**Conjecture 2**\n",
    "\n",
    "If $a$ and $b$ are both even, then $n$ is even and if $a$ and $b$ are both odd, then $n$ is even."
   ]
  },
  {
   "cell_type": "code",
   "execution_count": 75,
   "metadata": {},
   "outputs": [
    {
     "data": {
      "text/plain": [
       "{0: [(0, 0)],\n",
       " 4: [(0, 2), (2, 0)],\n",
       " 16: [(0, 4), (4, 0)],\n",
       " 36: [(0, 6), (6, 0)],\n",
       " 64: [(0, 8), (8, 0)],\n",
       " 100: [(0, 10), (6, 8), (8, 6), (10, 0)],\n",
       " 144: [(0, 12), (12, 0)],\n",
       " 196: [(0, 14), (14, 0)],\n",
       " 256: [(0, 16), (16, 0)],\n",
       " 324: [(0, 18), (18, 0)],\n",
       " 400: [(0, 20), (12, 16), (16, 12), (20, 0)],\n",
       " 484: [(0, 22), (22, 0)],\n",
       " 576: [(0, 24), (24, 0)],\n",
       " 676: [(0, 26), (10, 24), (24, 10), (26, 0)],\n",
       " 784: [(0, 28), (28, 0)],\n",
       " 900: [(0, 30), (18, 24), (24, 18), (30, 0)],\n",
       " 2: [(1, 1)],\n",
       " 10: [(1, 3), (3, 1)],\n",
       " 26: [(1, 5), (5, 1)],\n",
       " 50: [(1, 7), (5, 5), (7, 1)],\n",
       " 82: [(1, 9), (9, 1)],\n",
       " 122: [(1, 11), (11, 1)],\n",
       " 170: [(1, 13), (7, 11), (11, 7), (13, 1)],\n",
       " 226: [(1, 15), (15, 1)],\n",
       " 290: [(1, 17), (11, 13), (13, 11), (17, 1)],\n",
       " 362: [(1, 19), (19, 1)],\n",
       " 442: [(1, 21), (9, 19), (19, 9), (21, 1)],\n",
       " 530: [(1, 23), (13, 19), (19, 13), (23, 1)],\n",
       " 626: [(1, 25), (25, 1)],\n",
       " 730: [(1, 27), (17, 21), (21, 17), (27, 1)],\n",
       " 842: [(1, 29), (29, 1)],\n",
       " 8: [(2, 2)],\n",
       " 20: [(2, 4), (4, 2)],\n",
       " 40: [(2, 6), (6, 2)],\n",
       " 68: [(2, 8), (8, 2)],\n",
       " 104: [(2, 10), (10, 2)],\n",
       " 148: [(2, 12), (12, 2)],\n",
       " 200: [(2, 14), (10, 10), (14, 2)],\n",
       " 260: [(2, 16), (8, 14), (14, 8), (16, 2)],\n",
       " 328: [(2, 18), (18, 2)],\n",
       " 404: [(2, 20), (20, 2)],\n",
       " 488: [(2, 22), (22, 2)],\n",
       " 580: [(2, 24), (16, 18), (18, 16), (24, 2)],\n",
       " 680: [(2, 26), (14, 22), (22, 14), (26, 2)],\n",
       " 788: [(2, 28), (28, 2)],\n",
       " 904: [(2, 30), (30, 2)],\n",
       " 18: [(3, 3)],\n",
       " 34: [(3, 5), (5, 3)],\n",
       " 58: [(3, 7), (7, 3)],\n",
       " 90: [(3, 9), (9, 3)],\n",
       " 130: [(3, 11), (7, 9), (9, 7), (11, 3)],\n",
       " 178: [(3, 13), (13, 3)],\n",
       " 234: [(3, 15), (15, 3)],\n",
       " 298: [(3, 17), (17, 3)],\n",
       " 370: [(3, 19), (9, 17), (17, 9), (19, 3)],\n",
       " 450: [(3, 21), (15, 15), (21, 3)],\n",
       " 538: [(3, 23), (23, 3)],\n",
       " 634: [(3, 25), (25, 3)],\n",
       " 738: [(3, 27), (27, 3)],\n",
       " 850: [(3, 29), (11, 27), (15, 25), (25, 15), (27, 11), (29, 3)],\n",
       " 32: [(4, 4)],\n",
       " 52: [(4, 6), (6, 4)],\n",
       " 80: [(4, 8), (8, 4)],\n",
       " 116: [(4, 10), (10, 4)],\n",
       " 160: [(4, 12), (12, 4)],\n",
       " 212: [(4, 14), (14, 4)],\n",
       " 272: [(4, 16), (16, 4)],\n",
       " 340: [(4, 18), (12, 14), (14, 12), (18, 4)],\n",
       " 416: [(4, 20), (20, 4)],\n",
       " 500: [(4, 22), (10, 20), (20, 10), (22, 4)],\n",
       " 592: [(4, 24), (24, 4)],\n",
       " 692: [(4, 26), (26, 4)],\n",
       " 800: [(4, 28), (20, 20), (28, 4)],\n",
       " 916: [(4, 30), (30, 4)],\n",
       " 74: [(5, 7), (7, 5)],\n",
       " 106: [(5, 9), (9, 5)],\n",
       " 146: [(5, 11), (11, 5)],\n",
       " 194: [(5, 13), (13, 5)],\n",
       " 250: [(5, 15), (9, 13), (13, 9), (15, 5)],\n",
       " 314: [(5, 17), (17, 5)],\n",
       " 386: [(5, 19), (19, 5)],\n",
       " 466: [(5, 21), (21, 5)],\n",
       " 554: [(5, 23), (23, 5)],\n",
       " 650: [(5, 25), (11, 23), (17, 19), (19, 17), (23, 11), (25, 5)],\n",
       " 754: [(5, 27), (15, 23), (23, 15), (27, 5)],\n",
       " 866: [(5, 29), (29, 5)],\n",
       " 72: [(6, 6)],\n",
       " 136: [(6, 10), (10, 6)],\n",
       " 180: [(6, 12), (12, 6)],\n",
       " 232: [(6, 14), (14, 6)],\n",
       " 292: [(6, 16), (16, 6)],\n",
       " 360: [(6, 18), (18, 6)],\n",
       " 436: [(6, 20), (20, 6)],\n",
       " 520: [(6, 22), (14, 18), (18, 14), (22, 6)],\n",
       " 612: [(6, 24), (24, 6)],\n",
       " 712: [(6, 26), (26, 6)],\n",
       " 820: [(6, 28), (12, 26), (26, 12), (28, 6)],\n",
       " 936: [(6, 30), (30, 6)],\n",
       " 98: [(7, 7)],\n",
       " 218: [(7, 13), (13, 7)],\n",
       " 274: [(7, 15), (15, 7)],\n",
       " 338: [(7, 17), (13, 13), (17, 7)],\n",
       " 410: [(7, 19), (11, 17), (17, 11), (19, 7)],\n",
       " 490: [(7, 21), (21, 7)],\n",
       " 578: [(7, 23), (17, 17), (23, 7)],\n",
       " 674: [(7, 25), (25, 7)],\n",
       " 778: [(7, 27), (27, 7)],\n",
       " 890: [(7, 29), (19, 23), (23, 19), (29, 7)],\n",
       " 128: [(8, 8)],\n",
       " 164: [(8, 10), (10, 8)],\n",
       " 208: [(8, 12), (12, 8)],\n",
       " 320: [(8, 16), (16, 8)],\n",
       " 388: [(8, 18), (18, 8)],\n",
       " 464: [(8, 20), (20, 8)],\n",
       " 548: [(8, 22), (22, 8)],\n",
       " 640: [(8, 24), (24, 8)],\n",
       " 740: [(8, 26), (16, 22), (22, 16), (26, 8)],\n",
       " 848: [(8, 28), (28, 8)],\n",
       " 964: [(8, 30), (30, 8)],\n",
       " 162: [(9, 9)],\n",
       " 202: [(9, 11), (11, 9)],\n",
       " 306: [(9, 15), (15, 9)],\n",
       " 522: [(9, 21), (21, 9)],\n",
       " 610: [(9, 23), (13, 21), (21, 13), (23, 9)],\n",
       " 706: [(9, 25), (25, 9)],\n",
       " 810: [(9, 27), (27, 9)],\n",
       " 922: [(9, 29), (29, 9)],\n",
       " 244: [(10, 12), (12, 10)],\n",
       " 296: [(10, 14), (14, 10)],\n",
       " 356: [(10, 16), (16, 10)],\n",
       " 424: [(10, 18), (18, 10)],\n",
       " 584: [(10, 22), (22, 10)],\n",
       " 776: [(10, 26), (26, 10)],\n",
       " 884: [(10, 28), (20, 22), (22, 20), (28, 10)],\n",
       " 1000: [(10, 30), (18, 26), (26, 18), (30, 10)],\n",
       " 242: [(11, 11)],\n",
       " 346: [(11, 15), (15, 11)],\n",
       " 482: [(11, 19), (19, 11)],\n",
       " 562: [(11, 21), (21, 11)],\n",
       " 746: [(11, 25), (25, 11)],\n",
       " 962: [(11, 29), (29, 11)],\n",
       " 288: [(12, 12)],\n",
       " 468: [(12, 18), (18, 12)],\n",
       " 544: [(12, 20), (20, 12)],\n",
       " 628: [(12, 22), (22, 12)],\n",
       " 720: [(12, 24), (24, 12)],\n",
       " 928: [(12, 28), (28, 12)],\n",
       " 1044: [(12, 30), (30, 12)],\n",
       " 394: [(13, 15), (15, 13)],\n",
       " 458: [(13, 17), (17, 13)],\n",
       " 698: [(13, 23), (23, 13)],\n",
       " 794: [(13, 25), (25, 13)],\n",
       " 898: [(13, 27), (27, 13)],\n",
       " 1010: [(13, 29), (29, 13)],\n",
       " 392: [(14, 14)],\n",
       " 452: [(14, 16), (16, 14)],\n",
       " 596: [(14, 20), (20, 14)],\n",
       " 772: [(14, 24), (24, 14)],\n",
       " 872: [(14, 26), (26, 14)],\n",
       " 980: [(14, 28), (28, 14)],\n",
       " 1096: [(14, 30), (30, 14)],\n",
       " 514: [(15, 17), (17, 15)],\n",
       " 586: [(15, 19), (19, 15)],\n",
       " 666: [(15, 21), (21, 15)],\n",
       " 954: [(15, 27), (27, 15)],\n",
       " 1066: [(15, 29), (21, 25), (25, 21), (29, 15)],\n",
       " 512: [(16, 16)],\n",
       " 656: [(16, 20), (20, 16)],\n",
       " 832: [(16, 24), (24, 16)],\n",
       " 932: [(16, 26), (26, 16)],\n",
       " 1040: [(16, 28), (28, 16)],\n",
       " 1156: [(16, 30), (30, 16)],\n",
       " 818: [(17, 23), (23, 17)],\n",
       " 914: [(17, 25), (25, 17)],\n",
       " 1018: [(17, 27), (27, 17)],\n",
       " 1130: [(17, 29), (29, 17)],\n",
       " 648: [(18, 18)],\n",
       " 724: [(18, 20), (20, 18)],\n",
       " 808: [(18, 22), (22, 18)],\n",
       " 1108: [(18, 28), (28, 18)],\n",
       " 1224: [(18, 30), (30, 18)],\n",
       " 722: [(19, 19)],\n",
       " 802: [(19, 21), (21, 19)],\n",
       " 986: [(19, 25), (25, 19)],\n",
       " 1090: [(19, 27), (27, 19)],\n",
       " 1202: [(19, 29), (29, 19)],\n",
       " 976: [(20, 24), (24, 20)],\n",
       " 1076: [(20, 26), (26, 20)],\n",
       " 1184: [(20, 28), (28, 20)],\n",
       " 1300: [(20, 30), (30, 20)],\n",
       " 882: [(21, 21)],\n",
       " 970: [(21, 23), (23, 21)],\n",
       " 1170: [(21, 27), (27, 21)],\n",
       " 1282: [(21, 29), (29, 21)],\n",
       " 968: [(22, 22)],\n",
       " 1060: [(22, 24), (24, 22)],\n",
       " 1160: [(22, 26), (26, 22)],\n",
       " 1268: [(22, 28), (28, 22)],\n",
       " 1384: [(22, 30), (30, 22)],\n",
       " 1058: [(23, 23)],\n",
       " 1154: [(23, 25), (25, 23)],\n",
       " 1258: [(23, 27), (27, 23)],\n",
       " 1370: [(23, 29), (29, 23)],\n",
       " 1152: [(24, 24)],\n",
       " 1252: [(24, 26), (26, 24)],\n",
       " 1360: [(24, 28), (28, 24)],\n",
       " 1476: [(24, 30), (30, 24)],\n",
       " 1250: [(25, 25)],\n",
       " 1354: [(25, 27), (27, 25)],\n",
       " 1466: [(25, 29), (29, 25)],\n",
       " 1352: [(26, 26)],\n",
       " 1460: [(26, 28), (28, 26)],\n",
       " 1576: [(26, 30), (30, 26)],\n",
       " 1458: [(27, 27)],\n",
       " 1570: [(27, 29), (29, 27)],\n",
       " 1568: [(28, 28)],\n",
       " 1684: [(28, 30), (30, 28)],\n",
       " 1682: [(29, 29)],\n",
       " 1800: [(30, 30)]}"
      ]
     },
     "execution_count": 75,
     "metadata": {},
     "output_type": "execute_result"
    }
   ],
   "source": [
    "({key: sum_of_squares_database[key] for key in list(filter(is_even, sum_of_squares_database))})"
   ]
  },
  {
   "cell_type": "code",
   "execution_count": 78,
   "metadata": {
    "scrolled": true
   },
   "outputs": [
    {
     "data": {
      "text/plain": [
       "{0: True,\n",
       " 4: True,\n",
       " 16: True,\n",
       " 36: True,\n",
       " 64: True,\n",
       " 100: True,\n",
       " 144: True,\n",
       " 196: True,\n",
       " 256: True,\n",
       " 324: True,\n",
       " 400: True,\n",
       " 484: True,\n",
       " 576: True,\n",
       " 676: True,\n",
       " 784: True,\n",
       " 900: True,\n",
       " 2: True,\n",
       " 10: True,\n",
       " 26: True,\n",
       " 50: True,\n",
       " 82: True,\n",
       " 122: True,\n",
       " 170: True,\n",
       " 226: True,\n",
       " 290: True,\n",
       " 362: True,\n",
       " 442: True,\n",
       " 530: True,\n",
       " 626: True,\n",
       " 730: True,\n",
       " 842: True,\n",
       " 8: True,\n",
       " 20: True,\n",
       " 40: True,\n",
       " 68: True,\n",
       " 104: True,\n",
       " 148: True,\n",
       " 200: True,\n",
       " 260: True,\n",
       " 328: True,\n",
       " 404: True,\n",
       " 488: True,\n",
       " 580: True,\n",
       " 680: True,\n",
       " 788: True,\n",
       " 904: True,\n",
       " 18: True,\n",
       " 34: True,\n",
       " 58: True,\n",
       " 90: True,\n",
       " 130: True,\n",
       " 178: True,\n",
       " 234: True,\n",
       " 298: True,\n",
       " 370: True,\n",
       " 450: True,\n",
       " 538: True,\n",
       " 634: True,\n",
       " 738: True,\n",
       " 850: True,\n",
       " 32: True,\n",
       " 52: True,\n",
       " 80: True,\n",
       " 116: True,\n",
       " 160: True,\n",
       " 212: True,\n",
       " 272: True,\n",
       " 340: True,\n",
       " 416: True,\n",
       " 500: True,\n",
       " 592: True,\n",
       " 692: True,\n",
       " 800: True,\n",
       " 916: True,\n",
       " 74: True,\n",
       " 106: True,\n",
       " 146: True,\n",
       " 194: True,\n",
       " 250: True,\n",
       " 314: True,\n",
       " 386: True,\n",
       " 466: True,\n",
       " 554: True,\n",
       " 650: True,\n",
       " 754: True,\n",
       " 866: True,\n",
       " 72: True,\n",
       " 136: True,\n",
       " 180: True,\n",
       " 232: True,\n",
       " 292: True,\n",
       " 360: True,\n",
       " 436: True,\n",
       " 520: True,\n",
       " 612: True,\n",
       " 712: True,\n",
       " 820: True,\n",
       " 936: True,\n",
       " 98: True,\n",
       " 218: True,\n",
       " 274: True,\n",
       " 338: True,\n",
       " 410: True,\n",
       " 490: True,\n",
       " 578: True,\n",
       " 674: True,\n",
       " 778: True,\n",
       " 890: True,\n",
       " 128: True,\n",
       " 164: True,\n",
       " 208: True,\n",
       " 320: True,\n",
       " 388: True,\n",
       " 464: True,\n",
       " 548: True,\n",
       " 640: True,\n",
       " 740: True,\n",
       " 848: True,\n",
       " 964: True,\n",
       " 162: True,\n",
       " 202: True,\n",
       " 306: True,\n",
       " 522: True,\n",
       " 610: True,\n",
       " 706: True,\n",
       " 810: True,\n",
       " 922: True,\n",
       " 244: True,\n",
       " 296: True,\n",
       " 356: True,\n",
       " 424: True,\n",
       " 584: True,\n",
       " 776: True,\n",
       " 884: True,\n",
       " 1000: True,\n",
       " 242: True,\n",
       " 346: True,\n",
       " 482: True,\n",
       " 562: True,\n",
       " 746: True,\n",
       " 962: True,\n",
       " 288: True,\n",
       " 468: True,\n",
       " 544: True,\n",
       " 628: True,\n",
       " 720: True,\n",
       " 928: True,\n",
       " 1044: True,\n",
       " 394: True,\n",
       " 458: True,\n",
       " 698: True,\n",
       " 794: True,\n",
       " 898: True,\n",
       " 1010: True,\n",
       " 392: True,\n",
       " 452: True,\n",
       " 596: True,\n",
       " 772: True,\n",
       " 872: True,\n",
       " 980: True,\n",
       " 1096: True,\n",
       " 514: True,\n",
       " 586: True,\n",
       " 666: True,\n",
       " 954: True,\n",
       " 1066: True,\n",
       " 512: True,\n",
       " 656: True,\n",
       " 832: True,\n",
       " 932: True,\n",
       " 1040: True,\n",
       " 1156: True,\n",
       " 818: True,\n",
       " 914: True,\n",
       " 1018: True,\n",
       " 1130: True,\n",
       " 648: True,\n",
       " 724: True,\n",
       " 808: True,\n",
       " 1108: True,\n",
       " 1224: True,\n",
       " 722: True,\n",
       " 802: True,\n",
       " 986: True,\n",
       " 1090: True,\n",
       " 1202: True,\n",
       " 976: True,\n",
       " 1076: True,\n",
       " 1184: True,\n",
       " 1300: True,\n",
       " 882: True,\n",
       " 970: True,\n",
       " 1170: True,\n",
       " 1282: True,\n",
       " 968: True,\n",
       " 1060: True,\n",
       " 1160: True,\n",
       " 1268: True,\n",
       " 1384: True,\n",
       " 1058: True,\n",
       " 1154: True,\n",
       " 1258: True,\n",
       " 1370: True,\n",
       " 1152: True,\n",
       " 1252: True,\n",
       " 1360: True,\n",
       " 1476: True,\n",
       " 1250: True,\n",
       " 1354: True,\n",
       " 1466: True,\n",
       " 1352: True,\n",
       " 1460: True,\n",
       " 1576: True,\n",
       " 1458: True,\n",
       " 1570: True,\n",
       " 1568: True,\n",
       " 1684: True,\n",
       " 1682: True,\n",
       " 1800: True}"
      ]
     },
     "execution_count": 78,
     "metadata": {},
     "output_type": "execute_result"
    }
   ],
   "source": [
    "A = {key: True for key in list(filter(is_even, sum_of_squares_database))}\n",
    "A"
   ]
  },
  {
   "cell_type": "code",
   "execution_count": 83,
   "metadata": {},
   "outputs": [
    {
     "data": {
      "text/plain": [
       "25"
      ]
     },
     "execution_count": 83,
     "metadata": {},
     "output_type": "execute_result"
    }
   ],
   "source": [
    "list(D.keys())[5]"
   ]
  },
  {
   "cell_type": "code",
   "execution_count": null,
   "metadata": {},
   "outputs": [],
   "source": [
    "A"
   ]
  },
  {
   "cell_type": "code",
   "execution_count": 93,
   "metadata": {},
   "outputs": [],
   "source": [
    "def both_even_odd(A):\n",
    "    for n, pairs in A.items():\n",
    "        if A[n] is True:\n",
    "            #print('is okay')\n",
    "            return True"
   ]
  },
  {
   "cell_type": "code",
   "execution_count": 94,
   "metadata": {},
   "outputs": [
    {
     "data": {
      "text/plain": [
       "True"
      ]
     },
     "execution_count": 94,
     "metadata": {},
     "output_type": "execute_result"
    }
   ],
   "source": [
    "both_even_odd(A)"
   ]
  },
  {
   "cell_type": "markdown",
   "metadata": {},
   "source": [
    "### Exploring Conjecture 3 <a class=\"anchor\" id=\"exploring-conjecture-03\"></a>\n",
    "\n",
    "**Conjecture 3**\n",
    "\n",
    "If $n=a^2+b^2$ for $a,b\\in\\mathbb{N}$ then $a,b\\leq\\sqrt{n}$."
   ]
  },
  {
   "cell_type": "code",
   "execution_count": 95,
   "metadata": {},
   "outputs": [],
   "source": [
    "D = sum_of_squares_database"
   ]
  },
  {
   "cell_type": "code",
   "execution_count": 100,
   "metadata": {},
   "outputs": [
    {
     "data": {
      "text/plain": [
       "dict_keys([0, 1, 4, 9, 16, 25, 36, 49, 64, 81, 100, 121, 144, 169, 196, 225, 256, 289, 324, 361, 400, 441, 484, 529, 576, 625, 676, 729, 784, 841, 900, 2, 5, 10, 17, 26, 37, 50, 65, 82, 101, 122, 145, 170, 197, 226, 257, 290, 325, 362, 401, 442, 485, 530, 577, 626, 677, 730, 785, 842, 901, 8, 13, 20, 29, 40, 53, 68, 85, 104, 125, 148, 173, 200, 229, 260, 293, 328, 365, 404, 445, 488, 533, 580, 629, 680, 733, 788, 845, 904, 18, 34, 45, 58, 73, 90, 109, 130, 153, 178, 205, 234, 265, 298, 333, 370, 409, 450, 493, 538, 585, 634, 685, 738, 793, 850, 909, 32, 41, 52, 80, 97, 116, 137, 160, 185, 212, 241, 272, 305, 340, 377, 416, 457, 500, 545, 592, 641, 692, 745, 800, 857, 916, 61, 74, 89, 106, 146, 194, 221, 250, 281, 314, 349, 386, 425, 466, 509, 554, 601, 650, 701, 754, 809, 866, 925, 72, 117, 136, 157, 180, 232, 261, 292, 360, 397, 436, 477, 520, 565, 612, 661, 712, 765, 820, 877, 936, 98, 113, 149, 193, 218, 245, 274, 338, 373, 410, 449, 490, 578, 674, 725, 778, 833, 890, 949, 128, 164, 208, 233, 320, 353, 388, 464, 505, 548, 593, 640, 689, 740, 848, 905, 964, 162, 181, 202, 277, 306, 337, 405, 481, 522, 610, 657, 706, 757, 810, 865, 922, 981, 244, 269, 296, 356, 389, 424, 461, 541, 584, 776, 829, 884, 941, 1000, 242, 317, 346, 482, 521, 562, 605, 697, 746, 797, 962, 1021, 288, 313, 369, 433, 468, 544, 628, 673, 720, 769, 873, 928, 985, 1044, 394, 458, 569, 653, 698, 794, 898, 953, 1010, 1069, 392, 421, 452, 557, 596, 637, 772, 821, 872, 980, 1037, 1096, 514, 549, 586, 666, 709, 801, 954, 1009, 1066, 1125, 512, 617, 656, 832, 881, 932, 1040, 1097, 1156, 613, 773, 818, 914, 965, 1018, 1073, 1130, 1189, 648, 724, 808, 853, 1053, 1108, 1165, 1224, 722, 761, 802, 937, 986, 1090, 1145, 1202, 1261, 929, 976, 1025, 1076, 1129, 1184, 1241, 1300, 882, 970, 1017, 1117, 1170, 1225, 1282, 1341, 968, 1013, 1060, 1109, 1160, 1213, 1268, 1325, 1384, 1058, 1105, 1154, 1205, 1258, 1313, 1370, 1429, 1152, 1201, 1252, 1305, 1360, 1417, 1476, 1250, 1301, 1354, 1409, 1466, 1525, 1352, 1405, 1460, 1517, 1576, 1458, 1513, 1570, 1629, 1568, 1625, 1684, 1682, 1741, 1800])"
      ]
     },
     "execution_count": 100,
     "metadata": {},
     "output_type": "execute_result"
    }
   ],
   "source": [
    "D.keys()"
   ]
  },
  {
   "cell_type": "code",
   "execution_count": 103,
   "metadata": {},
   "outputs": [
    {
     "data": {
      "text/plain": [
       "(1, 2)"
      ]
     },
     "execution_count": 103,
     "metadata": {},
     "output_type": "execute_result"
    }
   ],
   "source": [
    "D[5][0]"
   ]
  },
  {
   "cell_type": "code",
   "execution_count": 120,
   "metadata": {},
   "outputs": [],
   "source": [
    "def less(D):\n",
    "    less_values = {}\n",
    "    for n in D.keys():\n",
    "        for pairs in range(len(D[n])):\n",
    "            if D[n][pairs][0] <= sqrt(n) and D[n][pairs][1] <= sqrt(n):\n",
    "                less_values[n] = True\n",
    "            else:\n",
    "                less_values[n] = False\n",
    "    return less_values"
   ]
  },
  {
   "cell_type": "code",
   "execution_count": 121,
   "metadata": {
    "scrolled": true
   },
   "outputs": [
    {
     "data": {
      "text/plain": [
       "{0: True,\n",
       " 1: True,\n",
       " 4: True,\n",
       " 9: True,\n",
       " 16: True,\n",
       " 25: True,\n",
       " 36: True,\n",
       " 49: True,\n",
       " 64: True,\n",
       " 81: True,\n",
       " 100: True,\n",
       " 121: True,\n",
       " 144: True,\n",
       " 169: True,\n",
       " 196: True,\n",
       " 225: True,\n",
       " 256: True,\n",
       " 289: True,\n",
       " 324: True,\n",
       " 361: True,\n",
       " 400: True,\n",
       " 441: True,\n",
       " 484: True,\n",
       " 529: True,\n",
       " 576: True,\n",
       " 625: True,\n",
       " 676: True,\n",
       " 729: True,\n",
       " 784: True,\n",
       " 841: True,\n",
       " 900: True,\n",
       " 2: True,\n",
       " 5: True,\n",
       " 10: True,\n",
       " 17: True,\n",
       " 26: True,\n",
       " 37: True,\n",
       " 50: True,\n",
       " 65: True,\n",
       " 82: True,\n",
       " 101: True,\n",
       " 122: True,\n",
       " 145: True,\n",
       " 170: True,\n",
       " 197: True,\n",
       " 226: True,\n",
       " 257: True,\n",
       " 290: True,\n",
       " 325: True,\n",
       " 362: True,\n",
       " 401: True,\n",
       " 442: True,\n",
       " 485: True,\n",
       " 530: True,\n",
       " 577: True,\n",
       " 626: True,\n",
       " 677: True,\n",
       " 730: True,\n",
       " 785: True,\n",
       " 842: True,\n",
       " 901: True,\n",
       " 8: True,\n",
       " 13: True,\n",
       " 20: True,\n",
       " 29: True,\n",
       " 40: True,\n",
       " 53: True,\n",
       " 68: True,\n",
       " 85: True,\n",
       " 104: True,\n",
       " 125: True,\n",
       " 148: True,\n",
       " 173: True,\n",
       " 200: True,\n",
       " 229: True,\n",
       " 260: True,\n",
       " 293: True,\n",
       " 328: True,\n",
       " 365: True,\n",
       " 404: True,\n",
       " 445: True,\n",
       " 488: True,\n",
       " 533: True,\n",
       " 580: True,\n",
       " 629: True,\n",
       " 680: True,\n",
       " 733: True,\n",
       " 788: True,\n",
       " 845: True,\n",
       " 904: True,\n",
       " 18: True,\n",
       " 34: True,\n",
       " 45: True,\n",
       " 58: True,\n",
       " 73: True,\n",
       " 90: True,\n",
       " 109: True,\n",
       " 130: True,\n",
       " 153: True,\n",
       " 178: True,\n",
       " 205: True,\n",
       " 234: True,\n",
       " 265: True,\n",
       " 298: True,\n",
       " 333: True,\n",
       " 370: True,\n",
       " 409: True,\n",
       " 450: True,\n",
       " 493: True,\n",
       " 538: True,\n",
       " 585: True,\n",
       " 634: True,\n",
       " 685: True,\n",
       " 738: True,\n",
       " 793: True,\n",
       " 850: True,\n",
       " 909: True,\n",
       " 32: True,\n",
       " 41: True,\n",
       " 52: True,\n",
       " 80: True,\n",
       " 97: True,\n",
       " 116: True,\n",
       " 137: True,\n",
       " 160: True,\n",
       " 185: True,\n",
       " 212: True,\n",
       " 241: True,\n",
       " 272: True,\n",
       " 305: True,\n",
       " 340: True,\n",
       " 377: True,\n",
       " 416: True,\n",
       " 457: True,\n",
       " 500: True,\n",
       " 545: True,\n",
       " 592: True,\n",
       " 641: True,\n",
       " 692: True,\n",
       " 745: True,\n",
       " 800: True,\n",
       " 857: True,\n",
       " 916: True,\n",
       " 61: True,\n",
       " 74: True,\n",
       " 89: True,\n",
       " 106: True,\n",
       " 146: True,\n",
       " 194: True,\n",
       " 221: True,\n",
       " 250: True,\n",
       " 281: True,\n",
       " 314: True,\n",
       " 349: True,\n",
       " 386: True,\n",
       " 425: True,\n",
       " 466: True,\n",
       " 509: True,\n",
       " 554: True,\n",
       " 601: True,\n",
       " 650: True,\n",
       " 701: True,\n",
       " 754: True,\n",
       " 809: True,\n",
       " 866: True,\n",
       " 925: True,\n",
       " 72: True,\n",
       " 117: True,\n",
       " 136: True,\n",
       " 157: True,\n",
       " 180: True,\n",
       " 232: True,\n",
       " 261: True,\n",
       " 292: True,\n",
       " 360: True,\n",
       " 397: True,\n",
       " 436: True,\n",
       " 477: True,\n",
       " 520: True,\n",
       " 565: True,\n",
       " 612: True,\n",
       " 661: True,\n",
       " 712: True,\n",
       " 765: True,\n",
       " 820: True,\n",
       " 877: True,\n",
       " 936: True,\n",
       " 98: True,\n",
       " 113: True,\n",
       " 149: True,\n",
       " 193: True,\n",
       " 218: True,\n",
       " 245: True,\n",
       " 274: True,\n",
       " 338: True,\n",
       " 373: True,\n",
       " 410: True,\n",
       " 449: True,\n",
       " 490: True,\n",
       " 578: True,\n",
       " 674: True,\n",
       " 725: True,\n",
       " 778: True,\n",
       " 833: True,\n",
       " 890: True,\n",
       " 949: True,\n",
       " 128: True,\n",
       " 164: True,\n",
       " 208: True,\n",
       " 233: True,\n",
       " 320: True,\n",
       " 353: True,\n",
       " 388: True,\n",
       " 464: True,\n",
       " 505: True,\n",
       " 548: True,\n",
       " 593: True,\n",
       " 640: True,\n",
       " 689: True,\n",
       " 740: True,\n",
       " 848: True,\n",
       " 905: True,\n",
       " 964: True,\n",
       " 162: True,\n",
       " 181: True,\n",
       " 202: True,\n",
       " 277: True,\n",
       " 306: True,\n",
       " 337: True,\n",
       " 405: True,\n",
       " 481: True,\n",
       " 522: True,\n",
       " 610: True,\n",
       " 657: True,\n",
       " 706: True,\n",
       " 757: True,\n",
       " 810: True,\n",
       " 865: True,\n",
       " 922: True,\n",
       " 981: True,\n",
       " 244: True,\n",
       " 269: True,\n",
       " 296: True,\n",
       " 356: True,\n",
       " 389: True,\n",
       " 424: True,\n",
       " 461: True,\n",
       " 541: True,\n",
       " 584: True,\n",
       " 776: True,\n",
       " 829: True,\n",
       " 884: True,\n",
       " 941: True,\n",
       " 1000: True,\n",
       " 242: True,\n",
       " 317: True,\n",
       " 346: True,\n",
       " 482: True,\n",
       " 521: True,\n",
       " 562: True,\n",
       " 605: True,\n",
       " 697: True,\n",
       " 746: True,\n",
       " 797: True,\n",
       " 962: True,\n",
       " 1021: True,\n",
       " 288: True,\n",
       " 313: True,\n",
       " 369: True,\n",
       " 433: True,\n",
       " 468: True,\n",
       " 544: True,\n",
       " 628: True,\n",
       " 673: True,\n",
       " 720: True,\n",
       " 769: True,\n",
       " 873: True,\n",
       " 928: True,\n",
       " 985: True,\n",
       " 1044: True,\n",
       " 394: True,\n",
       " 458: True,\n",
       " 569: True,\n",
       " 653: True,\n",
       " 698: True,\n",
       " 794: True,\n",
       " 898: True,\n",
       " 953: True,\n",
       " 1010: True,\n",
       " 1069: True,\n",
       " 392: True,\n",
       " 421: True,\n",
       " 452: True,\n",
       " 557: True,\n",
       " 596: True,\n",
       " 637: True,\n",
       " 772: True,\n",
       " 821: True,\n",
       " 872: True,\n",
       " 980: True,\n",
       " 1037: True,\n",
       " 1096: True,\n",
       " 514: True,\n",
       " 549: True,\n",
       " 586: True,\n",
       " 666: True,\n",
       " 709: True,\n",
       " 801: True,\n",
       " 954: True,\n",
       " 1009: True,\n",
       " 1066: True,\n",
       " 1125: True,\n",
       " 512: True,\n",
       " 617: True,\n",
       " 656: True,\n",
       " 832: True,\n",
       " 881: True,\n",
       " 932: True,\n",
       " 1040: True,\n",
       " 1097: True,\n",
       " 1156: True,\n",
       " 613: True,\n",
       " 773: True,\n",
       " 818: True,\n",
       " 914: True,\n",
       " 965: True,\n",
       " 1018: True,\n",
       " 1073: True,\n",
       " 1130: True,\n",
       " 1189: True,\n",
       " 648: True,\n",
       " 724: True,\n",
       " 808: True,\n",
       " 853: True,\n",
       " 1053: True,\n",
       " 1108: True,\n",
       " 1165: True,\n",
       " 1224: True,\n",
       " 722: True,\n",
       " 761: True,\n",
       " 802: True,\n",
       " 937: True,\n",
       " 986: True,\n",
       " 1090: True,\n",
       " 1145: True,\n",
       " 1202: True,\n",
       " 1261: True,\n",
       " 929: True,\n",
       " 976: True,\n",
       " 1025: True,\n",
       " 1076: True,\n",
       " 1129: True,\n",
       " 1184: True,\n",
       " 1241: True,\n",
       " 1300: True,\n",
       " 882: True,\n",
       " 970: True,\n",
       " 1017: True,\n",
       " 1117: True,\n",
       " 1170: True,\n",
       " 1225: True,\n",
       " 1282: True,\n",
       " 1341: True,\n",
       " 968: True,\n",
       " 1013: True,\n",
       " 1060: True,\n",
       " 1109: True,\n",
       " 1160: True,\n",
       " 1213: True,\n",
       " 1268: True,\n",
       " 1325: True,\n",
       " 1384: True,\n",
       " 1058: True,\n",
       " 1105: True,\n",
       " 1154: True,\n",
       " 1205: True,\n",
       " 1258: True,\n",
       " 1313: True,\n",
       " 1370: True,\n",
       " 1429: True,\n",
       " 1152: True,\n",
       " 1201: True,\n",
       " 1252: True,\n",
       " 1305: True,\n",
       " 1360: True,\n",
       " 1417: True,\n",
       " 1476: True,\n",
       " 1250: True,\n",
       " 1301: True,\n",
       " 1354: True,\n",
       " 1409: True,\n",
       " 1466: True,\n",
       " 1525: True,\n",
       " 1352: True,\n",
       " 1405: True,\n",
       " 1460: True,\n",
       " 1517: True,\n",
       " 1576: True,\n",
       " 1458: True,\n",
       " 1513: True,\n",
       " 1570: True,\n",
       " 1629: True,\n",
       " 1568: True,\n",
       " 1625: True,\n",
       " 1684: True,\n",
       " 1682: True,\n",
       " 1741: True,\n",
       " 1800: True}"
      ]
     },
     "execution_count": 121,
     "metadata": {},
     "output_type": "execute_result"
    }
   ],
   "source": [
    "less(D)"
   ]
  },
  {
   "cell_type": "code",
   "execution_count": 126,
   "metadata": {},
   "outputs": [],
   "source": [
    "C = less(D)"
   ]
  },
  {
   "cell_type": "code",
   "execution_count": 133,
   "metadata": {},
   "outputs": [],
   "source": [
    "def test(C):\n",
    "    for key, values in C.items():\n",
    "        if C[key] is True:\n",
    "            #print('is okay')\n",
    "            return True"
   ]
  },
  {
   "cell_type": "code",
   "execution_count": 134,
   "metadata": {},
   "outputs": [
    {
     "data": {
      "text/plain": [
       "True"
      ]
     },
     "execution_count": 134,
     "metadata": {},
     "output_type": "execute_result"
    }
   ],
   "source": [
    "test(C)"
   ]
  },
  {
   "cell_type": "markdown",
   "metadata": {},
   "source": [
    "### Exploring Conjecture 4 <a class=\"anchor\" id=\"exploring-conjecture-04\"></a>\n",
    "\n",
    "**Conjecture 4**\n",
    "\n",
    "If $n$ has 4 pairs of solution, then $n$ is a multiple of $5$."
   ]
  },
  {
   "cell_type": "code",
   "execution_count": 65,
   "metadata": {},
   "outputs": [],
   "source": [
    "def max_num_pairs(D):\n",
    "    #four_pairs = {}\n",
    "    for n, pairs in D.items():\n",
    "        if len(pairs) > 4:\n",
    "            return False\n",
    "        else:\n",
    "            return True"
   ]
  },
  {
   "cell_type": "code",
   "execution_count": 66,
   "metadata": {},
   "outputs": [
    {
     "data": {
      "text/plain": [
       "True"
      ]
     },
     "execution_count": 66,
     "metadata": {},
     "output_type": "execute_result"
    }
   ],
   "source": [
    "max_num_pairs(D)"
   ]
  },
  {
   "cell_type": "markdown",
   "metadata": {},
   "source": [
    "### Exploring Conjecture 5 <a class=\"anchor\" id=\"exploring-conjecture-05\"></a>\n",
    "\n",
    "**Conjecture 5**\n",
    "\n",
    "If $n$ has 4 pairs of solution, then $n$ is a multiple of $5$."
   ]
  },
  {
   "cell_type": "code",
   "execution_count": 67,
   "metadata": {},
   "outputs": [],
   "source": [
    "def exactly_four_pairs(D):\n",
    "    four_pairs = {}\n",
    "    for n, pairs in D.items():\n",
    "        if len(pairs) == 4:\n",
    "            four_pairs[n] = pairs\n",
    "    return four_pairs"
   ]
  },
  {
   "cell_type": "code",
   "execution_count": 68,
   "metadata": {},
   "outputs": [
    {
     "data": {
      "text/plain": [
       "{25: [(0, 5), (3, 4), (4, 3), (5, 0)]}"
      ]
     },
     "execution_count": 68,
     "metadata": {},
     "output_type": "execute_result"
    }
   ],
   "source": [
    "exactly_four_pairs(D)"
   ]
  },
  {
   "cell_type": "code",
   "execution_count": 69,
   "metadata": {},
   "outputs": [],
   "source": [
    "d = exactly_four_pairs(D)"
   ]
  },
  {
   "cell_type": "code",
   "execution_count": 70,
   "metadata": {},
   "outputs": [],
   "source": [
    "def is_divisible_by_five(d):\n",
    "    results = []\n",
    "    for k in d.keys():\n",
    "        if mod(k,5) == 0:\n",
    "            results.append(True)\n",
    "    return results"
   ]
  },
  {
   "cell_type": "code",
   "execution_count": 64,
   "metadata": {},
   "outputs": [
    {
     "data": {
      "text/plain": [
       "[True]"
      ]
     },
     "execution_count": 64,
     "metadata": {},
     "output_type": "execute_result"
    }
   ],
   "source": [
    "is_divisible_by_five(d)"
   ]
  },
  {
   "cell_type": "code",
   "execution_count": null,
   "metadata": {},
   "outputs": [],
   "source": []
  },
  {
   "cell_type": "markdown",
   "metadata": {},
   "source": [
    "### Exploring Conjecture 6 <a class=\"anchor\" id=\"exploring-conjecture-06\"></a>\n",
    "\n",
    "**Conjecture 6**\n",
    "\n",
    "If $n$ is prime and $n > 2$, then the number of $(a,b)$ is always $2$."
   ]
  },
  {
   "cell_type": "code",
   "execution_count": 173,
   "metadata": {},
   "outputs": [],
   "source": [
    "def prime_n(D):\n",
    "    prime_numbers = {}\n",
    "    for n, pairs in D.items():\n",
    "        if is_prime(n) and n > 2:\n",
    "            prime_numbers[n] = pairs\n",
    "            if len(D[n]) == 2:\n",
    "                return True\n",
    "            else:\n",
    "                return False\n",
    "    #return prime_numbers"
   ]
  },
  {
   "cell_type": "code",
   "execution_count": 174,
   "metadata": {
    "scrolled": true
   },
   "outputs": [
    {
     "data": {
      "text/plain": [
       "True"
      ]
     },
     "execution_count": 174,
     "metadata": {},
     "output_type": "execute_result"
    }
   ],
   "source": [
    "prime_n(D)"
   ]
  },
  {
   "cell_type": "markdown",
   "metadata": {},
   "source": [
    "### Exploring Conjecture 7 <a class=\"anchor\" id=\"exploring-conjecture-07\"></a>\n",
    "\n",
    "**Conjecture 7**\n",
    "\n",
    "If $a=b$, $n=2a^2$ or $n=2b^2$. If $a$ or $b$ is equal to zero, then $n=a^2$ or $b^2$."
   ]
  },
  {
   "cell_type": "code",
   "execution_count": 187,
   "metadata": {},
   "outputs": [
    {
     "data": {
      "text/plain": [
       "2"
      ]
     },
     "execution_count": 187,
     "metadata": {},
     "output_type": "execute_result"
    }
   ],
   "source": [
    "D[5][1][0]"
   ]
  },
  {
   "cell_type": "code",
   "execution_count": 198,
   "metadata": {},
   "outputs": [],
   "source": [
    "def a_b(D):\n",
    "    n_numbers = {}\n",
    "    h = list(D.keys())\n",
    "    for n in range(len(h)):\n",
    "        for pairs in range(len(D[h[n]])):\n",
    "            if D[h[n]][pairs][0] == D[h[n]][pairs][1]:\n",
    "                a, b = D[h[n]][pairs][0], D[h[n]][pairs][1]\n",
    "                if n == 2*a**2 or n == 2*b**2:\n",
    "                    return True\n",
    "            elif D[h[n]][pairs][0] == 0 or D[h[n]][pairs][1] == 0:\n",
    "                a, b = D[h[n]][pairs][0], D[h[n]][pairs][1]\n",
    "                if n == a**2 or n == b**2:\n",
    "                    return True\n",
    "    #return prime_numbers"
   ]
  },
  {
   "cell_type": "code",
   "execution_count": 199,
   "metadata": {},
   "outputs": [
    {
     "data": {
      "text/plain": [
       "True"
      ]
     },
     "execution_count": 199,
     "metadata": {},
     "output_type": "execute_result"
    }
   ],
   "source": [
    "a_b(D)"
   ]
  },
  {
   "cell_type": "code",
   "execution_count": null,
   "metadata": {},
   "outputs": [],
   "source": []
  },
  {
   "cell_type": "markdown",
   "metadata": {},
   "source": [
    "### Exploring Conjecture 8 <a class=\"anchor\" id=\"exploring-conjecture-08\"></a>\n",
    "\n",
    "**Conjecture 8**\n",
    "\n",
    "If $n$ is a perfect square, the number of $(a,b)$ is 2."
   ]
  },
  {
   "cell_type": "code",
   "execution_count": 180,
   "metadata": {},
   "outputs": [
    {
     "data": {
      "text/plain": [
       "(False, True)"
      ]
     },
     "execution_count": 180,
     "metadata": {},
     "output_type": "execute_result"
    }
   ],
   "source": [
    "is_square(8), is_square(9)"
   ]
  },
  {
   "cell_type": "code",
   "execution_count": 181,
   "metadata": {},
   "outputs": [],
   "source": [
    "def square_n(D):\n",
    "    square_numbers = {}\n",
    "    for n, pairs in D.items():\n",
    "        if is_square(n):\n",
    "            square_numbers[n] = pairs\n",
    "            if len(D[n]) == 2:\n",
    "                return True\n",
    "            else:\n",
    "                return False\n",
    "    #return prime_numbers"
   ]
  },
  {
   "cell_type": "code",
   "execution_count": 177,
   "metadata": {},
   "outputs": [
    {
     "data": {
      "text/plain": [
       "False"
      ]
     },
     "execution_count": 177,
     "metadata": {},
     "output_type": "execute_result"
    }
   ],
   "source": [
    "square_n(D)"
   ]
  },
  {
   "cell_type": "code",
   "execution_count": null,
   "metadata": {},
   "outputs": [],
   "source": []
  },
  {
   "cell_type": "markdown",
   "metadata": {},
   "source": [
    "### Exploring Conjecture 9 <a class=\"anchor\" id=\"exploring-conjecture-09\"></a>\n",
    "\n",
    "**Conjecture 9**\n",
    "\n",
    "If $n$ is an odd prime and can be written as $1\\, \\rm{mod}\\,4$, then it can be written as $a^2+b^2$."
   ]
  },
  {
   "cell_type": "code",
   "execution_count": 212,
   "metadata": {},
   "outputs": [],
   "source": [
    "E = sum_of_squares_database"
   ]
  },
  {
   "cell_type": "code",
   "execution_count": 216,
   "metadata": {},
   "outputs": [],
   "source": [
    "def odd_prime(E):\n",
    "    odd_primes = {}\n",
    "    for n, pairs in D.items():\n",
    "        if is_prime(n) == True and mod(n,4) == 1:\n",
    "            odd_primes[n] = True\n",
    "    return odd_primes"
   ]
  },
  {
   "cell_type": "code",
   "execution_count": 217,
   "metadata": {
    "scrolled": true
   },
   "outputs": [
    {
     "data": {
      "text/plain": [
       "{5: True,\n",
       " 17: True,\n",
       " 37: True,\n",
       " 101: True,\n",
       " 197: True,\n",
       " 257: True,\n",
       " 401: True,\n",
       " 577: True,\n",
       " 677: True,\n",
       " 13: True,\n",
       " 29: True,\n",
       " 53: True,\n",
       " 173: True,\n",
       " 229: True,\n",
       " 293: True,\n",
       " 733: True,\n",
       " 73: True,\n",
       " 109: True,\n",
       " 409: True,\n",
       " 41: True,\n",
       " 97: True,\n",
       " 137: True,\n",
       " 241: True,\n",
       " 457: True,\n",
       " 641: True,\n",
       " 857: True,\n",
       " 61: True,\n",
       " 89: True,\n",
       " 281: True,\n",
       " 349: True,\n",
       " 509: True,\n",
       " 601: True,\n",
       " 701: True,\n",
       " 809: True,\n",
       " 157: True,\n",
       " 397: True,\n",
       " 661: True,\n",
       " 877: True,\n",
       " 113: True,\n",
       " 149: True,\n",
       " 193: True,\n",
       " 373: True,\n",
       " 449: True,\n",
       " 233: True,\n",
       " 353: True,\n",
       " 593: True,\n",
       " 181: True,\n",
       " 277: True,\n",
       " 337: True,\n",
       " 757: True,\n",
       " 269: True,\n",
       " 389: True,\n",
       " 461: True,\n",
       " 541: True,\n",
       " 829: True,\n",
       " 941: True,\n",
       " 317: True,\n",
       " 521: True,\n",
       " 797: True,\n",
       " 1021: True,\n",
       " 313: True,\n",
       " 433: True,\n",
       " 673: True,\n",
       " 769: True,\n",
       " 569: True,\n",
       " 653: True,\n",
       " 953: True,\n",
       " 1069: True,\n",
       " 421: True,\n",
       " 557: True,\n",
       " 821: True,\n",
       " 709: True,\n",
       " 1009: True,\n",
       " 617: True,\n",
       " 881: True,\n",
       " 1097: True,\n",
       " 613: True,\n",
       " 773: True,\n",
       " 853: True,\n",
       " 761: True,\n",
       " 937: True,\n",
       " 929: True,\n",
       " 1129: True,\n",
       " 1117: True,\n",
       " 1013: True,\n",
       " 1109: True,\n",
       " 1213: True,\n",
       " 1429: True,\n",
       " 1201: True,\n",
       " 1301: True,\n",
       " 1409: True,\n",
       " 1741: True}"
      ]
     },
     "execution_count": 217,
     "metadata": {},
     "output_type": "execute_result"
    }
   ],
   "source": [
    "odd_prime(E)"
   ]
  },
  {
   "cell_type": "markdown",
   "metadata": {},
   "source": [
    "## Congruences <a class=\"anchor\" id=\"congruences\"></a>\n",
    "\n",
    "During yesterday's lecture, one of you made a conjecture involving modulo arithmetic. In order for us to understand this operation and how to use in Sage, I will briefly talk about it here. The operation has to do with divisibility and non-divisibility. \n",
    "\n",
    "To start, let's compute. What is the remainder of $25$ when divided by $6$? Do it by hand first.\n"
   ]
  },
  {
   "cell_type": "code",
   "execution_count": 12,
   "metadata": {},
   "outputs": [
    {
     "data": {
      "text/plain": [
       "1"
      ]
     },
     "execution_count": 12,
     "metadata": {},
     "output_type": "execute_result"
    }
   ],
   "source": [
    "mod(25, 6)"
   ]
  },
  {
   "cell_type": "markdown",
   "metadata": {},
   "source": [
    "From the division algorithm, we know that such a remainder is unique. If we divide $x$ by $m$, then $0 \\leq \\text{mod}(x, m) < m$.\n",
    "\n",
    "But lots and lots of different numbers can have the same remainder!\n"
   ]
  },
  {
   "cell_type": "code",
   "execution_count": 18,
   "metadata": {},
   "outputs": [
    {
     "data": {
      "text/plain": [
       "[1, 1, 1, 1, 1, 1, 1, 1, 1]"
      ]
     },
     "execution_count": 18,
     "metadata": {},
     "output_type": "execute_result"
    }
   ],
   "source": [
    "[mod(x,6) for x in [1, 7, 13, 19, 25, -5, -11, 6001, -17]]"
   ]
  },
  {
   "cell_type": "code",
   "execution_count": null,
   "metadata": {},
   "outputs": [],
   "source": []
  },
  {
   "cell_type": "markdown",
   "metadata": {},
   "source": [
    "In mathematics, what we often do in such a situation where structure is shared is to connect things with a *relation*.\n",
    "\n",
    "A relation is a very general notion, and basically it exists once you define it. Our relation will be called **congruence**, and it is massively important. It is also relatively new! We essentially use the same definitions and notation that Gauss came up with just two centuries ago.\n",
    "\n",
    "**Definition**: We say that $a$ is congruent to $b$ modulo $n$, or $a \\equiv b \\, ({\\rm mod} \\, n)$, precisely if $n \\mid (a - b)$.\n",
    "\n",
    "This is *exactly* the same thing as leaving the same remainder. It is very useful to try to prove that these conditions are the same.\n",
    "\n",
    "In our case, saying $25 \\equiv 1 \\equiv -5$ (mod $6$) is the same as saying $25 = 4 \\cdot 6 + 1$ and $1 = 0 \\cdot 6 + 1$ and $-5 = -1 \\cdot 6 + 1$.\n",
    "\n",
    "This idea gives us a *lot* of power. For instance, calculating $2^{1000000000}$ (mod 3) is instantaneous for me — it's 1!\n",
    "\n",
    "I can check it with Sage:\n"
   ]
  },
  {
   "cell_type": "code",
   "execution_count": 19,
   "metadata": {},
   "outputs": [
    {
     "name": "stdout",
     "output_type": "stream",
     "text": [
      "CPU times: user 27.8 ms, sys: 15.8 ms, total: 43.6 ms\n",
      "Wall time: 43.2 ms\n"
     ]
    },
    {
     "data": {
      "text/plain": [
       "1"
      ]
     },
     "execution_count": 19,
     "metadata": {},
     "output_type": "execute_result"
    }
   ],
   "source": [
    "time mod(2^1000000000,3)"
   ]
  },
  {
   "cell_type": "markdown",
   "metadata": {},
   "source": [
    "Yet I did it instantaneously in my head. Of course, the reason is not that I am clever, but that congruence can be turned into arithmetic! Here are two useful properties:\n",
    "\n",
    "- If $a \\equiv b$ (mod $m$), then $a + c \\equiv b + c$ (mod $m$).\n",
    "- If $a \\equiv b$ (mod $m$), then $ac \\equiv bc$ (mod $m$).\n",
    "\n",
    "Now I reveal my secret: $2 \\equiv -1$ (mod 3), and $(-1)^{1000000000} = 1$, like all even powers of negative one. Ta-dah!\n",
    "\n",
    "What I've done is *first* think of the original number as in the congruence, and then taken its power. Sage verifies this approach is much faster, even for much bigger powers.\n"
   ]
  },
  {
   "cell_type": "code",
   "execution_count": null,
   "metadata": {},
   "outputs": [],
   "source": []
  },
  {
   "cell_type": "markdown",
   "metadata": {},
   "source": [
    "What was computed above is not a trick; I definitely couldn't do $2000^{1000}$, or even $16^{1000}$, in my head.\n",
    "\n",
    "There is another set of properties that congruence has. Congruence is *reflexive, symmetric, and transitive*. That is, all the things you know are true about equality are also true about congruence (with a particular modulus $n$ picked, of course).\n",
    "\n",
    "- For any $a \\in \\mathbb{Z}$, $a \\equiv a$ (mod $n$).\n",
    "- If $a \\equiv b$ (mod $n$), then $b \\equiv a$ (mod $n$).\n",
    "- If it happens that *both* $a \\equiv b$ and $b \\equiv c$ (mod $n$), then $a \\equiv c$ (mod $n$) as well.\n",
    "\n",
    "If we combine all of these facts, it basically means we can divide up all the integers into \"equivalence classes.\" That is, $\\mathbb{Z}$ can be broken up into disjoint pieces which we are free to consider as units, and which stay different.\n",
    "\n",
    "We denote such a class by the notation \n",
    "\n",
    "$$[a] = \\{\\text{all numbers congruent to } a \\text{ modulo } n\\} \\; .$$ \n",
    "\n",
    "So, for instance, the equivalence class we started with is \n",
    "\n",
    "$$[1] = \\{1, 7, 13, 19, 25, -5, -11, 6001, \\ldots\\}$$ \n",
    "\n",
    "or perhaps better written as \n",
    "\n",
    "$$\\{1 + 6n \\mid n \\in \\mathbb{Z}\\} = [1] \\; .$$\n",
    "\n",
    "**Definition**: We call the set of equivalence classes modulo $n$ the *integers modulo n*, and denote them by $\\mathbb{Z}_n$.\n"
   ]
  },
  {
   "cell_type": "code",
   "execution_count": 20,
   "metadata": {},
   "outputs": [
    {
     "name": "stdout",
     "output_type": "stream",
     "text": [
      "CPU times: user 70.2 ms, sys: 53.1 ms, total: 123 ms\n",
      "Wall time: 123 ms\n"
     ]
    },
    {
     "data": {
      "text/plain": [
       "1"
      ]
     },
     "execution_count": 20,
     "metadata": {},
     "output_type": "execute_result"
    }
   ],
   "source": [
    "time mod(2^3000000000,7)"
   ]
  },
  {
   "cell_type": "code",
   "execution_count": 21,
   "metadata": {},
   "outputs": [
    {
     "name": "stdout",
     "output_type": "stream",
     "text": [
      "CPU times: user 55 µs, sys: 8 µs, total: 63 µs\n",
      "Wall time: 65.8 µs\n"
     ]
    },
    {
     "data": {
      "text/plain": [
       "1"
      ]
     },
     "execution_count": 21,
     "metadata": {},
     "output_type": "execute_result"
    }
   ],
   "source": [
    "time mod(2,7)^3000000000"
   ]
  },
  {
   "cell_type": "code",
   "execution_count": null,
   "metadata": {},
   "outputs": [],
   "source": []
  },
  {
   "cell_type": "code",
   "execution_count": null,
   "metadata": {},
   "outputs": [],
   "source": []
  },
  {
   "cell_type": "markdown",
   "metadata": {},
   "source": [
    "### More Sums of Squares <a class=\"anchor\" id=\"more-sum-of-squares\"></a>\n",
    "\n",
    "Last time, we spent a significant amount of time asking and trying to answer some questions about \n",
    "\n",
    "$$n = a^2 + b^2$$ \n",
    "\n",
    "Our final goal for today is to introduce so many questions that you could all pick a different one (perhaps using dicts to keep track of your data) and then to give significant time to explore some of them on your own.\n",
    "\n",
    "Here are some questions we asked last time.\n",
    "\n",
    "- Which positive integers can be written $n = a^2 + b^2$?\n",
    "- Which ones cannot be written this way?\n",
    "- Are there any special types of numbers that can be written? (Or that cannot?)\n",
    "  - Primes\n",
    "  - even/odd, modulo 3, modulo 4, modulo 5, ...\n",
    "  - squares, cubes, ...\n",
    "  - Combinations of the above\n",
    "- Can we get a formula for which numbers can be written?\n",
    "- How many ways can you write $n$ as a sum of two squares?\n",
    "\n",
    "**Surprise**: Each of these questions can be extended to a similar situation that might be entirely new!\n",
    "\n",
    "- Which positive integers can be written $n = a^2 + 2b^2$?\n",
    "  - (And in how many ways?)\n",
    "- Which positive integers can be written $n = a^2 + 3b^2$?\n",
    "  - (And in how many ways?)\n",
    "- (And so forth...)\n",
    "\n",
    "Or, we could go a different direction:\n",
    "\n",
    "- Which positive integers can be written $n = a^2 + ab + b^2$?\n",
    "  - (And in how many... you get the point.)\n",
    "- Which positive integers can be written $n = a^2 + 2ab + b^2$?\n",
    "- Which positive integers can be written $n = a^2 + 2ab + 2b^2$?\n",
    "- (And so forth...)\n",
    "\n",
    "These are **NOT** all equivalent questions! In fact, one of these three questions is nearly trivial, one is equivalent to another question, while a third is quite different. Which is which?\n",
    "\n",
    "Okay, keep experimenting!\n",
    "\n",
    "My number one advice to you is to think *small* when looking for patterns. Don't try to figure a whole question out! Ask questions about just the evens, or just another kind of number, or what happens when you add or multiply two numbers. I wish you well in your exploration!\n",
    "Finally structure your exploration just as I did for you. Give each exploration a heading so you do not get confuse.\n"
   ]
  },
  {
   "cell_type": "code",
   "execution_count": null,
   "metadata": {},
   "outputs": [],
   "source": []
  },
  {
   "cell_type": "code",
   "execution_count": null,
   "metadata": {},
   "outputs": [],
   "source": []
  },
  {
   "cell_type": "code",
   "execution_count": null,
   "metadata": {},
   "outputs": [],
   "source": []
  },
  {
   "cell_type": "markdown",
   "metadata": {},
   "source": [
    "Can you think of a way to solve this problem? _Hint: What do you know about equations of this form $n = a^{2} + b ^{2}$?_"
   ]
  },
  {
   "cell_type": "markdown",
   "metadata": {},
   "source": [
    "This brings up the question of how to do such plotting in the first place? We will look at this in more detail in the next [**Section**](#more-plotting-and-graphics-in-two-dimensions)."
   ]
  },
  {
   "cell_type": "markdown",
   "metadata": {},
   "source": [
    "## More Plotting and Graphics in Two Dimensions <a class = \"anchor\" id = \"more-plotting-and-graphics-in-two-dimensions\"></a>\n",
    "There is absolutely no way we could cover all the graphics in _SageMath_ (or the program that does it for _SageMath_, <a href=\"http://matplotlib.org/\" target=\"_blank\">matplotlib</a>) in one day, or even a week. We will look at a bunch of different resources you have access to, and see lots of different plot types. As we go through these resources, think of how they will be of use in solving our new experiment or where you could have used them some time back in your academic career. I definitely do not know everything about the plotting command. Nevertheless, you may interrupt me with your question so that we can explore the solution together. \n",
    "\n",
    "   * We will begin with the online documentation on [advanced 2D-plotting](https://doc.sagemath.org/html/en/prep/Advanced-2DPlotting.html) in the built-in live documentation. \n",
    "   * There are two very important pages with many, MANY examples - the documentation for [plot](http://www.sagemath.org/doc/reference/plotting/sage/plot/plot.html) and that for [showing graphics](http://www.sagemath.org/doc/reference/plotting/sage/plot/graphics.html#sage.plot.graphics.Graphics.show).\n",
    "   * The [general plotting reference](http://www.sagemath.org/doc/reference/plotting/index.html) - there are a lot of surprises, like animation, etc.\n",
    "\n",
    "Remember, you should feel free to stop listening for a while if you want to try something out!  \n",
    "Once we've seen enough examples, please either start using _SageMath_ to explore the sums of squares, _or_ try to recreate your favorite graphic using _SageMath_!"
   ]
  },
  {
   "cell_type": "code",
   "execution_count": null,
   "metadata": {},
   "outputs": [],
   "source": []
  }
 ],
 "metadata": {
  "kernelspec": {
   "display_name": "SageMath 10.4",
   "language": "sage",
   "name": "sagemath"
  },
  "language_info": {
   "codemirror_mode": {
    "name": "ipython",
    "version": 3
   },
   "file_extension": ".py",
   "mimetype": "text/x-python",
   "name": "python",
   "nbconvert_exporter": "python",
   "pygments_lexer": "ipython3",
   "version": "3.11.2"
  },
  "varInspector": {
   "cols": {
    "lenName": 16,
    "lenType": 16,
    "lenVar": 40
   },
   "kernels_config": {
    "python": {
     "delete_cmd_postfix": "",
     "delete_cmd_prefix": "del ",
     "library": "var_list.py",
     "varRefreshCmd": "print(var_dic_list())"
    },
    "r": {
     "delete_cmd_postfix": ") ",
     "delete_cmd_prefix": "rm(",
     "library": "var_list.r",
     "varRefreshCmd": "cat(var_dic_list()) "
    }
   },
   "types_to_exclude": [
    "module",
    "function",
    "builtin_function_or_method",
    "instance",
    "_Feature"
   ],
   "window_display": false
  }
 },
 "nbformat": 4,
 "nbformat_minor": 4
}
