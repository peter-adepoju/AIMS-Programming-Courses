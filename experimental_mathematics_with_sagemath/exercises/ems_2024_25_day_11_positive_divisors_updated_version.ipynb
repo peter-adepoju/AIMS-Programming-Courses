{
 "cells": [
  {
   "cell_type": "markdown",
   "metadata": {},
   "source": [
    "<img src=\"./images/aims-za-logo.jpeg\" alt=\"drawing\" style=\"width:400px;\"/>\n",
    "<h1 style=\"text-align: center;\"><a title=\"EMS-AIMS-ZA-2024-25\" href=\"https://evansdoe.github.io/aims-za/ems/2024-25/\">Experimental Mathematics Using SageMath — AIMS-ZA-2024-25</a></h1>\n",
    "\n",
    "\n",
    "## Instructors: \n",
    "\n",
    "* <a href=\"http://evansdoe.github.io\">**Evans Ocansey**</a>"
   ]
  },
  {
   "cell_type": "markdown",
   "metadata": {},
   "source": [
    "## Day 11 — Positive Divisors<a class=\"anchor\" id = \"day-11-positive-divisors\"></a>\n",
    "\n",
    "[comment]: <> (<h2 style=\"text-align: left;\">Day 02 — Introduction to <a title=\"SageMath\"href=\"http://www.sagemath.org/\"><em>SageMath</em></a>: A Mathematics Software for All</h2>)"
   ]
  },
  {
   "cell_type": "markdown",
   "metadata": {},
   "source": [
    "The outline of the this notebook is as follows:\n",
    "\n",
    "## Table of Contents: <a class=\"anchor\" id=\"day-11-toc\"></a> \n",
    "* [ ] [<font color=blue>Investigating Arithmetic Functions</font>](#investigating-arithmetic-functions)\n",
    "* [ ] [<font color=blue>Arithmetic Functions</font>](#arithmetic-functions)\n",
    "  * [<font color=blue>Multiplicative Functions</font>](#multiplicative-functions)\n",
    "  * [<font color=blue>Completely Multiplicative Functions</font>](#completely-multiplicative-functions)\n",
    "* [ ] [<font color=blue>Multiplicative Properties of $\\tau$ and $\\sigma$</font>](#multiplicative-properties-of-tau-and-sigma)\n",
    "* [ ] [<font color=blue>Exploring $\\tau$ and $\\sigma$ in Sage</font>](#exploring-tau-and-sigma-in-sage)\n",
    "* [ ] [<font color=blue>Questions to Explore</font>](#questions-to-explore)\n",
    "  * [<font color=blue>Exploring Question 1</font>](#exploring-question-1)\n",
    "  * [<font color=blue>Exploring Question 2</font>](#exploring-question-2)\n",
    "  * [<font color=blue>Exploring Question 3</font>](#exploring-question-3)\n",
    "  * [<font color=blue>Exploring Question 4</font>](#exploring-question-4)\n",
    "  * [<font color=blue>Exploring Question 5</font>](#exploring-question-5)\n",
    "  * [<font color=blue>Exploring Question 6</font>](#exploring-question-6)\n",
    "  * [<font color=blue>Exploring Question 7</font>](#exploring-question-7)\n",
    "  * [<font color=blue>Exploring Question 8</font>](#exploring-question-8)\n",
    "  * [<font color=blue>Exploring Question 9</font>](#exploring-question-9)\n",
    "  * [<font color=blue>Exploring Question 10</font>](#exploring-question-10)\n",
    "  * [<font color=blue>Exploring Question 11</font>](#exploring-question-11)\n",
    "  * [<font color=blue>Exploring Question 12</font>](#exploring-question-12)\n",
    "  * [<font color=blue>Exploring Question 13</font>](#exploring-question-13)\n",
    "  * [<font color=blue>Exploring Question 14</font>](#exploring-question-14)\n",
    "  * [<font color=blue>Exploring Question 15</font>](#exploring-question-15)\n",
    "  * [<font color=blue>Exploring Question 16</font>](#exploring-question-16)\n",
    "  * [<font color=blue>Exploring Question 17</font>](#exploring-question-17)\n",
    "  * [<font color=blue>Exploring Question 18</font>](#exploring-question-18)\n",
    "* [ ] [<font color=blue>Conjectures to Explore</font>](#conjectures-to-explore)\n",
    "  * [<font color=blue>Exploring Conjecture 1</font>](#exploring-conjecture-1)\n",
    "  * [<font color=blue>Exploring Conjecture 2</font>](#exploring-conjecture-2)"
   ]
  },
  {
   "cell_type": "markdown",
   "metadata": {},
   "source": [
    "# Investigating Arithmetic Functions  <a class=\"anchor\" id=\"investigating-arithmetic-functions\"></a>\n",
    "\n",
    "Today, we will explore the functions $\\tau$ and $\\sigma$, where:\n",
    "- $\\tau(n)$ counts the number of positive divisors of $n$, and\n",
    "- $\\sigma(n)$ gives the sum of the positive divisors of $n$.\n",
    "\n",
    "Our goal is to use logical reasoning, supported by **SageMath**, to not only make conjectures but also begin proving them."
   ]
  },
  {
   "cell_type": "code",
   "execution_count": null,
   "metadata": {},
   "outputs": [],
   "source": [
    "2*(35 + 28)"
   ]
  },
  {
   "cell_type": "markdown",
   "metadata": {},
   "source": [
    "## Arithmetic Functions <a class=\"anchor\" id=\"arithmetic-functions\"></a>\n",
    " \n",
    "**Definition**: An **arithmetic function** is a real or complex-valued function $f$ defined on the set of positive integers:\n",
    "\n",
    "$$\n",
    "f : \\mathbb{Z}_{>0} \\to \\mathbb{C}.\n",
    "$$"
   ]
  },
  {
   "cell_type": "markdown",
   "metadata": {},
   "source": [
    "### Multiplicative Functions <a class=\"anchor\" id=\"multiplicative-functions\"></a>\n",
    "\n",
    "An arithmetic function $ f $ is said to be **multiplicative** if it satisfies the following conditions:\n",
    "1. $ f $ is not identically zero, and\n",
    "2. $f(a \\cdot b) = f(a) \\cdot f(b) \\quad \\text{whenever } \\gcd(a, b) = 1. $"
   ]
  },
  {
   "cell_type": "markdown",
   "metadata": {},
   "source": [
    "### Completely Multiplicative Functions <a class=\"anchor\" id=\"completely-multiplicative-functions\"></a>\n",
    "\n",
    "An arithmetic function $ f $ is **completely multiplicative** if:\n",
    "\n",
    "$$\n",
    "f(a \\cdot b) = f(a) \\cdot f(b) \\quad \\text{for all } a, b \\in \\mathbb{N}.\n",
    "$$"
   ]
  },
  {
   "cell_type": "markdown",
   "metadata": {},
   "source": [
    "## Multiplicative Properties of $\\tau$ and $\\sigma$\n",
    "\n",
    "Are $\\tau$ and $\\sigma$ multiplicative?"
   ]
  },
  {
   "cell_type": "markdown",
   "metadata": {},
   "source": [
    "### The Case of $\\tau$  <a class=\"anchor\" id=\"the-case-of-tau\"></a>\n",
    "\n",
    "Let us prove that $\\tau$ is a multiplicative function. To do so, we will consider the following questions:\n",
    "\n",
    "1. **Is $\\tau$ an arithmetic function?**\n",
    "   - Yes, $\\tau$ is an arithmetic function. For all $ n \\in \\mathbb{N} $, $ \\tau(n) $ is a natural number. Since $ \\mathbb{N} \\subset \\mathbb{C} $, it follows that $\\tau$ is an arithmetic function.\n",
    "\n",
    "2. **For $ a, b \\in \\mathbb{N} $ with $ \\gcd(a, b) = 1 $, is $ \\tau(a \\cdot b) = \\tau(a) \\cdot \\tau(b) $?**\n",
    "   - To prove this, consider:\n",
    "     - The number of divisors of $ a \\cdot b $, where $ \\gcd(a, b) = 1 $.\n",
    "     - Since $ \\gcd(a, b) = 1 $, the divisors of $ a \\cdot b $ are exactly the combinations of the divisors of $ a $ and $ b $. Specifically:\n",
    "       - For a divisor $ a_1 $ of $ a $, the divisors of $ a \\cdot b $ include $ a_1 $ multiplied by each divisor of $ b $.\n",
    "       - The total number of such divisors is $ \\tau(a) \\cdot \\tau(b) $, proving that $ \\tau(a \\cdot b) = \\tau(a) \\cdot \\tau(b) $.\n",
    "\n",
    "Thus, $\\tau$ is multiplicative."
   ]
  },
  {
   "cell_type": "markdown",
   "metadata": {},
   "source": [
    "### The Case of $\\sigma$ <a class=\"anchor\" id=\"the-case-of-sigma\"></a>\n",
    "\n",
    "Write your proof here."
   ]
  },
  {
   "cell_type": "code",
   "execution_count": null,
   "metadata": {},
   "outputs": [],
   "source": []
  },
  {
   "cell_type": "code",
   "execution_count": null,
   "metadata": {},
   "outputs": [],
   "source": []
  },
  {
   "cell_type": "markdown",
   "metadata": {},
   "source": [
    "## Exploring $\\tau$ and $\\sigma$ in Sage  <a class=\"anchor\" id=\"exploring-tau-and-sigma-in-sage\"></a>\n",
    "\n",
    "How do you define $\\tau$ and $\\sigma$ in Sage?"
   ]
  },
  {
   "cell_type": "code",
   "execution_count": 1,
   "metadata": {},
   "outputs": [
    {
     "data": {
      "text/plain": [
       "[1, 2, 4, 8]"
      ]
     },
     "execution_count": 1,
     "metadata": {},
     "output_type": "execute_result"
    }
   ],
   "source": [
    "divisors(8)"
   ]
  },
  {
   "cell_type": "code",
   "execution_count": 2,
   "metadata": {},
   "outputs": [],
   "source": [
    "def tau(n):\n",
    "    return len(divisors(n))"
   ]
  },
  {
   "cell_type": "code",
   "execution_count": 3,
   "metadata": {},
   "outputs": [],
   "source": [
    "def tau(n):\n",
    "    return len(divisors(n))"
   ]
  },
  {
   "cell_type": "markdown",
   "metadata": {},
   "source": [
    "## Questions to Explore  <a class=\"anchor\" id=\"questions-to-explore\"></a>\n",
    "\n",
    "1. What is $\\tau$ and $\\sigma$ of a perfect number?\n",
    "2. Is the function $\\tau$ also additive, $\\tau(a+b) = \\tau(a) + \\tau(b)$\n",
    "3. Under what condition is $\\tau(n), \\sigma(n)$ always even or always odd.\n",
    "4. Is $\\tau(n)$ always a factor of $n$.\n",
    "5. Can two or more different number have the same $\\sigma(n)$\n",
    "6. For what values of $n$ is $\\tau(n) = \\sigma(n)$\n",
    "7. What is the $\\tau(a^n)$ where $n$ is a positive integer?\n",
    "8. What is the general formula for $\\tau$ and $\\sigma$ for a positive $n$? Provide a proof.\n",
    "9. Can you write $\\sigma(n)$ as sum of squares or cubes?\n",
    "10. Can we have the values of $n$ such that $\\tau(n) = n$?\n",
    "11. Is there a constant for $n$ fixed such that $\\sigma(n) = c \\times \\tau(n)$?\n",
    "12. For what values of $\\tau(n)$ can we have the square root of $\\sigma(n)$ equal?\n",
    "13. For what of values of $n$ is $\\tau(n) \\bmod 3 \\equiv 0$?\n",
    "14. If $n = 2\\,a$ where a is some positive integer, what is relation between $\\tau(n)$ and $\\tau(a)$?\n",
    "15. If $n$ is odd/even what is $\\tau(n)$ and $\\sigma(n)$?\n",
    "16. Given $n$ what can we be $\\tau(\\tau(n))$?\n",
    "17. Can we have an $n$ such $\\tau(n)| \\sigma(n)$?\n",
    "18. Under what condition $\\sigma(n)-\\tau(n)$ equals to $n$?\n",
    "19. Given $n$ for what value of $k$ is such that $\\tau^{k}(n)$ returns the same value?"
   ]
  },
  {
   "cell_type": "markdown",
   "metadata": {},
   "source": [
    "### Exploring Question 1  <a class=\"anchor\" id=\"exploring-question-1\"></a>\n",
    "\n",
    "What is $\\tau$ and $\\sigma$ of a perfect number."
   ]
  },
  {
   "cell_type": "code",
   "execution_count": 8,
   "metadata": {},
   "outputs": [],
   "source": [
    "def is_perfect_number(n: int) -> bool:\n",
    "    if sigma(n) - n == n:\n",
    "        return True\n",
    "    else:\n",
    "        return False\n",
    "\n",
    "def tau_sigma_perfect_number(n_bound: int) -> list:\n",
    "    data = [\n",
    "        [\n",
    "            k,\n",
    "            number_of_divisors(k),\n",
    "            sigma(n=k, k=1),\n",
    "            is_perfect_number(k)\n",
    "        ]\n",
    "        for k in [1..n_bound] if is_perfect_number(k)\n",
    "    ]\n",
    "    return data\n",
    "    \n",
    "tau_sigma_perfect_number_data = lambda bound: table(\n",
    "    tau_sigma_perfect_number(n_bound=bound),\n",
    "    header_row = [\n",
    "        r\"$n$\",\n",
    "        r\"$\\tau(n)$\",\n",
    "        r\"$\\sigma(n)$\",\n",
    "        r\"$[n \\text{ is perfect number}]$\"\n",
    "    ]\n",
    ")"
   ]
  },
  {
   "cell_type": "code",
   "execution_count": 9,
   "metadata": {},
   "outputs": [
    {
     "ename": "TypeError",
     "evalue": "sigma() got an unexpected keyword argument 'k'",
     "output_type": "error",
     "traceback": [
      "\u001b[0;31m---------------------------------------------------------------------------\u001b[0m",
      "\u001b[0;31mTypeError\u001b[0m                                 Traceback (most recent call last)",
      "Cell \u001b[0;32mIn[9], line 1\u001b[0m\n\u001b[0;32m----> 1\u001b[0m \u001b[43mtau_sigma_perfect_number_data\u001b[49m\u001b[43m(\u001b[49m\u001b[43mInteger\u001b[49m\u001b[43m(\u001b[49m\u001b[38;5;241;43m10000000\u001b[39;49m\u001b[43m)\u001b[49m\u001b[43m)\u001b[49m\n",
      "Cell \u001b[0;32mIn[8], line 22\u001b[0m, in \u001b[0;36m<lambda>\u001b[0;34m(bound)\u001b[0m\n\u001b[1;32m      9\u001b[0m     data \u001b[38;5;241m=\u001b[39m [\n\u001b[1;32m     10\u001b[0m         [\n\u001b[1;32m     11\u001b[0m             k,\n\u001b[0;32m   (...)\u001b[0m\n\u001b[1;32m     16\u001b[0m         \u001b[38;5;28;01mfor\u001b[39;00m k \u001b[38;5;129;01min\u001b[39;00m (ellipsis_range(Integer(\u001b[38;5;241m1\u001b[39m),\u001b[38;5;28mEllipsis\u001b[39m,n_bound)) \u001b[38;5;28;01mif\u001b[39;00m is_perfect_number(k)\n\u001b[1;32m     17\u001b[0m     ]\n\u001b[1;32m     18\u001b[0m     \u001b[38;5;28;01mreturn\u001b[39;00m data\n\u001b[1;32m     21\u001b[0m tau_sigma_perfect_number_data \u001b[38;5;241m=\u001b[39m \u001b[38;5;28;01mlambda\u001b[39;00m bound: table(\n\u001b[0;32m---> 22\u001b[0m     \u001b[43mtau_sigma_perfect_number\u001b[49m\u001b[43m(\u001b[49m\u001b[43mn_bound\u001b[49m\u001b[38;5;241;43m=\u001b[39;49m\u001b[43mbound\u001b[49m\u001b[43m)\u001b[49m,\n\u001b[1;32m     23\u001b[0m     header_row \u001b[38;5;241m=\u001b[39m [\n\u001b[1;32m     24\u001b[0m         \u001b[38;5;124mr\u001b[39m\u001b[38;5;124m\"\u001b[39m\u001b[38;5;124m$n$\u001b[39m\u001b[38;5;124m\"\u001b[39m,\n\u001b[1;32m     25\u001b[0m         \u001b[38;5;124mr\u001b[39m\u001b[38;5;124m\"\u001b[39m\u001b[38;5;124m$\u001b[39m\u001b[38;5;124m\\\u001b[39m\u001b[38;5;124mtau(n)$\u001b[39m\u001b[38;5;124m\"\u001b[39m,\n\u001b[1;32m     26\u001b[0m         \u001b[38;5;124mr\u001b[39m\u001b[38;5;124m\"\u001b[39m\u001b[38;5;124m$\u001b[39m\u001b[38;5;124m\\\u001b[39m\u001b[38;5;124msigma(n)$\u001b[39m\u001b[38;5;124m\"\u001b[39m,\n\u001b[1;32m     27\u001b[0m         \u001b[38;5;124mr\u001b[39m\u001b[38;5;124m\"\u001b[39m\u001b[38;5;124m$[n \u001b[39m\u001b[38;5;124m\\\u001b[39m\u001b[38;5;124mtext\u001b[39m\u001b[38;5;124m{\u001b[39m\u001b[38;5;124m is perfect number}]$\u001b[39m\u001b[38;5;124m\"\u001b[39m\n\u001b[1;32m     28\u001b[0m     ]\n\u001b[1;32m     29\u001b[0m )\n",
      "Cell \u001b[0;32mIn[8], line 9\u001b[0m, in \u001b[0;36mtau_sigma_perfect_number\u001b[0;34m(n_bound)\u001b[0m\n\u001b[1;32m      8\u001b[0m \u001b[38;5;28;01mdef\u001b[39;00m \u001b[38;5;21mtau_sigma_perfect_number\u001b[39m(n_bound: \u001b[38;5;28mint\u001b[39m) \u001b[38;5;241m-\u001b[39m\u001b[38;5;241m>\u001b[39m \u001b[38;5;28mlist\u001b[39m:\n\u001b[0;32m----> 9\u001b[0m     data \u001b[38;5;241m=\u001b[39m \u001b[43m[\u001b[49m\n\u001b[1;32m     10\u001b[0m \u001b[43m        \u001b[49m\u001b[43m[\u001b[49m\n\u001b[1;32m     11\u001b[0m \u001b[43m            \u001b[49m\u001b[43mk\u001b[49m\u001b[43m,\u001b[49m\n\u001b[1;32m     12\u001b[0m \u001b[43m            \u001b[49m\u001b[43mnumber_of_divisors\u001b[49m\u001b[43m(\u001b[49m\u001b[43mk\u001b[49m\u001b[43m)\u001b[49m\u001b[43m,\u001b[49m\n\u001b[1;32m     13\u001b[0m \u001b[43m            \u001b[49m\u001b[43msigma\u001b[49m\u001b[43m(\u001b[49m\u001b[43mn\u001b[49m\u001b[38;5;241;43m=\u001b[39;49m\u001b[43mk\u001b[49m\u001b[43m,\u001b[49m\u001b[43m \u001b[49m\u001b[43mk\u001b[49m\u001b[38;5;241;43m=\u001b[39;49m\u001b[43mInteger\u001b[49m\u001b[43m(\u001b[49m\u001b[38;5;241;43m1\u001b[39;49m\u001b[43m)\u001b[49m\u001b[43m)\u001b[49m\u001b[43m,\u001b[49m\n\u001b[1;32m     14\u001b[0m \u001b[43m            \u001b[49m\u001b[43mis_perfect_number\u001b[49m\u001b[43m(\u001b[49m\u001b[43mk\u001b[49m\u001b[43m)\u001b[49m\n\u001b[1;32m     15\u001b[0m \u001b[43m        \u001b[49m\u001b[43m]\u001b[49m\n\u001b[1;32m     16\u001b[0m \u001b[43m        \u001b[49m\u001b[38;5;28;43;01mfor\u001b[39;49;00m\u001b[43m \u001b[49m\u001b[43mk\u001b[49m\u001b[43m \u001b[49m\u001b[38;5;129;43;01min\u001b[39;49;00m\u001b[43m \u001b[49m\u001b[43m(\u001b[49m\u001b[43mellipsis_range\u001b[49m\u001b[43m(\u001b[49m\u001b[43mInteger\u001b[49m\u001b[43m(\u001b[49m\u001b[38;5;241;43m1\u001b[39;49m\u001b[43m)\u001b[49m\u001b[43m,\u001b[49m\u001b[38;5;28;43mEllipsis\u001b[39;49m\u001b[43m,\u001b[49m\u001b[43mn_bound\u001b[49m\u001b[43m)\u001b[49m\u001b[43m)\u001b[49m\u001b[43m \u001b[49m\u001b[38;5;28;43;01mif\u001b[39;49;00m\u001b[43m \u001b[49m\u001b[43mis_perfect_number\u001b[49m\u001b[43m(\u001b[49m\u001b[43mk\u001b[49m\u001b[43m)\u001b[49m\n\u001b[1;32m     17\u001b[0m \u001b[43m    \u001b[49m\u001b[43m]\u001b[49m\n\u001b[1;32m     18\u001b[0m     \u001b[38;5;28;01mreturn\u001b[39;00m data\n",
      "Cell \u001b[0;32mIn[8], line 13\u001b[0m, in \u001b[0;36m<listcomp>\u001b[0;34m(.0)\u001b[0m\n\u001b[1;32m      8\u001b[0m \u001b[38;5;28;01mdef\u001b[39;00m \u001b[38;5;21mtau_sigma_perfect_number\u001b[39m(n_bound: \u001b[38;5;28mint\u001b[39m) \u001b[38;5;241m-\u001b[39m\u001b[38;5;241m>\u001b[39m \u001b[38;5;28mlist\u001b[39m:\n\u001b[1;32m      9\u001b[0m     data \u001b[38;5;241m=\u001b[39m [\n\u001b[1;32m     10\u001b[0m         [\n\u001b[1;32m     11\u001b[0m             k,\n\u001b[1;32m     12\u001b[0m             number_of_divisors(k),\n\u001b[0;32m---> 13\u001b[0m             \u001b[43msigma\u001b[49m\u001b[43m(\u001b[49m\u001b[43mn\u001b[49m\u001b[38;5;241;43m=\u001b[39;49m\u001b[43mk\u001b[49m\u001b[43m,\u001b[49m\u001b[43m \u001b[49m\u001b[43mk\u001b[49m\u001b[38;5;241;43m=\u001b[39;49m\u001b[43mInteger\u001b[49m\u001b[43m(\u001b[49m\u001b[38;5;241;43m1\u001b[39;49m\u001b[43m)\u001b[49m\u001b[43m)\u001b[49m,\n\u001b[1;32m     14\u001b[0m             is_perfect_number(k)\n\u001b[1;32m     15\u001b[0m         ]\n\u001b[1;32m     16\u001b[0m         \u001b[38;5;28;01mfor\u001b[39;00m k \u001b[38;5;129;01min\u001b[39;00m (ellipsis_range(Integer(\u001b[38;5;241m1\u001b[39m),\u001b[38;5;28mEllipsis\u001b[39m,n_bound)) \u001b[38;5;28;01mif\u001b[39;00m is_perfect_number(k)\n\u001b[1;32m     17\u001b[0m     ]\n\u001b[1;32m     18\u001b[0m     \u001b[38;5;28;01mreturn\u001b[39;00m data\n",
      "\u001b[0;31mTypeError\u001b[0m: sigma() got an unexpected keyword argument 'k'"
     ]
    }
   ],
   "source": [
    "tau_sigma_perfect_number_data(10000000)"
   ]
  },
  {
   "cell_type": "code",
   "execution_count": null,
   "metadata": {},
   "outputs": [],
   "source": [
    "plot(sigma, 1, 1000000, k=1)"
   ]
  },
  {
   "cell_type": "markdown",
   "metadata": {},
   "source": [
    "### Exploring Question 2 <a class=\"anchor\" id=\"exploring-question-2\"></a>\n",
    "Is the function $\\tau$ also additive, $\\tau(a+b) = \\tau(a) + \\tau(b)$"
   ]
  },
  {
   "cell_type": "code",
   "execution_count": null,
   "metadata": {},
   "outputs": [],
   "source": []
  },
  {
   "cell_type": "markdown",
   "metadata": {},
   "source": [
    "### Exploring Question 3 <a class=\"anchor\" id=\"exploring-question-3\"></a>\n",
    "\n",
    "Under what condition is $\\tau(n), \\sigma(n)$ always even or always odd."
   ]
  },
  {
   "cell_type": "code",
   "execution_count": null,
   "metadata": {},
   "outputs": [],
   "source": []
  },
  {
   "cell_type": "markdown",
   "metadata": {},
   "source": [
    "### Exploring Question 4 <a class=\"anchor\" id=\"exploring-question-4\"></a>\n",
    "Is $\\tau(n)$ always a factor of $n$."
   ]
  },
  {
   "cell_type": "code",
   "execution_count": null,
   "metadata": {},
   "outputs": [],
   "source": []
  },
  {
   "cell_type": "code",
   "execution_count": null,
   "metadata": {},
   "outputs": [],
   "source": []
  },
  {
   "cell_type": "code",
   "execution_count": null,
   "metadata": {},
   "outputs": [],
   "source": []
  },
  {
   "cell_type": "markdown",
   "metadata": {},
   "source": [
    "### Exploring Question 5 <a class=\"anchor\" id=\"exploring-question-5\"></a>\n",
    "Can two or more different number have the same $\\sigma(n)$?"
   ]
  },
  {
   "cell_type": "code",
   "execution_count": null,
   "metadata": {},
   "outputs": [],
   "source": []
  },
  {
   "cell_type": "code",
   "execution_count": null,
   "metadata": {},
   "outputs": [],
   "source": []
  },
  {
   "cell_type": "code",
   "execution_count": null,
   "metadata": {},
   "outputs": [],
   "source": []
  },
  {
   "cell_type": "markdown",
   "metadata": {},
   "source": [
    "### Exploring Question 6 <a class=\"anchor\" id=\"exploring-question-6\"></a>\n",
    "For what values of $n$ is $\\tau(n) = \\sigma(n)$"
   ]
  },
  {
   "cell_type": "code",
   "execution_count": null,
   "metadata": {},
   "outputs": [],
   "source": []
  },
  {
   "cell_type": "code",
   "execution_count": null,
   "metadata": {},
   "outputs": [],
   "source": []
  },
  {
   "cell_type": "code",
   "execution_count": null,
   "metadata": {},
   "outputs": [],
   "source": []
  },
  {
   "cell_type": "markdown",
   "metadata": {},
   "source": [
    "### Exploring Question 7 <a class=\"anchor\" id=\"exploring-question-7\"></a>\n",
    "What is the $\\tau(a^n)$ where n is a positive integer?"
   ]
  },
  {
   "cell_type": "code",
   "execution_count": null,
   "metadata": {},
   "outputs": [],
   "source": []
  },
  {
   "cell_type": "code",
   "execution_count": null,
   "metadata": {},
   "outputs": [],
   "source": []
  },
  {
   "cell_type": "code",
   "execution_count": null,
   "metadata": {},
   "outputs": [],
   "source": []
  },
  {
   "cell_type": "markdown",
   "metadata": {},
   "source": [
    "### Exploring Question 8 <a class=\"anchor\" id=\"exploring-question-8\"></a>\n",
    "What is the general formula for $\\tau$ and $\\sigma$ for a positive $n$. Provide a proof?"
   ]
  },
  {
   "cell_type": "code",
   "execution_count": null,
   "metadata": {},
   "outputs": [],
   "source": []
  },
  {
   "cell_type": "code",
   "execution_count": null,
   "metadata": {},
   "outputs": [],
   "source": []
  },
  {
   "cell_type": "code",
   "execution_count": null,
   "metadata": {},
   "outputs": [],
   "source": []
  },
  {
   "cell_type": "markdown",
   "metadata": {},
   "source": [
    "### Exploring Question 9 <a class=\"anchor\" id=\"exploring-question-9\"></a>\n",
    "Can you write $\\sigma(n)$ as sum of squares or cubes? Hint: Sage has a function `sum_of_k_squares` which could useful in exploring this question. Read the documentation to know how to use it."
   ]
  },
  {
   "cell_type": "code",
   "execution_count": null,
   "metadata": {},
   "outputs": [],
   "source": []
  },
  {
   "cell_type": "code",
   "execution_count": null,
   "metadata": {},
   "outputs": [],
   "source": []
  },
  {
   "cell_type": "code",
   "execution_count": null,
   "metadata": {},
   "outputs": [],
   "source": []
  },
  {
   "cell_type": "markdown",
   "metadata": {},
   "source": [
    "### Exploring Question 10 <a class=\"anchor\" id=\"exploring-question-10\"></a>\n",
    "Can we have the values of $n$ such that $\\tau(n) = n$"
   ]
  },
  {
   "cell_type": "code",
   "execution_count": null,
   "metadata": {},
   "outputs": [],
   "source": []
  },
  {
   "cell_type": "code",
   "execution_count": null,
   "metadata": {},
   "outputs": [],
   "source": []
  },
  {
   "cell_type": "code",
   "execution_count": null,
   "metadata": {},
   "outputs": [],
   "source": []
  },
  {
   "cell_type": "markdown",
   "metadata": {},
   "source": [
    "### Exploring Question 11 <a class=\"anchor\" id=\"exploring-question-11\"></a>\n",
    "Is there a constant for $n$ fixed such that $\\sigma(n) = c \\cdot \\tau(n)$"
   ]
  },
  {
   "cell_type": "code",
   "execution_count": null,
   "metadata": {},
   "outputs": [],
   "source": []
  },
  {
   "cell_type": "code",
   "execution_count": null,
   "metadata": {},
   "outputs": [],
   "source": []
  },
  {
   "cell_type": "code",
   "execution_count": null,
   "metadata": {},
   "outputs": [],
   "source": []
  },
  {
   "cell_type": "markdown",
   "metadata": {},
   "source": [
    "### Exploring Question 12 <a class=\"anchor\" id=\"exploring-question-12\"></a>\n",
    "For what values of $\\tau(n)$ can we have the square root of $\\sigma(n)$ equal?"
   ]
  },
  {
   "cell_type": "code",
   "execution_count": null,
   "metadata": {},
   "outputs": [],
   "source": []
  },
  {
   "cell_type": "code",
   "execution_count": null,
   "metadata": {},
   "outputs": [],
   "source": []
  },
  {
   "cell_type": "code",
   "execution_count": null,
   "metadata": {},
   "outputs": [],
   "source": []
  },
  {
   "cell_type": "markdown",
   "metadata": {},
   "source": [
    "### Exploring Question 13 <a class=\"anchor\" id=\"exploring-question-13\"></a>\n",
    "For what of values of $n$ is $\\tau(n) \\bmod 3 \\equiv 0$."
   ]
  },
  {
   "cell_type": "code",
   "execution_count": null,
   "metadata": {},
   "outputs": [],
   "source": []
  },
  {
   "cell_type": "code",
   "execution_count": null,
   "metadata": {},
   "outputs": [],
   "source": []
  },
  {
   "cell_type": "code",
   "execution_count": null,
   "metadata": {},
   "outputs": [],
   "source": []
  },
  {
   "cell_type": "markdown",
   "metadata": {},
   "source": [
    "### Exploring Question 14 <a class=\"anchor\" id=\"exploring-question-14\"></a>\n",
    "If $n = 2\\,a$ where a is some positive integer, what is relation between $\\tau(n)$ and $\\tau(a)$."
   ]
  },
  {
   "cell_type": "code",
   "execution_count": null,
   "metadata": {},
   "outputs": [],
   "source": []
  },
  {
   "cell_type": "code",
   "execution_count": null,
   "metadata": {},
   "outputs": [],
   "source": []
  },
  {
   "cell_type": "code",
   "execution_count": null,
   "metadata": {},
   "outputs": [],
   "source": []
  },
  {
   "cell_type": "markdown",
   "metadata": {},
   "source": [
    "### Exploring Question 15 <a class=\"anchor\" id=\"exploring-question-15\"></a>\n",
    "If $n$ is odd/even what is $\\tau(n)$ and $\\sigma(n)$."
   ]
  },
  {
   "cell_type": "code",
   "execution_count": null,
   "metadata": {},
   "outputs": [],
   "source": []
  },
  {
   "cell_type": "code",
   "execution_count": null,
   "metadata": {},
   "outputs": [],
   "source": []
  },
  {
   "cell_type": "code",
   "execution_count": null,
   "metadata": {},
   "outputs": [],
   "source": []
  },
  {
   "cell_type": "markdown",
   "metadata": {},
   "source": [
    "### Exploring Question 16 <a class=\"anchor\" id=\"exploring-question-16\"></a>\n",
    "Given $n$ what can we be $\\tau(\\tau(n))$?"
   ]
  },
  {
   "cell_type": "code",
   "execution_count": null,
   "metadata": {},
   "outputs": [],
   "source": []
  },
  {
   "cell_type": "code",
   "execution_count": null,
   "metadata": {},
   "outputs": [],
   "source": []
  },
  {
   "cell_type": "code",
   "execution_count": null,
   "metadata": {},
   "outputs": [],
   "source": []
  },
  {
   "cell_type": "markdown",
   "metadata": {},
   "source": [
    "### Exploring Question 17 <a class=\"anchor\" id=\"exploring-question-17\"></a>\n",
    "Can we have an $n$ such $\\tau(n)| \\sigma(n)$."
   ]
  },
  {
   "cell_type": "code",
   "execution_count": null,
   "metadata": {},
   "outputs": [],
   "source": []
  },
  {
   "cell_type": "code",
   "execution_count": null,
   "metadata": {},
   "outputs": [],
   "source": []
  },
  {
   "cell_type": "code",
   "execution_count": null,
   "metadata": {},
   "outputs": [],
   "source": []
  },
  {
   "cell_type": "markdown",
   "metadata": {},
   "source": [
    "### Exploring Question 18 <a class=\"anchor\" id=\"exploring-question-18\"></a>\n",
    "Under what condition $\\sigma(n)-\\tau(n)$ equals to $n$?"
   ]
  },
  {
   "cell_type": "code",
   "execution_count": null,
   "metadata": {},
   "outputs": [],
   "source": []
  },
  {
   "cell_type": "code",
   "execution_count": null,
   "metadata": {},
   "outputs": [],
   "source": []
  },
  {
   "cell_type": "markdown",
   "metadata": {},
   "source": [
    "## Conjectures to Explore  <a class=\"anchor\" id=\"conjectures-to-explore\"></a>\n",
    "\n",
    "1. If $n$ can be expressed as product of $2$ distinct prime then $\\tau(n)$ is additive and $\\sigma(n)$ is even."
   ]
  },
  {
   "cell_type": "code",
   "execution_count": null,
   "metadata": {},
   "outputs": [],
   "source": []
  },
  {
   "cell_type": "markdown",
   "metadata": {},
   "source": [
    "### Exploring Conjecture 1 <a class=\"anchor\" id=\"exploring-conjecture-1\"></a>\n",
    "\n",
    "If $p$ is prime then $\\tau(p) = 2$, $\\sigma(p) = p+1$"
   ]
  },
  {
   "cell_type": "code",
   "execution_count": null,
   "metadata": {},
   "outputs": [],
   "source": []
  },
  {
   "cell_type": "code",
   "execution_count": null,
   "metadata": {},
   "outputs": [],
   "source": []
  },
  {
   "cell_type": "markdown",
   "metadata": {},
   "source": [
    "### Exploring Conjecture 2  <a class=\"anchor\" id=\"exploring-conjecture-2\"></a>"
   ]
  },
  {
   "cell_type": "code",
   "execution_count": null,
   "metadata": {},
   "outputs": [],
   "source": []
  },
  {
   "cell_type": "code",
   "execution_count": null,
   "metadata": {},
   "outputs": [],
   "source": []
  },
  {
   "cell_type": "code",
   "execution_count": null,
   "metadata": {},
   "outputs": [],
   "source": []
  }
 ],
 "metadata": {
  "kernelspec": {
   "display_name": "SageMath 10.4",
   "language": "sage",
   "name": "sagemath"
  },
  "language_info": {
   "codemirror_mode": {
    "name": "ipython",
    "version": 3
   },
   "file_extension": ".py",
   "mimetype": "text/x-python",
   "name": "python",
   "nbconvert_exporter": "python",
   "pygments_lexer": "ipython3",
   "version": "3.11.2"
  }
 },
 "nbformat": 4,
 "nbformat_minor": 4
}
