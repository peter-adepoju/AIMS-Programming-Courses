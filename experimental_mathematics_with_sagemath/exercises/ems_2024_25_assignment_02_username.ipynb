{
 "cells": [
  {
   "cell_type": "markdown",
   "metadata": {},
   "source": [
    "<img src=\"./images/aims-za-logo.jpeg\" alt=\"drawing\" style=\"width:400px;\"/>\n",
    "<h1 style=\"text-align: center;\"><a title=\"EMS-AIMS-ZA-2024-25\" href=\"https://evansdoe.github.io/aims-za/ems/2024-25\">Experimental Mathematics Using SageMath — AIMS-ZA-2024-25</a></h1>\n",
    "\n",
    "\n",
    "## Instructors: \n",
    "\n",
    "* <a href=\"http://evansdoe.github.io\">**Evans Ocansey**</a>"
   ]
  },
  {
   "cell_type": "markdown",
   "metadata": {},
   "source": [
    "## Homework Assignment (due Saturday 16th November 2024, 13:00 GMT+2)  <a class=\"anchor\" id=\"homework-assignment-02\"></a>\n",
    "\n",
    "\n",
    "Instructions for homework assignments: \n",
    "- Make sure to rename this notebook by replacing the word `username` with your AIMS username. For example, if my name is `Evans`, then I will rename this notebook to be `ems_2024_25_assignment_02_evans`.\n",
    "- You must write, type, use Jupyter notebook, or use $\\LaTeX$ to submit homework. **ALL CODE MUST BE EXPLAINED**. That means you should have at least one English sentence to explain each line of code that you write. This may be in a form of a comments or in a paragraph after each computation in your upyter notebook.\n",
    "- Similarly, do not simply write your explorations as lists of numbers, but write explanations of what you tried, and what didn’t work.\n",
    "- Do **NOT** use internet resources, or GPT-like models for the exploration; for help with _SageMath_ or _Python_ you may search the internet, of course. You are also welcome to ask me or any of the tutors.\n",
    "- The starred (*) exercises are more important; you should be working on them early and often. To pass the course you should try to do all the starred exercises.\n",
    "\n",
    "The outline of this notebook is as follows:\n",
    "\n",
    "## Table of Contents: <a class=\"anchor\" id=\"assignment-01-toc\"></a>\n",
    "* [<font color=green>Exercise 01</font>](#exercise-01)\n",
    "* [<font color=green>Exercise 02</font>](#exercise-02)\n",
    "* [<font color=green>Exercise 03</font>](#exercise-03)\n",
    "* [<font color=green>Exercise 04</font>](#exercise-04)\n",
    "* [<font color=green>Exercise 05</font>](#exercise-05)\n",
    "* [<font color=green>Exercise 06</font>](#exercise-06)\n",
    "* [<font color=green>Exercise 07</font>](#exercise-07)\n",
    "* [<font color=green>Exercise 08</font>](#exercise-08)\n",
    "* [<font color=green>Exercise 09</font>](#exercise-09)\n",
    "* [<font color=green>Exercise 10</font>](#exercise-10)\n",
    "* [<font color=green>Exercise 11</font>](#exercise-11)\n",
    "* [<font color=green>Exercise 12</font>](#exercise-11)"
   ]
  },
  {
   "cell_type": "markdown",
   "metadata": {},
   "source": [
    "## <font color=green>Exercise 01</font> <a class = \"anchor\" id=\"exercise-01\"></a>\n",
    "\n",
    "(*) Pick one of the following topics or any topic of your interest. Write a small tutorial (in English) about this topic to introduce a beginner to doing this topic with Sage. You should use your own words and it should have at least three paragraphs, along with at least four longer Sage examples. \n",
    "- Multivariable Calculus\n",
    "- Graph Theory\n",
    "- Number Theory\n",
    "- Differential Equations\n",
    "- Linear Algebra\n",
    "- Statistics\n",
    "- Abstract Algebra\n",
    "- Operation Research\n",
    "- Optimization\n",
    "- Communications\n",
    "- Financial Mathematics"
   ]
  },
  {
   "cell_type": "code",
   "execution_count": 6,
   "metadata": {},
   "outputs": [
    {
     "data": {
      "text/plain": [
       "_K2*e^(-x) + _K1*e^x - x"
      ]
     },
     "execution_count": 6,
     "metadata": {},
     "output_type": "execute_result"
    }
   ],
   "source": [
    "x = var('x')\n",
    "y = function('y')(x)\n",
    "de = diff(y,x,2) - y == x\n",
    "desolve(de, y)"
   ]
  },
  {
   "cell_type": "code",
   "execution_count": 8,
   "metadata": {},
   "outputs": [
    {
     "data": {
      "text/html": [
       "<html>\\(\\displaystyle -x + 2 \\, e^{x} - 1\\)</html>"
      ],
      "text/latex": [
       "$\\displaystyle -x + 2 \\, e^{x} - 1$"
      ],
      "text/plain": [
       "-x + 2*e^x - 1"
      ]
     },
     "metadata": {},
     "output_type": "display_data"
    }
   ],
   "source": [
    "# Define the variables\n",
    "x = var('x')\n",
    "y = function('y')(x)\n",
    "# Define the differential equation\n",
    "ode = diff(y, x) == y + x\n",
    "\n",
    "# Solve the ODE\n",
    "solution = desolve(ode, y, ics=[0, 1])\n",
    "show(solution)"
   ]
  },
  {
   "cell_type": "code",
   "execution_count": 11,
   "metadata": {},
   "outputs": [
    {
     "data": {
      "image/png": "[encoded data removed]",
      "text/plain": [
       "Graphics object consisting of 1 graphics primitive"
      ]
     },
     "execution_count": 11,
     "metadata": {},
     "output_type": "execute_result"
    }
   ],
   "source": [
    "plot(solution)"
   ]
  },
  {
   "cell_type": "code",
   "execution_count": 5,
   "metadata": {},
   "outputs": [
    {
     "data": {
      "text/plain": [
       "\u001b[0;31mSignature:\u001b[0m     \n",
       "\u001b[0mdesolve\u001b[0m\u001b[0;34m(\u001b[0m\u001b[0;34m\u001b[0m\n",
       "\u001b[0;34m\u001b[0m    \u001b[0mde\u001b[0m\u001b[0;34m,\u001b[0m\u001b[0;34m\u001b[0m\n",
       "\u001b[0;34m\u001b[0m    \u001b[0mdvar\u001b[0m\u001b[0;34m,\u001b[0m\u001b[0;34m\u001b[0m\n",
       "\u001b[0;34m\u001b[0m    \u001b[0mics\u001b[0m\u001b[0;34m=\u001b[0m\u001b[0;32mNone\u001b[0m\u001b[0;34m,\u001b[0m\u001b[0;34m\u001b[0m\n",
       "\u001b[0;34m\u001b[0m    \u001b[0mivar\u001b[0m\u001b[0;34m=\u001b[0m\u001b[0;32mNone\u001b[0m\u001b[0;34m,\u001b[0m\u001b[0;34m\u001b[0m\n",
       "\u001b[0;34m\u001b[0m    \u001b[0mshow_method\u001b[0m\u001b[0;34m=\u001b[0m\u001b[0;32mFalse\u001b[0m\u001b[0;34m,\u001b[0m\u001b[0;34m\u001b[0m\n",
       "\u001b[0;34m\u001b[0m    \u001b[0mcontrib_ode\u001b[0m\u001b[0;34m=\u001b[0m\u001b[0;32mFalse\u001b[0m\u001b[0;34m,\u001b[0m\u001b[0;34m\u001b[0m\n",
       "\u001b[0;34m\u001b[0m    \u001b[0malgorithm\u001b[0m\u001b[0;34m=\u001b[0m\u001b[0;34m'maxima'\u001b[0m\u001b[0;34m,\u001b[0m\u001b[0;34m\u001b[0m\n",
       "\u001b[0;34m\u001b[0m\u001b[0;34m)\u001b[0m\u001b[0;34m\u001b[0m\u001b[0;34m\u001b[0m\u001b[0m\n",
       "\u001b[0;31mDocstring:\u001b[0m     \n",
       "   Solve a 1st or 2nd order linear ODE, including IVP and BVP.\n",
       "\n",
       "   INPUT:\n",
       "\n",
       "   * \"de\" -- an expression or equation representing the ODE\n",
       "\n",
       "   * \"dvar\" -- the dependent variable (hereafter called y)\n",
       "\n",
       "   * \"ics\" -- (optional) the initial or boundary conditions\n",
       "\n",
       "     * for a first-order equation, specify the initial x and y\n",
       "\n",
       "     * for a second-order equation, specify the initial x, y, and\n",
       "       dy/dx, i.e. write [x_0, y(x_0), y'(x_0)]\n",
       "\n",
       "     * for a second-order boundary solution, specify initial and final\n",
       "       x and y boundary conditions, i.e. write [x_0, y(x_0), x_1,\n",
       "       y(x_1)].\n",
       "\n",
       "     * gives an error if the solution is not SymbolicEquation (as\n",
       "       happens for example for a Clairaut equation)\n",
       "\n",
       "   * \"ivar\" -- (optional) the independent variable (hereafter called\n",
       "     x), which must be specified if there is more than one independent\n",
       "     variable in the equation\n",
       "\n",
       "   * \"show_method\" -- (optional) if \"True\", then Sage returns pair\n",
       "     \"[solution, method]\", where method is the string describing the\n",
       "     method which has been used to get a solution (Maxima uses the\n",
       "     following order for first order equations: linear, separable,\n",
       "     exact (including exact with integrating factor), homogeneous,\n",
       "     bernoulli, generalized homogeneous) - use carefully in class, see\n",
       "     below the example of an equation which is separable but this\n",
       "     property is not recognized by Maxima and the equation is solved\n",
       "     as exact.\n",
       "\n",
       "   * \"contrib_ode\" -- (optional) if \"True\", \"desolve\" allows to solve\n",
       "     Clairaut, Lagrange, Riccati and some other equations. This may\n",
       "     take a long time and is thus turned off by default.  Initial\n",
       "     conditions can be used only if the result is one SymbolicEquation\n",
       "     (does not contain a singular solution, for example).\n",
       "\n",
       "   * \"algorithm\" -- (default: \"'maxima'\") one of\n",
       "\n",
       "     * \"'maxima'\" -- use maxima\n",
       "\n",
       "     * \"'fricas'\" -- use FriCAS (the optional fricas spkg has to be\n",
       "       installed)\n",
       "\n",
       "   OUTPUT:\n",
       "\n",
       "   In most cases return a SymbolicEquation which defines the solution\n",
       "   implicitly.  If the result is in the form y(x)=... (happens for\n",
       "   linear eqs.), return the right-hand side only. The possible\n",
       "   constant solutions of separable ODEs are omitted.\n",
       "\n",
       "   Note:\n",
       "\n",
       "     Use \"desolve? <tab>\" if the output in the Sage notebook is\n",
       "     truncated.\n",
       "\n",
       "   EXAMPLES:\n",
       "\n",
       "      sage: x = var('x')\n",
       "      sage: y = function('y')(x)\n",
       "      sage: desolve(diff(y,x) + y - 1, y)\n",
       "      (_C + e^x)*e^(-x)\n",
       "\n",
       "      sage: f = desolve(diff(y,x) + y - 1, y, ics=[10,2]); f\n",
       "      (e^10 + e^x)*e^(-x)\n",
       "\n",
       "      sage: plot(f)\n",
       "      Graphics object consisting of 1 graphics primitive\n",
       "\n",
       "   We can also solve second-order differential equations:\n",
       "\n",
       "      sage: x = var('x')\n",
       "      sage: y = function('y')(x)\n",
       "      sage: de = diff(y,x,2) - y == x\n",
       "      sage: desolve(de, y)\n",
       "      _K2*e^(-x) + _K1*e^x - x\n",
       "\n",
       "      sage: f = desolve(de, y, [10,2,1]); f\n",
       "      -x + 7*e^(x - 10) + 5*e^(-x + 10)\n",
       "\n",
       "      sage: f(x=10)\n",
       "      2\n",
       "\n",
       "      sage: diff(f,x)(x=10)\n",
       "      1\n",
       "\n",
       "      sage: de = diff(y,x,2) + y == 0\n",
       "      sage: desolve(de, y)\n",
       "      _K2*cos(x) + _K1*sin(x)\n",
       "\n",
       "      sage: desolve(de, y, [0,1,pi/2,4])\n",
       "      cos(x) + 4*sin(x)\n",
       "\n",
       "      sage: desolve(y*diff(y,x)+sin(x)==0,y)\n",
       "      -1/2*y(x)^2 == _C - cos(x)\n",
       "\n",
       "   Clairaut equation: general and singular solutions:\n",
       "\n",
       "      sage: desolve(diff(y,x)^2+x*diff(y,x)-y==0,y,contrib_ode=True,show_method=True)\n",
       "      [[y(x) == _C^2 + _C*x, y(x) == -1/4*x^2], 'clairau...']\n",
       "\n",
       "   For equations involving more variables we specify an independent\n",
       "   variable:\n",
       "\n",
       "      sage: a,b,c,n=var('a b c n')\n",
       "      sage: desolve(x^2*diff(y,x)==a+b*x^n+c*x^2*y^2,y,ivar=x,contrib_ode=True)\n",
       "      [[y(x) == 0, (b*x^(n - 2) + a/x^2)*c^2*u == 0]]\n",
       "\n",
       "      sage: desolve(x^2*diff(y,x)==a+b*x^n+c*x^2*y^2,y,ivar=x,contrib_ode=True,show_method=True)\n",
       "      [[[y(x) == 0, (b*x^(n - 2) + a/x^2)*c^2*u == 0]], 'riccati']\n",
       "\n",
       "   Higher order equations, not involving independent variable:\n",
       "\n",
       "      sage: desolve(diff(y,x,2)+y*(diff(y,x,1))^3==0,y).expand()\n",
       "      1/6*y(x)^3 + _K1*y(x) == _K2 + x\n",
       "\n",
       "      sage: desolve(diff(y,x,2)+y*(diff(y,x,1))^3==0,y,[0,1,1,3]).expand()\n",
       "      1/6*y(x)^3 - 5/3*y(x) == x - 3/2\n",
       "\n",
       "      sage: desolve(diff(y,x,2)+y*(diff(y,x,1))^3==0,y,[0,1,1,3],show_method=True)\n",
       "      [1/6*y(x)^3 - 5/3*y(x) == x - 3/2, 'freeofx']\n",
       "\n",
       "   Separable equations - Sage returns solution in implicit form:\n",
       "\n",
       "      sage: desolve(diff(y,x)*sin(y) == cos(x),y)\n",
       "      -cos(y(x)) == _C + sin(x)\n",
       "\n",
       "      sage: desolve(diff(y,x)*sin(y) == cos(x),y,show_method=True)\n",
       "      [-cos(y(x)) == _C + sin(x), 'separable']\n",
       "\n",
       "      sage: desolve(diff(y,x)*sin(y) == cos(x),y,[pi/2,1])\n",
       "      -cos(y(x)) == -cos(1) + sin(x) - 1\n",
       "\n",
       "   Linear equation - Sage returns the expression on the right hand\n",
       "   side only:\n",
       "\n",
       "      sage: desolve(diff(y,x)+(y) == cos(x),y)\n",
       "      1/2*((cos(x) + sin(x))*e^x + 2*_C)*e^(-x)\n",
       "\n",
       "      sage: desolve(diff(y,x)+(y) == cos(x),y,show_method=True)\n",
       "      [1/2*((cos(x) + sin(x))*e^x + 2*_C)*e^(-x), 'linear']\n",
       "\n",
       "      sage: desolve(diff(y,x)+(y) == cos(x),y,[0,1])\n",
       "      1/2*(cos(x)*e^x + e^x*sin(x) + 1)*e^(-x)\n",
       "\n",
       "   This ODE with separated variables is solved as exact. Explanation -\n",
       "   factor does not split e^{x-y} in Maxima into e^{x}e^{y}:\n",
       "\n",
       "      sage: desolve(diff(y,x)==exp(x-y),y,show_method=True)\n",
       "      [-e^x + e^y(x) == _C, 'exact']\n",
       "\n",
       "   You can solve Bessel equations, also using initial conditions, but\n",
       "   you cannot put (sometimes desired) the initial condition at x=0,\n",
       "   since this point is a singular point of the equation. Anyway, if\n",
       "   the solution should be bounded at x=0, then \"_K2=0\".\n",
       "\n",
       "      sage: desolve(x^2*diff(y,x,x)+x*diff(y,x)+(x^2-4)*y==0,y)\n",
       "      _K1*bessel_J(2, x) + _K2*bessel_Y(2, x)\n",
       "\n",
       "   Example of difficult ODE producing an error:\n",
       "\n",
       "      sage: desolve(sqrt(y)*diff(y,x)+e^(y)+cos(x)-sin(x+y)==0,y) # not tested\n",
       "      Traceback (click to the left for traceback)\n",
       "      ...\n",
       "      NotImplementedError, \"Maxima was unable to solve this ODE. Consider to set option contrib_ode to True.\"\n",
       "\n",
       "   Another difficult ODE with error - moreover, it takes a long time:\n",
       "\n",
       "      sage: desolve(sqrt(y)*diff(y,x)+e^(y)+cos(x)-sin(x+y)==0,y,contrib_ode=True) # not tested\n",
       "\n",
       "   Some more types of ODEs:\n",
       "\n",
       "      sage: desolve(x*diff(y,x)^2-(1+x*y)*diff(y,x)+y==0,y,contrib_ode=True,show_method=True)\n",
       "      [[y(x) == _C + log(x), y(x) == _C*e^x], 'factor']\n",
       "\n",
       "      sage: desolve(diff(y,x)==(x+y)^2,y,contrib_ode=True,show_method=True)\n",
       "      [[[x == _C - arctan(sqrt(t)), y(x) == -x - sqrt(t)], [x == _C + arctan(sqrt(t)), y(x) == -x + sqrt(t)]], 'lagrange']\n",
       "\n",
       "   These two examples produce an error (as expected, Maxima 5.18\n",
       "   cannot solve equations from initial conditions). Maxima 5.18\n",
       "   returns false answer in this case!\n",
       "\n",
       "      sage: desolve(diff(y,x,2)+y*(diff(y,x,1))^3==0,y,[0,1,2]).expand() # not tested\n",
       "      Traceback (click to the left for traceback)\n",
       "      ...\n",
       "      NotImplementedError, \"Maxima was unable to solve this ODE. Consider to set option contrib_ode to True.\"\n",
       "\n",
       "      sage: desolve(diff(y,x,2)+y*(diff(y,x,1))^3==0,y,[0,1,2],show_method=True) # not tested\n",
       "      Traceback (click to the left for traceback)\n",
       "      ...\n",
       "      NotImplementedError, \"Maxima was unable to solve this ODE. Consider to set option contrib_ode to True.\"\n",
       "\n",
       "   Second order linear ODE:\n",
       "\n",
       "      sage: desolve(diff(y,x,2)+2*diff(y,x)+y == cos(x),y)\n",
       "      (_K2*x + _K1)*e^(-x) + 1/2*sin(x)\n",
       "\n",
       "      sage: desolve(diff(y,x,2)+2*diff(y,x)+y == cos(x),y,show_method=True)\n",
       "      [(_K2*x + _K1)*e^(-x) + 1/2*sin(x), 'variationofparameters']\n",
       "\n",
       "      sage: desolve(diff(y,x,2)+2*diff(y,x)+y == cos(x),y,[0,3,1])\n",
       "      1/2*(7*x + 6)*e^(-x) + 1/2*sin(x)\n",
       "\n",
       "      sage: desolve(diff(y,x,2)+2*diff(y,x)+y == cos(x),y,[0,3,1],show_method=True)\n",
       "      [1/2*(7*x + 6)*e^(-x) + 1/2*sin(x), 'variationofparameters']\n",
       "\n",
       "      sage: desolve(diff(y,x,2)+2*diff(y,x)+y == cos(x),y,[0,3,pi/2,2])\n",
       "      3*(x*(e^(1/2*pi) - 2)/pi + 1)*e^(-x) + 1/2*sin(x)\n",
       "\n",
       "      sage: desolve(diff(y,x,2)+2*diff(y,x)+y == cos(x),y,[0,3,pi/2,2],show_method=True)\n",
       "      [3*(x*(e^(1/2*pi) - 2)/pi + 1)*e^(-x) + 1/2*sin(x), 'variationofparameters']\n",
       "\n",
       "      sage: desolve(diff(y,x,2)+2*diff(y,x)+y == 0,y)\n",
       "      (_K2*x + _K1)*e^(-x)\n",
       "\n",
       "      sage: desolve(diff(y,x,2)+2*diff(y,x)+y == 0,y,show_method=True)\n",
       "      [(_K2*x + _K1)*e^(-x), 'constcoeff']\n",
       "\n",
       "      sage: desolve(diff(y,x,2)+2*diff(y,x)+y == 0,y,[0,3,1])\n",
       "      (4*x + 3)*e^(-x)\n",
       "\n",
       "      sage: desolve(diff(y,x,2)+2*diff(y,x)+y == 0,y,[0,3,1],show_method=True)\n",
       "      [(4*x + 3)*e^(-x), 'constcoeff']\n",
       "\n",
       "      sage: desolve(diff(y,x,2)+2*diff(y,x)+y == 0,y,[0,3,pi/2,2])\n",
       "      (2*x*(2*e^(1/2*pi) - 3)/pi + 3)*e^(-x)\n",
       "\n",
       "      sage: desolve(diff(y,x,2)+2*diff(y,x)+y == 0,y,[0,3,pi/2,2],show_method=True)\n",
       "      [(2*x*(2*e^(1/2*pi) - 3)/pi + 3)*e^(-x), 'constcoeff']\n",
       "\n",
       "   Using \"algorithm='fricas'\" we can invoke the differential equation\n",
       "   solver from FriCAS.  For example, it can solve higher order linear\n",
       "   equations:\n",
       "\n",
       "      sage: de = x^3*diff(y, x, 3) + x^2*diff(y, x, 2) - 2*x*diff(y, x) + 2*y - 2*x^4\n",
       "      sage: Y = desolve(de, y, algorithm=\"fricas\"); Y\n",
       "      (2*x^3 - 3*x^2 + 1)*_C0/x + (x^3 - 1)*_C1/x\n",
       "       + (x^3 - 3*x^2 - 1)*_C2/x + 1/15*(x^5 - 10*x^3 + 20*x^2 + 4)/x\n",
       "\n",
       "   The initial conditions are then interpreted as [x_0, y(x_0),\n",
       "   y'(x_0), ..., y^(n)(x_0)]:\n",
       "\n",
       "      sage: Y = desolve(de, y, ics=[1,3,7], algorithm=\"fricas\"); Y\n",
       "      1/15*(x^5 + 15*x^3 + 50*x^2 - 21)/x\n",
       "\n",
       "   FriCAS can also solve some non-linear equations:\n",
       "\n",
       "      sage: de = diff(y, x) == y / (x+y*log(y))\n",
       "      sage: Y = desolve(de, y, algorithm=\"fricas\"); Y\n",
       "      1/2*(log(y(x))^2*y(x) - 2*x)/y(x)\n",
       "\n",
       "   AUTHORS:\n",
       "\n",
       "   * David Joyner (1-2006)\n",
       "\n",
       "   * Robert Bradshaw (10-2008)\n",
       "\n",
       "   * Robert Marik (10-2009)\n",
       "\u001b[0;31mInit docstring:\u001b[0m Initialize self.  See help(type(self)) for accurate signature.\n",
       "\u001b[0;31mFile:\u001b[0m           /srv/sage-10.4/src/sage/calculus/desolvers.py\n",
       "\u001b[0;31mType:\u001b[0m           function"
      ]
     },
     "metadata": {},
     "output_type": "display_data"
    }
   ],
   "source": [
    "desolve?"
   ]
  },
  {
   "cell_type": "code",
   "execution_count": 13,
   "metadata": {},
   "outputs": [
    {
     "ename": "ValueError",
     "evalue": "self must be a relation",
     "output_type": "error",
     "traceback": [
      "\u001b[0;31m---------------------------------------------------------------------------\u001b[0m",
      "\u001b[0;31mValueError\u001b[0m                                Traceback (most recent call last)",
      "Cell \u001b[0;32mIn[13], line 2\u001b[0m\n\u001b[1;32m      1\u001b[0m \u001b[38;5;66;03m# Define the solution function\u001b[39;00m\n\u001b[0;32m----> 2\u001b[0m sol_func \u001b[38;5;241m=\u001b[39m \u001b[43msolution\u001b[49m\u001b[38;5;241;43m.\u001b[39;49m\u001b[43mrhs\u001b[49m\u001b[43m(\u001b[49m\u001b[43m)\u001b[49m\n\u001b[1;32m      4\u001b[0m \u001b[38;5;66;03m# Plot the solution over a specified range\u001b[39;00m\n\u001b[1;32m      5\u001b[0m plot(sol_func, (x, \u001b[38;5;241m-\u001b[39mInteger(\u001b[38;5;241m10\u001b[39m), Integer(\u001b[38;5;241m10\u001b[39m)))\n",
      "File \u001b[0;32m/srv/sage-10.4/src/sage/symbolic/expression.pyx:3206\u001b[0m, in \u001b[0;36msage.symbolic.expression.Expression.right_hand_side\u001b[0;34m()\u001b[0m\n\u001b[1;32m   3204\u001b[0m \"\"\"\n\u001b[1;32m   3205\u001b[0m if not self.is_relational():\n\u001b[0;32m-> 3206\u001b[0m     raise ValueError(\"self must be a relation\")\n\u001b[1;32m   3207\u001b[0m return new_Expression_from_GEx(self._parent, self._gobj.rhs())\n\u001b[1;32m   3208\u001b[0m \n",
      "\u001b[0;31mValueError\u001b[0m: self must be a relation"
     ]
    }
   ],
   "source": [
    "# Define the solution function\n",
    "sol_func = solution.rhs()\n",
    "\n",
    "# Plot the solution over a specified range\n",
    "plot(sol_func, (x, -10, 10))"
   ]
  },
  {
   "cell_type": "code",
   "execution_count": 14,
   "metadata": {},
   "outputs": [
    {
     "data": {
      "text/html": [
       "<html>\\(\\displaystyle e^{x}\\)</html>"
      ],
      "text/latex": [
       "$\\displaystyle e^{x}$"
      ],
      "text/plain": [
       "e^x"
      ]
     },
     "metadata": {},
     "output_type": "display_data"
    }
   ],
   "source": [
    "# Define the variables and function\n",
    "x = var('x')\n",
    "y = function('y')(x)\n",
    "\n",
    "# Define the differential equation\n",
    "ode2 = diff(y, x, 2) - 3*diff(y, x) + 2*y == 0\n",
    "\n",
    "# Solve the ODE with initial conditions\n",
    "solution2 = desolve(ode2, y, ics=[0, 1, 1])\n",
    "show(solution2)"
   ]
  },
  {
   "cell_type": "markdown",
   "metadata": {},
   "source": [
    "## <font color=green>Exercise 02</font> <a class = \"anchor\" id=\"exercise-02\"></a>  \n",
    "\n",
    "(*) Make a complicated plot, with the following criteria.  \n",
    "It should have at least three separate plots you combine, one of which is not just plotting a function (it could be data, implicit, a shape, etc.).\n",
    "\n",
    "You should use at least TEN different optional graphics keywords properly (and meaningfully).\n",
    "\n",
    "As usual, explain what you did\n",
    "\n",
    "For a bonus, you can animate it (the animation must be meaningful, though). See the Sage function animate. You can also read the help file [here](https://doc.sagemath.org/html/en/reference/plotting/sage/plot/animate.html).\n",
    "\n"
   ]
  },
  {
   "cell_type": "code",
   "execution_count": 15,
   "metadata": {},
   "outputs": [
    {
     "ename": "ImportError",
     "evalue": "cannot import name 'points' from 'sage.plot.plot' (/srv/sage-10.4/src/sage/plot/plot.py)",
     "output_type": "error",
     "traceback": [
      "\u001b[0;31m---------------------------------------------------------------------------\u001b[0m",
      "\u001b[0;31mImportError\u001b[0m                               Traceback (most recent call last)",
      "Cell \u001b[0;32mIn[15], line 2\u001b[0m\n\u001b[1;32m      1\u001b[0m \u001b[38;5;66;03m# Import necessary functions\u001b[39;00m\n\u001b[0;32m----> 2\u001b[0m \u001b[38;5;28;01mfrom\u001b[39;00m \u001b[38;5;21;01msage\u001b[39;00m\u001b[38;5;21;01m.\u001b[39;00m\u001b[38;5;21;01mplot\u001b[39;00m\u001b[38;5;21;01m.\u001b[39;00m\u001b[38;5;21;01mplot\u001b[39;00m \u001b[38;5;28;01mimport\u001b[39;00m plot, points, implicit_plot\n\u001b[1;32m      4\u001b[0m \u001b[38;5;66;03m# Define the sine function plot\u001b[39;00m\n\u001b[1;32m      5\u001b[0m x \u001b[38;5;241m=\u001b[39m var(\u001b[38;5;124m'\u001b[39m\u001b[38;5;124mx\u001b[39m\u001b[38;5;124m'\u001b[39m)\n",
      "\u001b[0;31mImportError\u001b[0m: cannot import name 'points' from 'sage.plot.plot' (/srv/sage-10.4/src/sage/plot/plot.py)"
     ]
    }
   ],
   "source": [
    "# Import necessary functions\n",
    "from sage.plot.plot import plot, points, implicit_plot\n",
    "\n",
    "# Define the sine function plot\n",
    "x = var('x')\n",
    "plot1 = plot(sin(x), (x, -10, 10), color='blue', thickness=2, legend_label='Sine function')\n",
    "\n",
    "# Define the set of random data points\n",
    "import random\n",
    "data_points = [(i, random.uniform(-1, 1)) for i in range(-10, 11)]\n",
    "plot2 = points(data_points, color='red', size=30, marker='o', legend_label='Random data')\n",
    "\n",
    "# Define the implicit plot of a circle\n",
    "y = var('y')\n",
    "implicit_eq = x^2 + y^2 - 25\n",
    "plot3 = implicit_plot(implicit_eq, (x, -6, 6), (y, -6, 6), color='green', alpha=0.5, legend_label='Circle')\n",
    "\n",
    "# Combine the plots\n",
    "combined_plot = plot1 + plot2 + plot3\n",
    "combined_plot.show(legend=True, frame=True, gridlines=True, title='Combined Plot Example')"
   ]
  },
  {
   "cell_type": "code",
   "execution_count": 16,
   "metadata": {},
   "outputs": [
    {
     "ename": "NameError",
     "evalue": "name 'plot2' is not defined",
     "output_type": "error",
     "traceback": [
      "\u001b[0;31m---------------------------------------------------------------------------\u001b[0m",
      "\u001b[0;31mNameError\u001b[0m                                 Traceback (most recent call last)",
      "Cell \u001b[0;32mIn[16], line 8\u001b[0m\n\u001b[1;32m      6\u001b[0m \u001b[38;5;28;01mfor\u001b[39;00m a \u001b[38;5;129;01min\u001b[39;00m srange(Integer(\u001b[38;5;241m1\u001b[39m), Integer(\u001b[38;5;241m5\u001b[39m), RealNumber(\u001b[38;5;124m'\u001b[39m\u001b[38;5;124m0.1\u001b[39m\u001b[38;5;124m'\u001b[39m)):\n\u001b[1;32m      7\u001b[0m     plot_frame \u001b[38;5;241m=\u001b[39m plot(a\u001b[38;5;241m*\u001b[39msin(x), (x, \u001b[38;5;241m-\u001b[39mInteger(\u001b[38;5;241m10\u001b[39m), Integer(\u001b[38;5;241m10\u001b[39m)), color\u001b[38;5;241m=\u001b[39m\u001b[38;5;124m'\u001b[39m\u001b[38;5;124mblue\u001b[39m\u001b[38;5;124m'\u001b[39m, thickness\u001b[38;5;241m=\u001b[39mInteger(\u001b[38;5;241m2\u001b[39m), legend_label\u001b[38;5;241m=\u001b[39m\u001b[38;5;124m'\u001b[39m\u001b[38;5;124mSine function\u001b[39m\u001b[38;5;124m'\u001b[39m)\n\u001b[0;32m----> 8\u001b[0m     frames\u001b[38;5;241m.\u001b[39mappend(plot_frame \u001b[38;5;241m+\u001b[39m \u001b[43mplot2\u001b[49m \u001b[38;5;241m+\u001b[39m plot3)\n\u001b[1;32m     10\u001b[0m \u001b[38;5;66;03m# Create the animation\u001b[39;00m\n\u001b[1;32m     11\u001b[0m animation \u001b[38;5;241m=\u001b[39m animate(frames, figsize\u001b[38;5;241m=\u001b[39m[Integer(\u001b[38;5;241m6\u001b[39m), Integer(\u001b[38;5;241m4\u001b[39m)], axes_labels\u001b[38;5;241m=\u001b[39m[\u001b[38;5;124m'\u001b[39m\u001b[38;5;124mx\u001b[39m\u001b[38;5;124m'\u001b[39m, \u001b[38;5;124m'\u001b[39m\u001b[38;5;124my\u001b[39m\u001b[38;5;124m'\u001b[39m])\n",
      "\u001b[0;31mNameError\u001b[0m: name 'plot2' is not defined"
     ]
    }
   ],
   "source": [
    "# Import the animation function\n",
    "from sage.plot.animate import animate\n",
    "\n",
    "# Define the frames for the animation\n",
    "frames = []\n",
    "for a in srange(1, 5, 0.1):\n",
    "    plot_frame = plot(a*sin(x), (x, -10, 10), color='blue', thickness=2, legend_label='Sine function')\n",
    "    frames.append(plot_frame + plot2 + plot3)\n",
    "\n",
    "# Create the animation\n",
    "animation = animate(frames, figsize=[6, 4], axes_labels=['x', 'y'])\n",
    "animation.show()"
   ]
  },
  {
   "cell_type": "code",
   "execution_count": 17,
   "metadata": {},
   "outputs": [
    {
     "ename": "TypeError",
     "evalue": "Graphics.matplotlib() got an unexpected keyword argument 'grid'",
     "output_type": "error",
     "traceback": [
      "\u001b[0;31m---------------------------------------------------------------------------\u001b[0m",
      "\u001b[0;31mTypeError\u001b[0m                                 Traceback (most recent call last)",
      "Cell \u001b[0;32mIn[17], line 23\u001b[0m\n\u001b[1;32m     21\u001b[0m combined_plot\u001b[38;5;241m.\u001b[39maxes_labels([\u001b[38;5;124m'\u001b[39m\u001b[38;5;124mx\u001b[39m\u001b[38;5;124m'\u001b[39m, \u001b[38;5;124m'\u001b[39m\u001b[38;5;124my\u001b[39m\u001b[38;5;124m'\u001b[39m])\n\u001b[1;32m     22\u001b[0m combined_plot\u001b[38;5;241m.\u001b[39mset_aspect_ratio(Integer(\u001b[38;5;241m1\u001b[39m))\n\u001b[0;32m---> 23\u001b[0m \u001b[43mcombined_plot\u001b[49m\u001b[38;5;241;43m.\u001b[39;49m\u001b[43mshow\u001b[49m\u001b[43m(\u001b[49m\u001b[43mgrid\u001b[49m\u001b[38;5;241;43m=\u001b[39;49m\u001b[38;5;28;43;01mTrue\u001b[39;49;00m\u001b[43m)\u001b[49m\n",
      "File \u001b[0;32m/srv/sage-10.4/src/sage/misc/decorators.py:414\u001b[0m, in \u001b[0;36msuboptions.__call__.<locals>.wrapper\u001b[0;34m(*args, **kwds)\u001b[0m\n\u001b[1;32m    410\u001b[0m         \u001b[38;5;28;01mdel\u001b[39;00m kwds[key]\n\u001b[1;32m    412\u001b[0m kwds[\u001b[38;5;28mself\u001b[39m\u001b[38;5;241m.\u001b[39mname \u001b[38;5;241m+\u001b[39m \u001b[38;5;124m\"\u001b[39m\u001b[38;5;124moptions\u001b[39m\u001b[38;5;124m\"\u001b[39m] \u001b[38;5;241m=\u001b[39m suboptions\n\u001b[0;32m--> 414\u001b[0m \u001b[38;5;28;01mreturn\u001b[39;00m \u001b[43mfunc\u001b[49m\u001b[43m(\u001b[49m\u001b[38;5;241;43m*\u001b[39;49m\u001b[43margs\u001b[49m\u001b[43m,\u001b[49m\u001b[43m \u001b[49m\u001b[38;5;241;43m*\u001b[39;49m\u001b[38;5;241;43m*\u001b[39;49m\u001b[43mkwds\u001b[49m\u001b[43m)\u001b[49m\n",
      "File \u001b[0;32m/srv/sage-10.4/src/sage/plot/graphics.py:2176\u001b[0m, in \u001b[0;36mGraphics.show\u001b[0;34m(self, **kwds)\u001b[0m\n\u001b[1;32m   2174\u001b[0m \u001b[38;5;28;01mfrom\u001b[39;00m \u001b[38;5;21;01msage\u001b[39;00m\u001b[38;5;21;01m.\u001b[39;00m\u001b[38;5;21;01mrepl\u001b[39;00m\u001b[38;5;21;01m.\u001b[39;00m\u001b[38;5;21;01mrich_output\u001b[39;00m \u001b[38;5;28;01mimport\u001b[39;00m get_display_manager\n\u001b[1;32m   2175\u001b[0m dm \u001b[38;5;241m=\u001b[39m get_display_manager()\n\u001b[0;32m-> 2176\u001b[0m \u001b[43mdm\u001b[49m\u001b[38;5;241;43m.\u001b[39;49m\u001b[43mdisplay_immediately\u001b[49m\u001b[43m(\u001b[49m\u001b[38;5;28;43mself\u001b[39;49m\u001b[43m,\u001b[49m\u001b[43m \u001b[49m\u001b[38;5;241;43m*\u001b[39;49m\u001b[38;5;241;43m*\u001b[39;49m\u001b[43mkwds\u001b[49m\u001b[43m)\u001b[49m\n",
      "File \u001b[0;32m/srv/sage-10.4/src/sage/repl/rich_output/display_manager.py:842\u001b[0m, in \u001b[0;36mDisplayManager.display_immediately\u001b[0;34m(self, obj, **rich_repr_kwds)\u001b[0m\n\u001b[1;32m    819\u001b[0m \u001b[38;5;28;01mdef\u001b[39;00m \u001b[38;5;21mdisplay_immediately\u001b[39m(\u001b[38;5;28mself\u001b[39m, obj, \u001b[38;5;241m*\u001b[39m\u001b[38;5;241m*\u001b[39mrich_repr_kwds):\n\u001b[1;32m    820\u001b[0m \u001b[38;5;250m    \u001b[39m\u001b[38;5;124;03m\"\"\"\u001b[39;00m\n\u001b[1;32m    821\u001b[0m \u001b[38;5;124;03m    Show output without going back to the command line prompt.\u001b[39;00m\n\u001b[1;32m    822\u001b[0m \n\u001b[0;32m   (...)\u001b[0m\n\u001b[1;32m    840\u001b[0m \u001b[38;5;124;03m        1/2\u001b[39;00m\n\u001b[1;32m    841\u001b[0m \u001b[38;5;124;03m    \"\"\"\u001b[39;00m\n\u001b[0;32m--> 842\u001b[0m     plain_text, rich_output \u001b[38;5;241m=\u001b[39m \u001b[38;5;28;43mself\u001b[39;49m\u001b[38;5;241;43m.\u001b[39;49m\u001b[43m_rich_output_formatter\u001b[49m\u001b[43m(\u001b[49m\u001b[43mobj\u001b[49m\u001b[43m,\u001b[49m\u001b[43m \u001b[49m\u001b[43mrich_repr_kwds\u001b[49m\u001b[43m)\u001b[49m\n\u001b[1;32m    843\u001b[0m     \u001b[38;5;28mself\u001b[39m\u001b[38;5;241m.\u001b[39m_backend\u001b[38;5;241m.\u001b[39mdisplay_immediately(plain_text, rich_output)\n",
      "File \u001b[0;32m/srv/sage-10.4/src/sage/repl/rich_output/display_manager.py:631\u001b[0m, in \u001b[0;36mDisplayManager._rich_output_formatter\u001b[0;34m(self, obj, rich_repr_kwds)\u001b[0m\n\u001b[1;32m    629\u001b[0m has_rich_repr \u001b[38;5;241m=\u001b[39m \u001b[38;5;28misinstance\u001b[39m(obj, SageObject) \u001b[38;5;129;01mand\u001b[39;00m \u001b[38;5;28mhasattr\u001b[39m(obj, \u001b[38;5;124m'\u001b[39m\u001b[38;5;124m_rich_repr_\u001b[39m\u001b[38;5;124m'\u001b[39m)\n\u001b[1;32m    630\u001b[0m \u001b[38;5;28;01mif\u001b[39;00m has_rich_repr:\n\u001b[0;32m--> 631\u001b[0m     rich_output \u001b[38;5;241m=\u001b[39m \u001b[38;5;28;43mself\u001b[39;49m\u001b[38;5;241;43m.\u001b[39;49m\u001b[43m_call_rich_repr\u001b[49m\u001b[43m(\u001b[49m\u001b[43mobj\u001b[49m\u001b[43m,\u001b[49m\u001b[43m \u001b[49m\u001b[43mrich_repr_kwds\u001b[49m\u001b[43m)\u001b[49m\n\u001b[1;32m    632\u001b[0m \u001b[38;5;28;01mif\u001b[39;00m \u001b[38;5;28misinstance\u001b[39m(rich_output, OutputPlainText):\n\u001b[1;32m    633\u001b[0m     plain_text \u001b[38;5;241m=\u001b[39m rich_output\n",
      "File \u001b[0;32m/srv/sage-10.4/src/sage/repl/rich_output/display_manager.py:589\u001b[0m, in \u001b[0;36mDisplayManager._call_rich_repr\u001b[0;34m(self, obj, rich_repr_kwds)\u001b[0m\n\u001b[1;32m    557\u001b[0m \u001b[38;5;250m\u001b[39m\u001b[38;5;124;03m\"\"\"\u001b[39;00m\n\u001b[1;32m    558\u001b[0m \u001b[38;5;124;03mCall the ``_rich_repr_`` method\u001b[39;00m\n\u001b[1;32m    559\u001b[0m \n\u001b[0;32m   (...)\u001b[0m\n\u001b[1;32m    585\u001b[0m \u001b[38;5;124;03m    doctest:...: ...RichReprWarning: Exception in _rich_repr_ while displaying object: reason\u001b[39;00m\n\u001b[1;32m    586\u001b[0m \u001b[38;5;124;03m\"\"\"\u001b[39;00m\n\u001b[1;32m    587\u001b[0m \u001b[38;5;28;01mif\u001b[39;00m rich_repr_kwds:\n\u001b[1;32m    588\u001b[0m     \u001b[38;5;66;03m# do not ignore errors from invalid options\u001b[39;00m\n\u001b[0;32m--> 589\u001b[0m     \u001b[38;5;28;01mreturn\u001b[39;00m \u001b[43mobj\u001b[49m\u001b[38;5;241;43m.\u001b[39;49m\u001b[43m_rich_repr_\u001b[49m\u001b[43m(\u001b[49m\u001b[38;5;28;43mself\u001b[39;49m\u001b[43m,\u001b[49m\u001b[43m \u001b[49m\u001b[38;5;241;43m*\u001b[39;49m\u001b[38;5;241;43m*\u001b[39;49m\u001b[43mrich_repr_kwds\u001b[49m\u001b[43m)\u001b[49m\n\u001b[1;32m    590\u001b[0m \u001b[38;5;28;01mtry\u001b[39;00m:\n\u001b[1;32m    591\u001b[0m     \u001b[38;5;28;01mreturn\u001b[39;00m obj\u001b[38;5;241m.\u001b[39m_rich_repr_(\u001b[38;5;28mself\u001b[39m)\n",
      "File \u001b[0;32m/srv/sage-10.4/src/sage/plot/graphics.py:1012\u001b[0m, in \u001b[0;36mGraphics._rich_repr_\u001b[0;34m(self, display_manager, **kwds)\u001b[0m\n\u001b[1;32m   1010\u001b[0m \u001b[38;5;28;01mfor\u001b[39;00m file_ext, output_container \u001b[38;5;129;01min\u001b[39;00m preferred:\n\u001b[1;32m   1011\u001b[0m     \u001b[38;5;28;01mif\u001b[39;00m output_container \u001b[38;5;129;01min\u001b[39;00m display_manager\u001b[38;5;241m.\u001b[39msupported_output():\n\u001b[0;32m-> 1012\u001b[0m         \u001b[38;5;28;01mreturn\u001b[39;00m \u001b[43mdisplay_manager\u001b[49m\u001b[38;5;241;43m.\u001b[39;49m\u001b[43mgraphics_from_save\u001b[49m\u001b[43m(\u001b[49m\n\u001b[1;32m   1013\u001b[0m \u001b[43m            \u001b[49m\u001b[38;5;28;43mself\u001b[39;49m\u001b[38;5;241;43m.\u001b[39;49m\u001b[43msave\u001b[49m\u001b[43m,\u001b[49m\u001b[43m \u001b[49m\u001b[43mkwds\u001b[49m\u001b[43m,\u001b[49m\u001b[43m \u001b[49m\u001b[43mfile_ext\u001b[49m\u001b[43m,\u001b[49m\u001b[43m \u001b[49m\u001b[43moutput_container\u001b[49m\u001b[43m)\u001b[49m\n",
      "File \u001b[0;32m/srv/sage-10.4/src/sage/repl/rich_output/display_manager.py:721\u001b[0m, in \u001b[0;36mDisplayManager.graphics_from_save\u001b[0;34m(self, save_function, save_kwds, file_extension, output_container, figsize, dpi)\u001b[0m\n\u001b[1;32m    719\u001b[0m \u001b[38;5;28;01mif\u001b[39;00m dpi \u001b[38;5;129;01mis\u001b[39;00m \u001b[38;5;129;01mnot\u001b[39;00m \u001b[38;5;28;01mNone\u001b[39;00m:\n\u001b[1;32m    720\u001b[0m     kwds[\u001b[38;5;124m'\u001b[39m\u001b[38;5;124mdpi\u001b[39m\u001b[38;5;124m'\u001b[39m] \u001b[38;5;241m=\u001b[39m dpi\n\u001b[0;32m--> 721\u001b[0m \u001b[43msave_function\u001b[49m\u001b[43m(\u001b[49m\u001b[43mfilename\u001b[49m\u001b[43m,\u001b[49m\u001b[43m \u001b[49m\u001b[38;5;241;43m*\u001b[39;49m\u001b[38;5;241;43m*\u001b[39;49m\u001b[43mkwds\u001b[49m\u001b[43m)\u001b[49m\n\u001b[1;32m    722\u001b[0m \u001b[38;5;28;01mfrom\u001b[39;00m \u001b[38;5;21;01msage\u001b[39;00m\u001b[38;5;21;01m.\u001b[39;00m\u001b[38;5;21;01mrepl\u001b[39;00m\u001b[38;5;21;01m.\u001b[39;00m\u001b[38;5;21;01mrich_output\u001b[39;00m\u001b[38;5;21;01m.\u001b[39;00m\u001b[38;5;21;01mbuffer\u001b[39;00m \u001b[38;5;28;01mimport\u001b[39;00m OutputBuffer\n\u001b[1;32m    723\u001b[0m buf \u001b[38;5;241m=\u001b[39m OutputBuffer\u001b[38;5;241m.\u001b[39mfrom_file(filename)\n",
      "File \u001b[0;32m/srv/sage-10.4/src/sage/misc/decorators.py:414\u001b[0m, in \u001b[0;36msuboptions.__call__.<locals>.wrapper\u001b[0;34m(*args, **kwds)\u001b[0m\n\u001b[1;32m    410\u001b[0m         \u001b[38;5;28;01mdel\u001b[39;00m kwds[key]\n\u001b[1;32m    412\u001b[0m kwds[\u001b[38;5;28mself\u001b[39m\u001b[38;5;241m.\u001b[39mname \u001b[38;5;241m+\u001b[39m \u001b[38;5;124m\"\u001b[39m\u001b[38;5;124moptions\u001b[39m\u001b[38;5;124m\"\u001b[39m] \u001b[38;5;241m=\u001b[39m suboptions\n\u001b[0;32m--> 414\u001b[0m \u001b[38;5;28;01mreturn\u001b[39;00m \u001b[43mfunc\u001b[49m\u001b[43m(\u001b[49m\u001b[38;5;241;43m*\u001b[39;49m\u001b[43margs\u001b[49m\u001b[43m,\u001b[49m\u001b[43m \u001b[49m\u001b[38;5;241;43m*\u001b[39;49m\u001b[38;5;241;43m*\u001b[39;49m\u001b[43mkwds\u001b[49m\u001b[43m)\u001b[49m\n",
      "File \u001b[0;32m/srv/sage-10.4/src/sage/plot/graphics.py:3371\u001b[0m, in \u001b[0;36mGraphics.save\u001b[0;34m(self, filename, **kwds)\u001b[0m\n\u001b[1;32m   3368\u001b[0m \u001b[38;5;28;01mfrom\u001b[39;00m \u001b[38;5;21;01mmatplotlib\u001b[39;00m \u001b[38;5;28;01mimport\u001b[39;00m rcParams\n\u001b[1;32m   3369\u001b[0m rc_backup \u001b[38;5;241m=\u001b[39m (rcParams[\u001b[38;5;124m'\u001b[39m\u001b[38;5;124mps.useafm\u001b[39m\u001b[38;5;124m'\u001b[39m], rcParams[\u001b[38;5;124m'\u001b[39m\u001b[38;5;124mpdf.use14corefonts\u001b[39m\u001b[38;5;124m'\u001b[39m],\n\u001b[1;32m   3370\u001b[0m              rcParams[\u001b[38;5;124m'\u001b[39m\u001b[38;5;124mtext.usetex\u001b[39m\u001b[38;5;124m'\u001b[39m])  \u001b[38;5;66;03m# save the rcParams\u001b[39;00m\n\u001b[0;32m-> 3371\u001b[0m figure \u001b[38;5;241m=\u001b[39m \u001b[38;5;28;43mself\u001b[39;49m\u001b[38;5;241;43m.\u001b[39;49m\u001b[43mmatplotlib\u001b[49m\u001b[43m(\u001b[49m\u001b[38;5;241;43m*\u001b[39;49m\u001b[38;5;241;43m*\u001b[39;49m\u001b[43moptions\u001b[49m\u001b[43m)\u001b[49m\n\u001b[1;32m   3372\u001b[0m \u001b[38;5;66;03m# You can output in PNG, PS, EPS, PDF, PGF, or SVG format, depending\u001b[39;00m\n\u001b[1;32m   3373\u001b[0m \u001b[38;5;66;03m# on the file extension.\u001b[39;00m\n\u001b[1;32m   3374\u001b[0m \u001b[38;5;66;03m# PGF is handled by a different backend\u001b[39;00m\n\u001b[1;32m   3375\u001b[0m \u001b[38;5;28;01mif\u001b[39;00m ext \u001b[38;5;241m==\u001b[39m \u001b[38;5;124m'\u001b[39m\u001b[38;5;124m.pgf\u001b[39m\u001b[38;5;124m'\u001b[39m:\n",
      "\u001b[0;31mTypeError\u001b[0m: Graphics.matplotlib() got an unexpected keyword argument 'grid'"
     ]
    }
   ],
   "source": [
    "# Import necessary libraries\n",
    "from sage.all import *\n",
    "\n",
    "# Define the variable\n",
    "x = var('x')\n",
    "t = var('t')\n",
    "\n",
    "# Create the function plot\n",
    "function_plot = plot(sin(x), (x, -2*pi, 2*pi), color='blue', linestyle='-', thickness=2, title='y = sin(x)', axes_labels=['x', 'y'])\n",
    "\n",
    "# Create the parametric plot for a circle\n",
    "parametric_plot = parametric_plot((cos(t), sin(t)), (t, 0, 2*pi), color='green', thickness=3)\n",
    "\n",
    "# Create a filled circle at the origin\n",
    "circle_shape = circle((0, 0), 1, color='red', fill=True)\n",
    "\n",
    "# Combine all plots into one graphics object\n",
    "combined_plot = function_plot + parametric_plot + circle_shape\n",
    "\n",
    "# Add grid and customize axes\n",
    "combined_plot.axes_labels(['x', 'y'])\n",
    "combined_plot.set_aspect_ratio(1)\n",
    "combined_plot.show(grid=True)"
   ]
  },
  {
   "cell_type": "markdown",
   "metadata": {},
   "source": [
    "## <font color=green>Exercise 03</font> <a class = \"anchor\" id=\"exercise-03\"></a>  \n",
    "\n",
    "(*) Write up your code and explorations of $n=a^2+b^2$.  I want to know all the patterns you found.  Do you have any ideas about formulas?  You can discuss prime numbers, remainders/modulo, the number of ways to write $n$ in this form, geometric insights, or anything else.  Show your creativity!  Also explain what you did; do not just give results."
   ]
  },
  {
   "cell_type": "code",
   "execution_count": null,
   "metadata": {},
   "outputs": [],
   "source": []
  },
  {
   "cell_type": "code",
   "execution_count": null,
   "metadata": {},
   "outputs": [],
   "source": []
  },
  {
   "cell_type": "code",
   "execution_count": null,
   "metadata": {},
   "outputs": [],
   "source": []
  },
  {
   "cell_type": "markdown",
   "metadata": {},
   "source": [
    "## <font color=green>Exercise 04</font> <a class = \"anchor\" id=\"exercise-04\"></a>  \n",
    "\n",
    "(*) Investigate one other (binary) quadratic form that you have picked.  Explore it in the same way as the previous one.  Tell me about all the patterns you found, just like in the previous question.  Are there any interesting equivalent quadratic forms you found?"
   ]
  },
  {
   "cell_type": "code",
   "execution_count": null,
   "metadata": {},
   "outputs": [],
   "source": []
  },
  {
   "cell_type": "code",
   "execution_count": null,
   "metadata": {},
   "outputs": [],
   "source": []
  },
  {
   "cell_type": "code",
   "execution_count": null,
   "metadata": {},
   "outputs": [],
   "source": []
  },
  {
   "cell_type": "markdown",
   "metadata": {},
   "source": [
    "## <font color=green>Exercise 05</font> <a class = \"anchor\" id=\"exercise-04\"></a>  \n",
    "\n",
    "(*) By looking at the values of $n$ possible (by hand or by using Sage), observe that the quadratic forms $x^2+2\\,y^2$ and $x^2+2\\,x\\,y +3\\,y^2$ seem to represent the same values; record your experimentation. Check that these forms have the same discriminant, and then find an algebraic transformation (or matrix) that will convert one into the other."
   ]
  },
  {
   "cell_type": "code",
   "execution_count": null,
   "metadata": {},
   "outputs": [],
   "source": []
  },
  {
   "cell_type": "code",
   "execution_count": null,
   "metadata": {},
   "outputs": [],
   "source": []
  },
  {
   "cell_type": "code",
   "execution_count": null,
   "metadata": {},
   "outputs": [],
   "source": []
  },
  {
   "cell_type": "markdown",
   "metadata": {},
   "source": [
    "## <font color=green>Exercise 06</font> <a class = \"anchor\" id=\"exercise-05\"></a> \n",
    "\n",
    "The form $2\\,x^2+3\\,y^2$ has discriminant $-24$.  Find another binary quadratic form of the form $a\\,x^2+b\\,y^2$ which has the same discriminant, but which can represent a number that $2\\,x^2+3\\,y^2$ cannot, and hence is not equivalent. Explain what you did to find this form."
   ]
  },
  {
   "cell_type": "code",
   "execution_count": null,
   "metadata": {},
   "outputs": [],
   "source": []
  },
  {
   "cell_type": "code",
   "execution_count": null,
   "metadata": {},
   "outputs": [],
   "source": []
  },
  {
   "cell_type": "code",
   "execution_count": null,
   "metadata": {},
   "outputs": [],
   "source": []
  },
  {
   "cell_type": "markdown",
   "metadata": {},
   "source": [
    "## <font color=green> Exercise 07 </font> <a class = \"anchor\" id=\"exercise-07\"></a>\n",
    "\n",
    "In the proof that for $n$ odd: \n",
    "\n",
    "$$\n",
    "3\\,Q(n) = Q(2n)\n",
    "$$ \n",
    "\n",
    "in Wednesday's lecture, fill in the details for two of the steps so that you could explain it to someone else."
   ]
  },
  {
   "cell_type": "code",
   "execution_count": null,
   "metadata": {},
   "outputs": [],
   "source": []
  },
  {
   "cell_type": "code",
   "execution_count": null,
   "metadata": {},
   "outputs": [],
   "source": []
  },
  {
   "cell_type": "code",
   "execution_count": null,
   "metadata": {},
   "outputs": [],
   "source": []
  },
  {
   "cell_type": "markdown",
   "metadata": {},
   "source": [
    "## <font color=green> Exercise 08 </font> <a class = \"anchor\" id=\"exercise-08\"></a> \n",
    "\n",
    "Show that $23$ is not writable as a sum of only eight perfect positive cube numbers.  Can you write it as a sum of fewer than eight perfect cubes, negative or positive?  What is the other number which requires nine cubes?  Be sure to show your code or reasoning!"
   ]
  },
  {
   "cell_type": "code",
   "execution_count": null,
   "metadata": {},
   "outputs": [],
   "source": []
  },
  {
   "cell_type": "code",
   "execution_count": null,
   "metadata": {},
   "outputs": [],
   "source": []
  },
  {
   "cell_type": "code",
   "execution_count": null,
   "metadata": {},
   "outputs": [],
   "source": []
  },
  {
   "cell_type": "markdown",
   "metadata": {},
   "source": [
    "## <font color=green>Exercise 09</font> <a class = \"anchor\" id=\"exercise-09\"></a> \n",
    "\n",
    "Prove that $a\\,(a+1)\\,(2a+1)$ is always divisible by $6$.  \n",
    "\n",
    "**Hint**: Use cases for the possibilities of what $a$ can be modulo $6$."
   ]
  },
  {
   "cell_type": "code",
   "execution_count": null,
   "metadata": {},
   "outputs": [],
   "source": []
  },
  {
   "cell_type": "code",
   "execution_count": null,
   "metadata": {},
   "outputs": [],
   "source": []
  },
  {
   "cell_type": "code",
   "execution_count": null,
   "metadata": {},
   "outputs": [],
   "source": []
  },
  {
   "cell_type": "markdown",
   "metadata": {},
   "source": [
    "## <font color=green>Exercise 10</font> <a class = \"anchor\" id=\"exercise-10\"></a> \n",
    "\n",
    "Implement the prime counting function:\n",
    "\n",
    "$$\n",
    "    \\pi(n)=-1+\\sum_{j=3}^{n}\\left((j-2)!-j\\left\\lfloor\\frac{(j-2)!}{j}\\right\\rfloor\\right)\n",
    "$$\n",
    "\n",
    "in Sage and check that it works for small values.  (Don't try big ones because of the factorials unless you want to crash your computer!) As always, comment and explain your code."
   ]
  },
  {
   "cell_type": "code",
   "execution_count": null,
   "metadata": {},
   "outputs": [],
   "source": []
  },
  {
   "cell_type": "code",
   "execution_count": null,
   "metadata": {},
   "outputs": [],
   "source": []
  },
  {
   "cell_type": "code",
   "execution_count": null,
   "metadata": {},
   "outputs": [],
   "source": []
  },
  {
   "cell_type": "markdown",
   "metadata": {},
   "source": [
    "The last two exercises:\n",
    "\n",
    "- [Exercise 11](#exercise-11)\n",
    "- [Exercise 12](#exercise-12)\n",
    "\n",
    "are optional. They are designed to encourage and challenge students who wish to further develop and strengthen their programming skills."
   ]
  },
  {
   "cell_type": "markdown",
   "metadata": {},
   "source": [
    "## <font color=green>Exercise 11</font> <a class = \"anchor\" id=\"exercise-11\"></a> \n",
    "\n",
    "\n",
    "1. Draw a [vertex labelled graph](http://mathworld.wolfram.com/LabeledGraph.html). (You may want to draw something simple.)\n",
    "2. Which _Python_ datatype would be best to encode any [vertex labelled graph](http://mathworld.wolfram.com/LabeledGraph.html)?\n",
    "3. Use the _SageMath_ documentation on `Graph` to construct the vertex-labelled graph that you drew in part 1.\n",
    "4. Apply as many methods as you can to the `Graph` object that you created in part 3.\n"
   ]
  },
  {
   "cell_type": "code",
   "execution_count": null,
   "metadata": {},
   "outputs": [],
   "source": []
  },
  {
   "cell_type": "code",
   "execution_count": null,
   "metadata": {},
   "outputs": [],
   "source": []
  },
  {
   "cell_type": "code",
   "execution_count": null,
   "metadata": {},
   "outputs": [],
   "source": []
  },
  {
   "cell_type": "markdown",
   "metadata": {},
   "source": [
    "## <font color=green>Exercise 12</font> <a class = \"anchor\" id=\"exercise-12\"></a> \n",
    "\n",
    "Random walk on the graph you defined in [Exercise 11](#exercise-11)\n",
    "\n",
    "Suppose there is a robot standing on one of the vertices of the graph that you defined in [Exercise 11](#exercise-11). This position can be chosen randomly. Write a Python function named `random_walk_on_graph` that takes a positive integer as input — representing the number of walks the robot makes on the vertices of your graph — and returns a table that records the number of times the robot visited each vertex in your graph. What is the position of the robot at the $100$-th step? What can you observe about the tabulated data? \n",
    "\n",
    "**Hint**: Read the help documentation on the _SageMath_ functions `choice` and `table`. You may need them in your code. What did you observe from the tabulated data?\n"
   ]
  },
  {
   "cell_type": "code",
   "execution_count": null,
   "metadata": {},
   "outputs": [],
   "source": []
  },
  {
   "cell_type": "code",
   "execution_count": null,
   "metadata": {},
   "outputs": [],
   "source": []
  },
  {
   "cell_type": "code",
   "execution_count": null,
   "metadata": {},
   "outputs": [],
   "source": []
  }
 ],
 "metadata": {
  "kernelspec": {
   "display_name": "SageMath 10.4",
   "language": "sage",
   "name": "sagemath"
  },
  "language_info": {
   "codemirror_mode": {
    "name": "ipython",
    "version": 3
   },
   "file_extension": ".py",
   "mimetype": "text/x-python",
   "name": "python",
   "nbconvert_exporter": "python",
   "pygments_lexer": "ipython3",
   "version": "3.11.2"
  }
 },
 "nbformat": 4,
 "nbformat_minor": 4
}
