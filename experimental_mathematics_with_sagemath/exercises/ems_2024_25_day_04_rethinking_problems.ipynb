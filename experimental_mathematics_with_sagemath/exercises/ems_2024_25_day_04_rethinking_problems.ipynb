{
 "cells": [
  {
   "cell_type": "markdown",
   "metadata": {},
   "source": [
    "<img src=\"./images/aims-za-logo.jpeg\" alt=\"drawing\" style=\"width:400px;\"/>\n",
    "<h1 style=\"text-align: center;\"><a title=\"EMS-AIMS-ZA-2024-25\" href=\"https://evansdoe.github.io/aims-za/ems/2024-25\">Experimental Mathematics Using SageMath — AIMS-ZA-2024-25</a></h1>\n",
    "\n",
    "\n",
    "## Instructors: \n",
    "\n",
    "* <a href=\"http://evansdoe.github.io\">**Evans Ocansey**</a>"
   ]
  },
  {
   "cell_type": "markdown",
   "metadata": {},
   "source": [
    "****\n",
    "\n",
    "<!--NAVIGATION-->\n",
    "< [3. Starting to program](ems_2020_day_03_starting_to_program.ipynb)|[Table of contents](ems_2020_table_of_contents.ipynb) | [5. Sum Of Squares And Plotting](ems_2020_day_05_sum_of_squares_and_plotting.iynb)>\n",
    "\n",
    "\n",
    "****"
   ]
  },
  {
   "cell_type": "markdown",
   "metadata": {},
   "source": [
    "\n",
    "\n",
    "\n",
    "In experimental science, sometimes you have to rethink your problem.  Perhaps a different experiment is needed, perhaps a different model, or something else. Likewise, in experimental mathematics, sometimes it is necessary to use a different approach.  We will look at one such approach today; we will turn questions about numbers into questions about geometry. Also, I know that some of you are excited to use more Sage for your computation outside of this class, so we will take a little time looking at resources.\n",
    "\n",
    "\n",
    "## Reviewing the Problem\n",
    "\n",
    "\n",
    "Our motivational problem is the following: Given positive integers $a$ and $b$, what numbers $n$ can be written in the form $ax+by$, where $x,y\\geq 0, \\in \\mathbb{Z}$?\n",
    "\n",
    "It has already led to several related questions.  That is exploration!\n",
    "\n",
    "\n",
    "Is there a number $N$ for which all $n\\geq N$ can be written $ax+by$, but $N-1$ cannot be?  (We called this the _conductor_.)\n",
    "\n",
    "If there is such a number, can we find a formula or some other means of computing it?\n",
    "How _many_ numbers can be written $ax+by$, if we know $a,b$?\n",
    "Remember, you can definitely try to organize your data.  Did anyone get these results?"
   ]
  },
  {
   "cell_type": "code",
   "execution_count": 1,
   "metadata": {},
   "outputs": [
    {
     "data": {
      "text/html": [
       "<div class=\"notruncate\">\n",
       "<table border=\"1\" class=\"table_form\">\n",
       "<tbody>\n",
       "<tr>\n",
       "<th><script type=\"math/tex\">(a,b)</script></th>\n",
       "<th>Frobenius Number</th>\n",
       "<th>Conductor</th>\n",
       "<th># Not Writable</th>\n",
       "</tr>\n",
       "<tr class =\"row-a\">\n",
       "<td><script type=\"math/tex\">\\left(2, 3\\right)</script></td>\n",
       "<td><script type=\"math/tex\">1</script></td>\n",
       "<td><script type=\"math/tex\">2</script></td>\n",
       "</tr>\n",
       "<tr class =\"row-b\">\n",
       "<td><script type=\"math/tex\">\\left(3, 4\\right)</script></td>\n",
       "<td><script type=\"math/tex\">5</script></td>\n",
       "<td><script type=\"math/tex\">6</script></td>\n",
       "</tr>\n",
       "<tr class =\"row-a\">\n",
       "<td><script type=\"math/tex\">\\left(3, 6\\right)</script></td>\n",
       "<td><script type=\"math/tex\">+\\infty</script></td>\n",
       "<td>None</td>\n",
       "</tr>\n",
       "<tr class =\"row-b\">\n",
       "<td><script type=\"math/tex\">\\left(5, 7\\right)</script></td>\n",
       "<td><script type=\"math/tex\">23</script></td>\n",
       "<td><script type=\"math/tex\">24</script></td>\n",
       "</tr>\n",
       "<tr class =\"row-a\">\n",
       "<td><script type=\"math/tex\">\\left(7, 11\\right)</script></td>\n",
       "<td><script type=\"math/tex\">59</script></td>\n",
       "<td><script type=\"math/tex\">60</script></td>\n",
       "</tr>\n",
       "<tr class =\"row-b\">\n",
       "<td><script type=\"math/tex\">\\left(9, 11\\right)</script></td>\n",
       "<td><script type=\"math/tex\">79</script></td>\n",
       "<td><script type=\"math/tex\">80</script></td>\n",
       "</tr>\n",
       "</tbody>\n",
       "</table>\n",
       "</div>"
      ],
      "text/plain": [
       "+---------+------------------+-----------+\n",
       "| $(a,b)$ | Frobenius Number | Conductor |\n",
       "+=========+==================+===========+\n",
       "| (2, 3)  | 1                | 2         |\n",
       "+---------+------------------+-----------+\n",
       "| (3, 4)  | 5                | 6         |\n",
       "+---------+------------------+-----------+\n",
       "| (3, 6)  | +Infinity        | None      |\n",
       "+---------+------------------+-----------+\n",
       "| (5, 7)  | 23               | 24        |\n",
       "+---------+------------------+-----------+\n",
       "| (7, 11) | 59               | 60        |\n",
       "+---------+------------------+-----------+\n",
       "| (9, 11) | 79               | 80        |\n",
       "+---------+------------------+-----------+"
      ]
     },
     "execution_count": 1,
     "metadata": {},
     "output_type": "execute_result"
    }
   ],
   "source": [
    "L = [[(2,3), 1, 2], [(3, 4), 5, 6], [(3,6), oo, 'None'], [(5,7), 23, 24], [(7,11), 59, 60], [(9,11), 79, 80] ]\n",
    "\n",
    "table(L,header_row=[\"$(a,b)$\",'Frobenius Number', 'Conductor', '# Not Writable'], frame=True)"
   ]
  },
  {
   "cell_type": "markdown",
   "metadata": {},
   "source": [
    "<p>Let us work out by counting the numbers that are not writable. Let's start with $a=2$, $b=3$ and $a=3$, $b=4$.</p>"
   ]
  },
  {
   "cell_type": "code",
   "execution_count": 4,
   "metadata": {},
   "outputs": [
    {
     "data": {
      "text/plain": [
       "1"
      ]
     },
     "execution_count": 4,
     "metadata": {},
     "output_type": "execute_result"
    }
   ],
   "source": []
  },
  {
   "cell_type": "markdown",
   "metadata": {},
   "source": [
    "<h3>A Useful Fact</h3>\n",
    "<p>Recall that we discussed a few facts about integers earlier.</p>\n",
    "<p><strong>Fact</strong>: If $a$, $b>0$ are integers then we can write $a=qb+r$ with $0\\leq r<b$ and $q$ integers.</p>\n",
    "<p><strong>Fact</strong>: In this situation, $\\gcd(a,b)=\\gcd(b,r)$.</p>\n",
    "<p>Here is another useful fact for our situation.  Many of you already know this.</p>\n",
    "<p><strong>Fact</strong>: For a given $n\\in \\mathbb{Z}$, the equation $ax+by=n$ has a solution in integers <em>if and only if</em> $\\gcd(a,b) \\mid n$.</p>\n",
    "<p>That is, you can't even write $ax+by=n$ if the greatest common divisor of $a$ and $b$ doesn't divide $n$.  This was studied by the Greeks, known by Aryabhata in the Indian Middle Ages, and rediscovered by Bachet de Méziriac about 1600.</p>\n",
    "<p><strong>Implication For Us</strong>: If $a$ and $b$ have a common divisor bigger than 1, there cannot be a conductor.</p>\n",
    "<p>We already saw an example in class. I want you to think about why this might be.</p>\n",
    "<h3>Rethinking the Problem</h3>\n",
    "<p>I can prove the facts above.  But just proving things are true and using them isn't enough.  <em>Why </em>is it true, intuitively?  I believe the right place to do this is in geometry.</p>"
   ]
  },
  {
   "cell_type": "code",
   "execution_count": 3,
   "metadata": {},
   "outputs": [
    {
     "name": "stderr",
     "output_type": "stream",
     "text": [
      "Widget Javascript not detected.  It may not be installed or enabled properly. Reconnecting the current kernel may help.\n"
     ]
    },
    {
     "data": {
      "application/vnd.jupyter.widget-view+json": {
       "model_id": "9e2e4e89671b4325893804a3fa80e10c"
      }
     },
     "metadata": {},
     "output_type": "display_data"
    }
   ],
   "source": [
    "@interact\n",
    "def _(a = slider(1, 20, 1, 3), \\\n",
    "      b = slider(1, 20, 1, 4), \\\n",
    "      c = slider(1, 30, 1, 6), \\\n",
    "      viewsize = slider(5, 30, 1, 5)):\n",
    "    \n",
    "    # plot the equation of the line y = - (a/b)*x + c/b.\n",
    "    \n",
    "    p = plot(-(a/b) * x + c/b, (x, -1, viewsize), plot_points = 200)\n",
    "    \n",
    "    # integer coordiantes for the lattice \n",
    "    \n",
    "    lattice_pts = [[i,j] for i in [-1..viewsize] for j in [-viewsize..viewsize]]\n",
    "    \n",
    "    # plot integer lattice with pointsize set to 20 and rgbcolor set to (0, 0, 0).\n",
    "    \n",
    "    plot_lattice_pts = points(lattice_pts, rgbcolor = (0, 0, 0), pointsize = 20)\n",
    "    \n",
    "    # Check if gcd(a, b) divides c. \n",
    "    \n",
    "    if mod(c, gcd(a, b)) == 0:\n",
    "        \n",
    "        # Get integers coordinates x and y in lattice_pts that lies on the line y = - (a/b)*x + c/b. \n",
    "        # That is, the integer coordinates that satisfy the equation a * x + b * y = c.\n",
    "        \n",
    "        line_pts = [coords for coords in lattice_pts if a * coords[0] + b * coords[1] == c]\n",
    "        \n",
    "        # Check if line_pts is empty. In other words, there are no integer coordinates x and y in lattice_pts \n",
    "        # that lie on the line y = - (a/b)*x + c/b or satisfies the equation a * x + b * y = c. Note that\n",
    "        # in general, this does not mean that there are no solution since there might exist integer \n",
    "        # coordinates which are not contained in lattice_pts. \n",
    "        \n",
    "        if line_pts == []:\n",
    "            \n",
    "            # Define an empty Graphics object.\n",
    "            \n",
    "            plot_line_pts = Graphics()\n",
    "            \n",
    "        else:\n",
    "            \n",
    "            # plot the integer coordinates x and y in lattice_pts that lie on the line y = - (a/b)*x + c/b or \n",
    "            # satisfies the equation a * x + b * y = c.\n",
    "             \n",
    "            plot_line_pts = points(line_pts, rgbcolor = (0, 0, 1), pointsize = 20)\n",
    "            \n",
    "        # Print sentence indicating the set of solution, (integer coordinates) satisfying the equation\n",
    "        # a * x + b * y = c.\n",
    "        \n",
    "        pretty_print(html(r\"Showing solutions to $%s\\,x + %s\\,y = %s$ in this viewing window\" \\\n",
    "                          %(str(a), str(b), str(c))))\n",
    "        \n",
    "        # Combine the three plot objects together. \n",
    "        \n",
    "        show(p + plot_lattice_pts + plot_line_pts, figsize=[5, 5], xmin = -1, xmax = viewsize, \\\n",
    "             ymin = -1, ymax = viewsize)\n",
    "        \n",
    "    # If gcd(a, b) does not divide c.\n",
    "    \n",
    "    else:\n",
    "        \n",
    "        # Print a sentence stating the gcd(a,b) does not divide c.\n",
    "        \n",
    "        pretty_print(html(r\"The gcd of $%s$ and $%s$ is $%s$, which does not divide $%s$,\"\\\n",
    "                          %(str(a), str(b), str(gcd(a,b)), str(c))))\n",
    "        \n",
    "        # Print a sentence stating that there are no integer solutions satisfying the equation \n",
    "        \n",
    "        pretty_print(html(r\"so there are no non-negative integer solutions to $%s\\,x + %s\\,y = %s$\"\\\n",
    "                          %(str(a), str(b), str(c))))\n",
    "        \n",
    "        # Combine plot objects.\n",
    "        \n",
    "        show(p + plot_lattice_pts, figsize = [5, 5], xmin = -1, xmax = viewsize, ymin = -1, ymax = viewsize)"
   ]
  },
  {
   "cell_type": "markdown",
   "metadata": {},
   "source": [
    "<p>(The little gray dots in the graph above are called <em>the integer lattice</em>.  You may treat this as a definition.  There are many lattices, but only one which is basically all the intersections of $y=m,x=n$ for all integers $m,n$.  So for instance $(-2,3)$ is probably visible; however, note that $(-1,1/2)$ is not a little dot, because it doesn't have integer values.)</p>\n",
    "<p>Since $ax+by=c$ may be thought of as a line (in fact, the line $$y=-\\frac{a}{b}x+\\frac{c}{b}$$ with slope $-\\frac{a}{b}$), we now have a <strong>completely different interpretation</strong> of this very basic number theory question (the \"linear Diophantine equation\").  It is simply asking, \"When (for what $a$, $b$, $c$ combinations) does the line hit this lattice?  If it does, can you tell me all intersections?\"   If you play around with the sliders you will quickly see that things work out just as promised in the theorems. </p>\n",
    "<p>Now let's connect this to some of the conductor questions. Given positive integers $a$ and $b$:</p>\n",
    "<ul>\n",
    "<li>How many ways are there to write $n$ as $ax+by$, given $n$?\n",
    "<ul>\n",
    "<li>How many lattice points (including the axes) hit this line, given $n$?</li>\n",
    "</ul>\n",
    "</li>\n",
    "<li>How is the problem different if we only allow <em>positive</em> $x$ and $y$ not just nonnegative?\n",
    "<ul>\n",
    "<li>How does the problem change if we do <em>not </em>allow the axes to be included?</li>\n",
    "</ul>\n",
    "</li>\n",
    "</ul>\n",
    "<div>By the way, this second question is very closely related to an extremely applied area, <em>integer programming</em>.</div>"
   ]
  },
  {
   "cell_type": "code",
   "execution_count": 5,
   "metadata": {},
   "outputs": [
    {
     "data": {
      "text/html": [
       "Solutions to <script type=\"math/tex\">3\\,x + 4\\,y = 4</script>:"
      ],
      "text/plain": [
       "Solutions to <script type=\"math/tex\">3\\,x + 4\\,y = 4</script>:"
      ]
     },
     "metadata": {},
     "output_type": "display_data"
    },
    {
     "data": {
      "text/html": [
       "Number of nonnegative lattice points = 1"
      ],
      "text/plain": [
       "Number of nonnegative lattice points = 1"
      ]
     },
     "metadata": {},
     "output_type": "display_data"
    },
    {
     "data": {
      "image/png": "[encoded data removed]",
      "text/plain": [
       "Graphics object consisting of 3 graphics primitives"
      ]
     },
     "metadata": {},
     "output_type": "display_data"
    }
   ],
   "source": [
    "@interact\n",
    "def _(a = slider(1, 20, 1, 3), b = slider(1, 20, 1, 4), c = slider(1, 40, 1, 4), viewsize = slider(5, 30, 1, 5), positive_only = False):\n",
    "    \n",
    "    ym = c/b + 1    # ym is the value of ymax\n",
    "    xm = c/a + 1    # xm is the value of xmax\n",
    "    \n",
    "    # plot the equation of the line `y = - (a/b)*x + c/b`.\n",
    "    \n",
    "    p = plot(-(a/b) * x + c/b, -1, xm, plot_points = 200)\n",
    "    \n",
    "    # integer coordiantes for the lattice\n",
    "    \n",
    "    lattice_pts = [[i,j] for i in [0..xm] for j in [0..ym]]\n",
    "    \n",
    "    # plot integer lattice\n",
    "    \n",
    "    plot_lattice_pts = points(lattice_pts, rgbcolor = (0, 0, 0), pointsize = 2)\n",
    "    \n",
    "    # Check if gcd(a, b) divides c.\n",
    "    \n",
    "    if mod(c, gcd(a, b)) == 0:\n",
    "        \n",
    "        # If the parameter positive_only is True. That is, find positive x and y such that `a*x + b*y = c` holds.\n",
    "        \n",
    "        if positive_only:\n",
    "            \n",
    "            # Get positive integers x and y in lattice_pts that lies on the line `y = - (a/b)*x + c/b`. \n",
    "            # These are positive integers that satisfy the equation `a * x + b * y = c`.\n",
    "            \n",
    "            line_pts = [coords for coords in lattice_pts if (coords[0] > 0) and (coords[1] > 0) and (a * coords[0] + b * coords[1] == c)]\n",
    "            \n",
    "        # If the parameter positive_only is False. That is, find non-negative x and y such that `a*x + b*y = c` holds.\n",
    "        \n",
    "        else:\n",
    "            \n",
    "            # Get non-negative integers x and y in lattice_pts that lies on the line `y = - (a/b)*x + c/b`. \n",
    "            # These are non-negative integers that satisfy the equation a * x + b * y = c.\n",
    "            \n",
    "            line_pts = [coords for coords in lattice_pts if (coords[0] >= 0) and (coords[1] >= 0) and (a * coords[0] + b * coords[1] == c)]\n",
    "            \n",
    "        # Check if line_pts is empty. In other words, there are no non-negative integer points x and y in lattice_pts \n",
    "        # that lies on the line y = - (a/b)*x + c/b or satisfies the equation a * x + b * y = c. Note that in general,\n",
    "        # this in effect does not mean that there are no solution since there might exist integer pairs which are not \n",
    "        # in lattice_pts.\n",
    "            \n",
    "        if len(line_pts) == 0:\n",
    "            \n",
    "            # Print solutions\n",
    "            \n",
    "            pretty_print(html('Solutions to $%s\\,x + %s\\,y = %s$:' %(str(a), str(b), str(c))))\n",
    "            \n",
    "            # If the parameter positive_only is True\n",
    "            \n",
    "            if positive_only:\n",
    "                \n",
    "                # Print no positive solution. \n",
    "                \n",
    "                pretty_print(html('No positive lattice points at all!'))\n",
    "                \n",
    "            # If the parameter positive_only is False\n",
    "                \n",
    "            else:\n",
    "                \n",
    "                # Print sentence \n",
    "                \n",
    "                pretty_print(html('No nonnegative lattice points at all!'))\n",
    "                \n",
    "            # Combine the two plot objects together.\n",
    "                \n",
    "            show(p + plot_lattice_pts, figsize = [5,5], xmin = 0, xmax = xm, ymin = 0, ymax = ym)\n",
    "            \n",
    "        else:\n",
    "            \n",
    "            # plot the integer points x and y in lattice_pts that lies on the line y = - (a/b)*x + c/b or \n",
    "            # satisfies the equation a * x + b * y = c.\n",
    "            \n",
    "            plot_line_pts = points(line_pts, rgbcolor = (0, 0, 1), pointsize = 20)\n",
    "              \n",
    "            pretty_print(html('Solutions to $%s\\,x + %s\\,y = %s$:' %(str(a), str(b), str(c))))\n",
    "            \n",
    "            # If the parameter positive_only is True \n",
    "            \n",
    "            if positive_only:\n",
    "                \n",
    "                # Print sentence with positive integer solutions x and y in lattice_pts.\n",
    "                \n",
    "                pretty_print(html('Number of positive lattice points = ' + str(len(line_pts))))\n",
    "                \n",
    "            # If the parameter positive_only is False\n",
    "                \n",
    "            else:\n",
    "                \n",
    "                # Print sentence with non-negative integer solutions x and y in lattice_pts.\n",
    "                \n",
    "                pretty_print(html('Number of nonnegative lattice points = ' + str(len(line_pts))))\n",
    "                \n",
    "            # Combine the three plot objects together.\n",
    "                \n",
    "            show(p + plot_lattice_pts + plot_line_pts, figsize = [5,5], xmin = 0, xmax = xm, ymin = 0, ymax = ym)\n",
    "            \n",
    "    # If gcd(a, b) does not divide c.\n",
    "     \n",
    "    else:\n",
    "        \n",
    "        # Print solutions.\n",
    "        \n",
    "        pretty_print(html('Solutions to $%s\\,x + %s\\,y = %s$:' %(str(a), str(b), str(c))))\n",
    "        \n",
    "        # If the parameter positive_only is True\n",
    "        \n",
    "        if positive_only:\n",
    "            \n",
    "            # Print no positive integer solutions.\n",
    "            \n",
    "            pretty_print(html('No positive lattice points at all!'))\n",
    "            \n",
    "        else:\n",
    "            \n",
    "             # Print no non-negative integer solutions.\n",
    "            \n",
    "            pretty_print(html('No nonnegative lattice points at all!'))\n",
    "            \n",
    "        # Combine the two plot objects together.\n",
    "            \n",
    "        show(p + plot_lattice_pts, figsize = [5,5], xmin = 0, xmax = xm, ymin = 0, ymax = ym)"
   ]
  },
  {
   "cell_type": "markdown",
   "metadata": {},
   "source": [
    "<p>Let's explore this - even in cases where the conductor is not very interesting.  How many such points are there in the following cases?</p>\n",
    "<ul>\n",
    "<li>$x+y=4$, $x+y=5$, $x+y=6$, $\\ldots$</li>\n",
    "<li>$2x+y=4$, $2x+y=5$, $2x+y=6$, $\\ldots$</li>\n",
    "<li>$2x+2y=4$, $2x+2y=5$, $2x+2y=6$, $\\ldots$</li>\n",
    "<li>$3x+y=4$, $3x+y=5$, $3x+y=6$, $\\ldots$</li>\n",
    "</ul>\n",
    "<p>Again, you should be able to start <em>exploring</em> and <em>experimenting</em>.  Naturally, in this case I don't only expect you to use my graphic, which is a big challenge for you to program right now.  Try instead to write your own program to explore this question.</p>"
   ]
  }
 ],
 "metadata": {
  "kernelspec": {
   "display_name": "SageMath 10.4",
   "language": "sage",
   "name": "sagemath"
  },
  "language": "python",
  "language_info": {
   "codemirror_mode": {
    "name": "ipython",
    "version": 3
   },
   "file_extension": ".py",
   "mimetype": "text/x-python",
   "name": "python",
   "nbconvert_exporter": "python",
   "pygments_lexer": "ipython3",
   "version": "3.11.2"
  },
  "varInspector": {
   "cols": {
    "lenName": 16,
    "lenType": 16,
    "lenVar": 40
   },
   "kernels_config": {
    "python": {
     "delete_cmd_postfix": "",
     "delete_cmd_prefix": "del ",
     "library": "var_list.py",
     "varRefreshCmd": "print(var_dic_list())"
    },
    "r": {
     "delete_cmd_postfix": ") ",
     "delete_cmd_prefix": "rm(",
     "library": "var_list.r",
     "varRefreshCmd": "cat(var_dic_list()) "
    }
   },
   "types_to_exclude": [
    "module",
    "function",
    "builtin_function_or_method",
    "instance",
    "_Feature"
   ],
   "window_display": false
  }
 },
 "nbformat": 4,
 "nbformat_minor": 4
}
